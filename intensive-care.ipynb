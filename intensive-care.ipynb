{
 "cells": [
  {
   "cell_type": "markdown",
   "metadata": {},
   "source": [
    "# Intensive Care in Germany"
   ]
  },
  {
   "cell_type": "markdown",
   "metadata": {},
   "source": [
    "## Data Source\n",
    "\n",
    "[DIVI-Intensivregister](https://www.intensivregister.de/) monitors the ICU capacities of 1,300 hospitals in Germany."
   ]
  },
  {
   "cell_type": "markdown",
   "metadata": {},
   "source": [
    "## Setup"
   ]
  },
  {
   "cell_type": "code",
   "execution_count": 1,
   "metadata": {},
   "outputs": [],
   "source": [
    "# standard library\n",
    "import datetime\n",
    "import math"
   ]
  },
  {
   "cell_type": "code",
   "execution_count": 2,
   "metadata": {},
   "outputs": [],
   "source": [
    "# third party\n",
    "import numpy as np\n",
    "import pandas as pd\n",
    "import matplotlib.pyplot as plt\n",
    "import requests"
   ]
  },
  {
   "cell_type": "markdown",
   "metadata": {},
   "source": [
    "## Date this Notebook was run"
   ]
  },
  {
   "cell_type": "code",
   "execution_count": 3,
   "metadata": {},
   "outputs": [
    {
     "data": {
      "text/plain": [
       "'2021-07-26'"
      ]
     },
     "execution_count": 3,
     "metadata": {},
     "output_type": "execute_result"
    }
   ],
   "source": [
    "today = datetime.datetime.today().strftime('%Y-%m-%d')\n",
    "today"
   ]
  },
  {
   "cell_type": "code",
   "execution_count": 4,
   "metadata": {},
   "outputs": [],
   "source": [
    "# style like ggplot in R\n",
    "plt.style.use('ggplot')"
   ]
  },
  {
   "cell_type": "code",
   "execution_count": 5,
   "metadata": {},
   "outputs": [],
   "source": [
    "# Avoid cutting off part of the axis labels, see:\n",
    "# https://stackoverflow.com/questions/6774086/why-is-my-xlabel-cut-off-in-my-matplotlib-plot\n",
    "plt.rcParams.update({'figure.autolayout': True})"
   ]
  },
  {
   "cell_type": "markdown",
   "metadata": {},
   "source": [
    "## Get Data"
   ]
  },
  {
   "cell_type": "code",
   "execution_count": 6,
   "metadata": {},
   "outputs": [],
   "source": [
    "timeline_data = \"https://diviexchange.blob.core.windows.net/%24web/bundesland-zeitreihe.csv\""
   ]
  },
  {
   "cell_type": "code",
   "execution_count": 7,
   "metadata": {},
   "outputs": [],
   "source": [
    "timeline_df = pd.read_csv(timeline_data)"
   ]
  },
  {
   "cell_type": "code",
   "execution_count": 8,
   "metadata": {},
   "outputs": [
    {
     "data": {
      "text/html": [
       "<div>\n",
       "<style scoped>\n",
       "    .dataframe tbody tr th:only-of-type {\n",
       "        vertical-align: middle;\n",
       "    }\n",
       "\n",
       "    .dataframe tbody tr th {\n",
       "        vertical-align: top;\n",
       "    }\n",
       "\n",
       "    .dataframe thead th {\n",
       "        text-align: right;\n",
       "    }\n",
       "</style>\n",
       "<table border=\"1\" class=\"dataframe\">\n",
       "  <thead>\n",
       "    <tr style=\"text-align: right;\">\n",
       "      <th></th>\n",
       "      <th>Datum</th>\n",
       "      <th>Bundesland</th>\n",
       "      <th>Anzahl_Meldebereiche_Erwachsene</th>\n",
       "      <th>Aktuelle_COVID_Faelle_Erwachsene_ITS</th>\n",
       "      <th>Belegte_Intensivbetten_Erwachsene</th>\n",
       "      <th>Freie_Intensivbetten_Erwachsene</th>\n",
       "      <th>7_Tage_Notfallreserve_Erwachsene</th>\n",
       "      <th>Freie_IV_Kapazitaeten_Gesamt</th>\n",
       "      <th>Freie_IV_Kapazitaeten_Davon_COVID</th>\n",
       "      <th>Betriebssituation_Regulaerer_Betrieb</th>\n",
       "      <th>Betriebssituation_Teilweise_Eingeschraenkt</th>\n",
       "      <th>Betriebssituation_Eingeschraenkt</th>\n",
       "      <th>Betriebssituation_Keine_Angabe</th>\n",
       "    </tr>\n",
       "  </thead>\n",
       "  <tbody>\n",
       "    <tr>\n",
       "      <th>8395</th>\n",
       "      <td>2021-07-26T12:15:00+02:00</td>\n",
       "      <td>SACHSEN</td>\n",
       "      <td>77</td>\n",
       "      <td>16</td>\n",
       "      <td>1198</td>\n",
       "      <td>273</td>\n",
       "      <td>622</td>\n",
       "      <td>303</td>\n",
       "      <td>98</td>\n",
       "      <td>43</td>\n",
       "      <td>11</td>\n",
       "      <td>13</td>\n",
       "      <td>10</td>\n",
       "    </tr>\n",
       "    <tr>\n",
       "      <th>8396</th>\n",
       "      <td>2021-07-26T12:15:00+02:00</td>\n",
       "      <td>BERLIN</td>\n",
       "      <td>53</td>\n",
       "      <td>36</td>\n",
       "      <td>892</td>\n",
       "      <td>173</td>\n",
       "      <td>400</td>\n",
       "      <td>160</td>\n",
       "      <td>48</td>\n",
       "      <td>31</td>\n",
       "      <td>6</td>\n",
       "      <td>8</td>\n",
       "      <td>8</td>\n",
       "    </tr>\n",
       "    <tr>\n",
       "      <th>8397</th>\n",
       "      <td>2021-07-26T12:15:00+02:00</td>\n",
       "      <td>DEUTSCHLAND</td>\n",
       "      <td>1311</td>\n",
       "      <td>365</td>\n",
       "      <td>18587</td>\n",
       "      <td>3995</td>\n",
       "      <td>10271</td>\n",
       "      <td>3513</td>\n",
       "      <td>1461</td>\n",
       "      <td>650</td>\n",
       "      <td>207</td>\n",
       "      <td>314</td>\n",
       "      <td>140</td>\n",
       "    </tr>\n",
       "  </tbody>\n",
       "</table>\n",
       "</div>"
      ],
      "text/plain": [
       "                          Datum   Bundesland  Anzahl_Meldebereiche_Erwachsene  \\\n",
       "8395  2021-07-26T12:15:00+02:00      SACHSEN                               77   \n",
       "8396  2021-07-26T12:15:00+02:00       BERLIN                               53   \n",
       "8397  2021-07-26T12:15:00+02:00  DEUTSCHLAND                             1311   \n",
       "\n",
       "      Aktuelle_COVID_Faelle_Erwachsene_ITS  Belegte_Intensivbetten_Erwachsene  \\\n",
       "8395                                    16                               1198   \n",
       "8396                                    36                                892   \n",
       "8397                                   365                              18587   \n",
       "\n",
       "      Freie_Intensivbetten_Erwachsene  7_Tage_Notfallreserve_Erwachsene  \\\n",
       "8395                              273                               622   \n",
       "8396                              173                               400   \n",
       "8397                             3995                             10271   \n",
       "\n",
       "      Freie_IV_Kapazitaeten_Gesamt  Freie_IV_Kapazitaeten_Davon_COVID  \\\n",
       "8395                           303                                 98   \n",
       "8396                           160                                 48   \n",
       "8397                          3513                               1461   \n",
       "\n",
       "      Betriebssituation_Regulaerer_Betrieb  \\\n",
       "8395                                    43   \n",
       "8396                                    31   \n",
       "8397                                   650   \n",
       "\n",
       "      Betriebssituation_Teilweise_Eingeschraenkt  \\\n",
       "8395                                          11   \n",
       "8396                                           6   \n",
       "8397                                         207   \n",
       "\n",
       "      Betriebssituation_Eingeschraenkt  Betriebssituation_Keine_Angabe  \n",
       "8395                                13                              10  \n",
       "8396                                 8                               8  \n",
       "8397                               314                             140  "
      ]
     },
     "execution_count": 8,
     "metadata": {},
     "output_type": "execute_result"
    }
   ],
   "source": [
    "timeline_df.tail(3)"
   ]
  },
  {
   "cell_type": "markdown",
   "metadata": {},
   "source": [
    "## Rename Columns"
   ]
  },
  {
   "cell_type": "markdown",
   "metadata": {},
   "source": [
    "### Convert datatype of date column"
   ]
  },
  {
   "cell_type": "code",
   "execution_count": 9,
   "metadata": {},
   "outputs": [
    {
     "data": {
      "text/html": [
       "<div>\n",
       "<style scoped>\n",
       "    .dataframe tbody tr th:only-of-type {\n",
       "        vertical-align: middle;\n",
       "    }\n",
       "\n",
       "    .dataframe tbody tr th {\n",
       "        vertical-align: top;\n",
       "    }\n",
       "\n",
       "    .dataframe thead th {\n",
       "        text-align: right;\n",
       "    }\n",
       "</style>\n",
       "<table border=\"1\" class=\"dataframe\">\n",
       "  <thead>\n",
       "    <tr style=\"text-align: right;\">\n",
       "      <th></th>\n",
       "      <th>Datum</th>\n",
       "      <th>Bundesland</th>\n",
       "      <th>Anzahl_Meldebereiche_Erwachsene</th>\n",
       "      <th>Aktuelle_COVID_Faelle_Erwachsene_ITS</th>\n",
       "      <th>Belegte_Intensivbetten_Erwachsene</th>\n",
       "      <th>Freie_Intensivbetten_Erwachsene</th>\n",
       "      <th>7_Tage_Notfallreserve_Erwachsene</th>\n",
       "      <th>Freie_IV_Kapazitaeten_Gesamt</th>\n",
       "      <th>Freie_IV_Kapazitaeten_Davon_COVID</th>\n",
       "      <th>Betriebssituation_Regulaerer_Betrieb</th>\n",
       "      <th>Betriebssituation_Teilweise_Eingeschraenkt</th>\n",
       "      <th>Betriebssituation_Eingeschraenkt</th>\n",
       "      <th>Betriebssituation_Keine_Angabe</th>\n",
       "    </tr>\n",
       "  </thead>\n",
       "  <tbody>\n",
       "    <tr>\n",
       "      <th>0</th>\n",
       "      <td>2020-03-20</td>\n",
       "      <td>BAYERN</td>\n",
       "      <td>45</td>\n",
       "      <td>61</td>\n",
       "      <td>77</td>\n",
       "      <td>392</td>\n",
       "      <td>0</td>\n",
       "      <td>0</td>\n",
       "      <td>0</td>\n",
       "      <td>37</td>\n",
       "      <td>5</td>\n",
       "      <td>1</td>\n",
       "      <td>2</td>\n",
       "    </tr>\n",
       "    <tr>\n",
       "      <th>1</th>\n",
       "      <td>2020-03-20</td>\n",
       "      <td>RHEINLAND_PFALZ</td>\n",
       "      <td>15</td>\n",
       "      <td>14</td>\n",
       "      <td>48</td>\n",
       "      <td>112</td>\n",
       "      <td>0</td>\n",
       "      <td>0</td>\n",
       "      <td>0</td>\n",
       "      <td>10</td>\n",
       "      <td>3</td>\n",
       "      <td>2</td>\n",
       "      <td>0</td>\n",
       "    </tr>\n",
       "    <tr>\n",
       "      <th>2</th>\n",
       "      <td>2020-03-20</td>\n",
       "      <td>MECKLENBURG_VORPOMMERN</td>\n",
       "      <td>10</td>\n",
       "      <td>1</td>\n",
       "      <td>8</td>\n",
       "      <td>85</td>\n",
       "      <td>0</td>\n",
       "      <td>0</td>\n",
       "      <td>0</td>\n",
       "      <td>8</td>\n",
       "      <td>1</td>\n",
       "      <td>1</td>\n",
       "      <td>0</td>\n",
       "    </tr>\n",
       "    <tr>\n",
       "      <th>3</th>\n",
       "      <td>2020-03-20</td>\n",
       "      <td>BADEN_WUERTTEMBERG</td>\n",
       "      <td>31</td>\n",
       "      <td>35</td>\n",
       "      <td>39</td>\n",
       "      <td>330</td>\n",
       "      <td>0</td>\n",
       "      <td>0</td>\n",
       "      <td>0</td>\n",
       "      <td>20</td>\n",
       "      <td>7</td>\n",
       "      <td>3</td>\n",
       "      <td>1</td>\n",
       "    </tr>\n",
       "    <tr>\n",
       "      <th>4</th>\n",
       "      <td>2020-03-20</td>\n",
       "      <td>NIEDERSACHSEN</td>\n",
       "      <td>25</td>\n",
       "      <td>17</td>\n",
       "      <td>43</td>\n",
       "      <td>236</td>\n",
       "      <td>0</td>\n",
       "      <td>0</td>\n",
       "      <td>0</td>\n",
       "      <td>20</td>\n",
       "      <td>3</td>\n",
       "      <td>2</td>\n",
       "      <td>0</td>\n",
       "    </tr>\n",
       "  </tbody>\n",
       "</table>\n",
       "</div>"
      ],
      "text/plain": [
       "        Datum              Bundesland  Anzahl_Meldebereiche_Erwachsene  \\\n",
       "0  2020-03-20                  BAYERN                               45   \n",
       "1  2020-03-20         RHEINLAND_PFALZ                               15   \n",
       "2  2020-03-20  MECKLENBURG_VORPOMMERN                               10   \n",
       "3  2020-03-20      BADEN_WUERTTEMBERG                               31   \n",
       "4  2020-03-20           NIEDERSACHSEN                               25   \n",
       "\n",
       "   Aktuelle_COVID_Faelle_Erwachsene_ITS  Belegte_Intensivbetten_Erwachsene  \\\n",
       "0                                    61                                 77   \n",
       "1                                    14                                 48   \n",
       "2                                     1                                  8   \n",
       "3                                    35                                 39   \n",
       "4                                    17                                 43   \n",
       "\n",
       "   Freie_Intensivbetten_Erwachsene  7_Tage_Notfallreserve_Erwachsene  \\\n",
       "0                              392                                 0   \n",
       "1                              112                                 0   \n",
       "2                               85                                 0   \n",
       "3                              330                                 0   \n",
       "4                              236                                 0   \n",
       "\n",
       "   Freie_IV_Kapazitaeten_Gesamt  Freie_IV_Kapazitaeten_Davon_COVID  \\\n",
       "0                             0                                  0   \n",
       "1                             0                                  0   \n",
       "2                             0                                  0   \n",
       "3                             0                                  0   \n",
       "4                             0                                  0   \n",
       "\n",
       "   Betriebssituation_Regulaerer_Betrieb  \\\n",
       "0                                    37   \n",
       "1                                    10   \n",
       "2                                     8   \n",
       "3                                    20   \n",
       "4                                    20   \n",
       "\n",
       "   Betriebssituation_Teilweise_Eingeschraenkt  \\\n",
       "0                                           5   \n",
       "1                                           3   \n",
       "2                                           1   \n",
       "3                                           7   \n",
       "4                                           3   \n",
       "\n",
       "   Betriebssituation_Eingeschraenkt  Betriebssituation_Keine_Angabe  \n",
       "0                                 1                               2  \n",
       "1                                 2                               0  \n",
       "2                                 1                               0  \n",
       "3                                 3                               1  \n",
       "4                                 2                               0  "
      ]
     },
     "execution_count": 9,
     "metadata": {},
     "output_type": "execute_result"
    }
   ],
   "source": [
    "timeline_df[\"Datum\"] = timeline_df[\"Datum\"].str[:10]\n",
    "timeline_df.head()"
   ]
  },
  {
   "cell_type": "code",
   "execution_count": 10,
   "metadata": {},
   "outputs": [],
   "source": [
    "timeline_df.iloc[ : , [0]] = timeline_df.iloc[ : , [0]].apply(pd.to_datetime)"
   ]
  },
  {
   "cell_type": "code",
   "execution_count": 11,
   "metadata": {},
   "outputs": [
    {
     "name": "stdout",
     "output_type": "stream",
     "text": [
      "<class 'pandas.core.frame.DataFrame'>\n",
      "RangeIndex: 8398 entries, 0 to 8397\n",
      "Data columns (total 13 columns):\n",
      " #   Column                                      Non-Null Count  Dtype         \n",
      "---  ------                                      --------------  -----         \n",
      " 0   Datum                                       8398 non-null   datetime64[ns]\n",
      " 1   Bundesland                                  8398 non-null   object        \n",
      " 2   Anzahl_Meldebereiche_Erwachsene             8398 non-null   int64         \n",
      " 3   Aktuelle_COVID_Faelle_Erwachsene_ITS        8398 non-null   int64         \n",
      " 4   Belegte_Intensivbetten_Erwachsene           8398 non-null   int64         \n",
      " 5   Freie_Intensivbetten_Erwachsene             8398 non-null   int64         \n",
      " 6   7_Tage_Notfallreserve_Erwachsene            8398 non-null   int64         \n",
      " 7   Freie_IV_Kapazitaeten_Gesamt                8398 non-null   int64         \n",
      " 8   Freie_IV_Kapazitaeten_Davon_COVID           8398 non-null   int64         \n",
      " 9   Betriebssituation_Regulaerer_Betrieb        8398 non-null   int64         \n",
      " 10  Betriebssituation_Teilweise_Eingeschraenkt  8398 non-null   int64         \n",
      " 11  Betriebssituation_Eingeschraenkt            8398 non-null   int64         \n",
      " 12  Betriebssituation_Keine_Angabe              8398 non-null   int64         \n",
      "dtypes: datetime64[ns](1), int64(11), object(1)\n",
      "memory usage: 853.0+ KB\n"
     ]
    }
   ],
   "source": [
    "timeline_df.info()"
   ]
  },
  {
   "cell_type": "code",
   "execution_count": 12,
   "metadata": {},
   "outputs": [
    {
     "data": {
      "text/html": [
       "<div>\n",
       "<style scoped>\n",
       "    .dataframe tbody tr th:only-of-type {\n",
       "        vertical-align: middle;\n",
       "    }\n",
       "\n",
       "    .dataframe tbody tr th {\n",
       "        vertical-align: top;\n",
       "    }\n",
       "\n",
       "    .dataframe thead th {\n",
       "        text-align: right;\n",
       "    }\n",
       "</style>\n",
       "<table border=\"1\" class=\"dataframe\">\n",
       "  <thead>\n",
       "    <tr style=\"text-align: right;\">\n",
       "      <th></th>\n",
       "      <th>Datum</th>\n",
       "      <th>Bundesland</th>\n",
       "      <th>Anzahl_Meldebereiche_Erwachsene</th>\n",
       "      <th>Aktuelle_COVID_Faelle_Erwachsene_ITS</th>\n",
       "      <th>Belegte_Intensivbetten_Erwachsene</th>\n",
       "      <th>Freie_Intensivbetten_Erwachsene</th>\n",
       "      <th>7_Tage_Notfallreserve_Erwachsene</th>\n",
       "      <th>Freie_IV_Kapazitaeten_Gesamt</th>\n",
       "      <th>Freie_IV_Kapazitaeten_Davon_COVID</th>\n",
       "      <th>Betriebssituation_Regulaerer_Betrieb</th>\n",
       "      <th>Betriebssituation_Teilweise_Eingeschraenkt</th>\n",
       "      <th>Betriebssituation_Eingeschraenkt</th>\n",
       "      <th>Betriebssituation_Keine_Angabe</th>\n",
       "    </tr>\n",
       "  </thead>\n",
       "  <tbody>\n",
       "    <tr>\n",
       "      <th>8363</th>\n",
       "      <td>2021-07-24</td>\n",
       "      <td>DEUTSCHLAND</td>\n",
       "      <td>1311</td>\n",
       "      <td>351</td>\n",
       "      <td>18751</td>\n",
       "      <td>3731</td>\n",
       "      <td>10256</td>\n",
       "      <td>3338</td>\n",
       "      <td>1368</td>\n",
       "      <td>619</td>\n",
       "      <td>218</td>\n",
       "      <td>329</td>\n",
       "      <td>145</td>\n",
       "    </tr>\n",
       "    <tr>\n",
       "      <th>8380</th>\n",
       "      <td>2021-07-25</td>\n",
       "      <td>DEUTSCHLAND</td>\n",
       "      <td>1309</td>\n",
       "      <td>367</td>\n",
       "      <td>18363</td>\n",
       "      <td>4007</td>\n",
       "      <td>10268</td>\n",
       "      <td>3458</td>\n",
       "      <td>1441</td>\n",
       "      <td>630</td>\n",
       "      <td>214</td>\n",
       "      <td>322</td>\n",
       "      <td>143</td>\n",
       "    </tr>\n",
       "    <tr>\n",
       "      <th>8397</th>\n",
       "      <td>2021-07-26</td>\n",
       "      <td>DEUTSCHLAND</td>\n",
       "      <td>1311</td>\n",
       "      <td>365</td>\n",
       "      <td>18587</td>\n",
       "      <td>3995</td>\n",
       "      <td>10271</td>\n",
       "      <td>3513</td>\n",
       "      <td>1461</td>\n",
       "      <td>650</td>\n",
       "      <td>207</td>\n",
       "      <td>314</td>\n",
       "      <td>140</td>\n",
       "    </tr>\n",
       "  </tbody>\n",
       "</table>\n",
       "</div>"
      ],
      "text/plain": [
       "          Datum   Bundesland  Anzahl_Meldebereiche_Erwachsene  \\\n",
       "8363 2021-07-24  DEUTSCHLAND                             1311   \n",
       "8380 2021-07-25  DEUTSCHLAND                             1309   \n",
       "8397 2021-07-26  DEUTSCHLAND                             1311   \n",
       "\n",
       "      Aktuelle_COVID_Faelle_Erwachsene_ITS  Belegte_Intensivbetten_Erwachsene  \\\n",
       "8363                                   351                              18751   \n",
       "8380                                   367                              18363   \n",
       "8397                                   365                              18587   \n",
       "\n",
       "      Freie_Intensivbetten_Erwachsene  7_Tage_Notfallreserve_Erwachsene  \\\n",
       "8363                             3731                             10256   \n",
       "8380                             4007                             10268   \n",
       "8397                             3995                             10271   \n",
       "\n",
       "      Freie_IV_Kapazitaeten_Gesamt  Freie_IV_Kapazitaeten_Davon_COVID  \\\n",
       "8363                          3338                               1368   \n",
       "8380                          3458                               1441   \n",
       "8397                          3513                               1461   \n",
       "\n",
       "      Betriebssituation_Regulaerer_Betrieb  \\\n",
       "8363                                   619   \n",
       "8380                                   630   \n",
       "8397                                   650   \n",
       "\n",
       "      Betriebssituation_Teilweise_Eingeschraenkt  \\\n",
       "8363                                         218   \n",
       "8380                                         214   \n",
       "8397                                         207   \n",
       "\n",
       "      Betriebssituation_Eingeschraenkt  Betriebssituation_Keine_Angabe  \n",
       "8363                               329                             145  \n",
       "8380                               322                             143  \n",
       "8397                               314                             140  "
      ]
     },
     "execution_count": 12,
     "metadata": {},
     "output_type": "execute_result"
    }
   ],
   "source": [
    "federal_level = timeline_df[timeline_df.Bundesland=='DEUTSCHLAND']\n",
    "federal_level.tail(3)"
   ]
  },
  {
   "cell_type": "markdown",
   "metadata": {},
   "source": [
    "## Used Beds (Adults)"
   ]
  },
  {
   "cell_type": "code",
   "execution_count": 13,
   "metadata": {},
   "outputs": [
    {
     "name": "stdout",
     "output_type": "stream",
     "text": [
      "<class 'pandas.core.frame.DataFrame'>\n",
      "Int64Index: 494 entries, 16 to 8397\n",
      "Data columns (total 2 columns):\n",
      " #   Column                    Non-Null Count  Dtype         \n",
      "---  ------                    --------------  -----         \n",
      " 0   date                      494 non-null    datetime64[ns]\n",
      " 1   ICU beds in use (adults)  494 non-null    int64         \n",
      "dtypes: datetime64[ns](1), int64(1)\n",
      "memory usage: 11.6 KB\n"
     ]
    }
   ],
   "source": [
    "used_beds = federal_level.loc[ : , ['Datum', 'Belegte_Intensivbetten_Erwachsene']]\n",
    "used_beds.columns = ['date', 'ICU beds in use (adults)']\n",
    "used_beds.info()"
   ]
  },
  {
   "cell_type": "code",
   "execution_count": 14,
   "metadata": {},
   "outputs": [],
   "source": [
    "used_beds.set_index('date', inplace=True)"
   ]
  },
  {
   "cell_type": "code",
   "execution_count": 15,
   "metadata": {},
   "outputs": [
    {
     "data": {
      "text/plain": [
       "<AxesSubplot:xlabel='date'>"
      ]
     },
     "execution_count": 15,
     "metadata": {},
     "output_type": "execute_result"
    },
    {
     "data": {
      "image/png": "[encoded data removed]",
      "text/plain": [
       "<Figure size 432x288 with 1 Axes>"
      ]
     },
     "metadata": {},
     "output_type": "display_data"
    }
   ],
   "source": [
    "used_beds.plot()"
   ]
  },
  {
   "cell_type": "markdown",
   "metadata": {},
   "source": [
    "## Covid-19 patients in ICU"
   ]
  },
  {
   "cell_type": "code",
   "execution_count": 16,
   "metadata": {},
   "outputs": [],
   "source": [
    "icu = federal_level.loc[ : , ['Datum', 'Aktuelle_COVID_Faelle_Erwachsene_ITS']]"
   ]
  },
  {
   "cell_type": "code",
   "execution_count": 17,
   "metadata": {},
   "outputs": [
    {
     "name": "stdout",
     "output_type": "stream",
     "text": [
      "<class 'pandas.core.frame.DataFrame'>\n",
      "DatetimeIndex: 494 entries, 2020-03-20 to 2021-07-26\n",
      "Data columns (total 1 columns):\n",
      " #   Column                 Non-Null Count  Dtype\n",
      "---  ------                 --------------  -----\n",
      " 0   Covid-19 cases in ICU  494 non-null    int64\n",
      "dtypes: int64(1)\n",
      "memory usage: 7.7 KB\n"
     ]
    }
   ],
   "source": [
    "icu.columns = ['date', 'Covid-19 cases in ICU']\n",
    "icu.set_index('date', inplace=True)\n",
    "icu.info()"
   ]
  },
  {
   "cell_type": "code",
   "execution_count": 18,
   "metadata": {},
   "outputs": [
    {
     "data": {
      "image/png": "[encoded data removed]",
      "text/plain": [
       "<Figure size 432x288 with 1 Axes>"
      ]
     },
     "metadata": {},
     "output_type": "display_data"
    }
   ],
   "source": [
    "icu_cases = icu.plot(\n",
    "    title='Patients with Covid-19 in German ICUs\\n(Data Source: DIVI-Intensivregister)',\n",
    "xlabel='Date',\n",
    "ylabel='Number of Patients')"
   ]
  },
  {
   "cell_type": "code",
   "execution_count": 19,
   "metadata": {},
   "outputs": [],
   "source": [
    "fig = icu_cases.get_figure()\n",
    "fig.savefig('img/covid-19-patients-in-icu-germany.png')"
   ]
  },
  {
   "cell_type": "markdown",
   "metadata": {},
   "source": [
    "### Situation in North Rhine-Westphalia\n",
    "\n",
    "NRW ist the state in Germany with the highest number of inhabitants."
   ]
  },
  {
   "cell_type": "code",
   "execution_count": 20,
   "metadata": {},
   "outputs": [
    {
     "data": {
      "text/html": [
       "<div>\n",
       "<style scoped>\n",
       "    .dataframe tbody tr th:only-of-type {\n",
       "        vertical-align: middle;\n",
       "    }\n",
       "\n",
       "    .dataframe tbody tr th {\n",
       "        vertical-align: top;\n",
       "    }\n",
       "\n",
       "    .dataframe thead th {\n",
       "        text-align: right;\n",
       "    }\n",
       "</style>\n",
       "<table border=\"1\" class=\"dataframe\">\n",
       "  <thead>\n",
       "    <tr style=\"text-align: right;\">\n",
       "      <th></th>\n",
       "      <th>Datum</th>\n",
       "      <th>Bundesland</th>\n",
       "      <th>Anzahl_Meldebereiche_Erwachsene</th>\n",
       "      <th>Aktuelle_COVID_Faelle_Erwachsene_ITS</th>\n",
       "      <th>Belegte_Intensivbetten_Erwachsene</th>\n",
       "      <th>Freie_Intensivbetten_Erwachsene</th>\n",
       "      <th>7_Tage_Notfallreserve_Erwachsene</th>\n",
       "      <th>Freie_IV_Kapazitaeten_Gesamt</th>\n",
       "      <th>Freie_IV_Kapazitaeten_Davon_COVID</th>\n",
       "      <th>Betriebssituation_Regulaerer_Betrieb</th>\n",
       "      <th>Betriebssituation_Teilweise_Eingeschraenkt</th>\n",
       "      <th>Betriebssituation_Eingeschraenkt</th>\n",
       "      <th>Betriebssituation_Keine_Angabe</th>\n",
       "    </tr>\n",
       "  </thead>\n",
       "  <tbody>\n",
       "    <tr>\n",
       "      <th>8370</th>\n",
       "      <td>2021-07-25</td>\n",
       "      <td>NORDRHEIN_WESTFALEN</td>\n",
       "      <td>317</td>\n",
       "      <td>77</td>\n",
       "      <td>4516</td>\n",
       "      <td>913</td>\n",
       "      <td>2401</td>\n",
       "      <td>759</td>\n",
       "      <td>405</td>\n",
       "      <td>161</td>\n",
       "      <td>57</td>\n",
       "      <td>78</td>\n",
       "      <td>21</td>\n",
       "    </tr>\n",
       "    <tr>\n",
       "      <th>8387</th>\n",
       "      <td>2021-07-26</td>\n",
       "      <td>NORDRHEIN_WESTFALEN</td>\n",
       "      <td>316</td>\n",
       "      <td>80</td>\n",
       "      <td>4574</td>\n",
       "      <td>864</td>\n",
       "      <td>2408</td>\n",
       "      <td>745</td>\n",
       "      <td>388</td>\n",
       "      <td>162</td>\n",
       "      <td>57</td>\n",
       "      <td>76</td>\n",
       "      <td>21</td>\n",
       "    </tr>\n",
       "  </tbody>\n",
       "</table>\n",
       "</div>"
      ],
      "text/plain": [
       "          Datum           Bundesland  Anzahl_Meldebereiche_Erwachsene  \\\n",
       "8370 2021-07-25  NORDRHEIN_WESTFALEN                              317   \n",
       "8387 2021-07-26  NORDRHEIN_WESTFALEN                              316   \n",
       "\n",
       "      Aktuelle_COVID_Faelle_Erwachsene_ITS  Belegte_Intensivbetten_Erwachsene  \\\n",
       "8370                                    77                               4516   \n",
       "8387                                    80                               4574   \n",
       "\n",
       "      Freie_Intensivbetten_Erwachsene  7_Tage_Notfallreserve_Erwachsene  \\\n",
       "8370                              913                              2401   \n",
       "8387                              864                              2408   \n",
       "\n",
       "      Freie_IV_Kapazitaeten_Gesamt  Freie_IV_Kapazitaeten_Davon_COVID  \\\n",
       "8370                           759                                405   \n",
       "8387                           745                                388   \n",
       "\n",
       "      Betriebssituation_Regulaerer_Betrieb  \\\n",
       "8370                                   161   \n",
       "8387                                   162   \n",
       "\n",
       "      Betriebssituation_Teilweise_Eingeschraenkt  \\\n",
       "8370                                          57   \n",
       "8387                                          57   \n",
       "\n",
       "      Betriebssituation_Eingeschraenkt  Betriebssituation_Keine_Angabe  \n",
       "8370                                78                              21  \n",
       "8387                                76                              21  "
      ]
     },
     "execution_count": 20,
     "metadata": {},
     "output_type": "execute_result"
    }
   ],
   "source": [
    "nrw = timeline_df[timeline_df.Bundesland=='NORDRHEIN_WESTFALEN']\n",
    "nrw.tail(2)"
   ]
  },
  {
   "cell_type": "code",
   "execution_count": 21,
   "metadata": {},
   "outputs": [
    {
     "name": "stdout",
     "output_type": "stream",
     "text": [
      "<class 'pandas.core.frame.DataFrame'>\n",
      "DatetimeIndex: 494 entries, 2020-03-20 to 2021-07-26\n",
      "Data columns (total 1 columns):\n",
      " #   Column                 Non-Null Count  Dtype\n",
      "---  ------                 --------------  -----\n",
      " 0   Covid-19 cases in ICU  494 non-null    int64\n",
      "dtypes: int64(1)\n",
      "memory usage: 7.7 KB\n"
     ]
    }
   ],
   "source": [
    "icu_nrw = nrw.loc[ : , ['Datum', 'Aktuelle_COVID_Faelle_Erwachsene_ITS']]\n",
    "icu_nrw.columns = ['date', 'Covid-19 cases in ICU']\n",
    "icu_nrw.set_index('date', inplace=True)\n",
    "icu_nrw.info()"
   ]
  },
  {
   "cell_type": "code",
   "execution_count": 22,
   "metadata": {},
   "outputs": [
    {
     "data": {
      "image/png": "[encoded data removed]",
      "text/plain": [
       "<Figure size 432x288 with 1 Axes>"
      ]
     },
     "metadata": {},
     "output_type": "display_data"
    }
   ],
   "source": [
    "icu_cases_nrw = icu_nrw.plot(\n",
    "    title='Patients with Covid-19 in ICUs in North Rhine-Westphalia\\n(Data Source: DIVI-Intensivregister)',\n",
    "xlabel='Date',\n",
    "ylabel='Number of Patients')"
   ]
  },
  {
   "cell_type": "markdown",
   "metadata": {},
   "source": [
    "### Situation in Rhineland-Palatinate"
   ]
  },
  {
   "cell_type": "code",
   "execution_count": 23,
   "metadata": {},
   "outputs": [
    {
     "data": {
      "text/html": [
       "<div>\n",
       "<style scoped>\n",
       "    .dataframe tbody tr th:only-of-type {\n",
       "        vertical-align: middle;\n",
       "    }\n",
       "\n",
       "    .dataframe tbody tr th {\n",
       "        vertical-align: top;\n",
       "    }\n",
       "\n",
       "    .dataframe thead th {\n",
       "        text-align: right;\n",
       "    }\n",
       "</style>\n",
       "<table border=\"1\" class=\"dataframe\">\n",
       "  <thead>\n",
       "    <tr style=\"text-align: right;\">\n",
       "      <th></th>\n",
       "      <th>Datum</th>\n",
       "      <th>Bundesland</th>\n",
       "      <th>Anzahl_Meldebereiche_Erwachsene</th>\n",
       "      <th>Aktuelle_COVID_Faelle_Erwachsene_ITS</th>\n",
       "      <th>Belegte_Intensivbetten_Erwachsene</th>\n",
       "      <th>Freie_Intensivbetten_Erwachsene</th>\n",
       "      <th>7_Tage_Notfallreserve_Erwachsene</th>\n",
       "      <th>Freie_IV_Kapazitaeten_Gesamt</th>\n",
       "      <th>Freie_IV_Kapazitaeten_Davon_COVID</th>\n",
       "      <th>Betriebssituation_Regulaerer_Betrieb</th>\n",
       "      <th>Betriebssituation_Teilweise_Eingeschraenkt</th>\n",
       "      <th>Betriebssituation_Eingeschraenkt</th>\n",
       "      <th>Betriebssituation_Keine_Angabe</th>\n",
       "    </tr>\n",
       "  </thead>\n",
       "  <tbody>\n",
       "    <tr>\n",
       "      <th>8365</th>\n",
       "      <td>2021-07-25</td>\n",
       "      <td>RHEINLAND_PFALZ</td>\n",
       "      <td>76</td>\n",
       "      <td>18</td>\n",
       "      <td>768</td>\n",
       "      <td>231</td>\n",
       "      <td>410</td>\n",
       "      <td>184</td>\n",
       "      <td>89</td>\n",
       "      <td>38</td>\n",
       "      <td>17</td>\n",
       "      <td>15</td>\n",
       "      <td>6</td>\n",
       "    </tr>\n",
       "    <tr>\n",
       "      <th>8382</th>\n",
       "      <td>2021-07-26</td>\n",
       "      <td>RHEINLAND_PFALZ</td>\n",
       "      <td>76</td>\n",
       "      <td>17</td>\n",
       "      <td>770</td>\n",
       "      <td>245</td>\n",
       "      <td>415</td>\n",
       "      <td>195</td>\n",
       "      <td>88</td>\n",
       "      <td>40</td>\n",
       "      <td>18</td>\n",
       "      <td>12</td>\n",
       "      <td>6</td>\n",
       "    </tr>\n",
       "  </tbody>\n",
       "</table>\n",
       "</div>"
      ],
      "text/plain": [
       "          Datum       Bundesland  Anzahl_Meldebereiche_Erwachsene  \\\n",
       "8365 2021-07-25  RHEINLAND_PFALZ                               76   \n",
       "8382 2021-07-26  RHEINLAND_PFALZ                               76   \n",
       "\n",
       "      Aktuelle_COVID_Faelle_Erwachsene_ITS  Belegte_Intensivbetten_Erwachsene  \\\n",
       "8365                                    18                                768   \n",
       "8382                                    17                                770   \n",
       "\n",
       "      Freie_Intensivbetten_Erwachsene  7_Tage_Notfallreserve_Erwachsene  \\\n",
       "8365                              231                               410   \n",
       "8382                              245                               415   \n",
       "\n",
       "      Freie_IV_Kapazitaeten_Gesamt  Freie_IV_Kapazitaeten_Davon_COVID  \\\n",
       "8365                           184                                 89   \n",
       "8382                           195                                 88   \n",
       "\n",
       "      Betriebssituation_Regulaerer_Betrieb  \\\n",
       "8365                                    38   \n",
       "8382                                    40   \n",
       "\n",
       "      Betriebssituation_Teilweise_Eingeschraenkt  \\\n",
       "8365                                          17   \n",
       "8382                                          18   \n",
       "\n",
       "      Betriebssituation_Eingeschraenkt  Betriebssituation_Keine_Angabe  \n",
       "8365                                15                               6  \n",
       "8382                                12                               6  "
      ]
     },
     "execution_count": 23,
     "metadata": {},
     "output_type": "execute_result"
    }
   ],
   "source": [
    "rlp = timeline_df[timeline_df.Bundesland=='RHEINLAND_PFALZ']\n",
    "rlp.tail(2)"
   ]
  },
  {
   "cell_type": "code",
   "execution_count": 24,
   "metadata": {},
   "outputs": [
    {
     "name": "stdout",
     "output_type": "stream",
     "text": [
      "<class 'pandas.core.frame.DataFrame'>\n",
      "DatetimeIndex: 494 entries, 2020-03-20 to 2021-07-26\n",
      "Data columns (total 1 columns):\n",
      " #   Column                 Non-Null Count  Dtype\n",
      "---  ------                 --------------  -----\n",
      " 0   Covid-19 cases in ICU  494 non-null    int64\n",
      "dtypes: int64(1)\n",
      "memory usage: 7.7 KB\n"
     ]
    }
   ],
   "source": [
    "icu_rlp = rlp.loc[ : , ['Datum', 'Aktuelle_COVID_Faelle_Erwachsene_ITS']]\n",
    "icu_rlp.columns = ['date', 'Covid-19 cases in ICU']\n",
    "icu_rlp.set_index('date', inplace=True)\n",
    "icu_rlp.info()"
   ]
  },
  {
   "cell_type": "code",
   "execution_count": 25,
   "metadata": {},
   "outputs": [
    {
     "data": {
      "image/png": "[encoded data removed]",
      "text/plain": [
       "<Figure size 432x288 with 1 Axes>"
      ]
     },
     "metadata": {},
     "output_type": "display_data"
    }
   ],
   "source": [
    "icu_cases_rlp = icu_rlp.plot(\n",
    "    title='Patients with Covid-19 in ICUs in Rhineland-Palatinate\\n(Data Source: DIVI-Intensivregister)',\n",
    "xlabel='Date',\n",
    "ylabel='Number of Patients')"
   ]
  },
  {
   "cell_type": "markdown",
   "metadata": {},
   "source": [
    "### Situation in Saxony\n",
    "\n",
    "Saxonia had high case numbers during the pandemic."
   ]
  },
  {
   "cell_type": "code",
   "execution_count": 26,
   "metadata": {},
   "outputs": [
    {
     "data": {
      "text/html": [
       "<div>\n",
       "<style scoped>\n",
       "    .dataframe tbody tr th:only-of-type {\n",
       "        vertical-align: middle;\n",
       "    }\n",
       "\n",
       "    .dataframe tbody tr th {\n",
       "        vertical-align: top;\n",
       "    }\n",
       "\n",
       "    .dataframe thead th {\n",
       "        text-align: right;\n",
       "    }\n",
       "</style>\n",
       "<table border=\"1\" class=\"dataframe\">\n",
       "  <thead>\n",
       "    <tr style=\"text-align: right;\">\n",
       "      <th></th>\n",
       "      <th>Datum</th>\n",
       "      <th>Bundesland</th>\n",
       "      <th>Anzahl_Meldebereiche_Erwachsene</th>\n",
       "      <th>Aktuelle_COVID_Faelle_Erwachsene_ITS</th>\n",
       "      <th>Belegte_Intensivbetten_Erwachsene</th>\n",
       "      <th>Freie_Intensivbetten_Erwachsene</th>\n",
       "      <th>7_Tage_Notfallreserve_Erwachsene</th>\n",
       "      <th>Freie_IV_Kapazitaeten_Gesamt</th>\n",
       "      <th>Freie_IV_Kapazitaeten_Davon_COVID</th>\n",
       "      <th>Betriebssituation_Regulaerer_Betrieb</th>\n",
       "      <th>Betriebssituation_Teilweise_Eingeschraenkt</th>\n",
       "      <th>Betriebssituation_Eingeschraenkt</th>\n",
       "      <th>Betriebssituation_Keine_Angabe</th>\n",
       "    </tr>\n",
       "  </thead>\n",
       "  <tbody>\n",
       "    <tr>\n",
       "      <th>8378</th>\n",
       "      <td>2021-07-25</td>\n",
       "      <td>SACHSEN</td>\n",
       "      <td>76</td>\n",
       "      <td>18</td>\n",
       "      <td>1164</td>\n",
       "      <td>290</td>\n",
       "      <td>623</td>\n",
       "      <td>299</td>\n",
       "      <td>95</td>\n",
       "      <td>43</td>\n",
       "      <td>10</td>\n",
       "      <td>12</td>\n",
       "      <td>11</td>\n",
       "    </tr>\n",
       "    <tr>\n",
       "      <th>8395</th>\n",
       "      <td>2021-07-26</td>\n",
       "      <td>SACHSEN</td>\n",
       "      <td>77</td>\n",
       "      <td>16</td>\n",
       "      <td>1198</td>\n",
       "      <td>273</td>\n",
       "      <td>622</td>\n",
       "      <td>303</td>\n",
       "      <td>98</td>\n",
       "      <td>43</td>\n",
       "      <td>11</td>\n",
       "      <td>13</td>\n",
       "      <td>10</td>\n",
       "    </tr>\n",
       "  </tbody>\n",
       "</table>\n",
       "</div>"
      ],
      "text/plain": [
       "          Datum Bundesland  Anzahl_Meldebereiche_Erwachsene  \\\n",
       "8378 2021-07-25    SACHSEN                               76   \n",
       "8395 2021-07-26    SACHSEN                               77   \n",
       "\n",
       "      Aktuelle_COVID_Faelle_Erwachsene_ITS  Belegte_Intensivbetten_Erwachsene  \\\n",
       "8378                                    18                               1164   \n",
       "8395                                    16                               1198   \n",
       "\n",
       "      Freie_Intensivbetten_Erwachsene  7_Tage_Notfallreserve_Erwachsene  \\\n",
       "8378                              290                               623   \n",
       "8395                              273                               622   \n",
       "\n",
       "      Freie_IV_Kapazitaeten_Gesamt  Freie_IV_Kapazitaeten_Davon_COVID  \\\n",
       "8378                           299                                 95   \n",
       "8395                           303                                 98   \n",
       "\n",
       "      Betriebssituation_Regulaerer_Betrieb  \\\n",
       "8378                                    43   \n",
       "8395                                    43   \n",
       "\n",
       "      Betriebssituation_Teilweise_Eingeschraenkt  \\\n",
       "8378                                          10   \n",
       "8395                                          11   \n",
       "\n",
       "      Betriebssituation_Eingeschraenkt  Betriebssituation_Keine_Angabe  \n",
       "8378                                12                              11  \n",
       "8395                                13                              10  "
      ]
     },
     "execution_count": 26,
     "metadata": {},
     "output_type": "execute_result"
    }
   ],
   "source": [
    "saxonia = timeline_df[timeline_df.Bundesland=='SACHSEN']\n",
    "saxonia.tail(2)"
   ]
  },
  {
   "cell_type": "code",
   "execution_count": 27,
   "metadata": {},
   "outputs": [
    {
     "name": "stdout",
     "output_type": "stream",
     "text": [
      "<class 'pandas.core.frame.DataFrame'>\n",
      "DatetimeIndex: 494 entries, 2020-03-20 to 2021-07-26\n",
      "Data columns (total 1 columns):\n",
      " #   Column                 Non-Null Count  Dtype\n",
      "---  ------                 --------------  -----\n",
      " 0   Covid-19 cases in ICU  494 non-null    int64\n",
      "dtypes: int64(1)\n",
      "memory usage: 7.7 KB\n"
     ]
    }
   ],
   "source": [
    "icu_saxonia = saxonia.loc[ : , ['Datum', 'Aktuelle_COVID_Faelle_Erwachsene_ITS']]\n",
    "icu_saxonia.columns = ['date', 'Covid-19 cases in ICU']\n",
    "icu_saxonia.set_index('date', inplace=True)\n",
    "icu_saxonia.info()"
   ]
  },
  {
   "cell_type": "code",
   "execution_count": 28,
   "metadata": {},
   "outputs": [
    {
     "data": {
      "image/png": "[encoded data removed]",
      "text/plain": [
       "<Figure size 432x288 with 1 Axes>"
      ]
     },
     "metadata": {},
     "output_type": "display_data"
    }
   ],
   "source": [
    "icu_cases_saxonia = icu_saxonia.plot(\n",
    "    title='Patients with Covid-19 in ICUs in Saxonia\\n(Data Source: DIVI-Intensivregister)',\n",
    "xlabel='Date',\n",
    "ylabel='Number of Patients')"
   ]
  }
 ],
 "metadata": {
  "kernelspec": {
   "display_name": "Python 3",
   "language": "python",
   "name": "python3"
  },
  "language_info": {
   "codemirror_mode": {
    "name": "ipython",
    "version": 3
   },
   "file_extension": ".py",
   "mimetype": "text/x-python",
   "name": "python",
   "nbconvert_exporter": "python",
   "pygments_lexer": "ipython3",
   "version": "3.8.10"
  }
 },
 "nbformat": 4,
 "nbformat_minor": 4
}

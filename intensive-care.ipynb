{
 "cells": [
  {
   "cell_type": "markdown",
   "metadata": {},
   "source": [
    "# Intensive Care in Germany"
   ]
  },
  {
   "cell_type": "markdown",
   "metadata": {},
   "source": [
    "## Data Source\n",
    "\n",
    "[DIVI-Intensivregister](https://www.intensivregister.de/) monitors the ICU capacities of 1,300 hospitals in Germany."
   ]
  },
  {
   "cell_type": "markdown",
   "metadata": {},
   "source": [
    "## Setup"
   ]
  },
  {
   "cell_type": "code",
   "execution_count": 1,
   "metadata": {},
   "outputs": [],
   "source": [
    "# standard library\n",
    "import datetime\n",
    "import math"
   ]
  },
  {
   "cell_type": "code",
   "execution_count": 2,
   "metadata": {},
   "outputs": [],
   "source": [
    "# third party\n",
    "import numpy as np\n",
    "import pandas as pd\n",
    "import matplotlib.pyplot as plt\n",
    "import requests"
   ]
  },
  {
   "cell_type": "markdown",
   "metadata": {},
   "source": [
    "## Date this Notebook was run"
   ]
  },
  {
   "cell_type": "code",
   "execution_count": 3,
   "metadata": {},
   "outputs": [
    {
     "data": {
      "text/plain": [
       "'2021-09-13'"
      ]
     },
     "execution_count": 3,
     "metadata": {},
     "output_type": "execute_result"
    }
   ],
   "source": [
    "today = datetime.datetime.today().strftime('%Y-%m-%d')\n",
    "today"
   ]
  },
  {
   "cell_type": "code",
   "execution_count": 4,
   "metadata": {},
   "outputs": [],
   "source": [
    "# style like ggplot in R\n",
    "plt.style.use('ggplot')"
   ]
  },
  {
   "cell_type": "code",
   "execution_count": 5,
   "metadata": {},
   "outputs": [],
   "source": [
    "# Avoid cutting off part of the axis labels, see:\n",
    "# https://stackoverflow.com/questions/6774086/why-is-my-xlabel-cut-off-in-my-matplotlib-plot\n",
    "plt.rcParams.update({'figure.autolayout': True})"
   ]
  },
  {
   "cell_type": "markdown",
   "metadata": {},
   "source": [
    "## Get Data"
   ]
  },
  {
   "cell_type": "code",
   "execution_count": 6,
   "metadata": {},
   "outputs": [],
   "source": [
    "timeline_data = \"https://diviexchange.blob.core.windows.net/%24web/bundesland-zeitreihe.csv\""
   ]
  },
  {
   "cell_type": "code",
   "execution_count": 7,
   "metadata": {},
   "outputs": [],
   "source": [
    "timeline_df = pd.read_csv(timeline_data)"
   ]
  },
  {
   "cell_type": "code",
   "execution_count": 8,
   "metadata": {},
   "outputs": [
    {
     "data": {
      "text/html": [
       "<div>\n",
       "<style scoped>\n",
       "    .dataframe tbody tr th:only-of-type {\n",
       "        vertical-align: middle;\n",
       "    }\n",
       "\n",
       "    .dataframe tbody tr th {\n",
       "        vertical-align: top;\n",
       "    }\n",
       "\n",
       "    .dataframe thead th {\n",
       "        text-align: right;\n",
       "    }\n",
       "</style>\n",
       "<table border=\"1\" class=\"dataframe\">\n",
       "  <thead>\n",
       "    <tr style=\"text-align: right;\">\n",
       "      <th></th>\n",
       "      <th>Datum</th>\n",
       "      <th>Bundesland</th>\n",
       "      <th>Anzahl_Meldebereiche_Erwachsene</th>\n",
       "      <th>Aktuelle_COVID_Faelle_Erwachsene_ITS</th>\n",
       "      <th>Belegte_Intensivbetten_Erwachsene</th>\n",
       "      <th>Freie_Intensivbetten_Erwachsene</th>\n",
       "      <th>7_Tage_Notfallreserve_Erwachsene</th>\n",
       "      <th>Freie_IV_Kapazitaeten_Gesamt</th>\n",
       "      <th>Freie_IV_Kapazitaeten_Davon_COVID</th>\n",
       "      <th>Betriebssituation_Regulaerer_Betrieb</th>\n",
       "      <th>Betriebssituation_Teilweise_Eingeschraenkt</th>\n",
       "      <th>Betriebssituation_Eingeschraenkt</th>\n",
       "      <th>Betriebssituation_Keine_Angabe</th>\n",
       "    </tr>\n",
       "  </thead>\n",
       "  <tbody>\n",
       "    <tr>\n",
       "      <th>9228</th>\n",
       "      <td>2021-09-13T12:15:00+02:00</td>\n",
       "      <td>BRANDENBURG</td>\n",
       "      <td>47</td>\n",
       "      <td>16</td>\n",
       "      <td>493</td>\n",
       "      <td>107</td>\n",
       "      <td>363</td>\n",
       "      <td>81</td>\n",
       "      <td>29</td>\n",
       "      <td>23</td>\n",
       "      <td>8</td>\n",
       "      <td>11</td>\n",
       "      <td>5</td>\n",
       "    </tr>\n",
       "    <tr>\n",
       "      <th>9229</th>\n",
       "      <td>2021-09-13T12:15:00+02:00</td>\n",
       "      <td>SACHSEN_ANHALT</td>\n",
       "      <td>42</td>\n",
       "      <td>6</td>\n",
       "      <td>620</td>\n",
       "      <td>127</td>\n",
       "      <td>338</td>\n",
       "      <td>96</td>\n",
       "      <td>51</td>\n",
       "      <td>23</td>\n",
       "      <td>6</td>\n",
       "      <td>9</td>\n",
       "      <td>4</td>\n",
       "    </tr>\n",
       "    <tr>\n",
       "      <th>9230</th>\n",
       "      <td>2021-09-13T12:15:00+02:00</td>\n",
       "      <td>DEUTSCHLAND</td>\n",
       "      <td>1315</td>\n",
       "      <td>1491</td>\n",
       "      <td>19002</td>\n",
       "      <td>3561</td>\n",
       "      <td>10358</td>\n",
       "      <td>3078</td>\n",
       "      <td>1194</td>\n",
       "      <td>528</td>\n",
       "      <td>236</td>\n",
       "      <td>404</td>\n",
       "      <td>147</td>\n",
       "    </tr>\n",
       "  </tbody>\n",
       "</table>\n",
       "</div>"
      ],
      "text/plain": [
       "                          Datum      Bundesland  \\\n",
       "9228  2021-09-13T12:15:00+02:00     BRANDENBURG   \n",
       "9229  2021-09-13T12:15:00+02:00  SACHSEN_ANHALT   \n",
       "9230  2021-09-13T12:15:00+02:00     DEUTSCHLAND   \n",
       "\n",
       "      Anzahl_Meldebereiche_Erwachsene  Aktuelle_COVID_Faelle_Erwachsene_ITS  \\\n",
       "9228                               47                                    16   \n",
       "9229                               42                                     6   \n",
       "9230                             1315                                  1491   \n",
       "\n",
       "      Belegte_Intensivbetten_Erwachsene  Freie_Intensivbetten_Erwachsene  \\\n",
       "9228                                493                              107   \n",
       "9229                                620                              127   \n",
       "9230                              19002                             3561   \n",
       "\n",
       "      7_Tage_Notfallreserve_Erwachsene  Freie_IV_Kapazitaeten_Gesamt  \\\n",
       "9228                               363                            81   \n",
       "9229                               338                            96   \n",
       "9230                             10358                          3078   \n",
       "\n",
       "      Freie_IV_Kapazitaeten_Davon_COVID  Betriebssituation_Regulaerer_Betrieb  \\\n",
       "9228                                 29                                    23   \n",
       "9229                                 51                                    23   \n",
       "9230                               1194                                   528   \n",
       "\n",
       "      Betriebssituation_Teilweise_Eingeschraenkt  \\\n",
       "9228                                           8   \n",
       "9229                                           6   \n",
       "9230                                         236   \n",
       "\n",
       "      Betriebssituation_Eingeschraenkt  Betriebssituation_Keine_Angabe  \n",
       "9228                                11                               5  \n",
       "9229                                 9                               4  \n",
       "9230                               404                             147  "
      ]
     },
     "execution_count": 8,
     "metadata": {},
     "output_type": "execute_result"
    }
   ],
   "source": [
    "timeline_df.tail(3)"
   ]
  },
  {
   "cell_type": "markdown",
   "metadata": {},
   "source": [
    "## Rename Columns"
   ]
  },
  {
   "cell_type": "markdown",
   "metadata": {},
   "source": [
    "### Convert datatype of date column"
   ]
  },
  {
   "cell_type": "code",
   "execution_count": 9,
   "metadata": {},
   "outputs": [
    {
     "data": {
      "text/html": [
       "<div>\n",
       "<style scoped>\n",
       "    .dataframe tbody tr th:only-of-type {\n",
       "        vertical-align: middle;\n",
       "    }\n",
       "\n",
       "    .dataframe tbody tr th {\n",
       "        vertical-align: top;\n",
       "    }\n",
       "\n",
       "    .dataframe thead th {\n",
       "        text-align: right;\n",
       "    }\n",
       "</style>\n",
       "<table border=\"1\" class=\"dataframe\">\n",
       "  <thead>\n",
       "    <tr style=\"text-align: right;\">\n",
       "      <th></th>\n",
       "      <th>Datum</th>\n",
       "      <th>Bundesland</th>\n",
       "      <th>Anzahl_Meldebereiche_Erwachsene</th>\n",
       "      <th>Aktuelle_COVID_Faelle_Erwachsene_ITS</th>\n",
       "      <th>Belegte_Intensivbetten_Erwachsene</th>\n",
       "      <th>Freie_Intensivbetten_Erwachsene</th>\n",
       "      <th>7_Tage_Notfallreserve_Erwachsene</th>\n",
       "      <th>Freie_IV_Kapazitaeten_Gesamt</th>\n",
       "      <th>Freie_IV_Kapazitaeten_Davon_COVID</th>\n",
       "      <th>Betriebssituation_Regulaerer_Betrieb</th>\n",
       "      <th>Betriebssituation_Teilweise_Eingeschraenkt</th>\n",
       "      <th>Betriebssituation_Eingeschraenkt</th>\n",
       "      <th>Betriebssituation_Keine_Angabe</th>\n",
       "    </tr>\n",
       "  </thead>\n",
       "  <tbody>\n",
       "    <tr>\n",
       "      <th>0</th>\n",
       "      <td>2020-03-20</td>\n",
       "      <td>RHEINLAND_PFALZ</td>\n",
       "      <td>15</td>\n",
       "      <td>14</td>\n",
       "      <td>48</td>\n",
       "      <td>112</td>\n",
       "      <td>0</td>\n",
       "      <td>62</td>\n",
       "      <td>0</td>\n",
       "      <td>10</td>\n",
       "      <td>3</td>\n",
       "      <td>2</td>\n",
       "      <td>0</td>\n",
       "    </tr>\n",
       "    <tr>\n",
       "      <th>1</th>\n",
       "      <td>2020-03-20</td>\n",
       "      <td>NIEDERSACHSEN</td>\n",
       "      <td>25</td>\n",
       "      <td>17</td>\n",
       "      <td>43</td>\n",
       "      <td>236</td>\n",
       "      <td>0</td>\n",
       "      <td>147</td>\n",
       "      <td>0</td>\n",
       "      <td>20</td>\n",
       "      <td>3</td>\n",
       "      <td>2</td>\n",
       "      <td>0</td>\n",
       "    </tr>\n",
       "    <tr>\n",
       "      <th>2</th>\n",
       "      <td>2020-03-20</td>\n",
       "      <td>MECKLENBURG_VORPOMMERN</td>\n",
       "      <td>10</td>\n",
       "      <td>1</td>\n",
       "      <td>8</td>\n",
       "      <td>85</td>\n",
       "      <td>0</td>\n",
       "      <td>59</td>\n",
       "      <td>0</td>\n",
       "      <td>8</td>\n",
       "      <td>1</td>\n",
       "      <td>1</td>\n",
       "      <td>0</td>\n",
       "    </tr>\n",
       "    <tr>\n",
       "      <th>3</th>\n",
       "      <td>2020-03-20</td>\n",
       "      <td>SACHSEN</td>\n",
       "      <td>20</td>\n",
       "      <td>3</td>\n",
       "      <td>44</td>\n",
       "      <td>272</td>\n",
       "      <td>0</td>\n",
       "      <td>215</td>\n",
       "      <td>0</td>\n",
       "      <td>16</td>\n",
       "      <td>2</td>\n",
       "      <td>2</td>\n",
       "      <td>0</td>\n",
       "    </tr>\n",
       "    <tr>\n",
       "      <th>4</th>\n",
       "      <td>2020-03-20</td>\n",
       "      <td>HESSEN</td>\n",
       "      <td>19</td>\n",
       "      <td>7</td>\n",
       "      <td>18</td>\n",
       "      <td>185</td>\n",
       "      <td>0</td>\n",
       "      <td>120</td>\n",
       "      <td>0</td>\n",
       "      <td>16</td>\n",
       "      <td>3</td>\n",
       "      <td>0</td>\n",
       "      <td>0</td>\n",
       "    </tr>\n",
       "  </tbody>\n",
       "</table>\n",
       "</div>"
      ],
      "text/plain": [
       "        Datum              Bundesland  Anzahl_Meldebereiche_Erwachsene  \\\n",
       "0  2020-03-20         RHEINLAND_PFALZ                               15   \n",
       "1  2020-03-20           NIEDERSACHSEN                               25   \n",
       "2  2020-03-20  MECKLENBURG_VORPOMMERN                               10   \n",
       "3  2020-03-20                 SACHSEN                               20   \n",
       "4  2020-03-20                  HESSEN                               19   \n",
       "\n",
       "   Aktuelle_COVID_Faelle_Erwachsene_ITS  Belegte_Intensivbetten_Erwachsene  \\\n",
       "0                                    14                                 48   \n",
       "1                                    17                                 43   \n",
       "2                                     1                                  8   \n",
       "3                                     3                                 44   \n",
       "4                                     7                                 18   \n",
       "\n",
       "   Freie_Intensivbetten_Erwachsene  7_Tage_Notfallreserve_Erwachsene  \\\n",
       "0                              112                                 0   \n",
       "1                              236                                 0   \n",
       "2                               85                                 0   \n",
       "3                              272                                 0   \n",
       "4                              185                                 0   \n",
       "\n",
       "   Freie_IV_Kapazitaeten_Gesamt  Freie_IV_Kapazitaeten_Davon_COVID  \\\n",
       "0                            62                                  0   \n",
       "1                           147                                  0   \n",
       "2                            59                                  0   \n",
       "3                           215                                  0   \n",
       "4                           120                                  0   \n",
       "\n",
       "   Betriebssituation_Regulaerer_Betrieb  \\\n",
       "0                                    10   \n",
       "1                                    20   \n",
       "2                                     8   \n",
       "3                                    16   \n",
       "4                                    16   \n",
       "\n",
       "   Betriebssituation_Teilweise_Eingeschraenkt  \\\n",
       "0                                           3   \n",
       "1                                           3   \n",
       "2                                           1   \n",
       "3                                           2   \n",
       "4                                           3   \n",
       "\n",
       "   Betriebssituation_Eingeschraenkt  Betriebssituation_Keine_Angabe  \n",
       "0                                 2                               0  \n",
       "1                                 2                               0  \n",
       "2                                 1                               0  \n",
       "3                                 2                               0  \n",
       "4                                 0                               0  "
      ]
     },
     "execution_count": 9,
     "metadata": {},
     "output_type": "execute_result"
    }
   ],
   "source": [
    "timeline_df[\"Datum\"] = timeline_df[\"Datum\"].str[:10]\n",
    "timeline_df.head()"
   ]
  },
  {
   "cell_type": "code",
   "execution_count": 10,
   "metadata": {},
   "outputs": [],
   "source": [
    "timeline_df.iloc[ : , [0]] = timeline_df.iloc[ : , [0]].apply(pd.to_datetime)"
   ]
  },
  {
   "cell_type": "code",
   "execution_count": 11,
   "metadata": {},
   "outputs": [
    {
     "name": "stdout",
     "output_type": "stream",
     "text": [
      "<class 'pandas.core.frame.DataFrame'>\n",
      "RangeIndex: 9231 entries, 0 to 9230\n",
      "Data columns (total 13 columns):\n",
      " #   Column                                      Non-Null Count  Dtype         \n",
      "---  ------                                      --------------  -----         \n",
      " 0   Datum                                       9231 non-null   datetime64[ns]\n",
      " 1   Bundesland                                  9231 non-null   object        \n",
      " 2   Anzahl_Meldebereiche_Erwachsene             9231 non-null   int64         \n",
      " 3   Aktuelle_COVID_Faelle_Erwachsene_ITS        9231 non-null   int64         \n",
      " 4   Belegte_Intensivbetten_Erwachsene           9231 non-null   int64         \n",
      " 5   Freie_Intensivbetten_Erwachsene             9231 non-null   int64         \n",
      " 6   7_Tage_Notfallreserve_Erwachsene            9231 non-null   int64         \n",
      " 7   Freie_IV_Kapazitaeten_Gesamt                9231 non-null   int64         \n",
      " 8   Freie_IV_Kapazitaeten_Davon_COVID           9231 non-null   int64         \n",
      " 9   Betriebssituation_Regulaerer_Betrieb        9231 non-null   int64         \n",
      " 10  Betriebssituation_Teilweise_Eingeschraenkt  9231 non-null   int64         \n",
      " 11  Betriebssituation_Eingeschraenkt            9231 non-null   int64         \n",
      " 12  Betriebssituation_Keine_Angabe              9231 non-null   int64         \n",
      "dtypes: datetime64[ns](1), int64(11), object(1)\n",
      "memory usage: 937.6+ KB\n"
     ]
    }
   ],
   "source": [
    "timeline_df.info()"
   ]
  },
  {
   "cell_type": "code",
   "execution_count": 12,
   "metadata": {},
   "outputs": [
    {
     "data": {
      "text/html": [
       "<div>\n",
       "<style scoped>\n",
       "    .dataframe tbody tr th:only-of-type {\n",
       "        vertical-align: middle;\n",
       "    }\n",
       "\n",
       "    .dataframe tbody tr th {\n",
       "        vertical-align: top;\n",
       "    }\n",
       "\n",
       "    .dataframe thead th {\n",
       "        text-align: right;\n",
       "    }\n",
       "</style>\n",
       "<table border=\"1\" class=\"dataframe\">\n",
       "  <thead>\n",
       "    <tr style=\"text-align: right;\">\n",
       "      <th></th>\n",
       "      <th>Datum</th>\n",
       "      <th>Bundesland</th>\n",
       "      <th>Anzahl_Meldebereiche_Erwachsene</th>\n",
       "      <th>Aktuelle_COVID_Faelle_Erwachsene_ITS</th>\n",
       "      <th>Belegte_Intensivbetten_Erwachsene</th>\n",
       "      <th>Freie_Intensivbetten_Erwachsene</th>\n",
       "      <th>7_Tage_Notfallreserve_Erwachsene</th>\n",
       "      <th>Freie_IV_Kapazitaeten_Gesamt</th>\n",
       "      <th>Freie_IV_Kapazitaeten_Davon_COVID</th>\n",
       "      <th>Betriebssituation_Regulaerer_Betrieb</th>\n",
       "      <th>Betriebssituation_Teilweise_Eingeschraenkt</th>\n",
       "      <th>Betriebssituation_Eingeschraenkt</th>\n",
       "      <th>Betriebssituation_Keine_Angabe</th>\n",
       "    </tr>\n",
       "  </thead>\n",
       "  <tbody>\n",
       "    <tr>\n",
       "      <th>9196</th>\n",
       "      <td>2021-09-11</td>\n",
       "      <td>DEUTSCHLAND</td>\n",
       "      <td>1314</td>\n",
       "      <td>1423</td>\n",
       "      <td>19179</td>\n",
       "      <td>3212</td>\n",
       "      <td>10406</td>\n",
       "      <td>2770</td>\n",
       "      <td>1135</td>\n",
       "      <td>524</td>\n",
       "      <td>240</td>\n",
       "      <td>404</td>\n",
       "      <td>146</td>\n",
       "    </tr>\n",
       "    <tr>\n",
       "      <th>9213</th>\n",
       "      <td>2021-09-12</td>\n",
       "      <td>DEUTSCHLAND</td>\n",
       "      <td>1314</td>\n",
       "      <td>1441</td>\n",
       "      <td>18863</td>\n",
       "      <td>3452</td>\n",
       "      <td>10416</td>\n",
       "      <td>2899</td>\n",
       "      <td>1189</td>\n",
       "      <td>525</td>\n",
       "      <td>237</td>\n",
       "      <td>409</td>\n",
       "      <td>143</td>\n",
       "    </tr>\n",
       "    <tr>\n",
       "      <th>9230</th>\n",
       "      <td>2021-09-13</td>\n",
       "      <td>DEUTSCHLAND</td>\n",
       "      <td>1315</td>\n",
       "      <td>1491</td>\n",
       "      <td>19002</td>\n",
       "      <td>3561</td>\n",
       "      <td>10358</td>\n",
       "      <td>3078</td>\n",
       "      <td>1194</td>\n",
       "      <td>528</td>\n",
       "      <td>236</td>\n",
       "      <td>404</td>\n",
       "      <td>147</td>\n",
       "    </tr>\n",
       "  </tbody>\n",
       "</table>\n",
       "</div>"
      ],
      "text/plain": [
       "          Datum   Bundesland  Anzahl_Meldebereiche_Erwachsene  \\\n",
       "9196 2021-09-11  DEUTSCHLAND                             1314   \n",
       "9213 2021-09-12  DEUTSCHLAND                             1314   \n",
       "9230 2021-09-13  DEUTSCHLAND                             1315   \n",
       "\n",
       "      Aktuelle_COVID_Faelle_Erwachsene_ITS  Belegte_Intensivbetten_Erwachsene  \\\n",
       "9196                                  1423                              19179   \n",
       "9213                                  1441                              18863   \n",
       "9230                                  1491                              19002   \n",
       "\n",
       "      Freie_Intensivbetten_Erwachsene  7_Tage_Notfallreserve_Erwachsene  \\\n",
       "9196                             3212                             10406   \n",
       "9213                             3452                             10416   \n",
       "9230                             3561                             10358   \n",
       "\n",
       "      Freie_IV_Kapazitaeten_Gesamt  Freie_IV_Kapazitaeten_Davon_COVID  \\\n",
       "9196                          2770                               1135   \n",
       "9213                          2899                               1189   \n",
       "9230                          3078                               1194   \n",
       "\n",
       "      Betriebssituation_Regulaerer_Betrieb  \\\n",
       "9196                                   524   \n",
       "9213                                   525   \n",
       "9230                                   528   \n",
       "\n",
       "      Betriebssituation_Teilweise_Eingeschraenkt  \\\n",
       "9196                                         240   \n",
       "9213                                         237   \n",
       "9230                                         236   \n",
       "\n",
       "      Betriebssituation_Eingeschraenkt  Betriebssituation_Keine_Angabe  \n",
       "9196                               404                             146  \n",
       "9213                               409                             143  \n",
       "9230                               404                             147  "
      ]
     },
     "execution_count": 12,
     "metadata": {},
     "output_type": "execute_result"
    }
   ],
   "source": [
    "federal_level = timeline_df[timeline_df.Bundesland=='DEUTSCHLAND']\n",
    "federal_level.tail(3)"
   ]
  },
  {
   "cell_type": "markdown",
   "metadata": {},
   "source": [
    "## Used Beds (Adults)"
   ]
  },
  {
   "cell_type": "code",
   "execution_count": 13,
   "metadata": {},
   "outputs": [
    {
     "name": "stdout",
     "output_type": "stream",
     "text": [
      "<class 'pandas.core.frame.DataFrame'>\n",
      "Int64Index: 543 entries, 16 to 9230\n",
      "Data columns (total 2 columns):\n",
      " #   Column                    Non-Null Count  Dtype         \n",
      "---  ------                    --------------  -----         \n",
      " 0   date                      543 non-null    datetime64[ns]\n",
      " 1   ICU beds in use (adults)  543 non-null    int64         \n",
      "dtypes: datetime64[ns](1), int64(1)\n",
      "memory usage: 12.7 KB\n"
     ]
    }
   ],
   "source": [
    "used_beds = federal_level.loc[ : , ['Datum', 'Belegte_Intensivbetten_Erwachsene']]\n",
    "used_beds.columns = ['date', 'ICU beds in use (adults)']\n",
    "used_beds.info()"
   ]
  },
  {
   "cell_type": "code",
   "execution_count": 14,
   "metadata": {},
   "outputs": [],
   "source": [
    "used_beds.set_index('date', inplace=True)"
   ]
  },
  {
   "cell_type": "code",
   "execution_count": 15,
   "metadata": {},
   "outputs": [
    {
     "data": {
      "text/plain": [
       "<AxesSubplot:xlabel='date'>"
      ]
     },
     "execution_count": 15,
     "metadata": {},
     "output_type": "execute_result"
    },
    {
     "data": {
      "image/png": "[encoded data removed]",
      "text/plain": [
       "<Figure size 432x288 with 1 Axes>"
      ]
     },
     "metadata": {},
     "output_type": "display_data"
    }
   ],
   "source": [
    "used_beds.plot()"
   ]
  },
  {
   "cell_type": "markdown",
   "metadata": {},
   "source": [
    "## Covid-19 patients in ICU"
   ]
  },
  {
   "cell_type": "code",
   "execution_count": 16,
   "metadata": {},
   "outputs": [],
   "source": [
    "icu = federal_level.loc[ : , ['Datum', 'Aktuelle_COVID_Faelle_Erwachsene_ITS']]"
   ]
  },
  {
   "cell_type": "code",
   "execution_count": 17,
   "metadata": {},
   "outputs": [
    {
     "name": "stdout",
     "output_type": "stream",
     "text": [
      "<class 'pandas.core.frame.DataFrame'>\n",
      "DatetimeIndex: 543 entries, 2020-03-20 to 2021-09-13\n",
      "Data columns (total 1 columns):\n",
      " #   Column                 Non-Null Count  Dtype\n",
      "---  ------                 --------------  -----\n",
      " 0   Covid-19 cases in ICU  543 non-null    int64\n",
      "dtypes: int64(1)\n",
      "memory usage: 8.5 KB\n"
     ]
    }
   ],
   "source": [
    "icu.columns = ['date', 'Covid-19 cases in ICU']\n",
    "icu.set_index('date', inplace=True)\n",
    "icu.info()"
   ]
  },
  {
   "cell_type": "code",
   "execution_count": 18,
   "metadata": {},
   "outputs": [
    {
     "data": {
      "image/png": "[encoded data removed]",
      "text/plain": [
       "<Figure size 432x288 with 1 Axes>"
      ]
     },
     "metadata": {},
     "output_type": "display_data"
    }
   ],
   "source": [
    "icu_cases = icu.plot(\n",
    "    title='Patients with Covid-19 in German ICUs\\n(Data Source: DIVI-Intensivregister)',\n",
    "xlabel='Date',\n",
    "ylabel='Number of Patients')"
   ]
  },
  {
   "cell_type": "code",
   "execution_count": 19,
   "metadata": {},
   "outputs": [],
   "source": [
    "fig = icu_cases.get_figure()\n",
    "fig.savefig('img/covid-19-patients-in-icu-germany.png')"
   ]
  },
  {
   "cell_type": "markdown",
   "metadata": {},
   "source": [
    "### Situation in North Rhine-Westphalia\n",
    "\n",
    "NRW ist the state in Germany with the highest number of inhabitants."
   ]
  },
  {
   "cell_type": "code",
   "execution_count": 20,
   "metadata": {},
   "outputs": [
    {
     "data": {
      "text/html": [
       "<div>\n",
       "<style scoped>\n",
       "    .dataframe tbody tr th:only-of-type {\n",
       "        vertical-align: middle;\n",
       "    }\n",
       "\n",
       "    .dataframe tbody tr th {\n",
       "        vertical-align: top;\n",
       "    }\n",
       "\n",
       "    .dataframe thead th {\n",
       "        text-align: right;\n",
       "    }\n",
       "</style>\n",
       "<table border=\"1\" class=\"dataframe\">\n",
       "  <thead>\n",
       "    <tr style=\"text-align: right;\">\n",
       "      <th></th>\n",
       "      <th>Datum</th>\n",
       "      <th>Bundesland</th>\n",
       "      <th>Anzahl_Meldebereiche_Erwachsene</th>\n",
       "      <th>Aktuelle_COVID_Faelle_Erwachsene_ITS</th>\n",
       "      <th>Belegte_Intensivbetten_Erwachsene</th>\n",
       "      <th>Freie_Intensivbetten_Erwachsene</th>\n",
       "      <th>7_Tage_Notfallreserve_Erwachsene</th>\n",
       "      <th>Freie_IV_Kapazitaeten_Gesamt</th>\n",
       "      <th>Freie_IV_Kapazitaeten_Davon_COVID</th>\n",
       "      <th>Betriebssituation_Regulaerer_Betrieb</th>\n",
       "      <th>Betriebssituation_Teilweise_Eingeschraenkt</th>\n",
       "      <th>Betriebssituation_Eingeschraenkt</th>\n",
       "      <th>Betriebssituation_Keine_Angabe</th>\n",
       "    </tr>\n",
       "  </thead>\n",
       "  <tbody>\n",
       "    <tr>\n",
       "      <th>9204</th>\n",
       "      <td>2021-09-12</td>\n",
       "      <td>NORDRHEIN_WESTFALEN</td>\n",
       "      <td>314</td>\n",
       "      <td>417</td>\n",
       "      <td>4626</td>\n",
       "      <td>706</td>\n",
       "      <td>2414</td>\n",
       "      <td>554</td>\n",
       "      <td>287</td>\n",
       "      <td>126</td>\n",
       "      <td>67</td>\n",
       "      <td>99</td>\n",
       "      <td>22</td>\n",
       "    </tr>\n",
       "    <tr>\n",
       "      <th>9221</th>\n",
       "      <td>2021-09-13</td>\n",
       "      <td>NORDRHEIN_WESTFALEN</td>\n",
       "      <td>314</td>\n",
       "      <td>422</td>\n",
       "      <td>4672</td>\n",
       "      <td>728</td>\n",
       "      <td>2398</td>\n",
       "      <td>572</td>\n",
       "      <td>276</td>\n",
       "      <td>132</td>\n",
       "      <td>65</td>\n",
       "      <td>96</td>\n",
       "      <td>21</td>\n",
       "    </tr>\n",
       "  </tbody>\n",
       "</table>\n",
       "</div>"
      ],
      "text/plain": [
       "          Datum           Bundesland  Anzahl_Meldebereiche_Erwachsene  \\\n",
       "9204 2021-09-12  NORDRHEIN_WESTFALEN                              314   \n",
       "9221 2021-09-13  NORDRHEIN_WESTFALEN                              314   \n",
       "\n",
       "      Aktuelle_COVID_Faelle_Erwachsene_ITS  Belegte_Intensivbetten_Erwachsene  \\\n",
       "9204                                   417                               4626   \n",
       "9221                                   422                               4672   \n",
       "\n",
       "      Freie_Intensivbetten_Erwachsene  7_Tage_Notfallreserve_Erwachsene  \\\n",
       "9204                              706                              2414   \n",
       "9221                              728                              2398   \n",
       "\n",
       "      Freie_IV_Kapazitaeten_Gesamt  Freie_IV_Kapazitaeten_Davon_COVID  \\\n",
       "9204                           554                                287   \n",
       "9221                           572                                276   \n",
       "\n",
       "      Betriebssituation_Regulaerer_Betrieb  \\\n",
       "9204                                   126   \n",
       "9221                                   132   \n",
       "\n",
       "      Betriebssituation_Teilweise_Eingeschraenkt  \\\n",
       "9204                                          67   \n",
       "9221                                          65   \n",
       "\n",
       "      Betriebssituation_Eingeschraenkt  Betriebssituation_Keine_Angabe  \n",
       "9204                                99                              22  \n",
       "9221                                96                              21  "
      ]
     },
     "execution_count": 20,
     "metadata": {},
     "output_type": "execute_result"
    }
   ],
   "source": [
    "nrw = timeline_df[timeline_df.Bundesland=='NORDRHEIN_WESTFALEN']\n",
    "nrw.tail(2)"
   ]
  },
  {
   "cell_type": "code",
   "execution_count": 21,
   "metadata": {},
   "outputs": [
    {
     "name": "stdout",
     "output_type": "stream",
     "text": [
      "<class 'pandas.core.frame.DataFrame'>\n",
      "DatetimeIndex: 543 entries, 2020-03-20 to 2021-09-13\n",
      "Data columns (total 1 columns):\n",
      " #   Column                 Non-Null Count  Dtype\n",
      "---  ------                 --------------  -----\n",
      " 0   Covid-19 cases in ICU  543 non-null    int64\n",
      "dtypes: int64(1)\n",
      "memory usage: 8.5 KB\n"
     ]
    }
   ],
   "source": [
    "icu_nrw = nrw.loc[ : , ['Datum', 'Aktuelle_COVID_Faelle_Erwachsene_ITS']]\n",
    "icu_nrw.columns = ['date', 'Covid-19 cases in ICU']\n",
    "icu_nrw.set_index('date', inplace=True)\n",
    "icu_nrw.info()"
   ]
  },
  {
   "cell_type": "code",
   "execution_count": 22,
   "metadata": {},
   "outputs": [
    {
     "data": {
      "image/png": "[encoded data removed]",
      "text/plain": [
       "<Figure size 432x288 with 1 Axes>"
      ]
     },
     "metadata": {},
     "output_type": "display_data"
    }
   ],
   "source": [
    "icu_cases_nrw = icu_nrw.plot(\n",
    "    title='Patients with Covid-19 in ICUs in North Rhine-Westphalia\\n(Data Source: DIVI-Intensivregister)',\n",
    "xlabel='Date',\n",
    "ylabel='Number of Patients')"
   ]
  },
  {
   "cell_type": "markdown",
   "metadata": {},
   "source": [
    "### Situation in Rhineland-Palatinate"
   ]
  },
  {
   "cell_type": "code",
   "execution_count": 23,
   "metadata": {},
   "outputs": [
    {
     "data": {
      "text/html": [
       "<div>\n",
       "<style scoped>\n",
       "    .dataframe tbody tr th:only-of-type {\n",
       "        vertical-align: middle;\n",
       "    }\n",
       "\n",
       "    .dataframe tbody tr th {\n",
       "        vertical-align: top;\n",
       "    }\n",
       "\n",
       "    .dataframe thead th {\n",
       "        text-align: right;\n",
       "    }\n",
       "</style>\n",
       "<table border=\"1\" class=\"dataframe\">\n",
       "  <thead>\n",
       "    <tr style=\"text-align: right;\">\n",
       "      <th></th>\n",
       "      <th>Datum</th>\n",
       "      <th>Bundesland</th>\n",
       "      <th>Anzahl_Meldebereiche_Erwachsene</th>\n",
       "      <th>Aktuelle_COVID_Faelle_Erwachsene_ITS</th>\n",
       "      <th>Belegte_Intensivbetten_Erwachsene</th>\n",
       "      <th>Freie_Intensivbetten_Erwachsene</th>\n",
       "      <th>7_Tage_Notfallreserve_Erwachsene</th>\n",
       "      <th>Freie_IV_Kapazitaeten_Gesamt</th>\n",
       "      <th>Freie_IV_Kapazitaeten_Davon_COVID</th>\n",
       "      <th>Betriebssituation_Regulaerer_Betrieb</th>\n",
       "      <th>Betriebssituation_Teilweise_Eingeschraenkt</th>\n",
       "      <th>Betriebssituation_Eingeschraenkt</th>\n",
       "      <th>Betriebssituation_Keine_Angabe</th>\n",
       "    </tr>\n",
       "  </thead>\n",
       "  <tbody>\n",
       "    <tr>\n",
       "      <th>9197</th>\n",
       "      <td>2021-09-12</td>\n",
       "      <td>RHEINLAND_PFALZ</td>\n",
       "      <td>77</td>\n",
       "      <td>82</td>\n",
       "      <td>801</td>\n",
       "      <td>194</td>\n",
       "      <td>428</td>\n",
       "      <td>154</td>\n",
       "      <td>66</td>\n",
       "      <td>31</td>\n",
       "      <td>15</td>\n",
       "      <td>25</td>\n",
       "      <td>6</td>\n",
       "    </tr>\n",
       "    <tr>\n",
       "      <th>9214</th>\n",
       "      <td>2021-09-13</td>\n",
       "      <td>RHEINLAND_PFALZ</td>\n",
       "      <td>77</td>\n",
       "      <td>83</td>\n",
       "      <td>782</td>\n",
       "      <td>230</td>\n",
       "      <td>424</td>\n",
       "      <td>176</td>\n",
       "      <td>74</td>\n",
       "      <td>28</td>\n",
       "      <td>20</td>\n",
       "      <td>23</td>\n",
       "      <td>6</td>\n",
       "    </tr>\n",
       "  </tbody>\n",
       "</table>\n",
       "</div>"
      ],
      "text/plain": [
       "          Datum       Bundesland  Anzahl_Meldebereiche_Erwachsene  \\\n",
       "9197 2021-09-12  RHEINLAND_PFALZ                               77   \n",
       "9214 2021-09-13  RHEINLAND_PFALZ                               77   \n",
       "\n",
       "      Aktuelle_COVID_Faelle_Erwachsene_ITS  Belegte_Intensivbetten_Erwachsene  \\\n",
       "9197                                    82                                801   \n",
       "9214                                    83                                782   \n",
       "\n",
       "      Freie_Intensivbetten_Erwachsene  7_Tage_Notfallreserve_Erwachsene  \\\n",
       "9197                              194                               428   \n",
       "9214                              230                               424   \n",
       "\n",
       "      Freie_IV_Kapazitaeten_Gesamt  Freie_IV_Kapazitaeten_Davon_COVID  \\\n",
       "9197                           154                                 66   \n",
       "9214                           176                                 74   \n",
       "\n",
       "      Betriebssituation_Regulaerer_Betrieb  \\\n",
       "9197                                    31   \n",
       "9214                                    28   \n",
       "\n",
       "      Betriebssituation_Teilweise_Eingeschraenkt  \\\n",
       "9197                                          15   \n",
       "9214                                          20   \n",
       "\n",
       "      Betriebssituation_Eingeschraenkt  Betriebssituation_Keine_Angabe  \n",
       "9197                                25                               6  \n",
       "9214                                23                               6  "
      ]
     },
     "execution_count": 23,
     "metadata": {},
     "output_type": "execute_result"
    }
   ],
   "source": [
    "rlp = timeline_df[timeline_df.Bundesland=='RHEINLAND_PFALZ']\n",
    "rlp.tail(2)"
   ]
  },
  {
   "cell_type": "code",
   "execution_count": 24,
   "metadata": {},
   "outputs": [
    {
     "name": "stdout",
     "output_type": "stream",
     "text": [
      "<class 'pandas.core.frame.DataFrame'>\n",
      "DatetimeIndex: 543 entries, 2020-03-20 to 2021-09-13\n",
      "Data columns (total 1 columns):\n",
      " #   Column                 Non-Null Count  Dtype\n",
      "---  ------                 --------------  -----\n",
      " 0   Covid-19 cases in ICU  543 non-null    int64\n",
      "dtypes: int64(1)\n",
      "memory usage: 8.5 KB\n"
     ]
    }
   ],
   "source": [
    "icu_rlp = rlp.loc[ : , ['Datum', 'Aktuelle_COVID_Faelle_Erwachsene_ITS']]\n",
    "icu_rlp.columns = ['date', 'Covid-19 cases in ICU']\n",
    "icu_rlp.set_index('date', inplace=True)\n",
    "icu_rlp.info()"
   ]
  },
  {
   "cell_type": "code",
   "execution_count": 25,
   "metadata": {},
   "outputs": [
    {
     "data": {
      "image/png": "[encoded data removed]",
      "text/plain": [
       "<Figure size 432x288 with 1 Axes>"
      ]
     },
     "metadata": {},
     "output_type": "display_data"
    }
   ],
   "source": [
    "icu_cases_rlp = icu_rlp.plot(\n",
    "    title='Patients with Covid-19 in ICUs in Rhineland-Palatinate\\n(Data Source: DIVI-Intensivregister)',\n",
    "xlabel='Date',\n",
    "ylabel='Number of Patients')"
   ]
  },
  {
   "cell_type": "markdown",
   "metadata": {},
   "source": [
    "### Situation in Saxony\n",
    "\n",
    "Saxonia had high case numbers during the pandemic."
   ]
  },
  {
   "cell_type": "code",
   "execution_count": 26,
   "metadata": {},
   "outputs": [
    {
     "data": {
      "text/html": [
       "<div>\n",
       "<style scoped>\n",
       "    .dataframe tbody tr th:only-of-type {\n",
       "        vertical-align: middle;\n",
       "    }\n",
       "\n",
       "    .dataframe tbody tr th {\n",
       "        vertical-align: top;\n",
       "    }\n",
       "\n",
       "    .dataframe thead th {\n",
       "        text-align: right;\n",
       "    }\n",
       "</style>\n",
       "<table border=\"1\" class=\"dataframe\">\n",
       "  <thead>\n",
       "    <tr style=\"text-align: right;\">\n",
       "      <th></th>\n",
       "      <th>Datum</th>\n",
       "      <th>Bundesland</th>\n",
       "      <th>Anzahl_Meldebereiche_Erwachsene</th>\n",
       "      <th>Aktuelle_COVID_Faelle_Erwachsene_ITS</th>\n",
       "      <th>Belegte_Intensivbetten_Erwachsene</th>\n",
       "      <th>Freie_Intensivbetten_Erwachsene</th>\n",
       "      <th>7_Tage_Notfallreserve_Erwachsene</th>\n",
       "      <th>Freie_IV_Kapazitaeten_Gesamt</th>\n",
       "      <th>Freie_IV_Kapazitaeten_Davon_COVID</th>\n",
       "      <th>Betriebssituation_Regulaerer_Betrieb</th>\n",
       "      <th>Betriebssituation_Teilweise_Eingeschraenkt</th>\n",
       "      <th>Betriebssituation_Eingeschraenkt</th>\n",
       "      <th>Betriebssituation_Keine_Angabe</th>\n",
       "    </tr>\n",
       "  </thead>\n",
       "  <tbody>\n",
       "    <tr>\n",
       "      <th>9200</th>\n",
       "      <td>2021-09-12</td>\n",
       "      <td>SACHSEN</td>\n",
       "      <td>79</td>\n",
       "      <td>34</td>\n",
       "      <td>1211</td>\n",
       "      <td>256</td>\n",
       "      <td>630</td>\n",
       "      <td>268</td>\n",
       "      <td>92</td>\n",
       "      <td>47</td>\n",
       "      <td>10</td>\n",
       "      <td>12</td>\n",
       "      <td>10</td>\n",
       "    </tr>\n",
       "    <tr>\n",
       "      <th>9217</th>\n",
       "      <td>2021-09-13</td>\n",
       "      <td>SACHSEN</td>\n",
       "      <td>79</td>\n",
       "      <td>36</td>\n",
       "      <td>1227</td>\n",
       "      <td>251</td>\n",
       "      <td>619</td>\n",
       "      <td>294</td>\n",
       "      <td>93</td>\n",
       "      <td>49</td>\n",
       "      <td>8</td>\n",
       "      <td>12</td>\n",
       "      <td>10</td>\n",
       "    </tr>\n",
       "  </tbody>\n",
       "</table>\n",
       "</div>"
      ],
      "text/plain": [
       "          Datum Bundesland  Anzahl_Meldebereiche_Erwachsene  \\\n",
       "9200 2021-09-12    SACHSEN                               79   \n",
       "9217 2021-09-13    SACHSEN                               79   \n",
       "\n",
       "      Aktuelle_COVID_Faelle_Erwachsene_ITS  Belegte_Intensivbetten_Erwachsene  \\\n",
       "9200                                    34                               1211   \n",
       "9217                                    36                               1227   \n",
       "\n",
       "      Freie_Intensivbetten_Erwachsene  7_Tage_Notfallreserve_Erwachsene  \\\n",
       "9200                              256                               630   \n",
       "9217                              251                               619   \n",
       "\n",
       "      Freie_IV_Kapazitaeten_Gesamt  Freie_IV_Kapazitaeten_Davon_COVID  \\\n",
       "9200                           268                                 92   \n",
       "9217                           294                                 93   \n",
       "\n",
       "      Betriebssituation_Regulaerer_Betrieb  \\\n",
       "9200                                    47   \n",
       "9217                                    49   \n",
       "\n",
       "      Betriebssituation_Teilweise_Eingeschraenkt  \\\n",
       "9200                                          10   \n",
       "9217                                           8   \n",
       "\n",
       "      Betriebssituation_Eingeschraenkt  Betriebssituation_Keine_Angabe  \n",
       "9200                                12                              10  \n",
       "9217                                12                              10  "
      ]
     },
     "execution_count": 26,
     "metadata": {},
     "output_type": "execute_result"
    }
   ],
   "source": [
    "saxonia = timeline_df[timeline_df.Bundesland=='SACHSEN']\n",
    "saxonia.tail(2)"
   ]
  },
  {
   "cell_type": "code",
   "execution_count": 27,
   "metadata": {},
   "outputs": [
    {
     "name": "stdout",
     "output_type": "stream",
     "text": [
      "<class 'pandas.core.frame.DataFrame'>\n",
      "DatetimeIndex: 543 entries, 2020-03-20 to 2021-09-13\n",
      "Data columns (total 1 columns):\n",
      " #   Column                 Non-Null Count  Dtype\n",
      "---  ------                 --------------  -----\n",
      " 0   Covid-19 cases in ICU  543 non-null    int64\n",
      "dtypes: int64(1)\n",
      "memory usage: 8.5 KB\n"
     ]
    }
   ],
   "source": [
    "icu_saxonia = saxonia.loc[ : , ['Datum', 'Aktuelle_COVID_Faelle_Erwachsene_ITS']]\n",
    "icu_saxonia.columns = ['date', 'Covid-19 cases in ICU']\n",
    "icu_saxonia.set_index('date', inplace=True)\n",
    "icu_saxonia.info()"
   ]
  },
  {
   "cell_type": "code",
   "execution_count": 28,
   "metadata": {},
   "outputs": [
    {
     "data": {
      "image/png": "[encoded data removed]",
      "text/plain": [
       "<Figure size 432x288 with 1 Axes>"
      ]
     },
     "metadata": {},
     "output_type": "display_data"
    }
   ],
   "source": [
    "icu_cases_saxonia = icu_saxonia.plot(\n",
    "    title='Patients with Covid-19 in ICUs in Saxonia\\n(Data Source: DIVI-Intensivregister)',\n",
    "xlabel='Date',\n",
    "ylabel='Number of Patients')"
   ]
  }
 ],
 "metadata": {
  "kernelspec": {
   "display_name": "Python 3",
   "language": "python",
   "name": "python3"
  },
  "language_info": {
   "codemirror_mode": {
    "name": "ipython",
    "version": 3
   },
   "file_extension": ".py",
   "mimetype": "text/x-python",
   "name": "python",
   "nbconvert_exporter": "python",
   "pygments_lexer": "ipython3",
   "version": "3.8.10"
  }
 },
 "nbformat": 4,
 "nbformat_minor": 4
}

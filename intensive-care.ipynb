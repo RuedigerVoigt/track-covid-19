{
 "cells": [
  {
   "cell_type": "markdown",
   "metadata": {},
   "source": [
    "# Intensive Care in Germany"
   ]
  },
  {
   "cell_type": "markdown",
   "metadata": {},
   "source": [
    "## Data Source\n",
    "\n",
    "[DIVI-Intensivregister](https://www.intensivregister.de/) monitors the ICU capacities of 1,300 hospitals in Germany."
   ]
  },
  {
   "cell_type": "markdown",
   "metadata": {},
   "source": [
    "## Setup"
   ]
  },
  {
   "cell_type": "code",
   "execution_count": 57,
   "metadata": {},
   "outputs": [],
   "source": [
    "# standard library\n",
    "import datetime\n",
    "import math"
   ]
  },
  {
   "cell_type": "code",
   "execution_count": 58,
   "metadata": {},
   "outputs": [],
   "source": [
    "# third party\n",
    "import numpy as np\n",
    "import pandas as pd\n",
    "import matplotlib.pyplot as plt\n",
    "import requests"
   ]
  },
  {
   "cell_type": "markdown",
   "metadata": {},
   "source": [
    "## Date this Notebook was run"
   ]
  },
  {
   "cell_type": "code",
   "execution_count": 59,
   "metadata": {},
   "outputs": [
    {
     "data": {
      "text/plain": [
       "'2021-08-21'"
      ]
     },
     "execution_count": 59,
     "metadata": {},
     "output_type": "execute_result"
    }
   ],
   "source": [
    "today = datetime.datetime.today().strftime('%Y-%m-%d')\n",
    "today"
   ]
  },
  {
   "cell_type": "code",
   "execution_count": 60,
   "metadata": {},
   "outputs": [],
   "source": [
    "# style like ggplot in R\n",
    "plt.style.use('ggplot')"
   ]
  },
  {
   "cell_type": "code",
   "execution_count": 61,
   "metadata": {},
   "outputs": [],
   "source": [
    "# Avoid cutting off part of the axis labels, see:\n",
    "# https://stackoverflow.com/questions/6774086/why-is-my-xlabel-cut-off-in-my-matplotlib-plot\n",
    "plt.rcParams.update({'figure.autolayout': True})"
   ]
  },
  {
   "cell_type": "markdown",
   "metadata": {},
   "source": [
    "## Get Data"
   ]
  },
  {
   "cell_type": "code",
   "execution_count": 62,
   "metadata": {},
   "outputs": [],
   "source": [
    "timeline_data = \"https://diviexchange.blob.core.windows.net/%24web/bundesland-zeitreihe.csv\""
   ]
  },
  {
   "cell_type": "code",
   "execution_count": 63,
   "metadata": {},
   "outputs": [],
   "source": [
    "timeline_df = pd.read_csv(timeline_data)"
   ]
  },
  {
   "cell_type": "code",
   "execution_count": 64,
   "metadata": {},
   "outputs": [
    {
     "data": {
      "text/html": [
       "<div>\n",
       "<style scoped>\n",
       "    .dataframe tbody tr th:only-of-type {\n",
       "        vertical-align: middle;\n",
       "    }\n",
       "\n",
       "    .dataframe tbody tr th {\n",
       "        vertical-align: top;\n",
       "    }\n",
       "\n",
       "    .dataframe thead th {\n",
       "        text-align: right;\n",
       "    }\n",
       "</style>\n",
       "<table border=\"1\" class=\"dataframe\">\n",
       "  <thead>\n",
       "    <tr style=\"text-align: right;\">\n",
       "      <th></th>\n",
       "      <th>Datum</th>\n",
       "      <th>Bundesland</th>\n",
       "      <th>Anzahl_Meldebereiche_Erwachsene</th>\n",
       "      <th>Aktuelle_COVID_Faelle_Erwachsene_ITS</th>\n",
       "      <th>Belegte_Intensivbetten_Erwachsene</th>\n",
       "      <th>Freie_Intensivbetten_Erwachsene</th>\n",
       "      <th>7_Tage_Notfallreserve_Erwachsene</th>\n",
       "      <th>Freie_IV_Kapazitaeten_Gesamt</th>\n",
       "      <th>Freie_IV_Kapazitaeten_Davon_COVID</th>\n",
       "      <th>Betriebssituation_Regulaerer_Betrieb</th>\n",
       "      <th>...</th>\n",
       "      <th>Betriebssituation_Eingeschraenkt</th>\n",
       "      <th>Betriebssituation_Keine_Angabe</th>\n",
       "      <th>Stratum_17_Minus</th>\n",
       "      <th>Stratum_18_Bis_29</th>\n",
       "      <th>Stratum_30_Bis_39</th>\n",
       "      <th>Stratum_40_Bis_49</th>\n",
       "      <th>Stratum_50_Bis_59</th>\n",
       "      <th>Stratum_60_Bis_69</th>\n",
       "      <th>Stratum_70_Bis_79</th>\n",
       "      <th>Stratum_80_Plus</th>\n",
       "    </tr>\n",
       "  </thead>\n",
       "  <tbody>\n",
       "    <tr>\n",
       "      <th>8837</th>\n",
       "      <td>2021-08-21T12:15:00+02:00</td>\n",
       "      <td>HAMBURG</td>\n",
       "      <td>24</td>\n",
       "      <td>39</td>\n",
       "      <td>458</td>\n",
       "      <td>82</td>\n",
       "      <td>307</td>\n",
       "      <td>59</td>\n",
       "      <td>28</td>\n",
       "      <td>12</td>\n",
       "      <td>...</td>\n",
       "      <td>4</td>\n",
       "      <td>3</td>\n",
       "      <td>0</td>\n",
       "      <td>0</td>\n",
       "      <td>0</td>\n",
       "      <td>0</td>\n",
       "      <td>0</td>\n",
       "      <td>0</td>\n",
       "      <td>0</td>\n",
       "      <td>0</td>\n",
       "    </tr>\n",
       "    <tr>\n",
       "      <th>8838</th>\n",
       "      <td>2021-08-21T12:15:00+02:00</td>\n",
       "      <td>NIEDERSACHSEN</td>\n",
       "      <td>119</td>\n",
       "      <td>36</td>\n",
       "      <td>1353</td>\n",
       "      <td>337</td>\n",
       "      <td>971</td>\n",
       "      <td>342</td>\n",
       "      <td>134</td>\n",
       "      <td>63</td>\n",
       "      <td>...</td>\n",
       "      <td>33</td>\n",
       "      <td>11</td>\n",
       "      <td>0</td>\n",
       "      <td>0</td>\n",
       "      <td>0</td>\n",
       "      <td>0</td>\n",
       "      <td>0</td>\n",
       "      <td>0</td>\n",
       "      <td>0</td>\n",
       "      <td>0</td>\n",
       "    </tr>\n",
       "    <tr>\n",
       "      <th>8839</th>\n",
       "      <td>2021-08-21T12:15:00+02:00</td>\n",
       "      <td>DEUTSCHLAND</td>\n",
       "      <td>1310</td>\n",
       "      <td>676</td>\n",
       "      <td>18562</td>\n",
       "      <td>3685</td>\n",
       "      <td>10291</td>\n",
       "      <td>3291</td>\n",
       "      <td>1401</td>\n",
       "      <td>595</td>\n",
       "      <td>...</td>\n",
       "      <td>363</td>\n",
       "      <td>142</td>\n",
       "      <td>3</td>\n",
       "      <td>25</td>\n",
       "      <td>57</td>\n",
       "      <td>103</td>\n",
       "      <td>160</td>\n",
       "      <td>161</td>\n",
       "      <td>94</td>\n",
       "      <td>31</td>\n",
       "    </tr>\n",
       "  </tbody>\n",
       "</table>\n",
       "<p>3 rows × 21 columns</p>\n",
       "</div>"
      ],
      "text/plain": [
       "                          Datum     Bundesland  \\\n",
       "8837  2021-08-21T12:15:00+02:00        HAMBURG   \n",
       "8838  2021-08-21T12:15:00+02:00  NIEDERSACHSEN   \n",
       "8839  2021-08-21T12:15:00+02:00    DEUTSCHLAND   \n",
       "\n",
       "      Anzahl_Meldebereiche_Erwachsene  Aktuelle_COVID_Faelle_Erwachsene_ITS  \\\n",
       "8837                               24                                    39   \n",
       "8838                              119                                    36   \n",
       "8839                             1310                                   676   \n",
       "\n",
       "      Belegte_Intensivbetten_Erwachsene  Freie_Intensivbetten_Erwachsene  \\\n",
       "8837                                458                               82   \n",
       "8838                               1353                              337   \n",
       "8839                              18562                             3685   \n",
       "\n",
       "      7_Tage_Notfallreserve_Erwachsene  Freie_IV_Kapazitaeten_Gesamt  \\\n",
       "8837                               307                            59   \n",
       "8838                               971                           342   \n",
       "8839                             10291                          3291   \n",
       "\n",
       "      Freie_IV_Kapazitaeten_Davon_COVID  Betriebssituation_Regulaerer_Betrieb  \\\n",
       "8837                                 28                                    12   \n",
       "8838                                134                                    63   \n",
       "8839                               1401                                   595   \n",
       "\n",
       "      ...  Betriebssituation_Eingeschraenkt  Betriebssituation_Keine_Angabe  \\\n",
       "8837  ...                                 4                               3   \n",
       "8838  ...                                33                              11   \n",
       "8839  ...                               363                             142   \n",
       "\n",
       "      Stratum_17_Minus  Stratum_18_Bis_29  Stratum_30_Bis_39  \\\n",
       "8837                 0                  0                  0   \n",
       "8838                 0                  0                  0   \n",
       "8839                 3                 25                 57   \n",
       "\n",
       "      Stratum_40_Bis_49  Stratum_50_Bis_59  Stratum_60_Bis_69  \\\n",
       "8837                  0                  0                  0   \n",
       "8838                  0                  0                  0   \n",
       "8839                103                160                161   \n",
       "\n",
       "      Stratum_70_Bis_79  Stratum_80_Plus  \n",
       "8837                  0                0  \n",
       "8838                  0                0  \n",
       "8839                 94               31  \n",
       "\n",
       "[3 rows x 21 columns]"
      ]
     },
     "execution_count": 64,
     "metadata": {},
     "output_type": "execute_result"
    }
   ],
   "source": [
    "timeline_df.tail(3)"
   ]
  },
  {
   "cell_type": "markdown",
   "metadata": {},
   "source": [
    "## Rename Columns"
   ]
  },
  {
   "cell_type": "markdown",
   "metadata": {},
   "source": [
    "### Convert datatype of date column"
   ]
  },
  {
   "cell_type": "code",
   "execution_count": 65,
   "metadata": {},
   "outputs": [
    {
     "data": {
      "text/html": [
       "<div>\n",
       "<style scoped>\n",
       "    .dataframe tbody tr th:only-of-type {\n",
       "        vertical-align: middle;\n",
       "    }\n",
       "\n",
       "    .dataframe tbody tr th {\n",
       "        vertical-align: top;\n",
       "    }\n",
       "\n",
       "    .dataframe thead th {\n",
       "        text-align: right;\n",
       "    }\n",
       "</style>\n",
       "<table border=\"1\" class=\"dataframe\">\n",
       "  <thead>\n",
       "    <tr style=\"text-align: right;\">\n",
       "      <th></th>\n",
       "      <th>Datum</th>\n",
       "      <th>Bundesland</th>\n",
       "      <th>Anzahl_Meldebereiche_Erwachsene</th>\n",
       "      <th>Aktuelle_COVID_Faelle_Erwachsene_ITS</th>\n",
       "      <th>Belegte_Intensivbetten_Erwachsene</th>\n",
       "      <th>Freie_Intensivbetten_Erwachsene</th>\n",
       "      <th>7_Tage_Notfallreserve_Erwachsene</th>\n",
       "      <th>Freie_IV_Kapazitaeten_Gesamt</th>\n",
       "      <th>Freie_IV_Kapazitaeten_Davon_COVID</th>\n",
       "      <th>Betriebssituation_Regulaerer_Betrieb</th>\n",
       "      <th>...</th>\n",
       "      <th>Betriebssituation_Eingeschraenkt</th>\n",
       "      <th>Betriebssituation_Keine_Angabe</th>\n",
       "      <th>Stratum_17_Minus</th>\n",
       "      <th>Stratum_18_Bis_29</th>\n",
       "      <th>Stratum_30_Bis_39</th>\n",
       "      <th>Stratum_40_Bis_49</th>\n",
       "      <th>Stratum_50_Bis_59</th>\n",
       "      <th>Stratum_60_Bis_69</th>\n",
       "      <th>Stratum_70_Bis_79</th>\n",
       "      <th>Stratum_80_Plus</th>\n",
       "    </tr>\n",
       "  </thead>\n",
       "  <tbody>\n",
       "    <tr>\n",
       "      <th>0</th>\n",
       "      <td>2020-03-20</td>\n",
       "      <td>NORDRHEIN_WESTFALEN</td>\n",
       "      <td>55</td>\n",
       "      <td>35</td>\n",
       "      <td>86</td>\n",
       "      <td>456</td>\n",
       "      <td>0</td>\n",
       "      <td>297</td>\n",
       "      <td>0</td>\n",
       "      <td>49</td>\n",
       "      <td>...</td>\n",
       "      <td>1</td>\n",
       "      <td>0</td>\n",
       "      <td>0</td>\n",
       "      <td>0</td>\n",
       "      <td>0</td>\n",
       "      <td>0</td>\n",
       "      <td>0</td>\n",
       "      <td>0</td>\n",
       "      <td>0</td>\n",
       "      <td>0</td>\n",
       "    </tr>\n",
       "    <tr>\n",
       "      <th>1</th>\n",
       "      <td>2020-03-20</td>\n",
       "      <td>RHEINLAND_PFALZ</td>\n",
       "      <td>15</td>\n",
       "      <td>14</td>\n",
       "      <td>48</td>\n",
       "      <td>112</td>\n",
       "      <td>0</td>\n",
       "      <td>62</td>\n",
       "      <td>0</td>\n",
       "      <td>10</td>\n",
       "      <td>...</td>\n",
       "      <td>2</td>\n",
       "      <td>0</td>\n",
       "      <td>0</td>\n",
       "      <td>0</td>\n",
       "      <td>0</td>\n",
       "      <td>0</td>\n",
       "      <td>0</td>\n",
       "      <td>0</td>\n",
       "      <td>0</td>\n",
       "      <td>0</td>\n",
       "    </tr>\n",
       "    <tr>\n",
       "      <th>2</th>\n",
       "      <td>2020-03-20</td>\n",
       "      <td>HESSEN</td>\n",
       "      <td>19</td>\n",
       "      <td>7</td>\n",
       "      <td>18</td>\n",
       "      <td>185</td>\n",
       "      <td>0</td>\n",
       "      <td>120</td>\n",
       "      <td>0</td>\n",
       "      <td>16</td>\n",
       "      <td>...</td>\n",
       "      <td>0</td>\n",
       "      <td>0</td>\n",
       "      <td>0</td>\n",
       "      <td>0</td>\n",
       "      <td>0</td>\n",
       "      <td>0</td>\n",
       "      <td>0</td>\n",
       "      <td>0</td>\n",
       "      <td>0</td>\n",
       "      <td>0</td>\n",
       "    </tr>\n",
       "    <tr>\n",
       "      <th>3</th>\n",
       "      <td>2020-03-20</td>\n",
       "      <td>BAYERN</td>\n",
       "      <td>45</td>\n",
       "      <td>61</td>\n",
       "      <td>77</td>\n",
       "      <td>392</td>\n",
       "      <td>0</td>\n",
       "      <td>237</td>\n",
       "      <td>0</td>\n",
       "      <td>37</td>\n",
       "      <td>...</td>\n",
       "      <td>1</td>\n",
       "      <td>2</td>\n",
       "      <td>0</td>\n",
       "      <td>0</td>\n",
       "      <td>0</td>\n",
       "      <td>0</td>\n",
       "      <td>0</td>\n",
       "      <td>0</td>\n",
       "      <td>0</td>\n",
       "      <td>0</td>\n",
       "    </tr>\n",
       "    <tr>\n",
       "      <th>4</th>\n",
       "      <td>2020-03-20</td>\n",
       "      <td>MECKLENBURG_VORPOMMERN</td>\n",
       "      <td>10</td>\n",
       "      <td>1</td>\n",
       "      <td>8</td>\n",
       "      <td>85</td>\n",
       "      <td>0</td>\n",
       "      <td>59</td>\n",
       "      <td>0</td>\n",
       "      <td>8</td>\n",
       "      <td>...</td>\n",
       "      <td>1</td>\n",
       "      <td>0</td>\n",
       "      <td>0</td>\n",
       "      <td>0</td>\n",
       "      <td>0</td>\n",
       "      <td>0</td>\n",
       "      <td>0</td>\n",
       "      <td>0</td>\n",
       "      <td>0</td>\n",
       "      <td>0</td>\n",
       "    </tr>\n",
       "  </tbody>\n",
       "</table>\n",
       "<p>5 rows × 21 columns</p>\n",
       "</div>"
      ],
      "text/plain": [
       "        Datum              Bundesland  Anzahl_Meldebereiche_Erwachsene  \\\n",
       "0  2020-03-20     NORDRHEIN_WESTFALEN                               55   \n",
       "1  2020-03-20         RHEINLAND_PFALZ                               15   \n",
       "2  2020-03-20                  HESSEN                               19   \n",
       "3  2020-03-20                  BAYERN                               45   \n",
       "4  2020-03-20  MECKLENBURG_VORPOMMERN                               10   \n",
       "\n",
       "   Aktuelle_COVID_Faelle_Erwachsene_ITS  Belegte_Intensivbetten_Erwachsene  \\\n",
       "0                                    35                                 86   \n",
       "1                                    14                                 48   \n",
       "2                                     7                                 18   \n",
       "3                                    61                                 77   \n",
       "4                                     1                                  8   \n",
       "\n",
       "   Freie_Intensivbetten_Erwachsene  7_Tage_Notfallreserve_Erwachsene  \\\n",
       "0                              456                                 0   \n",
       "1                              112                                 0   \n",
       "2                              185                                 0   \n",
       "3                              392                                 0   \n",
       "4                               85                                 0   \n",
       "\n",
       "   Freie_IV_Kapazitaeten_Gesamt  Freie_IV_Kapazitaeten_Davon_COVID  \\\n",
       "0                           297                                  0   \n",
       "1                            62                                  0   \n",
       "2                           120                                  0   \n",
       "3                           237                                  0   \n",
       "4                            59                                  0   \n",
       "\n",
       "   Betriebssituation_Regulaerer_Betrieb  ...  \\\n",
       "0                                    49  ...   \n",
       "1                                    10  ...   \n",
       "2                                    16  ...   \n",
       "3                                    37  ...   \n",
       "4                                     8  ...   \n",
       "\n",
       "   Betriebssituation_Eingeschraenkt  Betriebssituation_Keine_Angabe  \\\n",
       "0                                 1                               0   \n",
       "1                                 2                               0   \n",
       "2                                 0                               0   \n",
       "3                                 1                               2   \n",
       "4                                 1                               0   \n",
       "\n",
       "   Stratum_17_Minus  Stratum_18_Bis_29  Stratum_30_Bis_39  Stratum_40_Bis_49  \\\n",
       "0                 0                  0                  0                  0   \n",
       "1                 0                  0                  0                  0   \n",
       "2                 0                  0                  0                  0   \n",
       "3                 0                  0                  0                  0   \n",
       "4                 0                  0                  0                  0   \n",
       "\n",
       "   Stratum_50_Bis_59  Stratum_60_Bis_69  Stratum_70_Bis_79  Stratum_80_Plus  \n",
       "0                  0                  0                  0                0  \n",
       "1                  0                  0                  0                0  \n",
       "2                  0                  0                  0                0  \n",
       "3                  0                  0                  0                0  \n",
       "4                  0                  0                  0                0  \n",
       "\n",
       "[5 rows x 21 columns]"
      ]
     },
     "execution_count": 65,
     "metadata": {},
     "output_type": "execute_result"
    }
   ],
   "source": [
    "timeline_df[\"Datum\"] = timeline_df[\"Datum\"].str[:10]\n",
    "timeline_df.head()"
   ]
  },
  {
   "cell_type": "code",
   "execution_count": 66,
   "metadata": {},
   "outputs": [],
   "source": [
    "timeline_df.iloc[ : , [0]] = timeline_df.iloc[ : , [0]].apply(pd.to_datetime)"
   ]
  },
  {
   "cell_type": "code",
   "execution_count": 67,
   "metadata": {},
   "outputs": [
    {
     "name": "stdout",
     "output_type": "stream",
     "text": [
      "<class 'pandas.core.frame.DataFrame'>\n",
      "RangeIndex: 8840 entries, 0 to 8839\n",
      "Data columns (total 21 columns):\n",
      " #   Column                                      Non-Null Count  Dtype         \n",
      "---  ------                                      --------------  -----         \n",
      " 0   Datum                                       8840 non-null   datetime64[ns]\n",
      " 1   Bundesland                                  8840 non-null   object        \n",
      " 2   Anzahl_Meldebereiche_Erwachsene             8840 non-null   int64         \n",
      " 3   Aktuelle_COVID_Faelle_Erwachsene_ITS        8840 non-null   int64         \n",
      " 4   Belegte_Intensivbetten_Erwachsene           8840 non-null   int64         \n",
      " 5   Freie_Intensivbetten_Erwachsene             8840 non-null   int64         \n",
      " 6   7_Tage_Notfallreserve_Erwachsene            8840 non-null   int64         \n",
      " 7   Freie_IV_Kapazitaeten_Gesamt                8840 non-null   int64         \n",
      " 8   Freie_IV_Kapazitaeten_Davon_COVID           8840 non-null   int64         \n",
      " 9   Betriebssituation_Regulaerer_Betrieb        8840 non-null   int64         \n",
      " 10  Betriebssituation_Teilweise_Eingeschraenkt  8840 non-null   int64         \n",
      " 11  Betriebssituation_Eingeschraenkt            8840 non-null   int64         \n",
      " 12  Betriebssituation_Keine_Angabe              8840 non-null   int64         \n",
      " 13  Stratum_17_Minus                            8840 non-null   int64         \n",
      " 14  Stratum_18_Bis_29                           8840 non-null   int64         \n",
      " 15  Stratum_30_Bis_39                           8840 non-null   int64         \n",
      " 16  Stratum_40_Bis_49                           8840 non-null   int64         \n",
      " 17  Stratum_50_Bis_59                           8840 non-null   int64         \n",
      " 18  Stratum_60_Bis_69                           8840 non-null   int64         \n",
      " 19  Stratum_70_Bis_79                           8840 non-null   int64         \n",
      " 20  Stratum_80_Plus                             8840 non-null   int64         \n",
      "dtypes: datetime64[ns](1), int64(19), object(1)\n",
      "memory usage: 1.4+ MB\n"
     ]
    }
   ],
   "source": [
    "timeline_df.info()"
   ]
  },
  {
   "cell_type": "code",
   "execution_count": 68,
   "metadata": {},
   "outputs": [
    {
     "data": {
      "text/html": [
       "<div>\n",
       "<style scoped>\n",
       "    .dataframe tbody tr th:only-of-type {\n",
       "        vertical-align: middle;\n",
       "    }\n",
       "\n",
       "    .dataframe tbody tr th {\n",
       "        vertical-align: top;\n",
       "    }\n",
       "\n",
       "    .dataframe thead th {\n",
       "        text-align: right;\n",
       "    }\n",
       "</style>\n",
       "<table border=\"1\" class=\"dataframe\">\n",
       "  <thead>\n",
       "    <tr style=\"text-align: right;\">\n",
       "      <th></th>\n",
       "      <th>Datum</th>\n",
       "      <th>Bundesland</th>\n",
       "      <th>Anzahl_Meldebereiche_Erwachsene</th>\n",
       "      <th>Aktuelle_COVID_Faelle_Erwachsene_ITS</th>\n",
       "      <th>Belegte_Intensivbetten_Erwachsene</th>\n",
       "      <th>Freie_Intensivbetten_Erwachsene</th>\n",
       "      <th>7_Tage_Notfallreserve_Erwachsene</th>\n",
       "      <th>Freie_IV_Kapazitaeten_Gesamt</th>\n",
       "      <th>Freie_IV_Kapazitaeten_Davon_COVID</th>\n",
       "      <th>Betriebssituation_Regulaerer_Betrieb</th>\n",
       "      <th>...</th>\n",
       "      <th>Betriebssituation_Eingeschraenkt</th>\n",
       "      <th>Betriebssituation_Keine_Angabe</th>\n",
       "      <th>Stratum_17_Minus</th>\n",
       "      <th>Stratum_18_Bis_29</th>\n",
       "      <th>Stratum_30_Bis_39</th>\n",
       "      <th>Stratum_40_Bis_49</th>\n",
       "      <th>Stratum_50_Bis_59</th>\n",
       "      <th>Stratum_60_Bis_69</th>\n",
       "      <th>Stratum_70_Bis_79</th>\n",
       "      <th>Stratum_80_Plus</th>\n",
       "    </tr>\n",
       "  </thead>\n",
       "  <tbody>\n",
       "    <tr>\n",
       "      <th>8805</th>\n",
       "      <td>2021-08-19</td>\n",
       "      <td>DEUTSCHLAND</td>\n",
       "      <td>1310</td>\n",
       "      <td>616</td>\n",
       "      <td>18946</td>\n",
       "      <td>3598</td>\n",
       "      <td>10205</td>\n",
       "      <td>3241</td>\n",
       "      <td>1370</td>\n",
       "      <td>629</td>\n",
       "      <td>...</td>\n",
       "      <td>329</td>\n",
       "      <td>140</td>\n",
       "      <td>3</td>\n",
       "      <td>22</td>\n",
       "      <td>54</td>\n",
       "      <td>105</td>\n",
       "      <td>137</td>\n",
       "      <td>152</td>\n",
       "      <td>88</td>\n",
       "      <td>38</td>\n",
       "    </tr>\n",
       "    <tr>\n",
       "      <th>8822</th>\n",
       "      <td>2021-08-20</td>\n",
       "      <td>DEUTSCHLAND</td>\n",
       "      <td>1309</td>\n",
       "      <td>646</td>\n",
       "      <td>18970</td>\n",
       "      <td>3498</td>\n",
       "      <td>10234</td>\n",
       "      <td>3125</td>\n",
       "      <td>1333</td>\n",
       "      <td>625</td>\n",
       "      <td>...</td>\n",
       "      <td>340</td>\n",
       "      <td>137</td>\n",
       "      <td>3</td>\n",
       "      <td>22</td>\n",
       "      <td>54</td>\n",
       "      <td>106</td>\n",
       "      <td>143</td>\n",
       "      <td>153</td>\n",
       "      <td>89</td>\n",
       "      <td>33</td>\n",
       "    </tr>\n",
       "    <tr>\n",
       "      <th>8839</th>\n",
       "      <td>2021-08-21</td>\n",
       "      <td>DEUTSCHLAND</td>\n",
       "      <td>1310</td>\n",
       "      <td>676</td>\n",
       "      <td>18562</td>\n",
       "      <td>3685</td>\n",
       "      <td>10291</td>\n",
       "      <td>3291</td>\n",
       "      <td>1401</td>\n",
       "      <td>595</td>\n",
       "      <td>...</td>\n",
       "      <td>363</td>\n",
       "      <td>142</td>\n",
       "      <td>3</td>\n",
       "      <td>25</td>\n",
       "      <td>57</td>\n",
       "      <td>103</td>\n",
       "      <td>160</td>\n",
       "      <td>161</td>\n",
       "      <td>94</td>\n",
       "      <td>31</td>\n",
       "    </tr>\n",
       "  </tbody>\n",
       "</table>\n",
       "<p>3 rows × 21 columns</p>\n",
       "</div>"
      ],
      "text/plain": [
       "          Datum   Bundesland  Anzahl_Meldebereiche_Erwachsene  \\\n",
       "8805 2021-08-19  DEUTSCHLAND                             1310   \n",
       "8822 2021-08-20  DEUTSCHLAND                             1309   \n",
       "8839 2021-08-21  DEUTSCHLAND                             1310   \n",
       "\n",
       "      Aktuelle_COVID_Faelle_Erwachsene_ITS  Belegte_Intensivbetten_Erwachsene  \\\n",
       "8805                                   616                              18946   \n",
       "8822                                   646                              18970   \n",
       "8839                                   676                              18562   \n",
       "\n",
       "      Freie_Intensivbetten_Erwachsene  7_Tage_Notfallreserve_Erwachsene  \\\n",
       "8805                             3598                             10205   \n",
       "8822                             3498                             10234   \n",
       "8839                             3685                             10291   \n",
       "\n",
       "      Freie_IV_Kapazitaeten_Gesamt  Freie_IV_Kapazitaeten_Davon_COVID  \\\n",
       "8805                          3241                               1370   \n",
       "8822                          3125                               1333   \n",
       "8839                          3291                               1401   \n",
       "\n",
       "      Betriebssituation_Regulaerer_Betrieb  ...  \\\n",
       "8805                                   629  ...   \n",
       "8822                                   625  ...   \n",
       "8839                                   595  ...   \n",
       "\n",
       "      Betriebssituation_Eingeschraenkt  Betriebssituation_Keine_Angabe  \\\n",
       "8805                               329                             140   \n",
       "8822                               340                             137   \n",
       "8839                               363                             142   \n",
       "\n",
       "      Stratum_17_Minus  Stratum_18_Bis_29  Stratum_30_Bis_39  \\\n",
       "8805                 3                 22                 54   \n",
       "8822                 3                 22                 54   \n",
       "8839                 3                 25                 57   \n",
       "\n",
       "      Stratum_40_Bis_49  Stratum_50_Bis_59  Stratum_60_Bis_69  \\\n",
       "8805                105                137                152   \n",
       "8822                106                143                153   \n",
       "8839                103                160                161   \n",
       "\n",
       "      Stratum_70_Bis_79  Stratum_80_Plus  \n",
       "8805                 88               38  \n",
       "8822                 89               33  \n",
       "8839                 94               31  \n",
       "\n",
       "[3 rows x 21 columns]"
      ]
     },
     "execution_count": 68,
     "metadata": {},
     "output_type": "execute_result"
    }
   ],
   "source": [
    "federal_level = timeline_df[timeline_df.Bundesland=='DEUTSCHLAND']\n",
    "federal_level.tail(3)"
   ]
  },
  {
   "cell_type": "markdown",
   "metadata": {},
   "source": [
    "## Used Beds (Adults)"
   ]
  },
  {
   "cell_type": "code",
   "execution_count": 69,
   "metadata": {},
   "outputs": [
    {
     "name": "stdout",
     "output_type": "stream",
     "text": [
      "<class 'pandas.core.frame.DataFrame'>\n",
      "Int64Index: 520 entries, 16 to 8839\n",
      "Data columns (total 2 columns):\n",
      " #   Column                    Non-Null Count  Dtype         \n",
      "---  ------                    --------------  -----         \n",
      " 0   date                      520 non-null    datetime64[ns]\n",
      " 1   ICU beds in use (adults)  520 non-null    int64         \n",
      "dtypes: datetime64[ns](1), int64(1)\n",
      "memory usage: 12.2 KB\n"
     ]
    }
   ],
   "source": [
    "used_beds = federal_level.loc[ : , ['Datum', 'Belegte_Intensivbetten_Erwachsene']]\n",
    "used_beds.columns = ['date', 'ICU beds in use (adults)']\n",
    "used_beds.info()"
   ]
  },
  {
   "cell_type": "code",
   "execution_count": 70,
   "metadata": {},
   "outputs": [],
   "source": [
    "used_beds.set_index('date', inplace=True)"
   ]
  },
  {
   "cell_type": "code",
   "execution_count": 71,
   "metadata": {},
   "outputs": [
    {
     "data": {
      "text/plain": [
       "<AxesSubplot:xlabel='date'>"
      ]
     },
     "execution_count": 71,
     "metadata": {},
     "output_type": "execute_result"
    },
    {
     "data": {
      "image/png": "[encoded data removed]",
      "text/plain": [
       "<Figure size 432x288 with 1 Axes>"
      ]
     },
     "metadata": {},
     "output_type": "display_data"
    }
   ],
   "source": [
    "used_beds.plot()"
   ]
  },
  {
   "cell_type": "markdown",
   "metadata": {},
   "source": [
    "## Covid-19 patients in ICU"
   ]
  },
  {
   "cell_type": "code",
   "execution_count": 72,
   "metadata": {},
   "outputs": [],
   "source": [
    "icu = federal_level.loc[ : , ['Datum', 'Aktuelle_COVID_Faelle_Erwachsene_ITS']]"
   ]
  },
  {
   "cell_type": "code",
   "execution_count": 73,
   "metadata": {},
   "outputs": [
    {
     "name": "stdout",
     "output_type": "stream",
     "text": [
      "<class 'pandas.core.frame.DataFrame'>\n",
      "DatetimeIndex: 520 entries, 2020-03-20 to 2021-08-21\n",
      "Data columns (total 1 columns):\n",
      " #   Column                 Non-Null Count  Dtype\n",
      "---  ------                 --------------  -----\n",
      " 0   Covid-19 cases in ICU  520 non-null    int64\n",
      "dtypes: int64(1)\n",
      "memory usage: 8.1 KB\n"
     ]
    }
   ],
   "source": [
    "icu.columns = ['date', 'Covid-19 cases in ICU']\n",
    "icu.set_index('date', inplace=True)\n",
    "icu.info()"
   ]
  },
  {
   "cell_type": "code",
   "execution_count": 74,
   "metadata": {},
   "outputs": [
    {
     "data": {
      "image/png": "[encoded data removed]",
      "text/plain": [
       "<Figure size 432x288 with 1 Axes>"
      ]
     },
     "metadata": {},
     "output_type": "display_data"
    }
   ],
   "source": [
    "icu_cases = icu.plot(\n",
    "    title='Patients with Covid-19 in German ICUs\\n(Data Source: DIVI-Intensivregister)',\n",
    "xlabel='Date',\n",
    "ylabel='Number of Patients')"
   ]
  },
  {
   "cell_type": "code",
   "execution_count": 75,
   "metadata": {},
   "outputs": [],
   "source": [
    "fig = icu_cases.get_figure()\n",
    "fig.savefig('img/covid-19-patients-in-icu-germany.png')"
   ]
  },
  {
   "cell_type": "markdown",
   "metadata": {},
   "source": [
    "### Situation in North Rhine-Westphalia\n",
    "\n",
    "NRW ist the state in Germany with the highest number of inhabitants."
   ]
  },
  {
   "cell_type": "code",
   "execution_count": 76,
   "metadata": {},
   "outputs": [
    {
     "data": {
      "text/html": [
       "<div>\n",
       "<style scoped>\n",
       "    .dataframe tbody tr th:only-of-type {\n",
       "        vertical-align: middle;\n",
       "    }\n",
       "\n",
       "    .dataframe tbody tr th {\n",
       "        vertical-align: top;\n",
       "    }\n",
       "\n",
       "    .dataframe thead th {\n",
       "        text-align: right;\n",
       "    }\n",
       "</style>\n",
       "<table border=\"1\" class=\"dataframe\">\n",
       "  <thead>\n",
       "    <tr style=\"text-align: right;\">\n",
       "      <th></th>\n",
       "      <th>Datum</th>\n",
       "      <th>Bundesland</th>\n",
       "      <th>Anzahl_Meldebereiche_Erwachsene</th>\n",
       "      <th>Aktuelle_COVID_Faelle_Erwachsene_ITS</th>\n",
       "      <th>Belegte_Intensivbetten_Erwachsene</th>\n",
       "      <th>Freie_Intensivbetten_Erwachsene</th>\n",
       "      <th>7_Tage_Notfallreserve_Erwachsene</th>\n",
       "      <th>Freie_IV_Kapazitaeten_Gesamt</th>\n",
       "      <th>Freie_IV_Kapazitaeten_Davon_COVID</th>\n",
       "      <th>Betriebssituation_Regulaerer_Betrieb</th>\n",
       "      <th>...</th>\n",
       "      <th>Betriebssituation_Eingeschraenkt</th>\n",
       "      <th>Betriebssituation_Keine_Angabe</th>\n",
       "      <th>Stratum_17_Minus</th>\n",
       "      <th>Stratum_18_Bis_29</th>\n",
       "      <th>Stratum_30_Bis_39</th>\n",
       "      <th>Stratum_40_Bis_49</th>\n",
       "      <th>Stratum_50_Bis_59</th>\n",
       "      <th>Stratum_60_Bis_69</th>\n",
       "      <th>Stratum_70_Bis_79</th>\n",
       "      <th>Stratum_80_Plus</th>\n",
       "    </tr>\n",
       "  </thead>\n",
       "  <tbody>\n",
       "    <tr>\n",
       "      <th>8806</th>\n",
       "      <td>2021-08-20</td>\n",
       "      <td>NORDRHEIN_WESTFALEN</td>\n",
       "      <td>313</td>\n",
       "      <td>203</td>\n",
       "      <td>4601</td>\n",
       "      <td>817</td>\n",
       "      <td>2388</td>\n",
       "      <td>673</td>\n",
       "      <td>326</td>\n",
       "      <td>162</td>\n",
       "      <td>...</td>\n",
       "      <td>78</td>\n",
       "      <td>19</td>\n",
       "      <td>0</td>\n",
       "      <td>0</td>\n",
       "      <td>0</td>\n",
       "      <td>0</td>\n",
       "      <td>0</td>\n",
       "      <td>0</td>\n",
       "      <td>0</td>\n",
       "      <td>0</td>\n",
       "    </tr>\n",
       "    <tr>\n",
       "      <th>8823</th>\n",
       "      <td>2021-08-21</td>\n",
       "      <td>NORDRHEIN_WESTFALEN</td>\n",
       "      <td>313</td>\n",
       "      <td>215</td>\n",
       "      <td>4527</td>\n",
       "      <td>821</td>\n",
       "      <td>2392</td>\n",
       "      <td>693</td>\n",
       "      <td>348</td>\n",
       "      <td>150</td>\n",
       "      <td>...</td>\n",
       "      <td>85</td>\n",
       "      <td>21</td>\n",
       "      <td>0</td>\n",
       "      <td>0</td>\n",
       "      <td>0</td>\n",
       "      <td>0</td>\n",
       "      <td>0</td>\n",
       "      <td>0</td>\n",
       "      <td>0</td>\n",
       "      <td>0</td>\n",
       "    </tr>\n",
       "  </tbody>\n",
       "</table>\n",
       "<p>2 rows × 21 columns</p>\n",
       "</div>"
      ],
      "text/plain": [
       "          Datum           Bundesland  Anzahl_Meldebereiche_Erwachsene  \\\n",
       "8806 2021-08-20  NORDRHEIN_WESTFALEN                              313   \n",
       "8823 2021-08-21  NORDRHEIN_WESTFALEN                              313   \n",
       "\n",
       "      Aktuelle_COVID_Faelle_Erwachsene_ITS  Belegte_Intensivbetten_Erwachsene  \\\n",
       "8806                                   203                               4601   \n",
       "8823                                   215                               4527   \n",
       "\n",
       "      Freie_Intensivbetten_Erwachsene  7_Tage_Notfallreserve_Erwachsene  \\\n",
       "8806                              817                              2388   \n",
       "8823                              821                              2392   \n",
       "\n",
       "      Freie_IV_Kapazitaeten_Gesamt  Freie_IV_Kapazitaeten_Davon_COVID  \\\n",
       "8806                           673                                326   \n",
       "8823                           693                                348   \n",
       "\n",
       "      Betriebssituation_Regulaerer_Betrieb  ...  \\\n",
       "8806                                   162  ...   \n",
       "8823                                   150  ...   \n",
       "\n",
       "      Betriebssituation_Eingeschraenkt  Betriebssituation_Keine_Angabe  \\\n",
       "8806                                78                              19   \n",
       "8823                                85                              21   \n",
       "\n",
       "      Stratum_17_Minus  Stratum_18_Bis_29  Stratum_30_Bis_39  \\\n",
       "8806                 0                  0                  0   \n",
       "8823                 0                  0                  0   \n",
       "\n",
       "      Stratum_40_Bis_49  Stratum_50_Bis_59  Stratum_60_Bis_69  \\\n",
       "8806                  0                  0                  0   \n",
       "8823                  0                  0                  0   \n",
       "\n",
       "      Stratum_70_Bis_79  Stratum_80_Plus  \n",
       "8806                  0                0  \n",
       "8823                  0                0  \n",
       "\n",
       "[2 rows x 21 columns]"
      ]
     },
     "execution_count": 76,
     "metadata": {},
     "output_type": "execute_result"
    }
   ],
   "source": [
    "nrw = timeline_df[timeline_df.Bundesland=='NORDRHEIN_WESTFALEN']\n",
    "nrw.tail(2)"
   ]
  },
  {
   "cell_type": "code",
   "execution_count": 77,
   "metadata": {},
   "outputs": [
    {
     "name": "stdout",
     "output_type": "stream",
     "text": [
      "<class 'pandas.core.frame.DataFrame'>\n",
      "DatetimeIndex: 520 entries, 2020-03-20 to 2021-08-21\n",
      "Data columns (total 1 columns):\n",
      " #   Column                 Non-Null Count  Dtype\n",
      "---  ------                 --------------  -----\n",
      " 0   Covid-19 cases in ICU  520 non-null    int64\n",
      "dtypes: int64(1)\n",
      "memory usage: 8.1 KB\n"
     ]
    }
   ],
   "source": [
    "icu_nrw = nrw.loc[ : , ['Datum', 'Aktuelle_COVID_Faelle_Erwachsene_ITS']]\n",
    "icu_nrw.columns = ['date', 'Covid-19 cases in ICU']\n",
    "icu_nrw.set_index('date', inplace=True)\n",
    "icu_nrw.info()"
   ]
  },
  {
   "cell_type": "code",
   "execution_count": 78,
   "metadata": {},
   "outputs": [
    {
     "data": {
      "image/png": "[encoded data removed]",
      "text/plain": [
       "<Figure size 432x288 with 1 Axes>"
      ]
     },
     "metadata": {},
     "output_type": "display_data"
    }
   ],
   "source": [
    "icu_cases_nrw = icu_nrw.plot(\n",
    "    title='Patients with Covid-19 in ICUs in North Rhine-Westphalia\\n(Data Source: DIVI-Intensivregister)',\n",
    "xlabel='Date',\n",
    "ylabel='Number of Patients')"
   ]
  },
  {
   "cell_type": "markdown",
   "metadata": {},
   "source": [
    "### Situation in Rhineland-Palatinate"
   ]
  },
  {
   "cell_type": "code",
   "execution_count": 79,
   "metadata": {},
   "outputs": [
    {
     "data": {
      "text/html": [
       "<div>\n",
       "<style scoped>\n",
       "    .dataframe tbody tr th:only-of-type {\n",
       "        vertical-align: middle;\n",
       "    }\n",
       "\n",
       "    .dataframe tbody tr th {\n",
       "        vertical-align: top;\n",
       "    }\n",
       "\n",
       "    .dataframe thead th {\n",
       "        text-align: right;\n",
       "    }\n",
       "</style>\n",
       "<table border=\"1\" class=\"dataframe\">\n",
       "  <thead>\n",
       "    <tr style=\"text-align: right;\">\n",
       "      <th></th>\n",
       "      <th>Datum</th>\n",
       "      <th>Bundesland</th>\n",
       "      <th>Anzahl_Meldebereiche_Erwachsene</th>\n",
       "      <th>Aktuelle_COVID_Faelle_Erwachsene_ITS</th>\n",
       "      <th>Belegte_Intensivbetten_Erwachsene</th>\n",
       "      <th>Freie_Intensivbetten_Erwachsene</th>\n",
       "      <th>7_Tage_Notfallreserve_Erwachsene</th>\n",
       "      <th>Freie_IV_Kapazitaeten_Gesamt</th>\n",
       "      <th>Freie_IV_Kapazitaeten_Davon_COVID</th>\n",
       "      <th>Betriebssituation_Regulaerer_Betrieb</th>\n",
       "      <th>...</th>\n",
       "      <th>Betriebssituation_Eingeschraenkt</th>\n",
       "      <th>Betriebssituation_Keine_Angabe</th>\n",
       "      <th>Stratum_17_Minus</th>\n",
       "      <th>Stratum_18_Bis_29</th>\n",
       "      <th>Stratum_30_Bis_39</th>\n",
       "      <th>Stratum_40_Bis_49</th>\n",
       "      <th>Stratum_50_Bis_59</th>\n",
       "      <th>Stratum_60_Bis_69</th>\n",
       "      <th>Stratum_70_Bis_79</th>\n",
       "      <th>Stratum_80_Plus</th>\n",
       "    </tr>\n",
       "  </thead>\n",
       "  <tbody>\n",
       "    <tr>\n",
       "      <th>8807</th>\n",
       "      <td>2021-08-20</td>\n",
       "      <td>RHEINLAND_PFALZ</td>\n",
       "      <td>77</td>\n",
       "      <td>29</td>\n",
       "      <td>777</td>\n",
       "      <td>234</td>\n",
       "      <td>418</td>\n",
       "      <td>178</td>\n",
       "      <td>88</td>\n",
       "      <td>35</td>\n",
       "      <td>...</td>\n",
       "      <td>22</td>\n",
       "      <td>6</td>\n",
       "      <td>0</td>\n",
       "      <td>0</td>\n",
       "      <td>0</td>\n",
       "      <td>0</td>\n",
       "      <td>0</td>\n",
       "      <td>0</td>\n",
       "      <td>0</td>\n",
       "      <td>0</td>\n",
       "    </tr>\n",
       "    <tr>\n",
       "      <th>8824</th>\n",
       "      <td>2021-08-21</td>\n",
       "      <td>RHEINLAND_PFALZ</td>\n",
       "      <td>77</td>\n",
       "      <td>29</td>\n",
       "      <td>767</td>\n",
       "      <td>241</td>\n",
       "      <td>429</td>\n",
       "      <td>194</td>\n",
       "      <td>100</td>\n",
       "      <td>35</td>\n",
       "      <td>...</td>\n",
       "      <td>24</td>\n",
       "      <td>5</td>\n",
       "      <td>0</td>\n",
       "      <td>0</td>\n",
       "      <td>0</td>\n",
       "      <td>0</td>\n",
       "      <td>0</td>\n",
       "      <td>0</td>\n",
       "      <td>0</td>\n",
       "      <td>0</td>\n",
       "    </tr>\n",
       "  </tbody>\n",
       "</table>\n",
       "<p>2 rows × 21 columns</p>\n",
       "</div>"
      ],
      "text/plain": [
       "          Datum       Bundesland  Anzahl_Meldebereiche_Erwachsene  \\\n",
       "8807 2021-08-20  RHEINLAND_PFALZ                               77   \n",
       "8824 2021-08-21  RHEINLAND_PFALZ                               77   \n",
       "\n",
       "      Aktuelle_COVID_Faelle_Erwachsene_ITS  Belegte_Intensivbetten_Erwachsene  \\\n",
       "8807                                    29                                777   \n",
       "8824                                    29                                767   \n",
       "\n",
       "      Freie_Intensivbetten_Erwachsene  7_Tage_Notfallreserve_Erwachsene  \\\n",
       "8807                              234                               418   \n",
       "8824                              241                               429   \n",
       "\n",
       "      Freie_IV_Kapazitaeten_Gesamt  Freie_IV_Kapazitaeten_Davon_COVID  \\\n",
       "8807                           178                                 88   \n",
       "8824                           194                                100   \n",
       "\n",
       "      Betriebssituation_Regulaerer_Betrieb  ...  \\\n",
       "8807                                    35  ...   \n",
       "8824                                    35  ...   \n",
       "\n",
       "      Betriebssituation_Eingeschraenkt  Betriebssituation_Keine_Angabe  \\\n",
       "8807                                22                               6   \n",
       "8824                                24                               5   \n",
       "\n",
       "      Stratum_17_Minus  Stratum_18_Bis_29  Stratum_30_Bis_39  \\\n",
       "8807                 0                  0                  0   \n",
       "8824                 0                  0                  0   \n",
       "\n",
       "      Stratum_40_Bis_49  Stratum_50_Bis_59  Stratum_60_Bis_69  \\\n",
       "8807                  0                  0                  0   \n",
       "8824                  0                  0                  0   \n",
       "\n",
       "      Stratum_70_Bis_79  Stratum_80_Plus  \n",
       "8807                  0                0  \n",
       "8824                  0                0  \n",
       "\n",
       "[2 rows x 21 columns]"
      ]
     },
     "execution_count": 79,
     "metadata": {},
     "output_type": "execute_result"
    }
   ],
   "source": [
    "rlp = timeline_df[timeline_df.Bundesland=='RHEINLAND_PFALZ']\n",
    "rlp.tail(2)"
   ]
  },
  {
   "cell_type": "code",
   "execution_count": 80,
   "metadata": {},
   "outputs": [
    {
     "name": "stdout",
     "output_type": "stream",
     "text": [
      "<class 'pandas.core.frame.DataFrame'>\n",
      "DatetimeIndex: 520 entries, 2020-03-20 to 2021-08-21\n",
      "Data columns (total 1 columns):\n",
      " #   Column                 Non-Null Count  Dtype\n",
      "---  ------                 --------------  -----\n",
      " 0   Covid-19 cases in ICU  520 non-null    int64\n",
      "dtypes: int64(1)\n",
      "memory usage: 8.1 KB\n"
     ]
    }
   ],
   "source": [
    "icu_rlp = rlp.loc[ : , ['Datum', 'Aktuelle_COVID_Faelle_Erwachsene_ITS']]\n",
    "icu_rlp.columns = ['date', 'Covid-19 cases in ICU']\n",
    "icu_rlp.set_index('date', inplace=True)\n",
    "icu_rlp.info()"
   ]
  },
  {
   "cell_type": "code",
   "execution_count": 81,
   "metadata": {},
   "outputs": [
    {
     "data": {
      "image/png": "[encoded data removed]",
      "text/plain": [
       "<Figure size 432x288 with 1 Axes>"
      ]
     },
     "metadata": {},
     "output_type": "display_data"
    }
   ],
   "source": [
    "icu_cases_rlp = icu_rlp.plot(\n",
    "    title='Patients with Covid-19 in ICUs in Rhineland-Palatinate\\n(Data Source: DIVI-Intensivregister)',\n",
    "xlabel='Date',\n",
    "ylabel='Number of Patients')"
   ]
  },
  {
   "cell_type": "markdown",
   "metadata": {},
   "source": [
    "### Situation in Saxony\n",
    "\n",
    "Saxonia had high case numbers during the pandemic."
   ]
  },
  {
   "cell_type": "code",
   "execution_count": 82,
   "metadata": {},
   "outputs": [
    {
     "data": {
      "text/html": [
       "<div>\n",
       "<style scoped>\n",
       "    .dataframe tbody tr th:only-of-type {\n",
       "        vertical-align: middle;\n",
       "    }\n",
       "\n",
       "    .dataframe tbody tr th {\n",
       "        vertical-align: top;\n",
       "    }\n",
       "\n",
       "    .dataframe thead th {\n",
       "        text-align: right;\n",
       "    }\n",
       "</style>\n",
       "<table border=\"1\" class=\"dataframe\">\n",
       "  <thead>\n",
       "    <tr style=\"text-align: right;\">\n",
       "      <th></th>\n",
       "      <th>Datum</th>\n",
       "      <th>Bundesland</th>\n",
       "      <th>Anzahl_Meldebereiche_Erwachsene</th>\n",
       "      <th>Aktuelle_COVID_Faelle_Erwachsene_ITS</th>\n",
       "      <th>Belegte_Intensivbetten_Erwachsene</th>\n",
       "      <th>Freie_Intensivbetten_Erwachsene</th>\n",
       "      <th>7_Tage_Notfallreserve_Erwachsene</th>\n",
       "      <th>Freie_IV_Kapazitaeten_Gesamt</th>\n",
       "      <th>Freie_IV_Kapazitaeten_Davon_COVID</th>\n",
       "      <th>Betriebssituation_Regulaerer_Betrieb</th>\n",
       "      <th>...</th>\n",
       "      <th>Betriebssituation_Eingeschraenkt</th>\n",
       "      <th>Betriebssituation_Keine_Angabe</th>\n",
       "      <th>Stratum_17_Minus</th>\n",
       "      <th>Stratum_18_Bis_29</th>\n",
       "      <th>Stratum_30_Bis_39</th>\n",
       "      <th>Stratum_40_Bis_49</th>\n",
       "      <th>Stratum_50_Bis_59</th>\n",
       "      <th>Stratum_60_Bis_69</th>\n",
       "      <th>Stratum_70_Bis_79</th>\n",
       "      <th>Stratum_80_Plus</th>\n",
       "    </tr>\n",
       "  </thead>\n",
       "  <tbody>\n",
       "    <tr>\n",
       "      <th>8819</th>\n",
       "      <td>2021-08-20</td>\n",
       "      <td>SACHSEN</td>\n",
       "      <td>77</td>\n",
       "      <td>19</td>\n",
       "      <td>1166</td>\n",
       "      <td>286</td>\n",
       "      <td>627</td>\n",
       "      <td>293</td>\n",
       "      <td>96</td>\n",
       "      <td>46</td>\n",
       "      <td>...</td>\n",
       "      <td>14</td>\n",
       "      <td>9</td>\n",
       "      <td>0</td>\n",
       "      <td>0</td>\n",
       "      <td>0</td>\n",
       "      <td>0</td>\n",
       "      <td>0</td>\n",
       "      <td>0</td>\n",
       "      <td>0</td>\n",
       "      <td>0</td>\n",
       "    </tr>\n",
       "    <tr>\n",
       "      <th>8836</th>\n",
       "      <td>2021-08-21</td>\n",
       "      <td>SACHSEN</td>\n",
       "      <td>77</td>\n",
       "      <td>17</td>\n",
       "      <td>1178</td>\n",
       "      <td>259</td>\n",
       "      <td>637</td>\n",
       "      <td>295</td>\n",
       "      <td>100</td>\n",
       "      <td>43</td>\n",
       "      <td>...</td>\n",
       "      <td>18</td>\n",
       "      <td>9</td>\n",
       "      <td>0</td>\n",
       "      <td>0</td>\n",
       "      <td>0</td>\n",
       "      <td>0</td>\n",
       "      <td>0</td>\n",
       "      <td>0</td>\n",
       "      <td>0</td>\n",
       "      <td>0</td>\n",
       "    </tr>\n",
       "  </tbody>\n",
       "</table>\n",
       "<p>2 rows × 21 columns</p>\n",
       "</div>"
      ],
      "text/plain": [
       "          Datum Bundesland  Anzahl_Meldebereiche_Erwachsene  \\\n",
       "8819 2021-08-20    SACHSEN                               77   \n",
       "8836 2021-08-21    SACHSEN                               77   \n",
       "\n",
       "      Aktuelle_COVID_Faelle_Erwachsene_ITS  Belegte_Intensivbetten_Erwachsene  \\\n",
       "8819                                    19                               1166   \n",
       "8836                                    17                               1178   \n",
       "\n",
       "      Freie_Intensivbetten_Erwachsene  7_Tage_Notfallreserve_Erwachsene  \\\n",
       "8819                              286                               627   \n",
       "8836                              259                               637   \n",
       "\n",
       "      Freie_IV_Kapazitaeten_Gesamt  Freie_IV_Kapazitaeten_Davon_COVID  \\\n",
       "8819                           293                                 96   \n",
       "8836                           295                                100   \n",
       "\n",
       "      Betriebssituation_Regulaerer_Betrieb  ...  \\\n",
       "8819                                    46  ...   \n",
       "8836                                    43  ...   \n",
       "\n",
       "      Betriebssituation_Eingeschraenkt  Betriebssituation_Keine_Angabe  \\\n",
       "8819                                14                               9   \n",
       "8836                                18                               9   \n",
       "\n",
       "      Stratum_17_Minus  Stratum_18_Bis_29  Stratum_30_Bis_39  \\\n",
       "8819                 0                  0                  0   \n",
       "8836                 0                  0                  0   \n",
       "\n",
       "      Stratum_40_Bis_49  Stratum_50_Bis_59  Stratum_60_Bis_69  \\\n",
       "8819                  0                  0                  0   \n",
       "8836                  0                  0                  0   \n",
       "\n",
       "      Stratum_70_Bis_79  Stratum_80_Plus  \n",
       "8819                  0                0  \n",
       "8836                  0                0  \n",
       "\n",
       "[2 rows x 21 columns]"
      ]
     },
     "execution_count": 82,
     "metadata": {},
     "output_type": "execute_result"
    }
   ],
   "source": [
    "saxonia = timeline_df[timeline_df.Bundesland=='SACHSEN']\n",
    "saxonia.tail(2)"
   ]
  },
  {
   "cell_type": "code",
   "execution_count": 83,
   "metadata": {},
   "outputs": [
    {
     "name": "stdout",
     "output_type": "stream",
     "text": [
      "<class 'pandas.core.frame.DataFrame'>\n",
      "DatetimeIndex: 520 entries, 2020-03-20 to 2021-08-21\n",
      "Data columns (total 1 columns):\n",
      " #   Column                 Non-Null Count  Dtype\n",
      "---  ------                 --------------  -----\n",
      " 0   Covid-19 cases in ICU  520 non-null    int64\n",
      "dtypes: int64(1)\n",
      "memory usage: 8.1 KB\n"
     ]
    }
   ],
   "source": [
    "icu_saxonia = saxonia.loc[ : , ['Datum', 'Aktuelle_COVID_Faelle_Erwachsene_ITS']]\n",
    "icu_saxonia.columns = ['date', 'Covid-19 cases in ICU']\n",
    "icu_saxonia.set_index('date', inplace=True)\n",
    "icu_saxonia.info()"
   ]
  },
  {
   "cell_type": "code",
   "execution_count": 84,
   "metadata": {},
   "outputs": [
    {
     "data": {
      "image/png": "[encoded data removed]",
      "text/plain": [
       "<Figure size 432x288 with 1 Axes>"
      ]
     },
     "metadata": {},
     "output_type": "display_data"
    }
   ],
   "source": [
    "icu_cases_saxonia = icu_saxonia.plot(\n",
    "    title='Patients with Covid-19 in ICUs in Saxonia\\n(Data Source: DIVI-Intensivregister)',\n",
    "xlabel='Date',\n",
    "ylabel='Number of Patients')"
   ]
  }
 ],
 "metadata": {
  "kernelspec": {
   "display_name": "Python 3",
   "language": "python",
   "name": "python3"
  },
  "language_info": {
   "codemirror_mode": {
    "name": "ipython",
    "version": 3
   },
   "file_extension": ".py",
   "mimetype": "text/x-python",
   "name": "python",
   "nbconvert_exporter": "python",
   "pygments_lexer": "ipython3",
   "version": "3.8.10"
  }
 },
 "nbformat": 4,
 "nbformat_minor": 4
}

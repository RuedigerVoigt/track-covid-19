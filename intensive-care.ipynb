{
 "cells": [
  {
   "cell_type": "markdown",
   "metadata": {},
   "source": [
    "# Intensive Care in Germany"
   ]
  },
  {
   "cell_type": "markdown",
   "metadata": {},
   "source": [
    "## Data Source\n",
    "\n",
    "[DIVI-Intensivregister](https://www.intensivregister.de/) monitors the ICU capacities of 1,300 hospitals in Germany."
   ]
  },
  {
   "cell_type": "markdown",
   "metadata": {},
   "source": [
    "## Setup"
   ]
  },
  {
   "cell_type": "code",
   "execution_count": 1,
   "metadata": {},
   "outputs": [],
   "source": [
    "# standard library\n",
    "import datetime\n",
    "import math"
   ]
  },
  {
   "cell_type": "code",
   "execution_count": 2,
   "metadata": {},
   "outputs": [],
   "source": [
    "# third party\n",
    "import numpy as np\n",
    "import pandas as pd\n",
    "import matplotlib.pyplot as plt\n",
    "import requests"
   ]
  },
  {
   "cell_type": "markdown",
   "metadata": {},
   "source": [
    "## Date this Notebook was run"
   ]
  },
  {
   "cell_type": "code",
   "execution_count": 3,
   "metadata": {},
   "outputs": [
    {
     "data": {
      "text/plain": [
       "'2021-08-13'"
      ]
     },
     "execution_count": 3,
     "metadata": {},
     "output_type": "execute_result"
    }
   ],
   "source": [
    "today = datetime.datetime.today().strftime('%Y-%m-%d')\n",
    "today"
   ]
  },
  {
   "cell_type": "code",
   "execution_count": 4,
   "metadata": {},
   "outputs": [],
   "source": [
    "# style like ggplot in R\n",
    "plt.style.use('ggplot')"
   ]
  },
  {
   "cell_type": "code",
   "execution_count": 5,
   "metadata": {},
   "outputs": [],
   "source": [
    "# Avoid cutting off part of the axis labels, see:\n",
    "# https://stackoverflow.com/questions/6774086/why-is-my-xlabel-cut-off-in-my-matplotlib-plot\n",
    "plt.rcParams.update({'figure.autolayout': True})"
   ]
  },
  {
   "cell_type": "markdown",
   "metadata": {},
   "source": [
    "## Get Data"
   ]
  },
  {
   "cell_type": "code",
   "execution_count": 6,
   "metadata": {},
   "outputs": [],
   "source": [
    "timeline_data = \"https://diviexchange.blob.core.windows.net/%24web/bundesland-zeitreihe.csv\""
   ]
  },
  {
   "cell_type": "code",
   "execution_count": 7,
   "metadata": {},
   "outputs": [],
   "source": [
    "timeline_df = pd.read_csv(timeline_data)"
   ]
  },
  {
   "cell_type": "code",
   "execution_count": 8,
   "metadata": {},
   "outputs": [
    {
     "data": {
      "text/html": [
       "<div>\n",
       "<style scoped>\n",
       "    .dataframe tbody tr th:only-of-type {\n",
       "        vertical-align: middle;\n",
       "    }\n",
       "\n",
       "    .dataframe tbody tr th {\n",
       "        vertical-align: top;\n",
       "    }\n",
       "\n",
       "    .dataframe thead th {\n",
       "        text-align: right;\n",
       "    }\n",
       "</style>\n",
       "<table border=\"1\" class=\"dataframe\">\n",
       "  <thead>\n",
       "    <tr style=\"text-align: right;\">\n",
       "      <th></th>\n",
       "      <th>Datum</th>\n",
       "      <th>Bundesland</th>\n",
       "      <th>Anzahl_Meldebereiche_Erwachsene</th>\n",
       "      <th>Aktuelle_COVID_Faelle_Erwachsene_ITS</th>\n",
       "      <th>Belegte_Intensivbetten_Erwachsene</th>\n",
       "      <th>Freie_Intensivbetten_Erwachsene</th>\n",
       "      <th>7_Tage_Notfallreserve_Erwachsene</th>\n",
       "      <th>Freie_IV_Kapazitaeten_Gesamt</th>\n",
       "      <th>Freie_IV_Kapazitaeten_Davon_COVID</th>\n",
       "      <th>Betriebssituation_Regulaerer_Betrieb</th>\n",
       "      <th>...</th>\n",
       "      <th>Betriebssituation_Eingeschraenkt</th>\n",
       "      <th>Betriebssituation_Keine_Angabe</th>\n",
       "      <th>Stratum_17_Minus</th>\n",
       "      <th>Stratum_18_Bis_29</th>\n",
       "      <th>Stratum_30_Bis_39</th>\n",
       "      <th>Stratum_40_Bis_49</th>\n",
       "      <th>Stratum_50_Bis_59</th>\n",
       "      <th>Stratum_60_Bis_69</th>\n",
       "      <th>Stratum_70_Bis_79</th>\n",
       "      <th>Stratum_80_Plus</th>\n",
       "    </tr>\n",
       "  </thead>\n",
       "  <tbody>\n",
       "    <tr>\n",
       "      <th>8701</th>\n",
       "      <td>2021-08-13T12:15:00+02:00</td>\n",
       "      <td>SACHSEN_ANHALT</td>\n",
       "      <td>42</td>\n",
       "      <td>4</td>\n",
       "      <td>608</td>\n",
       "      <td>128</td>\n",
       "      <td>340</td>\n",
       "      <td>103</td>\n",
       "      <td>54</td>\n",
       "      <td>20</td>\n",
       "      <td>...</td>\n",
       "      <td>9</td>\n",
       "      <td>4</td>\n",
       "      <td>0</td>\n",
       "      <td>0</td>\n",
       "      <td>0</td>\n",
       "      <td>0</td>\n",
       "      <td>0</td>\n",
       "      <td>0</td>\n",
       "      <td>0</td>\n",
       "      <td>0</td>\n",
       "    </tr>\n",
       "    <tr>\n",
       "      <th>8702</th>\n",
       "      <td>2021-08-13T12:15:00+02:00</td>\n",
       "      <td>NORDRHEIN_WESTFALEN</td>\n",
       "      <td>313</td>\n",
       "      <td>135</td>\n",
       "      <td>4580</td>\n",
       "      <td>817</td>\n",
       "      <td>2379</td>\n",
       "      <td>685</td>\n",
       "      <td>373</td>\n",
       "      <td>155</td>\n",
       "      <td>...</td>\n",
       "      <td>82</td>\n",
       "      <td>20</td>\n",
       "      <td>0</td>\n",
       "      <td>0</td>\n",
       "      <td>0</td>\n",
       "      <td>0</td>\n",
       "      <td>0</td>\n",
       "      <td>0</td>\n",
       "      <td>0</td>\n",
       "      <td>0</td>\n",
       "    </tr>\n",
       "    <tr>\n",
       "      <th>8703</th>\n",
       "      <td>2021-08-13T12:15:00+02:00</td>\n",
       "      <td>DEUTSCHLAND</td>\n",
       "      <td>1312</td>\n",
       "      <td>479</td>\n",
       "      <td>18985</td>\n",
       "      <td>3605</td>\n",
       "      <td>10186</td>\n",
       "      <td>3234</td>\n",
       "      <td>1373</td>\n",
       "      <td>628</td>\n",
       "      <td>...</td>\n",
       "      <td>326</td>\n",
       "      <td>141</td>\n",
       "      <td>3</td>\n",
       "      <td>15</td>\n",
       "      <td>32</td>\n",
       "      <td>72</td>\n",
       "      <td>100</td>\n",
       "      <td>106</td>\n",
       "      <td>83</td>\n",
       "      <td>26</td>\n",
       "    </tr>\n",
       "  </tbody>\n",
       "</table>\n",
       "<p>3 rows × 21 columns</p>\n",
       "</div>"
      ],
      "text/plain": [
       "                          Datum           Bundesland  \\\n",
       "8701  2021-08-13T12:15:00+02:00       SACHSEN_ANHALT   \n",
       "8702  2021-08-13T12:15:00+02:00  NORDRHEIN_WESTFALEN   \n",
       "8703  2021-08-13T12:15:00+02:00          DEUTSCHLAND   \n",
       "\n",
       "      Anzahl_Meldebereiche_Erwachsene  Aktuelle_COVID_Faelle_Erwachsene_ITS  \\\n",
       "8701                               42                                     4   \n",
       "8702                              313                                   135   \n",
       "8703                             1312                                   479   \n",
       "\n",
       "      Belegte_Intensivbetten_Erwachsene  Freie_Intensivbetten_Erwachsene  \\\n",
       "8701                                608                              128   \n",
       "8702                               4580                              817   \n",
       "8703                              18985                             3605   \n",
       "\n",
       "      7_Tage_Notfallreserve_Erwachsene  Freie_IV_Kapazitaeten_Gesamt  \\\n",
       "8701                               340                           103   \n",
       "8702                              2379                           685   \n",
       "8703                             10186                          3234   \n",
       "\n",
       "      Freie_IV_Kapazitaeten_Davon_COVID  Betriebssituation_Regulaerer_Betrieb  \\\n",
       "8701                                 54                                    20   \n",
       "8702                                373                                   155   \n",
       "8703                               1373                                   628   \n",
       "\n",
       "      ...  Betriebssituation_Eingeschraenkt  Betriebssituation_Keine_Angabe  \\\n",
       "8701  ...                                 9                               4   \n",
       "8702  ...                                82                              20   \n",
       "8703  ...                               326                             141   \n",
       "\n",
       "      Stratum_17_Minus  Stratum_18_Bis_29  Stratum_30_Bis_39  \\\n",
       "8701                 0                  0                  0   \n",
       "8702                 0                  0                  0   \n",
       "8703                 3                 15                 32   \n",
       "\n",
       "      Stratum_40_Bis_49  Stratum_50_Bis_59  Stratum_60_Bis_69  \\\n",
       "8701                  0                  0                  0   \n",
       "8702                  0                  0                  0   \n",
       "8703                 72                100                106   \n",
       "\n",
       "      Stratum_70_Bis_79  Stratum_80_Plus  \n",
       "8701                  0                0  \n",
       "8702                  0                0  \n",
       "8703                 83               26  \n",
       "\n",
       "[3 rows x 21 columns]"
      ]
     },
     "execution_count": 8,
     "metadata": {},
     "output_type": "execute_result"
    }
   ],
   "source": [
    "timeline_df.tail(3)"
   ]
  },
  {
   "cell_type": "markdown",
   "metadata": {},
   "source": [
    "## Rename Columns"
   ]
  },
  {
   "cell_type": "markdown",
   "metadata": {},
   "source": [
    "### Convert datatype of date column"
   ]
  },
  {
   "cell_type": "code",
   "execution_count": 9,
   "metadata": {},
   "outputs": [
    {
     "data": {
      "text/html": [
       "<div>\n",
       "<style scoped>\n",
       "    .dataframe tbody tr th:only-of-type {\n",
       "        vertical-align: middle;\n",
       "    }\n",
       "\n",
       "    .dataframe tbody tr th {\n",
       "        vertical-align: top;\n",
       "    }\n",
       "\n",
       "    .dataframe thead th {\n",
       "        text-align: right;\n",
       "    }\n",
       "</style>\n",
       "<table border=\"1\" class=\"dataframe\">\n",
       "  <thead>\n",
       "    <tr style=\"text-align: right;\">\n",
       "      <th></th>\n",
       "      <th>Datum</th>\n",
       "      <th>Bundesland</th>\n",
       "      <th>Anzahl_Meldebereiche_Erwachsene</th>\n",
       "      <th>Aktuelle_COVID_Faelle_Erwachsene_ITS</th>\n",
       "      <th>Belegte_Intensivbetten_Erwachsene</th>\n",
       "      <th>Freie_Intensivbetten_Erwachsene</th>\n",
       "      <th>7_Tage_Notfallreserve_Erwachsene</th>\n",
       "      <th>Freie_IV_Kapazitaeten_Gesamt</th>\n",
       "      <th>Freie_IV_Kapazitaeten_Davon_COVID</th>\n",
       "      <th>Betriebssituation_Regulaerer_Betrieb</th>\n",
       "      <th>...</th>\n",
       "      <th>Betriebssituation_Eingeschraenkt</th>\n",
       "      <th>Betriebssituation_Keine_Angabe</th>\n",
       "      <th>Stratum_17_Minus</th>\n",
       "      <th>Stratum_18_Bis_29</th>\n",
       "      <th>Stratum_30_Bis_39</th>\n",
       "      <th>Stratum_40_Bis_49</th>\n",
       "      <th>Stratum_50_Bis_59</th>\n",
       "      <th>Stratum_60_Bis_69</th>\n",
       "      <th>Stratum_70_Bis_79</th>\n",
       "      <th>Stratum_80_Plus</th>\n",
       "    </tr>\n",
       "  </thead>\n",
       "  <tbody>\n",
       "    <tr>\n",
       "      <th>0</th>\n",
       "      <td>2020-03-20</td>\n",
       "      <td>BADEN_WUERTTEMBERG</td>\n",
       "      <td>31</td>\n",
       "      <td>35</td>\n",
       "      <td>39</td>\n",
       "      <td>330</td>\n",
       "      <td>0</td>\n",
       "      <td>205</td>\n",
       "      <td>0</td>\n",
       "      <td>20</td>\n",
       "      <td>...</td>\n",
       "      <td>3</td>\n",
       "      <td>1</td>\n",
       "      <td>0</td>\n",
       "      <td>0</td>\n",
       "      <td>0</td>\n",
       "      <td>0</td>\n",
       "      <td>0</td>\n",
       "      <td>0</td>\n",
       "      <td>0</td>\n",
       "      <td>0</td>\n",
       "    </tr>\n",
       "    <tr>\n",
       "      <th>1</th>\n",
       "      <td>2020-03-20</td>\n",
       "      <td>HAMBURG</td>\n",
       "      <td>11</td>\n",
       "      <td>6</td>\n",
       "      <td>24</td>\n",
       "      <td>115</td>\n",
       "      <td>0</td>\n",
       "      <td>70</td>\n",
       "      <td>0</td>\n",
       "      <td>9</td>\n",
       "      <td>...</td>\n",
       "      <td>2</td>\n",
       "      <td>0</td>\n",
       "      <td>0</td>\n",
       "      <td>0</td>\n",
       "      <td>0</td>\n",
       "      <td>0</td>\n",
       "      <td>0</td>\n",
       "      <td>0</td>\n",
       "      <td>0</td>\n",
       "      <td>0</td>\n",
       "    </tr>\n",
       "    <tr>\n",
       "      <th>2</th>\n",
       "      <td>2020-03-20</td>\n",
       "      <td>BREMEN</td>\n",
       "      <td>3</td>\n",
       "      <td>2</td>\n",
       "      <td>0</td>\n",
       "      <td>18</td>\n",
       "      <td>0</td>\n",
       "      <td>11</td>\n",
       "      <td>0</td>\n",
       "      <td>1</td>\n",
       "      <td>...</td>\n",
       "      <td>1</td>\n",
       "      <td>0</td>\n",
       "      <td>0</td>\n",
       "      <td>0</td>\n",
       "      <td>0</td>\n",
       "      <td>0</td>\n",
       "      <td>0</td>\n",
       "      <td>0</td>\n",
       "      <td>0</td>\n",
       "      <td>0</td>\n",
       "    </tr>\n",
       "    <tr>\n",
       "      <th>3</th>\n",
       "      <td>2020-03-20</td>\n",
       "      <td>SACHSEN</td>\n",
       "      <td>20</td>\n",
       "      <td>3</td>\n",
       "      <td>44</td>\n",
       "      <td>272</td>\n",
       "      <td>0</td>\n",
       "      <td>215</td>\n",
       "      <td>0</td>\n",
       "      <td>16</td>\n",
       "      <td>...</td>\n",
       "      <td>2</td>\n",
       "      <td>0</td>\n",
       "      <td>0</td>\n",
       "      <td>0</td>\n",
       "      <td>0</td>\n",
       "      <td>0</td>\n",
       "      <td>0</td>\n",
       "      <td>0</td>\n",
       "      <td>0</td>\n",
       "      <td>0</td>\n",
       "    </tr>\n",
       "    <tr>\n",
       "      <th>4</th>\n",
       "      <td>2020-03-20</td>\n",
       "      <td>BRANDENBURG</td>\n",
       "      <td>20</td>\n",
       "      <td>2</td>\n",
       "      <td>50</td>\n",
       "      <td>142</td>\n",
       "      <td>0</td>\n",
       "      <td>81</td>\n",
       "      <td>0</td>\n",
       "      <td>15</td>\n",
       "      <td>...</td>\n",
       "      <td>1</td>\n",
       "      <td>0</td>\n",
       "      <td>0</td>\n",
       "      <td>0</td>\n",
       "      <td>0</td>\n",
       "      <td>0</td>\n",
       "      <td>0</td>\n",
       "      <td>0</td>\n",
       "      <td>0</td>\n",
       "      <td>0</td>\n",
       "    </tr>\n",
       "  </tbody>\n",
       "</table>\n",
       "<p>5 rows × 21 columns</p>\n",
       "</div>"
      ],
      "text/plain": [
       "        Datum          Bundesland  Anzahl_Meldebereiche_Erwachsene  \\\n",
       "0  2020-03-20  BADEN_WUERTTEMBERG                               31   \n",
       "1  2020-03-20             HAMBURG                               11   \n",
       "2  2020-03-20              BREMEN                                3   \n",
       "3  2020-03-20             SACHSEN                               20   \n",
       "4  2020-03-20         BRANDENBURG                               20   \n",
       "\n",
       "   Aktuelle_COVID_Faelle_Erwachsene_ITS  Belegte_Intensivbetten_Erwachsene  \\\n",
       "0                                    35                                 39   \n",
       "1                                     6                                 24   \n",
       "2                                     2                                  0   \n",
       "3                                     3                                 44   \n",
       "4                                     2                                 50   \n",
       "\n",
       "   Freie_Intensivbetten_Erwachsene  7_Tage_Notfallreserve_Erwachsene  \\\n",
       "0                              330                                 0   \n",
       "1                              115                                 0   \n",
       "2                               18                                 0   \n",
       "3                              272                                 0   \n",
       "4                              142                                 0   \n",
       "\n",
       "   Freie_IV_Kapazitaeten_Gesamt  Freie_IV_Kapazitaeten_Davon_COVID  \\\n",
       "0                           205                                  0   \n",
       "1                            70                                  0   \n",
       "2                            11                                  0   \n",
       "3                           215                                  0   \n",
       "4                            81                                  0   \n",
       "\n",
       "   Betriebssituation_Regulaerer_Betrieb  ...  \\\n",
       "0                                    20  ...   \n",
       "1                                     9  ...   \n",
       "2                                     1  ...   \n",
       "3                                    16  ...   \n",
       "4                                    15  ...   \n",
       "\n",
       "   Betriebssituation_Eingeschraenkt  Betriebssituation_Keine_Angabe  \\\n",
       "0                                 3                               1   \n",
       "1                                 2                               0   \n",
       "2                                 1                               0   \n",
       "3                                 2                               0   \n",
       "4                                 1                               0   \n",
       "\n",
       "   Stratum_17_Minus  Stratum_18_Bis_29  Stratum_30_Bis_39  Stratum_40_Bis_49  \\\n",
       "0                 0                  0                  0                  0   \n",
       "1                 0                  0                  0                  0   \n",
       "2                 0                  0                  0                  0   \n",
       "3                 0                  0                  0                  0   \n",
       "4                 0                  0                  0                  0   \n",
       "\n",
       "   Stratum_50_Bis_59  Stratum_60_Bis_69  Stratum_70_Bis_79  Stratum_80_Plus  \n",
       "0                  0                  0                  0                0  \n",
       "1                  0                  0                  0                0  \n",
       "2                  0                  0                  0                0  \n",
       "3                  0                  0                  0                0  \n",
       "4                  0                  0                  0                0  \n",
       "\n",
       "[5 rows x 21 columns]"
      ]
     },
     "execution_count": 9,
     "metadata": {},
     "output_type": "execute_result"
    }
   ],
   "source": [
    "timeline_df[\"Datum\"] = timeline_df[\"Datum\"].str[:10]\n",
    "timeline_df.head()"
   ]
  },
  {
   "cell_type": "code",
   "execution_count": 10,
   "metadata": {},
   "outputs": [],
   "source": [
    "timeline_df.iloc[ : , [0]] = timeline_df.iloc[ : , [0]].apply(pd.to_datetime)"
   ]
  },
  {
   "cell_type": "code",
   "execution_count": 11,
   "metadata": {},
   "outputs": [
    {
     "name": "stdout",
     "output_type": "stream",
     "text": [
      "<class 'pandas.core.frame.DataFrame'>\n",
      "RangeIndex: 8704 entries, 0 to 8703\n",
      "Data columns (total 21 columns):\n",
      " #   Column                                      Non-Null Count  Dtype         \n",
      "---  ------                                      --------------  -----         \n",
      " 0   Datum                                       8704 non-null   datetime64[ns]\n",
      " 1   Bundesland                                  8704 non-null   object        \n",
      " 2   Anzahl_Meldebereiche_Erwachsene             8704 non-null   int64         \n",
      " 3   Aktuelle_COVID_Faelle_Erwachsene_ITS        8704 non-null   int64         \n",
      " 4   Belegte_Intensivbetten_Erwachsene           8704 non-null   int64         \n",
      " 5   Freie_Intensivbetten_Erwachsene             8704 non-null   int64         \n",
      " 6   7_Tage_Notfallreserve_Erwachsene            8704 non-null   int64         \n",
      " 7   Freie_IV_Kapazitaeten_Gesamt                8704 non-null   int64         \n",
      " 8   Freie_IV_Kapazitaeten_Davon_COVID           8704 non-null   int64         \n",
      " 9   Betriebssituation_Regulaerer_Betrieb        8704 non-null   int64         \n",
      " 10  Betriebssituation_Teilweise_Eingeschraenkt  8704 non-null   int64         \n",
      " 11  Betriebssituation_Eingeschraenkt            8704 non-null   int64         \n",
      " 12  Betriebssituation_Keine_Angabe              8704 non-null   int64         \n",
      " 13  Stratum_17_Minus                            8704 non-null   int64         \n",
      " 14  Stratum_18_Bis_29                           8704 non-null   int64         \n",
      " 15  Stratum_30_Bis_39                           8704 non-null   int64         \n",
      " 16  Stratum_40_Bis_49                           8704 non-null   int64         \n",
      " 17  Stratum_50_Bis_59                           8704 non-null   int64         \n",
      " 18  Stratum_60_Bis_69                           8704 non-null   int64         \n",
      " 19  Stratum_70_Bis_79                           8704 non-null   int64         \n",
      " 20  Stratum_80_Plus                             8704 non-null   int64         \n",
      "dtypes: datetime64[ns](1), int64(19), object(1)\n",
      "memory usage: 1.4+ MB\n"
     ]
    }
   ],
   "source": [
    "timeline_df.info()"
   ]
  },
  {
   "cell_type": "code",
   "execution_count": 12,
   "metadata": {},
   "outputs": [
    {
     "data": {
      "text/html": [
       "<div>\n",
       "<style scoped>\n",
       "    .dataframe tbody tr th:only-of-type {\n",
       "        vertical-align: middle;\n",
       "    }\n",
       "\n",
       "    .dataframe tbody tr th {\n",
       "        vertical-align: top;\n",
       "    }\n",
       "\n",
       "    .dataframe thead th {\n",
       "        text-align: right;\n",
       "    }\n",
       "</style>\n",
       "<table border=\"1\" class=\"dataframe\">\n",
       "  <thead>\n",
       "    <tr style=\"text-align: right;\">\n",
       "      <th></th>\n",
       "      <th>Datum</th>\n",
       "      <th>Bundesland</th>\n",
       "      <th>Anzahl_Meldebereiche_Erwachsene</th>\n",
       "      <th>Aktuelle_COVID_Faelle_Erwachsene_ITS</th>\n",
       "      <th>Belegte_Intensivbetten_Erwachsene</th>\n",
       "      <th>Freie_Intensivbetten_Erwachsene</th>\n",
       "      <th>7_Tage_Notfallreserve_Erwachsene</th>\n",
       "      <th>Freie_IV_Kapazitaeten_Gesamt</th>\n",
       "      <th>Freie_IV_Kapazitaeten_Davon_COVID</th>\n",
       "      <th>Betriebssituation_Regulaerer_Betrieb</th>\n",
       "      <th>...</th>\n",
       "      <th>Betriebssituation_Eingeschraenkt</th>\n",
       "      <th>Betriebssituation_Keine_Angabe</th>\n",
       "      <th>Stratum_17_Minus</th>\n",
       "      <th>Stratum_18_Bis_29</th>\n",
       "      <th>Stratum_30_Bis_39</th>\n",
       "      <th>Stratum_40_Bis_49</th>\n",
       "      <th>Stratum_50_Bis_59</th>\n",
       "      <th>Stratum_60_Bis_69</th>\n",
       "      <th>Stratum_70_Bis_79</th>\n",
       "      <th>Stratum_80_Plus</th>\n",
       "    </tr>\n",
       "  </thead>\n",
       "  <tbody>\n",
       "    <tr>\n",
       "      <th>8669</th>\n",
       "      <td>2021-08-11</td>\n",
       "      <td>DEUTSCHLAND</td>\n",
       "      <td>1313</td>\n",
       "      <td>450</td>\n",
       "      <td>19013</td>\n",
       "      <td>3627</td>\n",
       "      <td>10221</td>\n",
       "      <td>3365</td>\n",
       "      <td>1425</td>\n",
       "      <td>634</td>\n",
       "      <td>...</td>\n",
       "      <td>319</td>\n",
       "      <td>141</td>\n",
       "      <td>2</td>\n",
       "      <td>13</td>\n",
       "      <td>27</td>\n",
       "      <td>57</td>\n",
       "      <td>95</td>\n",
       "      <td>104</td>\n",
       "      <td>85</td>\n",
       "      <td>31</td>\n",
       "    </tr>\n",
       "    <tr>\n",
       "      <th>8686</th>\n",
       "      <td>2021-08-12</td>\n",
       "      <td>DEUTSCHLAND</td>\n",
       "      <td>1311</td>\n",
       "      <td>468</td>\n",
       "      <td>18931</td>\n",
       "      <td>3697</td>\n",
       "      <td>10218</td>\n",
       "      <td>3330</td>\n",
       "      <td>1413</td>\n",
       "      <td>633</td>\n",
       "      <td>...</td>\n",
       "      <td>323</td>\n",
       "      <td>139</td>\n",
       "      <td>4</td>\n",
       "      <td>17</td>\n",
       "      <td>31</td>\n",
       "      <td>70</td>\n",
       "      <td>101</td>\n",
       "      <td>118</td>\n",
       "      <td>89</td>\n",
       "      <td>25</td>\n",
       "    </tr>\n",
       "    <tr>\n",
       "      <th>8703</th>\n",
       "      <td>2021-08-13</td>\n",
       "      <td>DEUTSCHLAND</td>\n",
       "      <td>1312</td>\n",
       "      <td>479</td>\n",
       "      <td>18985</td>\n",
       "      <td>3605</td>\n",
       "      <td>10186</td>\n",
       "      <td>3234</td>\n",
       "      <td>1373</td>\n",
       "      <td>628</td>\n",
       "      <td>...</td>\n",
       "      <td>326</td>\n",
       "      <td>141</td>\n",
       "      <td>3</td>\n",
       "      <td>15</td>\n",
       "      <td>32</td>\n",
       "      <td>72</td>\n",
       "      <td>100</td>\n",
       "      <td>106</td>\n",
       "      <td>83</td>\n",
       "      <td>26</td>\n",
       "    </tr>\n",
       "  </tbody>\n",
       "</table>\n",
       "<p>3 rows × 21 columns</p>\n",
       "</div>"
      ],
      "text/plain": [
       "          Datum   Bundesland  Anzahl_Meldebereiche_Erwachsene  \\\n",
       "8669 2021-08-11  DEUTSCHLAND                             1313   \n",
       "8686 2021-08-12  DEUTSCHLAND                             1311   \n",
       "8703 2021-08-13  DEUTSCHLAND                             1312   \n",
       "\n",
       "      Aktuelle_COVID_Faelle_Erwachsene_ITS  Belegte_Intensivbetten_Erwachsene  \\\n",
       "8669                                   450                              19013   \n",
       "8686                                   468                              18931   \n",
       "8703                                   479                              18985   \n",
       "\n",
       "      Freie_Intensivbetten_Erwachsene  7_Tage_Notfallreserve_Erwachsene  \\\n",
       "8669                             3627                             10221   \n",
       "8686                             3697                             10218   \n",
       "8703                             3605                             10186   \n",
       "\n",
       "      Freie_IV_Kapazitaeten_Gesamt  Freie_IV_Kapazitaeten_Davon_COVID  \\\n",
       "8669                          3365                               1425   \n",
       "8686                          3330                               1413   \n",
       "8703                          3234                               1373   \n",
       "\n",
       "      Betriebssituation_Regulaerer_Betrieb  ...  \\\n",
       "8669                                   634  ...   \n",
       "8686                                   633  ...   \n",
       "8703                                   628  ...   \n",
       "\n",
       "      Betriebssituation_Eingeschraenkt  Betriebssituation_Keine_Angabe  \\\n",
       "8669                               319                             141   \n",
       "8686                               323                             139   \n",
       "8703                               326                             141   \n",
       "\n",
       "      Stratum_17_Minus  Stratum_18_Bis_29  Stratum_30_Bis_39  \\\n",
       "8669                 2                 13                 27   \n",
       "8686                 4                 17                 31   \n",
       "8703                 3                 15                 32   \n",
       "\n",
       "      Stratum_40_Bis_49  Stratum_50_Bis_59  Stratum_60_Bis_69  \\\n",
       "8669                 57                 95                104   \n",
       "8686                 70                101                118   \n",
       "8703                 72                100                106   \n",
       "\n",
       "      Stratum_70_Bis_79  Stratum_80_Plus  \n",
       "8669                 85               31  \n",
       "8686                 89               25  \n",
       "8703                 83               26  \n",
       "\n",
       "[3 rows x 21 columns]"
      ]
     },
     "execution_count": 12,
     "metadata": {},
     "output_type": "execute_result"
    }
   ],
   "source": [
    "federal_level = timeline_df[timeline_df.Bundesland=='DEUTSCHLAND']\n",
    "federal_level.tail(3)"
   ]
  },
  {
   "cell_type": "markdown",
   "metadata": {},
   "source": [
    "## Used Beds (Adults)"
   ]
  },
  {
   "cell_type": "code",
   "execution_count": 13,
   "metadata": {},
   "outputs": [
    {
     "name": "stdout",
     "output_type": "stream",
     "text": [
      "<class 'pandas.core.frame.DataFrame'>\n",
      "Int64Index: 512 entries, 16 to 8703\n",
      "Data columns (total 2 columns):\n",
      " #   Column                    Non-Null Count  Dtype         \n",
      "---  ------                    --------------  -----         \n",
      " 0   date                      512 non-null    datetime64[ns]\n",
      " 1   ICU beds in use (adults)  512 non-null    int64         \n",
      "dtypes: datetime64[ns](1), int64(1)\n",
      "memory usage: 12.0 KB\n"
     ]
    }
   ],
   "source": [
    "used_beds = federal_level.loc[ : , ['Datum', 'Belegte_Intensivbetten_Erwachsene']]\n",
    "used_beds.columns = ['date', 'ICU beds in use (adults)']\n",
    "used_beds.info()"
   ]
  },
  {
   "cell_type": "code",
   "execution_count": 14,
   "metadata": {},
   "outputs": [],
   "source": [
    "used_beds.set_index('date', inplace=True)"
   ]
  },
  {
   "cell_type": "code",
   "execution_count": 15,
   "metadata": {},
   "outputs": [
    {
     "data": {
      "text/plain": [
       "<AxesSubplot:xlabel='date'>"
      ]
     },
     "execution_count": 15,
     "metadata": {},
     "output_type": "execute_result"
    },
    {
     "data": {
      "image/png": "[encoded data removed]",
      "text/plain": [
       "<Figure size 432x288 with 1 Axes>"
      ]
     },
     "metadata": {},
     "output_type": "display_data"
    }
   ],
   "source": [
    "used_beds.plot()"
   ]
  },
  {
   "cell_type": "markdown",
   "metadata": {},
   "source": [
    "## Covid-19 patients in ICU"
   ]
  },
  {
   "cell_type": "code",
   "execution_count": 16,
   "metadata": {},
   "outputs": [],
   "source": [
    "icu = federal_level.loc[ : , ['Datum', 'Aktuelle_COVID_Faelle_Erwachsene_ITS']]"
   ]
  },
  {
   "cell_type": "code",
   "execution_count": 17,
   "metadata": {},
   "outputs": [
    {
     "name": "stdout",
     "output_type": "stream",
     "text": [
      "<class 'pandas.core.frame.DataFrame'>\n",
      "DatetimeIndex: 512 entries, 2020-03-20 to 2021-08-13\n",
      "Data columns (total 1 columns):\n",
      " #   Column                 Non-Null Count  Dtype\n",
      "---  ------                 --------------  -----\n",
      " 0   Covid-19 cases in ICU  512 non-null    int64\n",
      "dtypes: int64(1)\n",
      "memory usage: 8.0 KB\n"
     ]
    }
   ],
   "source": [
    "icu.columns = ['date', 'Covid-19 cases in ICU']\n",
    "icu.set_index('date', inplace=True)\n",
    "icu.info()"
   ]
  },
  {
   "cell_type": "code",
   "execution_count": 18,
   "metadata": {},
   "outputs": [
    {
     "data": {
      "image/png": "[encoded data removed]",
      "text/plain": [
       "<Figure size 432x288 with 1 Axes>"
      ]
     },
     "metadata": {},
     "output_type": "display_data"
    }
   ],
   "source": [
    "icu_cases = icu.plot(\n",
    "    title='Patients with Covid-19 in German ICUs\\n(Data Source: DIVI-Intensivregister)',\n",
    "xlabel='Date',\n",
    "ylabel='Number of Patients')"
   ]
  },
  {
   "cell_type": "code",
   "execution_count": 19,
   "metadata": {},
   "outputs": [],
   "source": [
    "fig = icu_cases.get_figure()\n",
    "fig.savefig('img/covid-19-patients-in-icu-germany.png')"
   ]
  },
  {
   "cell_type": "markdown",
   "metadata": {},
   "source": [
    "### Situation in North Rhine-Westphalia\n",
    "\n",
    "NRW ist the state in Germany with the highest number of inhabitants."
   ]
  },
  {
   "cell_type": "code",
   "execution_count": 20,
   "metadata": {},
   "outputs": [
    {
     "data": {
      "text/html": [
       "<div>\n",
       "<style scoped>\n",
       "    .dataframe tbody tr th:only-of-type {\n",
       "        vertical-align: middle;\n",
       "    }\n",
       "\n",
       "    .dataframe tbody tr th {\n",
       "        vertical-align: top;\n",
       "    }\n",
       "\n",
       "    .dataframe thead th {\n",
       "        text-align: right;\n",
       "    }\n",
       "</style>\n",
       "<table border=\"1\" class=\"dataframe\">\n",
       "  <thead>\n",
       "    <tr style=\"text-align: right;\">\n",
       "      <th></th>\n",
       "      <th>Datum</th>\n",
       "      <th>Bundesland</th>\n",
       "      <th>Anzahl_Meldebereiche_Erwachsene</th>\n",
       "      <th>Aktuelle_COVID_Faelle_Erwachsene_ITS</th>\n",
       "      <th>Belegte_Intensivbetten_Erwachsene</th>\n",
       "      <th>Freie_Intensivbetten_Erwachsene</th>\n",
       "      <th>7_Tage_Notfallreserve_Erwachsene</th>\n",
       "      <th>Freie_IV_Kapazitaeten_Gesamt</th>\n",
       "      <th>Freie_IV_Kapazitaeten_Davon_COVID</th>\n",
       "      <th>Betriebssituation_Regulaerer_Betrieb</th>\n",
       "      <th>...</th>\n",
       "      <th>Betriebssituation_Eingeschraenkt</th>\n",
       "      <th>Betriebssituation_Keine_Angabe</th>\n",
       "      <th>Stratum_17_Minus</th>\n",
       "      <th>Stratum_18_Bis_29</th>\n",
       "      <th>Stratum_30_Bis_39</th>\n",
       "      <th>Stratum_40_Bis_49</th>\n",
       "      <th>Stratum_50_Bis_59</th>\n",
       "      <th>Stratum_60_Bis_69</th>\n",
       "      <th>Stratum_70_Bis_79</th>\n",
       "      <th>Stratum_80_Plus</th>\n",
       "    </tr>\n",
       "  </thead>\n",
       "  <tbody>\n",
       "    <tr>\n",
       "      <th>8685</th>\n",
       "      <td>2021-08-12</td>\n",
       "      <td>NORDRHEIN_WESTFALEN</td>\n",
       "      <td>313</td>\n",
       "      <td>131</td>\n",
       "      <td>4526</td>\n",
       "      <td>888</td>\n",
       "      <td>2381</td>\n",
       "      <td>738</td>\n",
       "      <td>414</td>\n",
       "      <td>158</td>\n",
       "      <td>...</td>\n",
       "      <td>83</td>\n",
       "      <td>19</td>\n",
       "      <td>0</td>\n",
       "      <td>0</td>\n",
       "      <td>0</td>\n",
       "      <td>0</td>\n",
       "      <td>0</td>\n",
       "      <td>0</td>\n",
       "      <td>0</td>\n",
       "      <td>0</td>\n",
       "    </tr>\n",
       "    <tr>\n",
       "      <th>8702</th>\n",
       "      <td>2021-08-13</td>\n",
       "      <td>NORDRHEIN_WESTFALEN</td>\n",
       "      <td>313</td>\n",
       "      <td>135</td>\n",
       "      <td>4580</td>\n",
       "      <td>817</td>\n",
       "      <td>2379</td>\n",
       "      <td>685</td>\n",
       "      <td>373</td>\n",
       "      <td>155</td>\n",
       "      <td>...</td>\n",
       "      <td>82</td>\n",
       "      <td>20</td>\n",
       "      <td>0</td>\n",
       "      <td>0</td>\n",
       "      <td>0</td>\n",
       "      <td>0</td>\n",
       "      <td>0</td>\n",
       "      <td>0</td>\n",
       "      <td>0</td>\n",
       "      <td>0</td>\n",
       "    </tr>\n",
       "  </tbody>\n",
       "</table>\n",
       "<p>2 rows × 21 columns</p>\n",
       "</div>"
      ],
      "text/plain": [
       "          Datum           Bundesland  Anzahl_Meldebereiche_Erwachsene  \\\n",
       "8685 2021-08-12  NORDRHEIN_WESTFALEN                              313   \n",
       "8702 2021-08-13  NORDRHEIN_WESTFALEN                              313   \n",
       "\n",
       "      Aktuelle_COVID_Faelle_Erwachsene_ITS  Belegte_Intensivbetten_Erwachsene  \\\n",
       "8685                                   131                               4526   \n",
       "8702                                   135                               4580   \n",
       "\n",
       "      Freie_Intensivbetten_Erwachsene  7_Tage_Notfallreserve_Erwachsene  \\\n",
       "8685                              888                              2381   \n",
       "8702                              817                              2379   \n",
       "\n",
       "      Freie_IV_Kapazitaeten_Gesamt  Freie_IV_Kapazitaeten_Davon_COVID  \\\n",
       "8685                           738                                414   \n",
       "8702                           685                                373   \n",
       "\n",
       "      Betriebssituation_Regulaerer_Betrieb  ...  \\\n",
       "8685                                   158  ...   \n",
       "8702                                   155  ...   \n",
       "\n",
       "      Betriebssituation_Eingeschraenkt  Betriebssituation_Keine_Angabe  \\\n",
       "8685                                83                              19   \n",
       "8702                                82                              20   \n",
       "\n",
       "      Stratum_17_Minus  Stratum_18_Bis_29  Stratum_30_Bis_39  \\\n",
       "8685                 0                  0                  0   \n",
       "8702                 0                  0                  0   \n",
       "\n",
       "      Stratum_40_Bis_49  Stratum_50_Bis_59  Stratum_60_Bis_69  \\\n",
       "8685                  0                  0                  0   \n",
       "8702                  0                  0                  0   \n",
       "\n",
       "      Stratum_70_Bis_79  Stratum_80_Plus  \n",
       "8685                  0                0  \n",
       "8702                  0                0  \n",
       "\n",
       "[2 rows x 21 columns]"
      ]
     },
     "execution_count": 20,
     "metadata": {},
     "output_type": "execute_result"
    }
   ],
   "source": [
    "nrw = timeline_df[timeline_df.Bundesland=='NORDRHEIN_WESTFALEN']\n",
    "nrw.tail(2)"
   ]
  },
  {
   "cell_type": "code",
   "execution_count": 21,
   "metadata": {},
   "outputs": [
    {
     "name": "stdout",
     "output_type": "stream",
     "text": [
      "<class 'pandas.core.frame.DataFrame'>\n",
      "DatetimeIndex: 512 entries, 2020-03-20 to 2021-08-13\n",
      "Data columns (total 1 columns):\n",
      " #   Column                 Non-Null Count  Dtype\n",
      "---  ------                 --------------  -----\n",
      " 0   Covid-19 cases in ICU  512 non-null    int64\n",
      "dtypes: int64(1)\n",
      "memory usage: 8.0 KB\n"
     ]
    }
   ],
   "source": [
    "icu_nrw = nrw.loc[ : , ['Datum', 'Aktuelle_COVID_Faelle_Erwachsene_ITS']]\n",
    "icu_nrw.columns = ['date', 'Covid-19 cases in ICU']\n",
    "icu_nrw.set_index('date', inplace=True)\n",
    "icu_nrw.info()"
   ]
  },
  {
   "cell_type": "code",
   "execution_count": 22,
   "metadata": {},
   "outputs": [
    {
     "data": {
      "image/png": "[encoded data removed]",
      "text/plain": [
       "<Figure size 432x288 with 1 Axes>"
      ]
     },
     "metadata": {},
     "output_type": "display_data"
    }
   ],
   "source": [
    "icu_cases_nrw = icu_nrw.plot(\n",
    "    title='Patients with Covid-19 in ICUs in North Rhine-Westphalia\\n(Data Source: DIVI-Intensivregister)',\n",
    "xlabel='Date',\n",
    "ylabel='Number of Patients')"
   ]
  },
  {
   "cell_type": "markdown",
   "metadata": {},
   "source": [
    "### Situation in Rhineland-Palatinate"
   ]
  },
  {
   "cell_type": "code",
   "execution_count": 23,
   "metadata": {},
   "outputs": [
    {
     "data": {
      "text/html": [
       "<div>\n",
       "<style scoped>\n",
       "    .dataframe tbody tr th:only-of-type {\n",
       "        vertical-align: middle;\n",
       "    }\n",
       "\n",
       "    .dataframe tbody tr th {\n",
       "        vertical-align: top;\n",
       "    }\n",
       "\n",
       "    .dataframe thead th {\n",
       "        text-align: right;\n",
       "    }\n",
       "</style>\n",
       "<table border=\"1\" class=\"dataframe\">\n",
       "  <thead>\n",
       "    <tr style=\"text-align: right;\">\n",
       "      <th></th>\n",
       "      <th>Datum</th>\n",
       "      <th>Bundesland</th>\n",
       "      <th>Anzahl_Meldebereiche_Erwachsene</th>\n",
       "      <th>Aktuelle_COVID_Faelle_Erwachsene_ITS</th>\n",
       "      <th>Belegte_Intensivbetten_Erwachsene</th>\n",
       "      <th>Freie_Intensivbetten_Erwachsene</th>\n",
       "      <th>7_Tage_Notfallreserve_Erwachsene</th>\n",
       "      <th>Freie_IV_Kapazitaeten_Gesamt</th>\n",
       "      <th>Freie_IV_Kapazitaeten_Davon_COVID</th>\n",
       "      <th>Betriebssituation_Regulaerer_Betrieb</th>\n",
       "      <th>...</th>\n",
       "      <th>Betriebssituation_Eingeschraenkt</th>\n",
       "      <th>Betriebssituation_Keine_Angabe</th>\n",
       "      <th>Stratum_17_Minus</th>\n",
       "      <th>Stratum_18_Bis_29</th>\n",
       "      <th>Stratum_30_Bis_39</th>\n",
       "      <th>Stratum_40_Bis_49</th>\n",
       "      <th>Stratum_50_Bis_59</th>\n",
       "      <th>Stratum_60_Bis_69</th>\n",
       "      <th>Stratum_70_Bis_79</th>\n",
       "      <th>Stratum_80_Plus</th>\n",
       "    </tr>\n",
       "  </thead>\n",
       "  <tbody>\n",
       "    <tr>\n",
       "      <th>8675</th>\n",
       "      <td>2021-08-12</td>\n",
       "      <td>RHEINLAND_PFALZ</td>\n",
       "      <td>77</td>\n",
       "      <td>29</td>\n",
       "      <td>807</td>\n",
       "      <td>213</td>\n",
       "      <td>421</td>\n",
       "      <td>161</td>\n",
       "      <td>80</td>\n",
       "      <td>34</td>\n",
       "      <td>...</td>\n",
       "      <td>17</td>\n",
       "      <td>7</td>\n",
       "      <td>0</td>\n",
       "      <td>0</td>\n",
       "      <td>0</td>\n",
       "      <td>0</td>\n",
       "      <td>0</td>\n",
       "      <td>0</td>\n",
       "      <td>0</td>\n",
       "      <td>0</td>\n",
       "    </tr>\n",
       "    <tr>\n",
       "      <th>8692</th>\n",
       "      <td>2021-08-13</td>\n",
       "      <td>RHEINLAND_PFALZ</td>\n",
       "      <td>77</td>\n",
       "      <td>29</td>\n",
       "      <td>791</td>\n",
       "      <td>231</td>\n",
       "      <td>416</td>\n",
       "      <td>175</td>\n",
       "      <td>81</td>\n",
       "      <td>36</td>\n",
       "      <td>...</td>\n",
       "      <td>17</td>\n",
       "      <td>7</td>\n",
       "      <td>0</td>\n",
       "      <td>0</td>\n",
       "      <td>0</td>\n",
       "      <td>0</td>\n",
       "      <td>0</td>\n",
       "      <td>0</td>\n",
       "      <td>0</td>\n",
       "      <td>0</td>\n",
       "    </tr>\n",
       "  </tbody>\n",
       "</table>\n",
       "<p>2 rows × 21 columns</p>\n",
       "</div>"
      ],
      "text/plain": [
       "          Datum       Bundesland  Anzahl_Meldebereiche_Erwachsene  \\\n",
       "8675 2021-08-12  RHEINLAND_PFALZ                               77   \n",
       "8692 2021-08-13  RHEINLAND_PFALZ                               77   \n",
       "\n",
       "      Aktuelle_COVID_Faelle_Erwachsene_ITS  Belegte_Intensivbetten_Erwachsene  \\\n",
       "8675                                    29                                807   \n",
       "8692                                    29                                791   \n",
       "\n",
       "      Freie_Intensivbetten_Erwachsene  7_Tage_Notfallreserve_Erwachsene  \\\n",
       "8675                              213                               421   \n",
       "8692                              231                               416   \n",
       "\n",
       "      Freie_IV_Kapazitaeten_Gesamt  Freie_IV_Kapazitaeten_Davon_COVID  \\\n",
       "8675                           161                                 80   \n",
       "8692                           175                                 81   \n",
       "\n",
       "      Betriebssituation_Regulaerer_Betrieb  ...  \\\n",
       "8675                                    34  ...   \n",
       "8692                                    36  ...   \n",
       "\n",
       "      Betriebssituation_Eingeschraenkt  Betriebssituation_Keine_Angabe  \\\n",
       "8675                                17                               7   \n",
       "8692                                17                               7   \n",
       "\n",
       "      Stratum_17_Minus  Stratum_18_Bis_29  Stratum_30_Bis_39  \\\n",
       "8675                 0                  0                  0   \n",
       "8692                 0                  0                  0   \n",
       "\n",
       "      Stratum_40_Bis_49  Stratum_50_Bis_59  Stratum_60_Bis_69  \\\n",
       "8675                  0                  0                  0   \n",
       "8692                  0                  0                  0   \n",
       "\n",
       "      Stratum_70_Bis_79  Stratum_80_Plus  \n",
       "8675                  0                0  \n",
       "8692                  0                0  \n",
       "\n",
       "[2 rows x 21 columns]"
      ]
     },
     "execution_count": 23,
     "metadata": {},
     "output_type": "execute_result"
    }
   ],
   "source": [
    "rlp = timeline_df[timeline_df.Bundesland=='RHEINLAND_PFALZ']\n",
    "rlp.tail(2)"
   ]
  },
  {
   "cell_type": "code",
   "execution_count": 24,
   "metadata": {},
   "outputs": [
    {
     "name": "stdout",
     "output_type": "stream",
     "text": [
      "<class 'pandas.core.frame.DataFrame'>\n",
      "DatetimeIndex: 512 entries, 2020-03-20 to 2021-08-13\n",
      "Data columns (total 1 columns):\n",
      " #   Column                 Non-Null Count  Dtype\n",
      "---  ------                 --------------  -----\n",
      " 0   Covid-19 cases in ICU  512 non-null    int64\n",
      "dtypes: int64(1)\n",
      "memory usage: 8.0 KB\n"
     ]
    }
   ],
   "source": [
    "icu_rlp = rlp.loc[ : , ['Datum', 'Aktuelle_COVID_Faelle_Erwachsene_ITS']]\n",
    "icu_rlp.columns = ['date', 'Covid-19 cases in ICU']\n",
    "icu_rlp.set_index('date', inplace=True)\n",
    "icu_rlp.info()"
   ]
  },
  {
   "cell_type": "code",
   "execution_count": 25,
   "metadata": {},
   "outputs": [
    {
     "data": {
      "image/png": "[encoded data removed]",
      "text/plain": [
       "<Figure size 432x288 with 1 Axes>"
      ]
     },
     "metadata": {},
     "output_type": "display_data"
    }
   ],
   "source": [
    "icu_cases_rlp = icu_rlp.plot(\n",
    "    title='Patients with Covid-19 in ICUs in Rhineland-Palatinate\\n(Data Source: DIVI-Intensivregister)',\n",
    "xlabel='Date',\n",
    "ylabel='Number of Patients')"
   ]
  },
  {
   "cell_type": "markdown",
   "metadata": {},
   "source": [
    "### Situation in Saxony\n",
    "\n",
    "Saxonia had high case numbers during the pandemic."
   ]
  },
  {
   "cell_type": "code",
   "execution_count": 26,
   "metadata": {},
   "outputs": [
    {
     "data": {
      "text/html": [
       "<div>\n",
       "<style scoped>\n",
       "    .dataframe tbody tr th:only-of-type {\n",
       "        vertical-align: middle;\n",
       "    }\n",
       "\n",
       "    .dataframe tbody tr th {\n",
       "        vertical-align: top;\n",
       "    }\n",
       "\n",
       "    .dataframe thead th {\n",
       "        text-align: right;\n",
       "    }\n",
       "</style>\n",
       "<table border=\"1\" class=\"dataframe\">\n",
       "  <thead>\n",
       "    <tr style=\"text-align: right;\">\n",
       "      <th></th>\n",
       "      <th>Datum</th>\n",
       "      <th>Bundesland</th>\n",
       "      <th>Anzahl_Meldebereiche_Erwachsene</th>\n",
       "      <th>Aktuelle_COVID_Faelle_Erwachsene_ITS</th>\n",
       "      <th>Belegte_Intensivbetten_Erwachsene</th>\n",
       "      <th>Freie_Intensivbetten_Erwachsene</th>\n",
       "      <th>7_Tage_Notfallreserve_Erwachsene</th>\n",
       "      <th>Freie_IV_Kapazitaeten_Gesamt</th>\n",
       "      <th>Freie_IV_Kapazitaeten_Davon_COVID</th>\n",
       "      <th>Betriebssituation_Regulaerer_Betrieb</th>\n",
       "      <th>...</th>\n",
       "      <th>Betriebssituation_Eingeschraenkt</th>\n",
       "      <th>Betriebssituation_Keine_Angabe</th>\n",
       "      <th>Stratum_17_Minus</th>\n",
       "      <th>Stratum_18_Bis_29</th>\n",
       "      <th>Stratum_30_Bis_39</th>\n",
       "      <th>Stratum_40_Bis_49</th>\n",
       "      <th>Stratum_50_Bis_59</th>\n",
       "      <th>Stratum_60_Bis_69</th>\n",
       "      <th>Stratum_70_Bis_79</th>\n",
       "      <th>Stratum_80_Plus</th>\n",
       "    </tr>\n",
       "  </thead>\n",
       "  <tbody>\n",
       "    <tr>\n",
       "      <th>8674</th>\n",
       "      <td>2021-08-12</td>\n",
       "      <td>SACHSEN</td>\n",
       "      <td>77</td>\n",
       "      <td>15</td>\n",
       "      <td>1189</td>\n",
       "      <td>270</td>\n",
       "      <td>620</td>\n",
       "      <td>296</td>\n",
       "      <td>89</td>\n",
       "      <td>48</td>\n",
       "      <td>...</td>\n",
       "      <td>12</td>\n",
       "      <td>9</td>\n",
       "      <td>0</td>\n",
       "      <td>0</td>\n",
       "      <td>0</td>\n",
       "      <td>0</td>\n",
       "      <td>0</td>\n",
       "      <td>0</td>\n",
       "      <td>0</td>\n",
       "      <td>0</td>\n",
       "    </tr>\n",
       "    <tr>\n",
       "      <th>8690</th>\n",
       "      <td>2021-08-13</td>\n",
       "      <td>SACHSEN</td>\n",
       "      <td>78</td>\n",
       "      <td>14</td>\n",
       "      <td>1191</td>\n",
       "      <td>278</td>\n",
       "      <td>622</td>\n",
       "      <td>302</td>\n",
       "      <td>97</td>\n",
       "      <td>48</td>\n",
       "      <td>...</td>\n",
       "      <td>14</td>\n",
       "      <td>9</td>\n",
       "      <td>0</td>\n",
       "      <td>0</td>\n",
       "      <td>0</td>\n",
       "      <td>0</td>\n",
       "      <td>0</td>\n",
       "      <td>0</td>\n",
       "      <td>0</td>\n",
       "      <td>0</td>\n",
       "    </tr>\n",
       "  </tbody>\n",
       "</table>\n",
       "<p>2 rows × 21 columns</p>\n",
       "</div>"
      ],
      "text/plain": [
       "          Datum Bundesland  Anzahl_Meldebereiche_Erwachsene  \\\n",
       "8674 2021-08-12    SACHSEN                               77   \n",
       "8690 2021-08-13    SACHSEN                               78   \n",
       "\n",
       "      Aktuelle_COVID_Faelle_Erwachsene_ITS  Belegte_Intensivbetten_Erwachsene  \\\n",
       "8674                                    15                               1189   \n",
       "8690                                    14                               1191   \n",
       "\n",
       "      Freie_Intensivbetten_Erwachsene  7_Tage_Notfallreserve_Erwachsene  \\\n",
       "8674                              270                               620   \n",
       "8690                              278                               622   \n",
       "\n",
       "      Freie_IV_Kapazitaeten_Gesamt  Freie_IV_Kapazitaeten_Davon_COVID  \\\n",
       "8674                           296                                 89   \n",
       "8690                           302                                 97   \n",
       "\n",
       "      Betriebssituation_Regulaerer_Betrieb  ...  \\\n",
       "8674                                    48  ...   \n",
       "8690                                    48  ...   \n",
       "\n",
       "      Betriebssituation_Eingeschraenkt  Betriebssituation_Keine_Angabe  \\\n",
       "8674                                12                               9   \n",
       "8690                                14                               9   \n",
       "\n",
       "      Stratum_17_Minus  Stratum_18_Bis_29  Stratum_30_Bis_39  \\\n",
       "8674                 0                  0                  0   \n",
       "8690                 0                  0                  0   \n",
       "\n",
       "      Stratum_40_Bis_49  Stratum_50_Bis_59  Stratum_60_Bis_69  \\\n",
       "8674                  0                  0                  0   \n",
       "8690                  0                  0                  0   \n",
       "\n",
       "      Stratum_70_Bis_79  Stratum_80_Plus  \n",
       "8674                  0                0  \n",
       "8690                  0                0  \n",
       "\n",
       "[2 rows x 21 columns]"
      ]
     },
     "execution_count": 26,
     "metadata": {},
     "output_type": "execute_result"
    }
   ],
   "source": [
    "saxonia = timeline_df[timeline_df.Bundesland=='SACHSEN']\n",
    "saxonia.tail(2)"
   ]
  },
  {
   "cell_type": "code",
   "execution_count": 27,
   "metadata": {},
   "outputs": [
    {
     "name": "stdout",
     "output_type": "stream",
     "text": [
      "<class 'pandas.core.frame.DataFrame'>\n",
      "DatetimeIndex: 512 entries, 2020-03-20 to 2021-08-13\n",
      "Data columns (total 1 columns):\n",
      " #   Column                 Non-Null Count  Dtype\n",
      "---  ------                 --------------  -----\n",
      " 0   Covid-19 cases in ICU  512 non-null    int64\n",
      "dtypes: int64(1)\n",
      "memory usage: 8.0 KB\n"
     ]
    }
   ],
   "source": [
    "icu_saxonia = saxonia.loc[ : , ['Datum', 'Aktuelle_COVID_Faelle_Erwachsene_ITS']]\n",
    "icu_saxonia.columns = ['date', 'Covid-19 cases in ICU']\n",
    "icu_saxonia.set_index('date', inplace=True)\n",
    "icu_saxonia.info()"
   ]
  },
  {
   "cell_type": "code",
   "execution_count": 28,
   "metadata": {},
   "outputs": [
    {
     "data": {
      "image/png": "[encoded data removed]",
      "text/plain": [
       "<Figure size 432x288 with 1 Axes>"
      ]
     },
     "metadata": {},
     "output_type": "display_data"
    }
   ],
   "source": [
    "icu_cases_saxonia = icu_saxonia.plot(\n",
    "    title='Patients with Covid-19 in ICUs in Saxonia\\n(Data Source: DIVI-Intensivregister)',\n",
    "xlabel='Date',\n",
    "ylabel='Number of Patients')"
   ]
  }
 ],
 "metadata": {
  "kernelspec": {
   "display_name": "Python 3",
   "language": "python",
   "name": "python3"
  },
  "language_info": {
   "codemirror_mode": {
    "name": "ipython",
    "version": 3
   },
   "file_extension": ".py",
   "mimetype": "text/x-python",
   "name": "python",
   "nbconvert_exporter": "python",
   "pygments_lexer": "ipython3",
   "version": "3.8.10"
  }
 },
 "nbformat": 4,
 "nbformat_minor": 4
}

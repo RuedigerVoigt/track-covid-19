{
 "cells": [
  {
   "cell_type": "markdown",
   "metadata": {},
   "source": [
    "# Intensive Care in Germany"
   ]
  },
  {
   "cell_type": "markdown",
   "metadata": {},
   "source": [
    "## Data Source\n",
    "\n",
    "[DIVI-Intensivregister](https://www.intensivregister.de/) monitors the ICU capacities of 1,300 hospitals in Germany."
   ]
  },
  {
   "cell_type": "markdown",
   "metadata": {},
   "source": [
    "## Setup"
   ]
  },
  {
   "cell_type": "code",
   "execution_count": 29,
   "metadata": {},
   "outputs": [],
   "source": [
    "# standard library\n",
    "import datetime\n",
    "import math"
   ]
  },
  {
   "cell_type": "code",
   "execution_count": 30,
   "metadata": {},
   "outputs": [],
   "source": [
    "# third party\n",
    "import numpy as np\n",
    "import pandas as pd\n",
    "import matplotlib.pyplot as plt\n",
    "import requests"
   ]
  },
  {
   "cell_type": "markdown",
   "metadata": {},
   "source": [
    "## Date this Notebook was run"
   ]
  },
  {
   "cell_type": "code",
   "execution_count": 31,
   "metadata": {},
   "outputs": [
    {
     "data": {
      "text/plain": [
       "'2021-09-19'"
      ]
     },
     "execution_count": 31,
     "metadata": {},
     "output_type": "execute_result"
    }
   ],
   "source": [
    "today = datetime.datetime.today().strftime('%Y-%m-%d')\n",
    "today"
   ]
  },
  {
   "cell_type": "code",
   "execution_count": 32,
   "metadata": {},
   "outputs": [],
   "source": [
    "# style like ggplot in R\n",
    "plt.style.use('ggplot')"
   ]
  },
  {
   "cell_type": "code",
   "execution_count": 33,
   "metadata": {},
   "outputs": [],
   "source": [
    "# Avoid cutting off part of the axis labels, see:\n",
    "# https://stackoverflow.com/questions/6774086/why-is-my-xlabel-cut-off-in-my-matplotlib-plot\n",
    "plt.rcParams.update({'figure.autolayout': True})"
   ]
  },
  {
   "cell_type": "markdown",
   "metadata": {},
   "source": [
    "## Get Data"
   ]
  },
  {
   "cell_type": "code",
   "execution_count": 34,
   "metadata": {},
   "outputs": [],
   "source": [
    "timeline_data = \"https://diviexchange.blob.core.windows.net/%24web/bundesland-zeitreihe.csv\""
   ]
  },
  {
   "cell_type": "code",
   "execution_count": 35,
   "metadata": {},
   "outputs": [],
   "source": [
    "timeline_df = pd.read_csv(timeline_data)"
   ]
  },
  {
   "cell_type": "code",
   "execution_count": 36,
   "metadata": {},
   "outputs": [
    {
     "data": {
      "text/html": [
       "<div>\n",
       "<style scoped>\n",
       "    .dataframe tbody tr th:only-of-type {\n",
       "        vertical-align: middle;\n",
       "    }\n",
       "\n",
       "    .dataframe tbody tr th {\n",
       "        vertical-align: top;\n",
       "    }\n",
       "\n",
       "    .dataframe thead th {\n",
       "        text-align: right;\n",
       "    }\n",
       "</style>\n",
       "<table border=\"1\" class=\"dataframe\">\n",
       "  <thead>\n",
       "    <tr style=\"text-align: right;\">\n",
       "      <th></th>\n",
       "      <th>Datum</th>\n",
       "      <th>Bundesland</th>\n",
       "      <th>Anzahl_Meldebereiche_Erwachsene</th>\n",
       "      <th>Aktuelle_COVID_Faelle_Erwachsene_ITS</th>\n",
       "      <th>Belegte_Intensivbetten_Erwachsene</th>\n",
       "      <th>Freie_Intensivbetten_Erwachsene</th>\n",
       "      <th>7_Tage_Notfallreserve_Erwachsene</th>\n",
       "      <th>Freie_IV_Kapazitaeten_Gesamt</th>\n",
       "      <th>Freie_IV_Kapazitaeten_Davon_COVID</th>\n",
       "      <th>Betriebssituation_Regulaerer_Betrieb</th>\n",
       "      <th>Betriebssituation_Teilweise_Eingeschraenkt</th>\n",
       "      <th>Betriebssituation_Eingeschraenkt</th>\n",
       "      <th>Betriebssituation_Keine_Angabe</th>\n",
       "    </tr>\n",
       "  </thead>\n",
       "  <tbody>\n",
       "    <tr>\n",
       "      <th>9330</th>\n",
       "      <td>2021-09-19T12:15:00+02:00</td>\n",
       "      <td>BREMEN</td>\n",
       "      <td>11</td>\n",
       "      <td>13</td>\n",
       "      <td>152</td>\n",
       "      <td>11</td>\n",
       "      <td>129</td>\n",
       "      <td>15</td>\n",
       "      <td>6</td>\n",
       "      <td>1</td>\n",
       "      <td>4</td>\n",
       "      <td>6</td>\n",
       "      <td>0</td>\n",
       "    </tr>\n",
       "    <tr>\n",
       "      <th>9331</th>\n",
       "      <td>2021-09-19T12:15:00+02:00</td>\n",
       "      <td>BAYERN</td>\n",
       "      <td>206</td>\n",
       "      <td>278</td>\n",
       "      <td>2661</td>\n",
       "      <td>499</td>\n",
       "      <td>1000</td>\n",
       "      <td>453</td>\n",
       "      <td>176</td>\n",
       "      <td>64</td>\n",
       "      <td>36</td>\n",
       "      <td>72</td>\n",
       "      <td>34</td>\n",
       "    </tr>\n",
       "    <tr>\n",
       "      <th>9332</th>\n",
       "      <td>2021-09-19T12:15:00+02:00</td>\n",
       "      <td>DEUTSCHLAND</td>\n",
       "      <td>1312</td>\n",
       "      <td>1530</td>\n",
       "      <td>18671</td>\n",
       "      <td>3553</td>\n",
       "      <td>10357</td>\n",
       "      <td>3048</td>\n",
       "      <td>1197</td>\n",
       "      <td>504</td>\n",
       "      <td>252</td>\n",
       "      <td>409</td>\n",
       "      <td>147</td>\n",
       "    </tr>\n",
       "  </tbody>\n",
       "</table>\n",
       "</div>"
      ],
      "text/plain": [
       "                          Datum   Bundesland  Anzahl_Meldebereiche_Erwachsene  \\\n",
       "9330  2021-09-19T12:15:00+02:00       BREMEN                               11   \n",
       "9331  2021-09-19T12:15:00+02:00       BAYERN                              206   \n",
       "9332  2021-09-19T12:15:00+02:00  DEUTSCHLAND                             1312   \n",
       "\n",
       "      Aktuelle_COVID_Faelle_Erwachsene_ITS  Belegte_Intensivbetten_Erwachsene  \\\n",
       "9330                                    13                                152   \n",
       "9331                                   278                               2661   \n",
       "9332                                  1530                              18671   \n",
       "\n",
       "      Freie_Intensivbetten_Erwachsene  7_Tage_Notfallreserve_Erwachsene  \\\n",
       "9330                               11                               129   \n",
       "9331                              499                              1000   \n",
       "9332                             3553                             10357   \n",
       "\n",
       "      Freie_IV_Kapazitaeten_Gesamt  Freie_IV_Kapazitaeten_Davon_COVID  \\\n",
       "9330                            15                                  6   \n",
       "9331                           453                                176   \n",
       "9332                          3048                               1197   \n",
       "\n",
       "      Betriebssituation_Regulaerer_Betrieb  \\\n",
       "9330                                     1   \n",
       "9331                                    64   \n",
       "9332                                   504   \n",
       "\n",
       "      Betriebssituation_Teilweise_Eingeschraenkt  \\\n",
       "9330                                           4   \n",
       "9331                                          36   \n",
       "9332                                         252   \n",
       "\n",
       "      Betriebssituation_Eingeschraenkt  Betriebssituation_Keine_Angabe  \n",
       "9330                                 6                               0  \n",
       "9331                                72                              34  \n",
       "9332                               409                             147  "
      ]
     },
     "execution_count": 36,
     "metadata": {},
     "output_type": "execute_result"
    }
   ],
   "source": [
    "timeline_df.tail(3)"
   ]
  },
  {
   "cell_type": "markdown",
   "metadata": {},
   "source": [
    "## Rename Columns"
   ]
  },
  {
   "cell_type": "markdown",
   "metadata": {},
   "source": [
    "### Convert datatype of date column"
   ]
  },
  {
   "cell_type": "code",
   "execution_count": 37,
   "metadata": {},
   "outputs": [
    {
     "data": {
      "text/html": [
       "<div>\n",
       "<style scoped>\n",
       "    .dataframe tbody tr th:only-of-type {\n",
       "        vertical-align: middle;\n",
       "    }\n",
       "\n",
       "    .dataframe tbody tr th {\n",
       "        vertical-align: top;\n",
       "    }\n",
       "\n",
       "    .dataframe thead th {\n",
       "        text-align: right;\n",
       "    }\n",
       "</style>\n",
       "<table border=\"1\" class=\"dataframe\">\n",
       "  <thead>\n",
       "    <tr style=\"text-align: right;\">\n",
       "      <th></th>\n",
       "      <th>Datum</th>\n",
       "      <th>Bundesland</th>\n",
       "      <th>Anzahl_Meldebereiche_Erwachsene</th>\n",
       "      <th>Aktuelle_COVID_Faelle_Erwachsene_ITS</th>\n",
       "      <th>Belegte_Intensivbetten_Erwachsene</th>\n",
       "      <th>Freie_Intensivbetten_Erwachsene</th>\n",
       "      <th>7_Tage_Notfallreserve_Erwachsene</th>\n",
       "      <th>Freie_IV_Kapazitaeten_Gesamt</th>\n",
       "      <th>Freie_IV_Kapazitaeten_Davon_COVID</th>\n",
       "      <th>Betriebssituation_Regulaerer_Betrieb</th>\n",
       "      <th>Betriebssituation_Teilweise_Eingeschraenkt</th>\n",
       "      <th>Betriebssituation_Eingeschraenkt</th>\n",
       "      <th>Betriebssituation_Keine_Angabe</th>\n",
       "    </tr>\n",
       "  </thead>\n",
       "  <tbody>\n",
       "    <tr>\n",
       "      <th>0</th>\n",
       "      <td>2020-03-20</td>\n",
       "      <td>SCHLESWIG_HOLSTEIN</td>\n",
       "      <td>13</td>\n",
       "      <td>7</td>\n",
       "      <td>16</td>\n",
       "      <td>99</td>\n",
       "      <td>0</td>\n",
       "      <td>68</td>\n",
       "      <td>0</td>\n",
       "      <td>11</td>\n",
       "      <td>2</td>\n",
       "      <td>0</td>\n",
       "      <td>0</td>\n",
       "    </tr>\n",
       "    <tr>\n",
       "      <th>1</th>\n",
       "      <td>2020-03-20</td>\n",
       "      <td>HAMBURG</td>\n",
       "      <td>11</td>\n",
       "      <td>6</td>\n",
       "      <td>24</td>\n",
       "      <td>115</td>\n",
       "      <td>0</td>\n",
       "      <td>70</td>\n",
       "      <td>0</td>\n",
       "      <td>9</td>\n",
       "      <td>0</td>\n",
       "      <td>2</td>\n",
       "      <td>0</td>\n",
       "    </tr>\n",
       "    <tr>\n",
       "      <th>2</th>\n",
       "      <td>2020-03-20</td>\n",
       "      <td>BADEN_WUERTTEMBERG</td>\n",
       "      <td>31</td>\n",
       "      <td>35</td>\n",
       "      <td>39</td>\n",
       "      <td>330</td>\n",
       "      <td>0</td>\n",
       "      <td>205</td>\n",
       "      <td>0</td>\n",
       "      <td>20</td>\n",
       "      <td>7</td>\n",
       "      <td>3</td>\n",
       "      <td>1</td>\n",
       "    </tr>\n",
       "    <tr>\n",
       "      <th>3</th>\n",
       "      <td>2020-03-20</td>\n",
       "      <td>SACHSEN</td>\n",
       "      <td>20</td>\n",
       "      <td>3</td>\n",
       "      <td>44</td>\n",
       "      <td>272</td>\n",
       "      <td>0</td>\n",
       "      <td>215</td>\n",
       "      <td>0</td>\n",
       "      <td>16</td>\n",
       "      <td>2</td>\n",
       "      <td>2</td>\n",
       "      <td>0</td>\n",
       "    </tr>\n",
       "    <tr>\n",
       "      <th>4</th>\n",
       "      <td>2020-03-20</td>\n",
       "      <td>RHEINLAND_PFALZ</td>\n",
       "      <td>15</td>\n",
       "      <td>14</td>\n",
       "      <td>48</td>\n",
       "      <td>112</td>\n",
       "      <td>0</td>\n",
       "      <td>62</td>\n",
       "      <td>0</td>\n",
       "      <td>10</td>\n",
       "      <td>3</td>\n",
       "      <td>2</td>\n",
       "      <td>0</td>\n",
       "    </tr>\n",
       "  </tbody>\n",
       "</table>\n",
       "</div>"
      ],
      "text/plain": [
       "        Datum          Bundesland  Anzahl_Meldebereiche_Erwachsene  \\\n",
       "0  2020-03-20  SCHLESWIG_HOLSTEIN                               13   \n",
       "1  2020-03-20             HAMBURG                               11   \n",
       "2  2020-03-20  BADEN_WUERTTEMBERG                               31   \n",
       "3  2020-03-20             SACHSEN                               20   \n",
       "4  2020-03-20     RHEINLAND_PFALZ                               15   \n",
       "\n",
       "   Aktuelle_COVID_Faelle_Erwachsene_ITS  Belegte_Intensivbetten_Erwachsene  \\\n",
       "0                                     7                                 16   \n",
       "1                                     6                                 24   \n",
       "2                                    35                                 39   \n",
       "3                                     3                                 44   \n",
       "4                                    14                                 48   \n",
       "\n",
       "   Freie_Intensivbetten_Erwachsene  7_Tage_Notfallreserve_Erwachsene  \\\n",
       "0                               99                                 0   \n",
       "1                              115                                 0   \n",
       "2                              330                                 0   \n",
       "3                              272                                 0   \n",
       "4                              112                                 0   \n",
       "\n",
       "   Freie_IV_Kapazitaeten_Gesamt  Freie_IV_Kapazitaeten_Davon_COVID  \\\n",
       "0                            68                                  0   \n",
       "1                            70                                  0   \n",
       "2                           205                                  0   \n",
       "3                           215                                  0   \n",
       "4                            62                                  0   \n",
       "\n",
       "   Betriebssituation_Regulaerer_Betrieb  \\\n",
       "0                                    11   \n",
       "1                                     9   \n",
       "2                                    20   \n",
       "3                                    16   \n",
       "4                                    10   \n",
       "\n",
       "   Betriebssituation_Teilweise_Eingeschraenkt  \\\n",
       "0                                           2   \n",
       "1                                           0   \n",
       "2                                           7   \n",
       "3                                           2   \n",
       "4                                           3   \n",
       "\n",
       "   Betriebssituation_Eingeschraenkt  Betriebssituation_Keine_Angabe  \n",
       "0                                 0                               0  \n",
       "1                                 2                               0  \n",
       "2                                 3                               1  \n",
       "3                                 2                               0  \n",
       "4                                 2                               0  "
      ]
     },
     "execution_count": 37,
     "metadata": {},
     "output_type": "execute_result"
    }
   ],
   "source": [
    "timeline_df[\"Datum\"] = timeline_df[\"Datum\"].str[:10]\n",
    "timeline_df.head()"
   ]
  },
  {
   "cell_type": "code",
   "execution_count": 38,
   "metadata": {},
   "outputs": [],
   "source": [
    "timeline_df.iloc[ : , [0]] = timeline_df.iloc[ : , [0]].apply(pd.to_datetime)"
   ]
  },
  {
   "cell_type": "code",
   "execution_count": 39,
   "metadata": {},
   "outputs": [
    {
     "name": "stdout",
     "output_type": "stream",
     "text": [
      "<class 'pandas.core.frame.DataFrame'>\n",
      "RangeIndex: 9333 entries, 0 to 9332\n",
      "Data columns (total 13 columns):\n",
      " #   Column                                      Non-Null Count  Dtype         \n",
      "---  ------                                      --------------  -----         \n",
      " 0   Datum                                       9333 non-null   datetime64[ns]\n",
      " 1   Bundesland                                  9333 non-null   object        \n",
      " 2   Anzahl_Meldebereiche_Erwachsene             9333 non-null   int64         \n",
      " 3   Aktuelle_COVID_Faelle_Erwachsene_ITS        9333 non-null   int64         \n",
      " 4   Belegte_Intensivbetten_Erwachsene           9333 non-null   int64         \n",
      " 5   Freie_Intensivbetten_Erwachsene             9333 non-null   int64         \n",
      " 6   7_Tage_Notfallreserve_Erwachsene            9333 non-null   int64         \n",
      " 7   Freie_IV_Kapazitaeten_Gesamt                9333 non-null   int64         \n",
      " 8   Freie_IV_Kapazitaeten_Davon_COVID           9333 non-null   int64         \n",
      " 9   Betriebssituation_Regulaerer_Betrieb        9333 non-null   int64         \n",
      " 10  Betriebssituation_Teilweise_Eingeschraenkt  9333 non-null   int64         \n",
      " 11  Betriebssituation_Eingeschraenkt            9333 non-null   int64         \n",
      " 12  Betriebssituation_Keine_Angabe              9333 non-null   int64         \n",
      "dtypes: datetime64[ns](1), int64(11), object(1)\n",
      "memory usage: 948.0+ KB\n"
     ]
    }
   ],
   "source": [
    "timeline_df.info()"
   ]
  },
  {
   "cell_type": "code",
   "execution_count": 40,
   "metadata": {},
   "outputs": [
    {
     "data": {
      "text/html": [
       "<div>\n",
       "<style scoped>\n",
       "    .dataframe tbody tr th:only-of-type {\n",
       "        vertical-align: middle;\n",
       "    }\n",
       "\n",
       "    .dataframe tbody tr th {\n",
       "        vertical-align: top;\n",
       "    }\n",
       "\n",
       "    .dataframe thead th {\n",
       "        text-align: right;\n",
       "    }\n",
       "</style>\n",
       "<table border=\"1\" class=\"dataframe\">\n",
       "  <thead>\n",
       "    <tr style=\"text-align: right;\">\n",
       "      <th></th>\n",
       "      <th>Datum</th>\n",
       "      <th>Bundesland</th>\n",
       "      <th>Anzahl_Meldebereiche_Erwachsene</th>\n",
       "      <th>Aktuelle_COVID_Faelle_Erwachsene_ITS</th>\n",
       "      <th>Belegte_Intensivbetten_Erwachsene</th>\n",
       "      <th>Freie_Intensivbetten_Erwachsene</th>\n",
       "      <th>7_Tage_Notfallreserve_Erwachsene</th>\n",
       "      <th>Freie_IV_Kapazitaeten_Gesamt</th>\n",
       "      <th>Freie_IV_Kapazitaeten_Davon_COVID</th>\n",
       "      <th>Betriebssituation_Regulaerer_Betrieb</th>\n",
       "      <th>Betriebssituation_Teilweise_Eingeschraenkt</th>\n",
       "      <th>Betriebssituation_Eingeschraenkt</th>\n",
       "      <th>Betriebssituation_Keine_Angabe</th>\n",
       "    </tr>\n",
       "  </thead>\n",
       "  <tbody>\n",
       "    <tr>\n",
       "      <th>9298</th>\n",
       "      <td>2021-09-17</td>\n",
       "      <td>DEUTSCHLAND</td>\n",
       "      <td>1313</td>\n",
       "      <td>1534</td>\n",
       "      <td>19441</td>\n",
       "      <td>3103</td>\n",
       "      <td>10324</td>\n",
       "      <td>2785</td>\n",
       "      <td>1116</td>\n",
       "      <td>518</td>\n",
       "      <td>242</td>\n",
       "      <td>404</td>\n",
       "      <td>149</td>\n",
       "    </tr>\n",
       "    <tr>\n",
       "      <th>9315</th>\n",
       "      <td>2021-09-18</td>\n",
       "      <td>DEUTSCHLAND</td>\n",
       "      <td>1314</td>\n",
       "      <td>1515</td>\n",
       "      <td>18999</td>\n",
       "      <td>3339</td>\n",
       "      <td>10359</td>\n",
       "      <td>2923</td>\n",
       "      <td>1204</td>\n",
       "      <td>518</td>\n",
       "      <td>248</td>\n",
       "      <td>400</td>\n",
       "      <td>148</td>\n",
       "    </tr>\n",
       "    <tr>\n",
       "      <th>9332</th>\n",
       "      <td>2021-09-19</td>\n",
       "      <td>DEUTSCHLAND</td>\n",
       "      <td>1312</td>\n",
       "      <td>1530</td>\n",
       "      <td>18671</td>\n",
       "      <td>3553</td>\n",
       "      <td>10357</td>\n",
       "      <td>3048</td>\n",
       "      <td>1197</td>\n",
       "      <td>504</td>\n",
       "      <td>252</td>\n",
       "      <td>409</td>\n",
       "      <td>147</td>\n",
       "    </tr>\n",
       "  </tbody>\n",
       "</table>\n",
       "</div>"
      ],
      "text/plain": [
       "          Datum   Bundesland  Anzahl_Meldebereiche_Erwachsene  \\\n",
       "9298 2021-09-17  DEUTSCHLAND                             1313   \n",
       "9315 2021-09-18  DEUTSCHLAND                             1314   \n",
       "9332 2021-09-19  DEUTSCHLAND                             1312   \n",
       "\n",
       "      Aktuelle_COVID_Faelle_Erwachsene_ITS  Belegte_Intensivbetten_Erwachsene  \\\n",
       "9298                                  1534                              19441   \n",
       "9315                                  1515                              18999   \n",
       "9332                                  1530                              18671   \n",
       "\n",
       "      Freie_Intensivbetten_Erwachsene  7_Tage_Notfallreserve_Erwachsene  \\\n",
       "9298                             3103                             10324   \n",
       "9315                             3339                             10359   \n",
       "9332                             3553                             10357   \n",
       "\n",
       "      Freie_IV_Kapazitaeten_Gesamt  Freie_IV_Kapazitaeten_Davon_COVID  \\\n",
       "9298                          2785                               1116   \n",
       "9315                          2923                               1204   \n",
       "9332                          3048                               1197   \n",
       "\n",
       "      Betriebssituation_Regulaerer_Betrieb  \\\n",
       "9298                                   518   \n",
       "9315                                   518   \n",
       "9332                                   504   \n",
       "\n",
       "      Betriebssituation_Teilweise_Eingeschraenkt  \\\n",
       "9298                                         242   \n",
       "9315                                         248   \n",
       "9332                                         252   \n",
       "\n",
       "      Betriebssituation_Eingeschraenkt  Betriebssituation_Keine_Angabe  \n",
       "9298                               404                             149  \n",
       "9315                               400                             148  \n",
       "9332                               409                             147  "
      ]
     },
     "execution_count": 40,
     "metadata": {},
     "output_type": "execute_result"
    }
   ],
   "source": [
    "federal_level = timeline_df[timeline_df.Bundesland=='DEUTSCHLAND']\n",
    "federal_level.tail(3)"
   ]
  },
  {
   "cell_type": "markdown",
   "metadata": {},
   "source": [
    "## Used Beds (Adults)"
   ]
  },
  {
   "cell_type": "code",
   "execution_count": 41,
   "metadata": {},
   "outputs": [
    {
     "name": "stdout",
     "output_type": "stream",
     "text": [
      "<class 'pandas.core.frame.DataFrame'>\n",
      "Int64Index: 549 entries, 16 to 9332\n",
      "Data columns (total 2 columns):\n",
      " #   Column                    Non-Null Count  Dtype         \n",
      "---  ------                    --------------  -----         \n",
      " 0   date                      549 non-null    datetime64[ns]\n",
      " 1   ICU beds in use (adults)  549 non-null    int64         \n",
      "dtypes: datetime64[ns](1), int64(1)\n",
      "memory usage: 12.9 KB\n"
     ]
    }
   ],
   "source": [
    "used_beds = federal_level.loc[ : , ['Datum', 'Belegte_Intensivbetten_Erwachsene']]\n",
    "used_beds.columns = ['date', 'ICU beds in use (adults)']\n",
    "used_beds.info()"
   ]
  },
  {
   "cell_type": "code",
   "execution_count": 42,
   "metadata": {},
   "outputs": [],
   "source": [
    "used_beds.set_index('date', inplace=True)"
   ]
  },
  {
   "cell_type": "code",
   "execution_count": 43,
   "metadata": {},
   "outputs": [
    {
     "data": {
      "text/plain": [
       "<AxesSubplot:xlabel='date'>"
      ]
     },
     "execution_count": 43,
     "metadata": {},
     "output_type": "execute_result"
    },
    {
     "data": {
      "image/png": "[encoded data removed]",
      "text/plain": [
       "<Figure size 432x288 with 1 Axes>"
      ]
     },
     "metadata": {},
     "output_type": "display_data"
    }
   ],
   "source": [
    "used_beds.plot()"
   ]
  },
  {
   "cell_type": "markdown",
   "metadata": {},
   "source": [
    "## Covid-19 patients in ICU"
   ]
  },
  {
   "cell_type": "code",
   "execution_count": 44,
   "metadata": {},
   "outputs": [],
   "source": [
    "icu = federal_level.loc[ : , ['Datum', 'Aktuelle_COVID_Faelle_Erwachsene_ITS']]"
   ]
  },
  {
   "cell_type": "code",
   "execution_count": 45,
   "metadata": {},
   "outputs": [
    {
     "name": "stdout",
     "output_type": "stream",
     "text": [
      "<class 'pandas.core.frame.DataFrame'>\n",
      "DatetimeIndex: 549 entries, 2020-03-20 to 2021-09-19\n",
      "Data columns (total 1 columns):\n",
      " #   Column                 Non-Null Count  Dtype\n",
      "---  ------                 --------------  -----\n",
      " 0   Covid-19 cases in ICU  549 non-null    int64\n",
      "dtypes: int64(1)\n",
      "memory usage: 8.6 KB\n"
     ]
    }
   ],
   "source": [
    "icu.columns = ['date', 'Covid-19 cases in ICU']\n",
    "icu.set_index('date', inplace=True)\n",
    "icu.info()"
   ]
  },
  {
   "cell_type": "code",
   "execution_count": 46,
   "metadata": {},
   "outputs": [
    {
     "data": {
      "image/png": "[encoded data removed]",
      "text/plain": [
       "<Figure size 432x288 with 1 Axes>"
      ]
     },
     "metadata": {},
     "output_type": "display_data"
    }
   ],
   "source": [
    "icu_cases = icu.plot(\n",
    "    title='Patients with Covid-19 in German ICUs\\n(Data Source: DIVI-Intensivregister)',\n",
    "xlabel='Date',\n",
    "ylabel='Number of Patients')"
   ]
  },
  {
   "cell_type": "code",
   "execution_count": 47,
   "metadata": {},
   "outputs": [],
   "source": [
    "fig = icu_cases.get_figure()\n",
    "fig.savefig('img/covid-19-patients-in-icu-germany.png')"
   ]
  },
  {
   "cell_type": "markdown",
   "metadata": {},
   "source": [
    "### Situation in North Rhine-Westphalia\n",
    "\n",
    "NRW ist the state in Germany with the highest number of inhabitants."
   ]
  },
  {
   "cell_type": "code",
   "execution_count": 48,
   "metadata": {},
   "outputs": [
    {
     "data": {
      "text/html": [
       "<div>\n",
       "<style scoped>\n",
       "    .dataframe tbody tr th:only-of-type {\n",
       "        vertical-align: middle;\n",
       "    }\n",
       "\n",
       "    .dataframe tbody tr th {\n",
       "        vertical-align: top;\n",
       "    }\n",
       "\n",
       "    .dataframe thead th {\n",
       "        text-align: right;\n",
       "    }\n",
       "</style>\n",
       "<table border=\"1\" class=\"dataframe\">\n",
       "  <thead>\n",
       "    <tr style=\"text-align: right;\">\n",
       "      <th></th>\n",
       "      <th>Datum</th>\n",
       "      <th>Bundesland</th>\n",
       "      <th>Anzahl_Meldebereiche_Erwachsene</th>\n",
       "      <th>Aktuelle_COVID_Faelle_Erwachsene_ITS</th>\n",
       "      <th>Belegte_Intensivbetten_Erwachsene</th>\n",
       "      <th>Freie_Intensivbetten_Erwachsene</th>\n",
       "      <th>7_Tage_Notfallreserve_Erwachsene</th>\n",
       "      <th>Freie_IV_Kapazitaeten_Gesamt</th>\n",
       "      <th>Freie_IV_Kapazitaeten_Davon_COVID</th>\n",
       "      <th>Betriebssituation_Regulaerer_Betrieb</th>\n",
       "      <th>Betriebssituation_Teilweise_Eingeschraenkt</th>\n",
       "      <th>Betriebssituation_Eingeschraenkt</th>\n",
       "      <th>Betriebssituation_Keine_Angabe</th>\n",
       "    </tr>\n",
       "  </thead>\n",
       "  <tbody>\n",
       "    <tr>\n",
       "      <th>9307</th>\n",
       "      <td>2021-09-18</td>\n",
       "      <td>NORDRHEIN_WESTFALEN</td>\n",
       "      <td>312</td>\n",
       "      <td>409</td>\n",
       "      <td>4587</td>\n",
       "      <td>691</td>\n",
       "      <td>2391</td>\n",
       "      <td>582</td>\n",
       "      <td>296</td>\n",
       "      <td>127</td>\n",
       "      <td>66</td>\n",
       "      <td>99</td>\n",
       "      <td>20</td>\n",
       "    </tr>\n",
       "    <tr>\n",
       "      <th>9325</th>\n",
       "      <td>2021-09-19</td>\n",
       "      <td>NORDRHEIN_WESTFALEN</td>\n",
       "      <td>311</td>\n",
       "      <td>409</td>\n",
       "      <td>4497</td>\n",
       "      <td>734</td>\n",
       "      <td>2384</td>\n",
       "      <td>598</td>\n",
       "      <td>290</td>\n",
       "      <td>123</td>\n",
       "      <td>65</td>\n",
       "      <td>103</td>\n",
       "      <td>20</td>\n",
       "    </tr>\n",
       "  </tbody>\n",
       "</table>\n",
       "</div>"
      ],
      "text/plain": [
       "          Datum           Bundesland  Anzahl_Meldebereiche_Erwachsene  \\\n",
       "9307 2021-09-18  NORDRHEIN_WESTFALEN                              312   \n",
       "9325 2021-09-19  NORDRHEIN_WESTFALEN                              311   \n",
       "\n",
       "      Aktuelle_COVID_Faelle_Erwachsene_ITS  Belegte_Intensivbetten_Erwachsene  \\\n",
       "9307                                   409                               4587   \n",
       "9325                                   409                               4497   \n",
       "\n",
       "      Freie_Intensivbetten_Erwachsene  7_Tage_Notfallreserve_Erwachsene  \\\n",
       "9307                              691                              2391   \n",
       "9325                              734                              2384   \n",
       "\n",
       "      Freie_IV_Kapazitaeten_Gesamt  Freie_IV_Kapazitaeten_Davon_COVID  \\\n",
       "9307                           582                                296   \n",
       "9325                           598                                290   \n",
       "\n",
       "      Betriebssituation_Regulaerer_Betrieb  \\\n",
       "9307                                   127   \n",
       "9325                                   123   \n",
       "\n",
       "      Betriebssituation_Teilweise_Eingeschraenkt  \\\n",
       "9307                                          66   \n",
       "9325                                          65   \n",
       "\n",
       "      Betriebssituation_Eingeschraenkt  Betriebssituation_Keine_Angabe  \n",
       "9307                                99                              20  \n",
       "9325                               103                              20  "
      ]
     },
     "execution_count": 48,
     "metadata": {},
     "output_type": "execute_result"
    }
   ],
   "source": [
    "nrw = timeline_df[timeline_df.Bundesland=='NORDRHEIN_WESTFALEN']\n",
    "nrw.tail(2)"
   ]
  },
  {
   "cell_type": "code",
   "execution_count": 49,
   "metadata": {},
   "outputs": [
    {
     "name": "stdout",
     "output_type": "stream",
     "text": [
      "<class 'pandas.core.frame.DataFrame'>\n",
      "DatetimeIndex: 549 entries, 2020-03-20 to 2021-09-19\n",
      "Data columns (total 1 columns):\n",
      " #   Column                 Non-Null Count  Dtype\n",
      "---  ------                 --------------  -----\n",
      " 0   Covid-19 cases in ICU  549 non-null    int64\n",
      "dtypes: int64(1)\n",
      "memory usage: 8.6 KB\n"
     ]
    }
   ],
   "source": [
    "icu_nrw = nrw.loc[ : , ['Datum', 'Aktuelle_COVID_Faelle_Erwachsene_ITS']]\n",
    "icu_nrw.columns = ['date', 'Covid-19 cases in ICU']\n",
    "icu_nrw.set_index('date', inplace=True)\n",
    "icu_nrw.info()"
   ]
  },
  {
   "cell_type": "code",
   "execution_count": 50,
   "metadata": {},
   "outputs": [
    {
     "data": {
      "image/png": "[encoded data removed]",
      "text/plain": [
       "<Figure size 432x288 with 1 Axes>"
      ]
     },
     "metadata": {},
     "output_type": "display_data"
    }
   ],
   "source": [
    "icu_cases_nrw = icu_nrw.plot(\n",
    "    title='Patients with Covid-19 in ICUs in North Rhine-Westphalia\\n(Data Source: DIVI-Intensivregister)',\n",
    "xlabel='Date',\n",
    "ylabel='Number of Patients')"
   ]
  },
  {
   "cell_type": "markdown",
   "metadata": {},
   "source": [
    "### Situation in Rhineland-Palatinate"
   ]
  },
  {
   "cell_type": "code",
   "execution_count": 51,
   "metadata": {},
   "outputs": [
    {
     "data": {
      "text/html": [
       "<div>\n",
       "<style scoped>\n",
       "    .dataframe tbody tr th:only-of-type {\n",
       "        vertical-align: middle;\n",
       "    }\n",
       "\n",
       "    .dataframe tbody tr th {\n",
       "        vertical-align: top;\n",
       "    }\n",
       "\n",
       "    .dataframe thead th {\n",
       "        text-align: right;\n",
       "    }\n",
       "</style>\n",
       "<table border=\"1\" class=\"dataframe\">\n",
       "  <thead>\n",
       "    <tr style=\"text-align: right;\">\n",
       "      <th></th>\n",
       "      <th>Datum</th>\n",
       "      <th>Bundesland</th>\n",
       "      <th>Anzahl_Meldebereiche_Erwachsene</th>\n",
       "      <th>Aktuelle_COVID_Faelle_Erwachsene_ITS</th>\n",
       "      <th>Belegte_Intensivbetten_Erwachsene</th>\n",
       "      <th>Freie_Intensivbetten_Erwachsene</th>\n",
       "      <th>7_Tage_Notfallreserve_Erwachsene</th>\n",
       "      <th>Freie_IV_Kapazitaeten_Gesamt</th>\n",
       "      <th>Freie_IV_Kapazitaeten_Davon_COVID</th>\n",
       "      <th>Betriebssituation_Regulaerer_Betrieb</th>\n",
       "      <th>Betriebssituation_Teilweise_Eingeschraenkt</th>\n",
       "      <th>Betriebssituation_Eingeschraenkt</th>\n",
       "      <th>Betriebssituation_Keine_Angabe</th>\n",
       "    </tr>\n",
       "  </thead>\n",
       "  <tbody>\n",
       "    <tr>\n",
       "      <th>9303</th>\n",
       "      <td>2021-09-18</td>\n",
       "      <td>RHEINLAND_PFALZ</td>\n",
       "      <td>77</td>\n",
       "      <td>82</td>\n",
       "      <td>787</td>\n",
       "      <td>206</td>\n",
       "      <td>415</td>\n",
       "      <td>160</td>\n",
       "      <td>80</td>\n",
       "      <td>30</td>\n",
       "      <td>17</td>\n",
       "      <td>24</td>\n",
       "      <td>6</td>\n",
       "    </tr>\n",
       "    <tr>\n",
       "      <th>9320</th>\n",
       "      <td>2021-09-19</td>\n",
       "      <td>RHEINLAND_PFALZ</td>\n",
       "      <td>77</td>\n",
       "      <td>78</td>\n",
       "      <td>782</td>\n",
       "      <td>207</td>\n",
       "      <td>422</td>\n",
       "      <td>164</td>\n",
       "      <td>79</td>\n",
       "      <td>30</td>\n",
       "      <td>17</td>\n",
       "      <td>24</td>\n",
       "      <td>6</td>\n",
       "    </tr>\n",
       "  </tbody>\n",
       "</table>\n",
       "</div>"
      ],
      "text/plain": [
       "          Datum       Bundesland  Anzahl_Meldebereiche_Erwachsene  \\\n",
       "9303 2021-09-18  RHEINLAND_PFALZ                               77   \n",
       "9320 2021-09-19  RHEINLAND_PFALZ                               77   \n",
       "\n",
       "      Aktuelle_COVID_Faelle_Erwachsene_ITS  Belegte_Intensivbetten_Erwachsene  \\\n",
       "9303                                    82                                787   \n",
       "9320                                    78                                782   \n",
       "\n",
       "      Freie_Intensivbetten_Erwachsene  7_Tage_Notfallreserve_Erwachsene  \\\n",
       "9303                              206                               415   \n",
       "9320                              207                               422   \n",
       "\n",
       "      Freie_IV_Kapazitaeten_Gesamt  Freie_IV_Kapazitaeten_Davon_COVID  \\\n",
       "9303                           160                                 80   \n",
       "9320                           164                                 79   \n",
       "\n",
       "      Betriebssituation_Regulaerer_Betrieb  \\\n",
       "9303                                    30   \n",
       "9320                                    30   \n",
       "\n",
       "      Betriebssituation_Teilweise_Eingeschraenkt  \\\n",
       "9303                                          17   \n",
       "9320                                          17   \n",
       "\n",
       "      Betriebssituation_Eingeschraenkt  Betriebssituation_Keine_Angabe  \n",
       "9303                                24                               6  \n",
       "9320                                24                               6  "
      ]
     },
     "execution_count": 51,
     "metadata": {},
     "output_type": "execute_result"
    }
   ],
   "source": [
    "rlp = timeline_df[timeline_df.Bundesland=='RHEINLAND_PFALZ']\n",
    "rlp.tail(2)"
   ]
  },
  {
   "cell_type": "code",
   "execution_count": 52,
   "metadata": {},
   "outputs": [
    {
     "name": "stdout",
     "output_type": "stream",
     "text": [
      "<class 'pandas.core.frame.DataFrame'>\n",
      "DatetimeIndex: 549 entries, 2020-03-20 to 2021-09-19\n",
      "Data columns (total 1 columns):\n",
      " #   Column                 Non-Null Count  Dtype\n",
      "---  ------                 --------------  -----\n",
      " 0   Covid-19 cases in ICU  549 non-null    int64\n",
      "dtypes: int64(1)\n",
      "memory usage: 8.6 KB\n"
     ]
    }
   ],
   "source": [
    "icu_rlp = rlp.loc[ : , ['Datum', 'Aktuelle_COVID_Faelle_Erwachsene_ITS']]\n",
    "icu_rlp.columns = ['date', 'Covid-19 cases in ICU']\n",
    "icu_rlp.set_index('date', inplace=True)\n",
    "icu_rlp.info()"
   ]
  },
  {
   "cell_type": "code",
   "execution_count": 53,
   "metadata": {},
   "outputs": [
    {
     "data": {
      "image/png": "[encoded data removed]",
      "text/plain": [
       "<Figure size 432x288 with 1 Axes>"
      ]
     },
     "metadata": {},
     "output_type": "display_data"
    }
   ],
   "source": [
    "icu_cases_rlp = icu_rlp.plot(\n",
    "    title='Patients with Covid-19 in ICUs in Rhineland-Palatinate\\n(Data Source: DIVI-Intensivregister)',\n",
    "xlabel='Date',\n",
    "ylabel='Number of Patients')"
   ]
  },
  {
   "cell_type": "markdown",
   "metadata": {},
   "source": [
    "### Situation in Saxony\n",
    "\n",
    "Saxonia had high case numbers during the pandemic."
   ]
  },
  {
   "cell_type": "code",
   "execution_count": 54,
   "metadata": {},
   "outputs": [
    {
     "data": {
      "text/html": [
       "<div>\n",
       "<style scoped>\n",
       "    .dataframe tbody tr th:only-of-type {\n",
       "        vertical-align: middle;\n",
       "    }\n",
       "\n",
       "    .dataframe tbody tr th {\n",
       "        vertical-align: top;\n",
       "    }\n",
       "\n",
       "    .dataframe thead th {\n",
       "        text-align: right;\n",
       "    }\n",
       "</style>\n",
       "<table border=\"1\" class=\"dataframe\">\n",
       "  <thead>\n",
       "    <tr style=\"text-align: right;\">\n",
       "      <th></th>\n",
       "      <th>Datum</th>\n",
       "      <th>Bundesland</th>\n",
       "      <th>Anzahl_Meldebereiche_Erwachsene</th>\n",
       "      <th>Aktuelle_COVID_Faelle_Erwachsene_ITS</th>\n",
       "      <th>Belegte_Intensivbetten_Erwachsene</th>\n",
       "      <th>Freie_Intensivbetten_Erwachsene</th>\n",
       "      <th>7_Tage_Notfallreserve_Erwachsene</th>\n",
       "      <th>Freie_IV_Kapazitaeten_Gesamt</th>\n",
       "      <th>Freie_IV_Kapazitaeten_Davon_COVID</th>\n",
       "      <th>Betriebssituation_Regulaerer_Betrieb</th>\n",
       "      <th>Betriebssituation_Teilweise_Eingeschraenkt</th>\n",
       "      <th>Betriebssituation_Eingeschraenkt</th>\n",
       "      <th>Betriebssituation_Keine_Angabe</th>\n",
       "    </tr>\n",
       "  </thead>\n",
       "  <tbody>\n",
       "    <tr>\n",
       "      <th>9302</th>\n",
       "      <td>2021-09-18</td>\n",
       "      <td>SACHSEN</td>\n",
       "      <td>79</td>\n",
       "      <td>36</td>\n",
       "      <td>1226</td>\n",
       "      <td>252</td>\n",
       "      <td>629</td>\n",
       "      <td>276</td>\n",
       "      <td>95</td>\n",
       "      <td>48</td>\n",
       "      <td>8</td>\n",
       "      <td>12</td>\n",
       "      <td>11</td>\n",
       "    </tr>\n",
       "    <tr>\n",
       "      <th>9319</th>\n",
       "      <td>2021-09-19</td>\n",
       "      <td>SACHSEN</td>\n",
       "      <td>79</td>\n",
       "      <td>37</td>\n",
       "      <td>1192</td>\n",
       "      <td>283</td>\n",
       "      <td>628</td>\n",
       "      <td>285</td>\n",
       "      <td>95</td>\n",
       "      <td>48</td>\n",
       "      <td>9</td>\n",
       "      <td>11</td>\n",
       "      <td>11</td>\n",
       "    </tr>\n",
       "  </tbody>\n",
       "</table>\n",
       "</div>"
      ],
      "text/plain": [
       "          Datum Bundesland  Anzahl_Meldebereiche_Erwachsene  \\\n",
       "9302 2021-09-18    SACHSEN                               79   \n",
       "9319 2021-09-19    SACHSEN                               79   \n",
       "\n",
       "      Aktuelle_COVID_Faelle_Erwachsene_ITS  Belegte_Intensivbetten_Erwachsene  \\\n",
       "9302                                    36                               1226   \n",
       "9319                                    37                               1192   \n",
       "\n",
       "      Freie_Intensivbetten_Erwachsene  7_Tage_Notfallreserve_Erwachsene  \\\n",
       "9302                              252                               629   \n",
       "9319                              283                               628   \n",
       "\n",
       "      Freie_IV_Kapazitaeten_Gesamt  Freie_IV_Kapazitaeten_Davon_COVID  \\\n",
       "9302                           276                                 95   \n",
       "9319                           285                                 95   \n",
       "\n",
       "      Betriebssituation_Regulaerer_Betrieb  \\\n",
       "9302                                    48   \n",
       "9319                                    48   \n",
       "\n",
       "      Betriebssituation_Teilweise_Eingeschraenkt  \\\n",
       "9302                                           8   \n",
       "9319                                           9   \n",
       "\n",
       "      Betriebssituation_Eingeschraenkt  Betriebssituation_Keine_Angabe  \n",
       "9302                                12                              11  \n",
       "9319                                11                              11  "
      ]
     },
     "execution_count": 54,
     "metadata": {},
     "output_type": "execute_result"
    }
   ],
   "source": [
    "saxonia = timeline_df[timeline_df.Bundesland=='SACHSEN']\n",
    "saxonia.tail(2)"
   ]
  },
  {
   "cell_type": "code",
   "execution_count": 55,
   "metadata": {},
   "outputs": [
    {
     "name": "stdout",
     "output_type": "stream",
     "text": [
      "<class 'pandas.core.frame.DataFrame'>\n",
      "DatetimeIndex: 549 entries, 2020-03-20 to 2021-09-19\n",
      "Data columns (total 1 columns):\n",
      " #   Column                 Non-Null Count  Dtype\n",
      "---  ------                 --------------  -----\n",
      " 0   Covid-19 cases in ICU  549 non-null    int64\n",
      "dtypes: int64(1)\n",
      "memory usage: 8.6 KB\n"
     ]
    }
   ],
   "source": [
    "icu_saxonia = saxonia.loc[ : , ['Datum', 'Aktuelle_COVID_Faelle_Erwachsene_ITS']]\n",
    "icu_saxonia.columns = ['date', 'Covid-19 cases in ICU']\n",
    "icu_saxonia.set_index('date', inplace=True)\n",
    "icu_saxonia.info()"
   ]
  },
  {
   "cell_type": "code",
   "execution_count": 56,
   "metadata": {},
   "outputs": [
    {
     "data": {
      "image/png": "[encoded data removed]",
      "text/plain": [
       "<Figure size 432x288 with 1 Axes>"
      ]
     },
     "metadata": {},
     "output_type": "display_data"
    }
   ],
   "source": [
    "icu_cases_saxonia = icu_saxonia.plot(\n",
    "    title='Patients with Covid-19 in ICUs in Saxonia\\n(Data Source: DIVI-Intensivregister)',\n",
    "xlabel='Date',\n",
    "ylabel='Number of Patients')"
   ]
  }
 ],
 "metadata": {
  "kernelspec": {
   "display_name": "Python 3",
   "language": "python",
   "name": "python3"
  },
  "language_info": {
   "codemirror_mode": {
    "name": "ipython",
    "version": 3
   },
   "file_extension": ".py",
   "mimetype": "text/x-python",
   "name": "python",
   "nbconvert_exporter": "python",
   "pygments_lexer": "ipython3",
   "version": "3.8.10"
  }
 },
 "nbformat": 4,
 "nbformat_minor": 4
}

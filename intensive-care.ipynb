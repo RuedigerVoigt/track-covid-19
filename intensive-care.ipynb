{
 "cells": [
  {
   "cell_type": "markdown",
   "metadata": {},
   "source": [
    "# Intensive Care in Germany"
   ]
  },
  {
   "cell_type": "markdown",
   "metadata": {},
   "source": [
    "## Data Source\n",
    "\n",
    "[DIVI-Intensivregister](https://www.intensivregister.de/) monitors the ICU capacities of 1,300 hospitals in Germany."
   ]
  },
  {
   "cell_type": "markdown",
   "metadata": {},
   "source": [
    "## Setup"
   ]
  },
  {
   "cell_type": "code",
   "execution_count": 1,
   "metadata": {},
   "outputs": [],
   "source": [
    "# standard library\n",
    "import datetime\n",
    "import math"
   ]
  },
  {
   "cell_type": "code",
   "execution_count": 2,
   "metadata": {},
   "outputs": [],
   "source": [
    "# third party\n",
    "import numpy as np\n",
    "import pandas as pd\n",
    "import matplotlib.pyplot as plt\n",
    "import requests"
   ]
  },
  {
   "cell_type": "markdown",
   "metadata": {},
   "source": [
    "## Date this Notebook was run"
   ]
  },
  {
   "cell_type": "code",
   "execution_count": 3,
   "metadata": {},
   "outputs": [
    {
     "data": {
      "text/plain": [
       "'2021-08-18'"
      ]
     },
     "execution_count": 3,
     "metadata": {},
     "output_type": "execute_result"
    }
   ],
   "source": [
    "today = datetime.datetime.today().strftime('%Y-%m-%d')\n",
    "today"
   ]
  },
  {
   "cell_type": "code",
   "execution_count": 4,
   "metadata": {},
   "outputs": [],
   "source": [
    "# style like ggplot in R\n",
    "plt.style.use('ggplot')"
   ]
  },
  {
   "cell_type": "code",
   "execution_count": 5,
   "metadata": {},
   "outputs": [],
   "source": [
    "# Avoid cutting off part of the axis labels, see:\n",
    "# https://stackoverflow.com/questions/6774086/why-is-my-xlabel-cut-off-in-my-matplotlib-plot\n",
    "plt.rcParams.update({'figure.autolayout': True})"
   ]
  },
  {
   "cell_type": "markdown",
   "metadata": {},
   "source": [
    "## Get Data"
   ]
  },
  {
   "cell_type": "code",
   "execution_count": 6,
   "metadata": {},
   "outputs": [],
   "source": [
    "timeline_data = \"https://diviexchange.blob.core.windows.net/%24web/bundesland-zeitreihe.csv\""
   ]
  },
  {
   "cell_type": "code",
   "execution_count": 7,
   "metadata": {},
   "outputs": [],
   "source": [
    "timeline_df = pd.read_csv(timeline_data)"
   ]
  },
  {
   "cell_type": "code",
   "execution_count": 8,
   "metadata": {},
   "outputs": [
    {
     "data": {
      "text/html": [
       "<div>\n",
       "<style scoped>\n",
       "    .dataframe tbody tr th:only-of-type {\n",
       "        vertical-align: middle;\n",
       "    }\n",
       "\n",
       "    .dataframe tbody tr th {\n",
       "        vertical-align: top;\n",
       "    }\n",
       "\n",
       "    .dataframe thead th {\n",
       "        text-align: right;\n",
       "    }\n",
       "</style>\n",
       "<table border=\"1\" class=\"dataframe\">\n",
       "  <thead>\n",
       "    <tr style=\"text-align: right;\">\n",
       "      <th></th>\n",
       "      <th>Datum</th>\n",
       "      <th>Bundesland</th>\n",
       "      <th>Anzahl_Meldebereiche_Erwachsene</th>\n",
       "      <th>Aktuelle_COVID_Faelle_Erwachsene_ITS</th>\n",
       "      <th>Belegte_Intensivbetten_Erwachsene</th>\n",
       "      <th>Freie_Intensivbetten_Erwachsene</th>\n",
       "      <th>7_Tage_Notfallreserve_Erwachsene</th>\n",
       "      <th>Freie_IV_Kapazitaeten_Gesamt</th>\n",
       "      <th>Freie_IV_Kapazitaeten_Davon_COVID</th>\n",
       "      <th>Betriebssituation_Regulaerer_Betrieb</th>\n",
       "      <th>...</th>\n",
       "      <th>Betriebssituation_Eingeschraenkt</th>\n",
       "      <th>Betriebssituation_Keine_Angabe</th>\n",
       "      <th>Stratum_17_Minus</th>\n",
       "      <th>Stratum_18_Bis_29</th>\n",
       "      <th>Stratum_30_Bis_39</th>\n",
       "      <th>Stratum_40_Bis_49</th>\n",
       "      <th>Stratum_50_Bis_59</th>\n",
       "      <th>Stratum_60_Bis_69</th>\n",
       "      <th>Stratum_70_Bis_79</th>\n",
       "      <th>Stratum_80_Plus</th>\n",
       "    </tr>\n",
       "  </thead>\n",
       "  <tbody>\n",
       "    <tr>\n",
       "      <th>8786</th>\n",
       "      <td>2021-08-18T12:15:00+02:00</td>\n",
       "      <td>SACHSEN_ANHALT</td>\n",
       "      <td>42</td>\n",
       "      <td>4</td>\n",
       "      <td>631</td>\n",
       "      <td>116</td>\n",
       "      <td>340</td>\n",
       "      <td>87</td>\n",
       "      <td>54</td>\n",
       "      <td>21</td>\n",
       "      <td>...</td>\n",
       "      <td>8</td>\n",
       "      <td>6</td>\n",
       "      <td>0</td>\n",
       "      <td>0</td>\n",
       "      <td>0</td>\n",
       "      <td>0</td>\n",
       "      <td>0</td>\n",
       "      <td>0</td>\n",
       "      <td>0</td>\n",
       "      <td>0</td>\n",
       "    </tr>\n",
       "    <tr>\n",
       "      <th>8787</th>\n",
       "      <td>2021-08-18T12:15:00+02:00</td>\n",
       "      <td>NORDRHEIN_WESTFALEN</td>\n",
       "      <td>313</td>\n",
       "      <td>185</td>\n",
       "      <td>4591</td>\n",
       "      <td>846</td>\n",
       "      <td>2384</td>\n",
       "      <td>693</td>\n",
       "      <td>341</td>\n",
       "      <td>170</td>\n",
       "      <td>...</td>\n",
       "      <td>72</td>\n",
       "      <td>21</td>\n",
       "      <td>0</td>\n",
       "      <td>0</td>\n",
       "      <td>0</td>\n",
       "      <td>0</td>\n",
       "      <td>0</td>\n",
       "      <td>0</td>\n",
       "      <td>0</td>\n",
       "      <td>0</td>\n",
       "    </tr>\n",
       "    <tr>\n",
       "      <th>8788</th>\n",
       "      <td>2021-08-18T12:15:00+02:00</td>\n",
       "      <td>DEUTSCHLAND</td>\n",
       "      <td>1311</td>\n",
       "      <td>594</td>\n",
       "      <td>18923</td>\n",
       "      <td>3646</td>\n",
       "      <td>10216</td>\n",
       "      <td>3260</td>\n",
       "      <td>1389</td>\n",
       "      <td>637</td>\n",
       "      <td>...</td>\n",
       "      <td>327</td>\n",
       "      <td>142</td>\n",
       "      <td>4</td>\n",
       "      <td>20</td>\n",
       "      <td>45</td>\n",
       "      <td>95</td>\n",
       "      <td>132</td>\n",
       "      <td>141</td>\n",
       "      <td>82</td>\n",
       "      <td>33</td>\n",
       "    </tr>\n",
       "  </tbody>\n",
       "</table>\n",
       "<p>3 rows × 21 columns</p>\n",
       "</div>"
      ],
      "text/plain": [
       "                          Datum           Bundesland  \\\n",
       "8786  2021-08-18T12:15:00+02:00       SACHSEN_ANHALT   \n",
       "8787  2021-08-18T12:15:00+02:00  NORDRHEIN_WESTFALEN   \n",
       "8788  2021-08-18T12:15:00+02:00          DEUTSCHLAND   \n",
       "\n",
       "      Anzahl_Meldebereiche_Erwachsene  Aktuelle_COVID_Faelle_Erwachsene_ITS  \\\n",
       "8786                               42                                     4   \n",
       "8787                              313                                   185   \n",
       "8788                             1311                                   594   \n",
       "\n",
       "      Belegte_Intensivbetten_Erwachsene  Freie_Intensivbetten_Erwachsene  \\\n",
       "8786                                631                              116   \n",
       "8787                               4591                              846   \n",
       "8788                              18923                             3646   \n",
       "\n",
       "      7_Tage_Notfallreserve_Erwachsene  Freie_IV_Kapazitaeten_Gesamt  \\\n",
       "8786                               340                            87   \n",
       "8787                              2384                           693   \n",
       "8788                             10216                          3260   \n",
       "\n",
       "      Freie_IV_Kapazitaeten_Davon_COVID  Betriebssituation_Regulaerer_Betrieb  \\\n",
       "8786                                 54                                    21   \n",
       "8787                                341                                   170   \n",
       "8788                               1389                                   637   \n",
       "\n",
       "      ...  Betriebssituation_Eingeschraenkt  Betriebssituation_Keine_Angabe  \\\n",
       "8786  ...                                 8                               6   \n",
       "8787  ...                                72                              21   \n",
       "8788  ...                               327                             142   \n",
       "\n",
       "      Stratum_17_Minus  Stratum_18_Bis_29  Stratum_30_Bis_39  \\\n",
       "8786                 0                  0                  0   \n",
       "8787                 0                  0                  0   \n",
       "8788                 4                 20                 45   \n",
       "\n",
       "      Stratum_40_Bis_49  Stratum_50_Bis_59  Stratum_60_Bis_69  \\\n",
       "8786                  0                  0                  0   \n",
       "8787                  0                  0                  0   \n",
       "8788                 95                132                141   \n",
       "\n",
       "      Stratum_70_Bis_79  Stratum_80_Plus  \n",
       "8786                  0                0  \n",
       "8787                  0                0  \n",
       "8788                 82               33  \n",
       "\n",
       "[3 rows x 21 columns]"
      ]
     },
     "execution_count": 8,
     "metadata": {},
     "output_type": "execute_result"
    }
   ],
   "source": [
    "timeline_df.tail(3)"
   ]
  },
  {
   "cell_type": "markdown",
   "metadata": {},
   "source": [
    "## Rename Columns"
   ]
  },
  {
   "cell_type": "markdown",
   "metadata": {},
   "source": [
    "### Convert datatype of date column"
   ]
  },
  {
   "cell_type": "code",
   "execution_count": 9,
   "metadata": {},
   "outputs": [
    {
     "data": {
      "text/html": [
       "<div>\n",
       "<style scoped>\n",
       "    .dataframe tbody tr th:only-of-type {\n",
       "        vertical-align: middle;\n",
       "    }\n",
       "\n",
       "    .dataframe tbody tr th {\n",
       "        vertical-align: top;\n",
       "    }\n",
       "\n",
       "    .dataframe thead th {\n",
       "        text-align: right;\n",
       "    }\n",
       "</style>\n",
       "<table border=\"1\" class=\"dataframe\">\n",
       "  <thead>\n",
       "    <tr style=\"text-align: right;\">\n",
       "      <th></th>\n",
       "      <th>Datum</th>\n",
       "      <th>Bundesland</th>\n",
       "      <th>Anzahl_Meldebereiche_Erwachsene</th>\n",
       "      <th>Aktuelle_COVID_Faelle_Erwachsene_ITS</th>\n",
       "      <th>Belegte_Intensivbetten_Erwachsene</th>\n",
       "      <th>Freie_Intensivbetten_Erwachsene</th>\n",
       "      <th>7_Tage_Notfallreserve_Erwachsene</th>\n",
       "      <th>Freie_IV_Kapazitaeten_Gesamt</th>\n",
       "      <th>Freie_IV_Kapazitaeten_Davon_COVID</th>\n",
       "      <th>Betriebssituation_Regulaerer_Betrieb</th>\n",
       "      <th>...</th>\n",
       "      <th>Betriebssituation_Eingeschraenkt</th>\n",
       "      <th>Betriebssituation_Keine_Angabe</th>\n",
       "      <th>Stratum_17_Minus</th>\n",
       "      <th>Stratum_18_Bis_29</th>\n",
       "      <th>Stratum_30_Bis_39</th>\n",
       "      <th>Stratum_40_Bis_49</th>\n",
       "      <th>Stratum_50_Bis_59</th>\n",
       "      <th>Stratum_60_Bis_69</th>\n",
       "      <th>Stratum_70_Bis_79</th>\n",
       "      <th>Stratum_80_Plus</th>\n",
       "    </tr>\n",
       "  </thead>\n",
       "  <tbody>\n",
       "    <tr>\n",
       "      <th>0</th>\n",
       "      <td>2020-03-20</td>\n",
       "      <td>BADEN_WUERTTEMBERG</td>\n",
       "      <td>31</td>\n",
       "      <td>35</td>\n",
       "      <td>39</td>\n",
       "      <td>330</td>\n",
       "      <td>0</td>\n",
       "      <td>205</td>\n",
       "      <td>0</td>\n",
       "      <td>20</td>\n",
       "      <td>...</td>\n",
       "      <td>3</td>\n",
       "      <td>1</td>\n",
       "      <td>0</td>\n",
       "      <td>0</td>\n",
       "      <td>0</td>\n",
       "      <td>0</td>\n",
       "      <td>0</td>\n",
       "      <td>0</td>\n",
       "      <td>0</td>\n",
       "      <td>0</td>\n",
       "    </tr>\n",
       "    <tr>\n",
       "      <th>1</th>\n",
       "      <td>2020-03-20</td>\n",
       "      <td>HAMBURG</td>\n",
       "      <td>11</td>\n",
       "      <td>6</td>\n",
       "      <td>24</td>\n",
       "      <td>115</td>\n",
       "      <td>0</td>\n",
       "      <td>70</td>\n",
       "      <td>0</td>\n",
       "      <td>9</td>\n",
       "      <td>...</td>\n",
       "      <td>2</td>\n",
       "      <td>0</td>\n",
       "      <td>0</td>\n",
       "      <td>0</td>\n",
       "      <td>0</td>\n",
       "      <td>0</td>\n",
       "      <td>0</td>\n",
       "      <td>0</td>\n",
       "      <td>0</td>\n",
       "      <td>0</td>\n",
       "    </tr>\n",
       "    <tr>\n",
       "      <th>2</th>\n",
       "      <td>2020-03-20</td>\n",
       "      <td>BREMEN</td>\n",
       "      <td>3</td>\n",
       "      <td>2</td>\n",
       "      <td>0</td>\n",
       "      <td>18</td>\n",
       "      <td>0</td>\n",
       "      <td>11</td>\n",
       "      <td>0</td>\n",
       "      <td>1</td>\n",
       "      <td>...</td>\n",
       "      <td>1</td>\n",
       "      <td>0</td>\n",
       "      <td>0</td>\n",
       "      <td>0</td>\n",
       "      <td>0</td>\n",
       "      <td>0</td>\n",
       "      <td>0</td>\n",
       "      <td>0</td>\n",
       "      <td>0</td>\n",
       "      <td>0</td>\n",
       "    </tr>\n",
       "    <tr>\n",
       "      <th>3</th>\n",
       "      <td>2020-03-20</td>\n",
       "      <td>SACHSEN</td>\n",
       "      <td>20</td>\n",
       "      <td>3</td>\n",
       "      <td>44</td>\n",
       "      <td>272</td>\n",
       "      <td>0</td>\n",
       "      <td>215</td>\n",
       "      <td>0</td>\n",
       "      <td>16</td>\n",
       "      <td>...</td>\n",
       "      <td>2</td>\n",
       "      <td>0</td>\n",
       "      <td>0</td>\n",
       "      <td>0</td>\n",
       "      <td>0</td>\n",
       "      <td>0</td>\n",
       "      <td>0</td>\n",
       "      <td>0</td>\n",
       "      <td>0</td>\n",
       "      <td>0</td>\n",
       "    </tr>\n",
       "    <tr>\n",
       "      <th>4</th>\n",
       "      <td>2020-03-20</td>\n",
       "      <td>BRANDENBURG</td>\n",
       "      <td>20</td>\n",
       "      <td>2</td>\n",
       "      <td>50</td>\n",
       "      <td>142</td>\n",
       "      <td>0</td>\n",
       "      <td>81</td>\n",
       "      <td>0</td>\n",
       "      <td>15</td>\n",
       "      <td>...</td>\n",
       "      <td>1</td>\n",
       "      <td>0</td>\n",
       "      <td>0</td>\n",
       "      <td>0</td>\n",
       "      <td>0</td>\n",
       "      <td>0</td>\n",
       "      <td>0</td>\n",
       "      <td>0</td>\n",
       "      <td>0</td>\n",
       "      <td>0</td>\n",
       "    </tr>\n",
       "  </tbody>\n",
       "</table>\n",
       "<p>5 rows × 21 columns</p>\n",
       "</div>"
      ],
      "text/plain": [
       "        Datum          Bundesland  Anzahl_Meldebereiche_Erwachsene  \\\n",
       "0  2020-03-20  BADEN_WUERTTEMBERG                               31   \n",
       "1  2020-03-20             HAMBURG                               11   \n",
       "2  2020-03-20              BREMEN                                3   \n",
       "3  2020-03-20             SACHSEN                               20   \n",
       "4  2020-03-20         BRANDENBURG                               20   \n",
       "\n",
       "   Aktuelle_COVID_Faelle_Erwachsene_ITS  Belegte_Intensivbetten_Erwachsene  \\\n",
       "0                                    35                                 39   \n",
       "1                                     6                                 24   \n",
       "2                                     2                                  0   \n",
       "3                                     3                                 44   \n",
       "4                                     2                                 50   \n",
       "\n",
       "   Freie_Intensivbetten_Erwachsene  7_Tage_Notfallreserve_Erwachsene  \\\n",
       "0                              330                                 0   \n",
       "1                              115                                 0   \n",
       "2                               18                                 0   \n",
       "3                              272                                 0   \n",
       "4                              142                                 0   \n",
       "\n",
       "   Freie_IV_Kapazitaeten_Gesamt  Freie_IV_Kapazitaeten_Davon_COVID  \\\n",
       "0                           205                                  0   \n",
       "1                            70                                  0   \n",
       "2                            11                                  0   \n",
       "3                           215                                  0   \n",
       "4                            81                                  0   \n",
       "\n",
       "   Betriebssituation_Regulaerer_Betrieb  ...  \\\n",
       "0                                    20  ...   \n",
       "1                                     9  ...   \n",
       "2                                     1  ...   \n",
       "3                                    16  ...   \n",
       "4                                    15  ...   \n",
       "\n",
       "   Betriebssituation_Eingeschraenkt  Betriebssituation_Keine_Angabe  \\\n",
       "0                                 3                               1   \n",
       "1                                 2                               0   \n",
       "2                                 1                               0   \n",
       "3                                 2                               0   \n",
       "4                                 1                               0   \n",
       "\n",
       "   Stratum_17_Minus  Stratum_18_Bis_29  Stratum_30_Bis_39  Stratum_40_Bis_49  \\\n",
       "0                 0                  0                  0                  0   \n",
       "1                 0                  0                  0                  0   \n",
       "2                 0                  0                  0                  0   \n",
       "3                 0                  0                  0                  0   \n",
       "4                 0                  0                  0                  0   \n",
       "\n",
       "   Stratum_50_Bis_59  Stratum_60_Bis_69  Stratum_70_Bis_79  Stratum_80_Plus  \n",
       "0                  0                  0                  0                0  \n",
       "1                  0                  0                  0                0  \n",
       "2                  0                  0                  0                0  \n",
       "3                  0                  0                  0                0  \n",
       "4                  0                  0                  0                0  \n",
       "\n",
       "[5 rows x 21 columns]"
      ]
     },
     "execution_count": 9,
     "metadata": {},
     "output_type": "execute_result"
    }
   ],
   "source": [
    "timeline_df[\"Datum\"] = timeline_df[\"Datum\"].str[:10]\n",
    "timeline_df.head()"
   ]
  },
  {
   "cell_type": "code",
   "execution_count": 10,
   "metadata": {},
   "outputs": [],
   "source": [
    "timeline_df.iloc[ : , [0]] = timeline_df.iloc[ : , [0]].apply(pd.to_datetime)"
   ]
  },
  {
   "cell_type": "code",
   "execution_count": 11,
   "metadata": {},
   "outputs": [
    {
     "name": "stdout",
     "output_type": "stream",
     "text": [
      "<class 'pandas.core.frame.DataFrame'>\n",
      "RangeIndex: 8789 entries, 0 to 8788\n",
      "Data columns (total 21 columns):\n",
      " #   Column                                      Non-Null Count  Dtype         \n",
      "---  ------                                      --------------  -----         \n",
      " 0   Datum                                       8789 non-null   datetime64[ns]\n",
      " 1   Bundesland                                  8789 non-null   object        \n",
      " 2   Anzahl_Meldebereiche_Erwachsene             8789 non-null   int64         \n",
      " 3   Aktuelle_COVID_Faelle_Erwachsene_ITS        8789 non-null   int64         \n",
      " 4   Belegte_Intensivbetten_Erwachsene           8789 non-null   int64         \n",
      " 5   Freie_Intensivbetten_Erwachsene             8789 non-null   int64         \n",
      " 6   7_Tage_Notfallreserve_Erwachsene            8789 non-null   int64         \n",
      " 7   Freie_IV_Kapazitaeten_Gesamt                8789 non-null   int64         \n",
      " 8   Freie_IV_Kapazitaeten_Davon_COVID           8789 non-null   int64         \n",
      " 9   Betriebssituation_Regulaerer_Betrieb        8789 non-null   int64         \n",
      " 10  Betriebssituation_Teilweise_Eingeschraenkt  8789 non-null   int64         \n",
      " 11  Betriebssituation_Eingeschraenkt            8789 non-null   int64         \n",
      " 12  Betriebssituation_Keine_Angabe              8789 non-null   int64         \n",
      " 13  Stratum_17_Minus                            8789 non-null   int64         \n",
      " 14  Stratum_18_Bis_29                           8789 non-null   int64         \n",
      " 15  Stratum_30_Bis_39                           8789 non-null   int64         \n",
      " 16  Stratum_40_Bis_49                           8789 non-null   int64         \n",
      " 17  Stratum_50_Bis_59                           8789 non-null   int64         \n",
      " 18  Stratum_60_Bis_69                           8789 non-null   int64         \n",
      " 19  Stratum_70_Bis_79                           8789 non-null   int64         \n",
      " 20  Stratum_80_Plus                             8789 non-null   int64         \n",
      "dtypes: datetime64[ns](1), int64(19), object(1)\n",
      "memory usage: 1.4+ MB\n"
     ]
    }
   ],
   "source": [
    "timeline_df.info()"
   ]
  },
  {
   "cell_type": "code",
   "execution_count": 12,
   "metadata": {},
   "outputs": [
    {
     "data": {
      "text/html": [
       "<div>\n",
       "<style scoped>\n",
       "    .dataframe tbody tr th:only-of-type {\n",
       "        vertical-align: middle;\n",
       "    }\n",
       "\n",
       "    .dataframe tbody tr th {\n",
       "        vertical-align: top;\n",
       "    }\n",
       "\n",
       "    .dataframe thead th {\n",
       "        text-align: right;\n",
       "    }\n",
       "</style>\n",
       "<table border=\"1\" class=\"dataframe\">\n",
       "  <thead>\n",
       "    <tr style=\"text-align: right;\">\n",
       "      <th></th>\n",
       "      <th>Datum</th>\n",
       "      <th>Bundesland</th>\n",
       "      <th>Anzahl_Meldebereiche_Erwachsene</th>\n",
       "      <th>Aktuelle_COVID_Faelle_Erwachsene_ITS</th>\n",
       "      <th>Belegte_Intensivbetten_Erwachsene</th>\n",
       "      <th>Freie_Intensivbetten_Erwachsene</th>\n",
       "      <th>7_Tage_Notfallreserve_Erwachsene</th>\n",
       "      <th>Freie_IV_Kapazitaeten_Gesamt</th>\n",
       "      <th>Freie_IV_Kapazitaeten_Davon_COVID</th>\n",
       "      <th>Betriebssituation_Regulaerer_Betrieb</th>\n",
       "      <th>...</th>\n",
       "      <th>Betriebssituation_Eingeschraenkt</th>\n",
       "      <th>Betriebssituation_Keine_Angabe</th>\n",
       "      <th>Stratum_17_Minus</th>\n",
       "      <th>Stratum_18_Bis_29</th>\n",
       "      <th>Stratum_30_Bis_39</th>\n",
       "      <th>Stratum_40_Bis_49</th>\n",
       "      <th>Stratum_50_Bis_59</th>\n",
       "      <th>Stratum_60_Bis_69</th>\n",
       "      <th>Stratum_70_Bis_79</th>\n",
       "      <th>Stratum_80_Plus</th>\n",
       "    </tr>\n",
       "  </thead>\n",
       "  <tbody>\n",
       "    <tr>\n",
       "      <th>8754</th>\n",
       "      <td>2021-08-16</td>\n",
       "      <td>DEUTSCHLAND</td>\n",
       "      <td>1311</td>\n",
       "      <td>541</td>\n",
       "      <td>18591</td>\n",
       "      <td>3926</td>\n",
       "      <td>10248</td>\n",
       "      <td>3396</td>\n",
       "      <td>1401</td>\n",
       "      <td>629</td>\n",
       "      <td>...</td>\n",
       "      <td>334</td>\n",
       "      <td>139</td>\n",
       "      <td>4</td>\n",
       "      <td>17</td>\n",
       "      <td>37</td>\n",
       "      <td>86</td>\n",
       "      <td>113</td>\n",
       "      <td>127</td>\n",
       "      <td>77</td>\n",
       "      <td>33</td>\n",
       "    </tr>\n",
       "    <tr>\n",
       "      <th>8771</th>\n",
       "      <td>2021-08-17</td>\n",
       "      <td>DEUTSCHLAND</td>\n",
       "      <td>1310</td>\n",
       "      <td>571</td>\n",
       "      <td>18805</td>\n",
       "      <td>3728</td>\n",
       "      <td>10195</td>\n",
       "      <td>3312</td>\n",
       "      <td>1396</td>\n",
       "      <td>636</td>\n",
       "      <td>...</td>\n",
       "      <td>326</td>\n",
       "      <td>144</td>\n",
       "      <td>4</td>\n",
       "      <td>17</td>\n",
       "      <td>41</td>\n",
       "      <td>88</td>\n",
       "      <td>124</td>\n",
       "      <td>133</td>\n",
       "      <td>77</td>\n",
       "      <td>38</td>\n",
       "    </tr>\n",
       "    <tr>\n",
       "      <th>8788</th>\n",
       "      <td>2021-08-18</td>\n",
       "      <td>DEUTSCHLAND</td>\n",
       "      <td>1311</td>\n",
       "      <td>594</td>\n",
       "      <td>18923</td>\n",
       "      <td>3646</td>\n",
       "      <td>10216</td>\n",
       "      <td>3260</td>\n",
       "      <td>1389</td>\n",
       "      <td>637</td>\n",
       "      <td>...</td>\n",
       "      <td>327</td>\n",
       "      <td>142</td>\n",
       "      <td>4</td>\n",
       "      <td>20</td>\n",
       "      <td>45</td>\n",
       "      <td>95</td>\n",
       "      <td>132</td>\n",
       "      <td>141</td>\n",
       "      <td>82</td>\n",
       "      <td>33</td>\n",
       "    </tr>\n",
       "  </tbody>\n",
       "</table>\n",
       "<p>3 rows × 21 columns</p>\n",
       "</div>"
      ],
      "text/plain": [
       "          Datum   Bundesland  Anzahl_Meldebereiche_Erwachsene  \\\n",
       "8754 2021-08-16  DEUTSCHLAND                             1311   \n",
       "8771 2021-08-17  DEUTSCHLAND                             1310   \n",
       "8788 2021-08-18  DEUTSCHLAND                             1311   \n",
       "\n",
       "      Aktuelle_COVID_Faelle_Erwachsene_ITS  Belegte_Intensivbetten_Erwachsene  \\\n",
       "8754                                   541                              18591   \n",
       "8771                                   571                              18805   \n",
       "8788                                   594                              18923   \n",
       "\n",
       "      Freie_Intensivbetten_Erwachsene  7_Tage_Notfallreserve_Erwachsene  \\\n",
       "8754                             3926                             10248   \n",
       "8771                             3728                             10195   \n",
       "8788                             3646                             10216   \n",
       "\n",
       "      Freie_IV_Kapazitaeten_Gesamt  Freie_IV_Kapazitaeten_Davon_COVID  \\\n",
       "8754                          3396                               1401   \n",
       "8771                          3312                               1396   \n",
       "8788                          3260                               1389   \n",
       "\n",
       "      Betriebssituation_Regulaerer_Betrieb  ...  \\\n",
       "8754                                   629  ...   \n",
       "8771                                   636  ...   \n",
       "8788                                   637  ...   \n",
       "\n",
       "      Betriebssituation_Eingeschraenkt  Betriebssituation_Keine_Angabe  \\\n",
       "8754                               334                             139   \n",
       "8771                               326                             144   \n",
       "8788                               327                             142   \n",
       "\n",
       "      Stratum_17_Minus  Stratum_18_Bis_29  Stratum_30_Bis_39  \\\n",
       "8754                 4                 17                 37   \n",
       "8771                 4                 17                 41   \n",
       "8788                 4                 20                 45   \n",
       "\n",
       "      Stratum_40_Bis_49  Stratum_50_Bis_59  Stratum_60_Bis_69  \\\n",
       "8754                 86                113                127   \n",
       "8771                 88                124                133   \n",
       "8788                 95                132                141   \n",
       "\n",
       "      Stratum_70_Bis_79  Stratum_80_Plus  \n",
       "8754                 77               33  \n",
       "8771                 77               38  \n",
       "8788                 82               33  \n",
       "\n",
       "[3 rows x 21 columns]"
      ]
     },
     "execution_count": 12,
     "metadata": {},
     "output_type": "execute_result"
    }
   ],
   "source": [
    "federal_level = timeline_df[timeline_df.Bundesland=='DEUTSCHLAND']\n",
    "federal_level.tail(3)"
   ]
  },
  {
   "cell_type": "markdown",
   "metadata": {},
   "source": [
    "## Used Beds (Adults)"
   ]
  },
  {
   "cell_type": "code",
   "execution_count": 13,
   "metadata": {},
   "outputs": [
    {
     "name": "stdout",
     "output_type": "stream",
     "text": [
      "<class 'pandas.core.frame.DataFrame'>\n",
      "Int64Index: 517 entries, 16 to 8788\n",
      "Data columns (total 2 columns):\n",
      " #   Column                    Non-Null Count  Dtype         \n",
      "---  ------                    --------------  -----         \n",
      " 0   date                      517 non-null    datetime64[ns]\n",
      " 1   ICU beds in use (adults)  517 non-null    int64         \n",
      "dtypes: datetime64[ns](1), int64(1)\n",
      "memory usage: 12.1 KB\n"
     ]
    }
   ],
   "source": [
    "used_beds = federal_level.loc[ : , ['Datum', 'Belegte_Intensivbetten_Erwachsene']]\n",
    "used_beds.columns = ['date', 'ICU beds in use (adults)']\n",
    "used_beds.info()"
   ]
  },
  {
   "cell_type": "code",
   "execution_count": 14,
   "metadata": {},
   "outputs": [],
   "source": [
    "used_beds.set_index('date', inplace=True)"
   ]
  },
  {
   "cell_type": "code",
   "execution_count": 15,
   "metadata": {},
   "outputs": [
    {
     "data": {
      "text/plain": [
       "<AxesSubplot:xlabel='date'>"
      ]
     },
     "execution_count": 15,
     "metadata": {},
     "output_type": "execute_result"
    },
    {
     "data": {
      "image/png": "[encoded data removed]",
      "text/plain": [
       "<Figure size 432x288 with 1 Axes>"
      ]
     },
     "metadata": {},
     "output_type": "display_data"
    }
   ],
   "source": [
    "used_beds.plot()"
   ]
  },
  {
   "cell_type": "markdown",
   "metadata": {},
   "source": [
    "## Covid-19 patients in ICU"
   ]
  },
  {
   "cell_type": "code",
   "execution_count": 16,
   "metadata": {},
   "outputs": [],
   "source": [
    "icu = federal_level.loc[ : , ['Datum', 'Aktuelle_COVID_Faelle_Erwachsene_ITS']]"
   ]
  },
  {
   "cell_type": "code",
   "execution_count": 17,
   "metadata": {},
   "outputs": [
    {
     "name": "stdout",
     "output_type": "stream",
     "text": [
      "<class 'pandas.core.frame.DataFrame'>\n",
      "DatetimeIndex: 517 entries, 2020-03-20 to 2021-08-18\n",
      "Data columns (total 1 columns):\n",
      " #   Column                 Non-Null Count  Dtype\n",
      "---  ------                 --------------  -----\n",
      " 0   Covid-19 cases in ICU  517 non-null    int64\n",
      "dtypes: int64(1)\n",
      "memory usage: 8.1 KB\n"
     ]
    }
   ],
   "source": [
    "icu.columns = ['date', 'Covid-19 cases in ICU']\n",
    "icu.set_index('date', inplace=True)\n",
    "icu.info()"
   ]
  },
  {
   "cell_type": "code",
   "execution_count": 18,
   "metadata": {},
   "outputs": [
    {
     "data": {
      "image/png": "[encoded data removed]",
      "text/plain": [
       "<Figure size 432x288 with 1 Axes>"
      ]
     },
     "metadata": {},
     "output_type": "display_data"
    }
   ],
   "source": [
    "icu_cases = icu.plot(\n",
    "    title='Patients with Covid-19 in German ICUs\\n(Data Source: DIVI-Intensivregister)',\n",
    "xlabel='Date',\n",
    "ylabel='Number of Patients')"
   ]
  },
  {
   "cell_type": "code",
   "execution_count": 19,
   "metadata": {},
   "outputs": [],
   "source": [
    "fig = icu_cases.get_figure()\n",
    "fig.savefig('img/covid-19-patients-in-icu-germany.png')"
   ]
  },
  {
   "cell_type": "markdown",
   "metadata": {},
   "source": [
    "### Situation in North Rhine-Westphalia\n",
    "\n",
    "NRW ist the state in Germany with the highest number of inhabitants."
   ]
  },
  {
   "cell_type": "code",
   "execution_count": 20,
   "metadata": {},
   "outputs": [
    {
     "data": {
      "text/html": [
       "<div>\n",
       "<style scoped>\n",
       "    .dataframe tbody tr th:only-of-type {\n",
       "        vertical-align: middle;\n",
       "    }\n",
       "\n",
       "    .dataframe tbody tr th {\n",
       "        vertical-align: top;\n",
       "    }\n",
       "\n",
       "    .dataframe thead th {\n",
       "        text-align: right;\n",
       "    }\n",
       "</style>\n",
       "<table border=\"1\" class=\"dataframe\">\n",
       "  <thead>\n",
       "    <tr style=\"text-align: right;\">\n",
       "      <th></th>\n",
       "      <th>Datum</th>\n",
       "      <th>Bundesland</th>\n",
       "      <th>Anzahl_Meldebereiche_Erwachsene</th>\n",
       "      <th>Aktuelle_COVID_Faelle_Erwachsene_ITS</th>\n",
       "      <th>Belegte_Intensivbetten_Erwachsene</th>\n",
       "      <th>Freie_Intensivbetten_Erwachsene</th>\n",
       "      <th>7_Tage_Notfallreserve_Erwachsene</th>\n",
       "      <th>Freie_IV_Kapazitaeten_Gesamt</th>\n",
       "      <th>Freie_IV_Kapazitaeten_Davon_COVID</th>\n",
       "      <th>Betriebssituation_Regulaerer_Betrieb</th>\n",
       "      <th>...</th>\n",
       "      <th>Betriebssituation_Eingeschraenkt</th>\n",
       "      <th>Betriebssituation_Keine_Angabe</th>\n",
       "      <th>Stratum_17_Minus</th>\n",
       "      <th>Stratum_18_Bis_29</th>\n",
       "      <th>Stratum_30_Bis_39</th>\n",
       "      <th>Stratum_40_Bis_49</th>\n",
       "      <th>Stratum_50_Bis_59</th>\n",
       "      <th>Stratum_60_Bis_69</th>\n",
       "      <th>Stratum_70_Bis_79</th>\n",
       "      <th>Stratum_80_Plus</th>\n",
       "    </tr>\n",
       "  </thead>\n",
       "  <tbody>\n",
       "    <tr>\n",
       "      <th>8769</th>\n",
       "      <td>2021-08-17</td>\n",
       "      <td>NORDRHEIN_WESTFALEN</td>\n",
       "      <td>313</td>\n",
       "      <td>172</td>\n",
       "      <td>4549</td>\n",
       "      <td>881</td>\n",
       "      <td>2383</td>\n",
       "      <td>695</td>\n",
       "      <td>355</td>\n",
       "      <td>167</td>\n",
       "      <td>...</td>\n",
       "      <td>77</td>\n",
       "      <td>22</td>\n",
       "      <td>0</td>\n",
       "      <td>0</td>\n",
       "      <td>0</td>\n",
       "      <td>0</td>\n",
       "      <td>0</td>\n",
       "      <td>0</td>\n",
       "      <td>0</td>\n",
       "      <td>0</td>\n",
       "    </tr>\n",
       "    <tr>\n",
       "      <th>8787</th>\n",
       "      <td>2021-08-18</td>\n",
       "      <td>NORDRHEIN_WESTFALEN</td>\n",
       "      <td>313</td>\n",
       "      <td>185</td>\n",
       "      <td>4591</td>\n",
       "      <td>846</td>\n",
       "      <td>2384</td>\n",
       "      <td>693</td>\n",
       "      <td>341</td>\n",
       "      <td>170</td>\n",
       "      <td>...</td>\n",
       "      <td>72</td>\n",
       "      <td>21</td>\n",
       "      <td>0</td>\n",
       "      <td>0</td>\n",
       "      <td>0</td>\n",
       "      <td>0</td>\n",
       "      <td>0</td>\n",
       "      <td>0</td>\n",
       "      <td>0</td>\n",
       "      <td>0</td>\n",
       "    </tr>\n",
       "  </tbody>\n",
       "</table>\n",
       "<p>2 rows × 21 columns</p>\n",
       "</div>"
      ],
      "text/plain": [
       "          Datum           Bundesland  Anzahl_Meldebereiche_Erwachsene  \\\n",
       "8769 2021-08-17  NORDRHEIN_WESTFALEN                              313   \n",
       "8787 2021-08-18  NORDRHEIN_WESTFALEN                              313   \n",
       "\n",
       "      Aktuelle_COVID_Faelle_Erwachsene_ITS  Belegte_Intensivbetten_Erwachsene  \\\n",
       "8769                                   172                               4549   \n",
       "8787                                   185                               4591   \n",
       "\n",
       "      Freie_Intensivbetten_Erwachsene  7_Tage_Notfallreserve_Erwachsene  \\\n",
       "8769                              881                              2383   \n",
       "8787                              846                              2384   \n",
       "\n",
       "      Freie_IV_Kapazitaeten_Gesamt  Freie_IV_Kapazitaeten_Davon_COVID  \\\n",
       "8769                           695                                355   \n",
       "8787                           693                                341   \n",
       "\n",
       "      Betriebssituation_Regulaerer_Betrieb  ...  \\\n",
       "8769                                   167  ...   \n",
       "8787                                   170  ...   \n",
       "\n",
       "      Betriebssituation_Eingeschraenkt  Betriebssituation_Keine_Angabe  \\\n",
       "8769                                77                              22   \n",
       "8787                                72                              21   \n",
       "\n",
       "      Stratum_17_Minus  Stratum_18_Bis_29  Stratum_30_Bis_39  \\\n",
       "8769                 0                  0                  0   \n",
       "8787                 0                  0                  0   \n",
       "\n",
       "      Stratum_40_Bis_49  Stratum_50_Bis_59  Stratum_60_Bis_69  \\\n",
       "8769                  0                  0                  0   \n",
       "8787                  0                  0                  0   \n",
       "\n",
       "      Stratum_70_Bis_79  Stratum_80_Plus  \n",
       "8769                  0                0  \n",
       "8787                  0                0  \n",
       "\n",
       "[2 rows x 21 columns]"
      ]
     },
     "execution_count": 20,
     "metadata": {},
     "output_type": "execute_result"
    }
   ],
   "source": [
    "nrw = timeline_df[timeline_df.Bundesland=='NORDRHEIN_WESTFALEN']\n",
    "nrw.tail(2)"
   ]
  },
  {
   "cell_type": "code",
   "execution_count": 21,
   "metadata": {},
   "outputs": [
    {
     "name": "stdout",
     "output_type": "stream",
     "text": [
      "<class 'pandas.core.frame.DataFrame'>\n",
      "DatetimeIndex: 517 entries, 2020-03-20 to 2021-08-18\n",
      "Data columns (total 1 columns):\n",
      " #   Column                 Non-Null Count  Dtype\n",
      "---  ------                 --------------  -----\n",
      " 0   Covid-19 cases in ICU  517 non-null    int64\n",
      "dtypes: int64(1)\n",
      "memory usage: 8.1 KB\n"
     ]
    }
   ],
   "source": [
    "icu_nrw = nrw.loc[ : , ['Datum', 'Aktuelle_COVID_Faelle_Erwachsene_ITS']]\n",
    "icu_nrw.columns = ['date', 'Covid-19 cases in ICU']\n",
    "icu_nrw.set_index('date', inplace=True)\n",
    "icu_nrw.info()"
   ]
  },
  {
   "cell_type": "code",
   "execution_count": 22,
   "metadata": {},
   "outputs": [
    {
     "data": {
      "image/png": "[encoded data removed]",
      "text/plain": [
       "<Figure size 432x288 with 1 Axes>"
      ]
     },
     "metadata": {},
     "output_type": "display_data"
    }
   ],
   "source": [
    "icu_cases_nrw = icu_nrw.plot(\n",
    "    title='Patients with Covid-19 in ICUs in North Rhine-Westphalia\\n(Data Source: DIVI-Intensivregister)',\n",
    "xlabel='Date',\n",
    "ylabel='Number of Patients')"
   ]
  },
  {
   "cell_type": "markdown",
   "metadata": {},
   "source": [
    "### Situation in Rhineland-Palatinate"
   ]
  },
  {
   "cell_type": "code",
   "execution_count": 23,
   "metadata": {},
   "outputs": [
    {
     "data": {
      "text/html": [
       "<div>\n",
       "<style scoped>\n",
       "    .dataframe tbody tr th:only-of-type {\n",
       "        vertical-align: middle;\n",
       "    }\n",
       "\n",
       "    .dataframe tbody tr th {\n",
       "        vertical-align: top;\n",
       "    }\n",
       "\n",
       "    .dataframe thead th {\n",
       "        text-align: right;\n",
       "    }\n",
       "</style>\n",
       "<table border=\"1\" class=\"dataframe\">\n",
       "  <thead>\n",
       "    <tr style=\"text-align: right;\">\n",
       "      <th></th>\n",
       "      <th>Datum</th>\n",
       "      <th>Bundesland</th>\n",
       "      <th>Anzahl_Meldebereiche_Erwachsene</th>\n",
       "      <th>Aktuelle_COVID_Faelle_Erwachsene_ITS</th>\n",
       "      <th>Belegte_Intensivbetten_Erwachsene</th>\n",
       "      <th>Freie_Intensivbetten_Erwachsene</th>\n",
       "      <th>7_Tage_Notfallreserve_Erwachsene</th>\n",
       "      <th>Freie_IV_Kapazitaeten_Gesamt</th>\n",
       "      <th>Freie_IV_Kapazitaeten_Davon_COVID</th>\n",
       "      <th>Betriebssituation_Regulaerer_Betrieb</th>\n",
       "      <th>...</th>\n",
       "      <th>Betriebssituation_Eingeschraenkt</th>\n",
       "      <th>Betriebssituation_Keine_Angabe</th>\n",
       "      <th>Stratum_17_Minus</th>\n",
       "      <th>Stratum_18_Bis_29</th>\n",
       "      <th>Stratum_30_Bis_39</th>\n",
       "      <th>Stratum_40_Bis_49</th>\n",
       "      <th>Stratum_50_Bis_59</th>\n",
       "      <th>Stratum_60_Bis_69</th>\n",
       "      <th>Stratum_70_Bis_79</th>\n",
       "      <th>Stratum_80_Plus</th>\n",
       "    </tr>\n",
       "  </thead>\n",
       "  <tbody>\n",
       "    <tr>\n",
       "      <th>8760</th>\n",
       "      <td>2021-08-17</td>\n",
       "      <td>RHEINLAND_PFALZ</td>\n",
       "      <td>77</td>\n",
       "      <td>27</td>\n",
       "      <td>795</td>\n",
       "      <td>228</td>\n",
       "      <td>413</td>\n",
       "      <td>175</td>\n",
       "      <td>80</td>\n",
       "      <td>35</td>\n",
       "      <td>...</td>\n",
       "      <td>20</td>\n",
       "      <td>7</td>\n",
       "      <td>0</td>\n",
       "      <td>0</td>\n",
       "      <td>0</td>\n",
       "      <td>0</td>\n",
       "      <td>0</td>\n",
       "      <td>0</td>\n",
       "      <td>0</td>\n",
       "      <td>0</td>\n",
       "    </tr>\n",
       "    <tr>\n",
       "      <th>8777</th>\n",
       "      <td>2021-08-18</td>\n",
       "      <td>RHEINLAND_PFALZ</td>\n",
       "      <td>77</td>\n",
       "      <td>26</td>\n",
       "      <td>789</td>\n",
       "      <td>237</td>\n",
       "      <td>416</td>\n",
       "      <td>180</td>\n",
       "      <td>77</td>\n",
       "      <td>34</td>\n",
       "      <td>...</td>\n",
       "      <td>21</td>\n",
       "      <td>6</td>\n",
       "      <td>0</td>\n",
       "      <td>0</td>\n",
       "      <td>0</td>\n",
       "      <td>0</td>\n",
       "      <td>0</td>\n",
       "      <td>0</td>\n",
       "      <td>0</td>\n",
       "      <td>0</td>\n",
       "    </tr>\n",
       "  </tbody>\n",
       "</table>\n",
       "<p>2 rows × 21 columns</p>\n",
       "</div>"
      ],
      "text/plain": [
       "          Datum       Bundesland  Anzahl_Meldebereiche_Erwachsene  \\\n",
       "8760 2021-08-17  RHEINLAND_PFALZ                               77   \n",
       "8777 2021-08-18  RHEINLAND_PFALZ                               77   \n",
       "\n",
       "      Aktuelle_COVID_Faelle_Erwachsene_ITS  Belegte_Intensivbetten_Erwachsene  \\\n",
       "8760                                    27                                795   \n",
       "8777                                    26                                789   \n",
       "\n",
       "      Freie_Intensivbetten_Erwachsene  7_Tage_Notfallreserve_Erwachsene  \\\n",
       "8760                              228                               413   \n",
       "8777                              237                               416   \n",
       "\n",
       "      Freie_IV_Kapazitaeten_Gesamt  Freie_IV_Kapazitaeten_Davon_COVID  \\\n",
       "8760                           175                                 80   \n",
       "8777                           180                                 77   \n",
       "\n",
       "      Betriebssituation_Regulaerer_Betrieb  ...  \\\n",
       "8760                                    35  ...   \n",
       "8777                                    34  ...   \n",
       "\n",
       "      Betriebssituation_Eingeschraenkt  Betriebssituation_Keine_Angabe  \\\n",
       "8760                                20                               7   \n",
       "8777                                21                               6   \n",
       "\n",
       "      Stratum_17_Minus  Stratum_18_Bis_29  Stratum_30_Bis_39  \\\n",
       "8760                 0                  0                  0   \n",
       "8777                 0                  0                  0   \n",
       "\n",
       "      Stratum_40_Bis_49  Stratum_50_Bis_59  Stratum_60_Bis_69  \\\n",
       "8760                  0                  0                  0   \n",
       "8777                  0                  0                  0   \n",
       "\n",
       "      Stratum_70_Bis_79  Stratum_80_Plus  \n",
       "8760                  0                0  \n",
       "8777                  0                0  \n",
       "\n",
       "[2 rows x 21 columns]"
      ]
     },
     "execution_count": 23,
     "metadata": {},
     "output_type": "execute_result"
    }
   ],
   "source": [
    "rlp = timeline_df[timeline_df.Bundesland=='RHEINLAND_PFALZ']\n",
    "rlp.tail(2)"
   ]
  },
  {
   "cell_type": "code",
   "execution_count": 24,
   "metadata": {},
   "outputs": [
    {
     "name": "stdout",
     "output_type": "stream",
     "text": [
      "<class 'pandas.core.frame.DataFrame'>\n",
      "DatetimeIndex: 517 entries, 2020-03-20 to 2021-08-18\n",
      "Data columns (total 1 columns):\n",
      " #   Column                 Non-Null Count  Dtype\n",
      "---  ------                 --------------  -----\n",
      " 0   Covid-19 cases in ICU  517 non-null    int64\n",
      "dtypes: int64(1)\n",
      "memory usage: 8.1 KB\n"
     ]
    }
   ],
   "source": [
    "icu_rlp = rlp.loc[ : , ['Datum', 'Aktuelle_COVID_Faelle_Erwachsene_ITS']]\n",
    "icu_rlp.columns = ['date', 'Covid-19 cases in ICU']\n",
    "icu_rlp.set_index('date', inplace=True)\n",
    "icu_rlp.info()"
   ]
  },
  {
   "cell_type": "code",
   "execution_count": 25,
   "metadata": {},
   "outputs": [
    {
     "data": {
      "image/png": "[encoded data removed]",
      "text/plain": [
       "<Figure size 432x288 with 1 Axes>"
      ]
     },
     "metadata": {},
     "output_type": "display_data"
    }
   ],
   "source": [
    "icu_cases_rlp = icu_rlp.plot(\n",
    "    title='Patients with Covid-19 in ICUs in Rhineland-Palatinate\\n(Data Source: DIVI-Intensivregister)',\n",
    "xlabel='Date',\n",
    "ylabel='Number of Patients')"
   ]
  },
  {
   "cell_type": "markdown",
   "metadata": {},
   "source": [
    "### Situation in Saxony\n",
    "\n",
    "Saxonia had high case numbers during the pandemic."
   ]
  },
  {
   "cell_type": "code",
   "execution_count": 26,
   "metadata": {},
   "outputs": [
    {
     "data": {
      "text/html": [
       "<div>\n",
       "<style scoped>\n",
       "    .dataframe tbody tr th:only-of-type {\n",
       "        vertical-align: middle;\n",
       "    }\n",
       "\n",
       "    .dataframe tbody tr th {\n",
       "        vertical-align: top;\n",
       "    }\n",
       "\n",
       "    .dataframe thead th {\n",
       "        text-align: right;\n",
       "    }\n",
       "</style>\n",
       "<table border=\"1\" class=\"dataframe\">\n",
       "  <thead>\n",
       "    <tr style=\"text-align: right;\">\n",
       "      <th></th>\n",
       "      <th>Datum</th>\n",
       "      <th>Bundesland</th>\n",
       "      <th>Anzahl_Meldebereiche_Erwachsene</th>\n",
       "      <th>Aktuelle_COVID_Faelle_Erwachsene_ITS</th>\n",
       "      <th>Belegte_Intensivbetten_Erwachsene</th>\n",
       "      <th>Freie_Intensivbetten_Erwachsene</th>\n",
       "      <th>7_Tage_Notfallreserve_Erwachsene</th>\n",
       "      <th>Freie_IV_Kapazitaeten_Gesamt</th>\n",
       "      <th>Freie_IV_Kapazitaeten_Davon_COVID</th>\n",
       "      <th>Betriebssituation_Regulaerer_Betrieb</th>\n",
       "      <th>...</th>\n",
       "      <th>Betriebssituation_Eingeschraenkt</th>\n",
       "      <th>Betriebssituation_Keine_Angabe</th>\n",
       "      <th>Stratum_17_Minus</th>\n",
       "      <th>Stratum_18_Bis_29</th>\n",
       "      <th>Stratum_30_Bis_39</th>\n",
       "      <th>Stratum_40_Bis_49</th>\n",
       "      <th>Stratum_50_Bis_59</th>\n",
       "      <th>Stratum_60_Bis_69</th>\n",
       "      <th>Stratum_70_Bis_79</th>\n",
       "      <th>Stratum_80_Plus</th>\n",
       "    </tr>\n",
       "  </thead>\n",
       "  <tbody>\n",
       "    <tr>\n",
       "      <th>8759</th>\n",
       "      <td>2021-08-17</td>\n",
       "      <td>SACHSEN</td>\n",
       "      <td>78</td>\n",
       "      <td>23</td>\n",
       "      <td>1177</td>\n",
       "      <td>283</td>\n",
       "      <td>618</td>\n",
       "      <td>296</td>\n",
       "      <td>104</td>\n",
       "      <td>49</td>\n",
       "      <td>...</td>\n",
       "      <td>13</td>\n",
       "      <td>9</td>\n",
       "      <td>0</td>\n",
       "      <td>0</td>\n",
       "      <td>0</td>\n",
       "      <td>0</td>\n",
       "      <td>0</td>\n",
       "      <td>0</td>\n",
       "      <td>0</td>\n",
       "      <td>0</td>\n",
       "    </tr>\n",
       "    <tr>\n",
       "      <th>8775</th>\n",
       "      <td>2021-08-18</td>\n",
       "      <td>SACHSEN</td>\n",
       "      <td>78</td>\n",
       "      <td>21</td>\n",
       "      <td>1192</td>\n",
       "      <td>275</td>\n",
       "      <td>618</td>\n",
       "      <td>286</td>\n",
       "      <td>102</td>\n",
       "      <td>48</td>\n",
       "      <td>...</td>\n",
       "      <td>13</td>\n",
       "      <td>9</td>\n",
       "      <td>0</td>\n",
       "      <td>0</td>\n",
       "      <td>0</td>\n",
       "      <td>0</td>\n",
       "      <td>0</td>\n",
       "      <td>0</td>\n",
       "      <td>0</td>\n",
       "      <td>0</td>\n",
       "    </tr>\n",
       "  </tbody>\n",
       "</table>\n",
       "<p>2 rows × 21 columns</p>\n",
       "</div>"
      ],
      "text/plain": [
       "          Datum Bundesland  Anzahl_Meldebereiche_Erwachsene  \\\n",
       "8759 2021-08-17    SACHSEN                               78   \n",
       "8775 2021-08-18    SACHSEN                               78   \n",
       "\n",
       "      Aktuelle_COVID_Faelle_Erwachsene_ITS  Belegte_Intensivbetten_Erwachsene  \\\n",
       "8759                                    23                               1177   \n",
       "8775                                    21                               1192   \n",
       "\n",
       "      Freie_Intensivbetten_Erwachsene  7_Tage_Notfallreserve_Erwachsene  \\\n",
       "8759                              283                               618   \n",
       "8775                              275                               618   \n",
       "\n",
       "      Freie_IV_Kapazitaeten_Gesamt  Freie_IV_Kapazitaeten_Davon_COVID  \\\n",
       "8759                           296                                104   \n",
       "8775                           286                                102   \n",
       "\n",
       "      Betriebssituation_Regulaerer_Betrieb  ...  \\\n",
       "8759                                    49  ...   \n",
       "8775                                    48  ...   \n",
       "\n",
       "      Betriebssituation_Eingeschraenkt  Betriebssituation_Keine_Angabe  \\\n",
       "8759                                13                               9   \n",
       "8775                                13                               9   \n",
       "\n",
       "      Stratum_17_Minus  Stratum_18_Bis_29  Stratum_30_Bis_39  \\\n",
       "8759                 0                  0                  0   \n",
       "8775                 0                  0                  0   \n",
       "\n",
       "      Stratum_40_Bis_49  Stratum_50_Bis_59  Stratum_60_Bis_69  \\\n",
       "8759                  0                  0                  0   \n",
       "8775                  0                  0                  0   \n",
       "\n",
       "      Stratum_70_Bis_79  Stratum_80_Plus  \n",
       "8759                  0                0  \n",
       "8775                  0                0  \n",
       "\n",
       "[2 rows x 21 columns]"
      ]
     },
     "execution_count": 26,
     "metadata": {},
     "output_type": "execute_result"
    }
   ],
   "source": [
    "saxonia = timeline_df[timeline_df.Bundesland=='SACHSEN']\n",
    "saxonia.tail(2)"
   ]
  },
  {
   "cell_type": "code",
   "execution_count": 27,
   "metadata": {},
   "outputs": [
    {
     "name": "stdout",
     "output_type": "stream",
     "text": [
      "<class 'pandas.core.frame.DataFrame'>\n",
      "DatetimeIndex: 517 entries, 2020-03-20 to 2021-08-18\n",
      "Data columns (total 1 columns):\n",
      " #   Column                 Non-Null Count  Dtype\n",
      "---  ------                 --------------  -----\n",
      " 0   Covid-19 cases in ICU  517 non-null    int64\n",
      "dtypes: int64(1)\n",
      "memory usage: 8.1 KB\n"
     ]
    }
   ],
   "source": [
    "icu_saxonia = saxonia.loc[ : , ['Datum', 'Aktuelle_COVID_Faelle_Erwachsene_ITS']]\n",
    "icu_saxonia.columns = ['date', 'Covid-19 cases in ICU']\n",
    "icu_saxonia.set_index('date', inplace=True)\n",
    "icu_saxonia.info()"
   ]
  },
  {
   "cell_type": "code",
   "execution_count": 28,
   "metadata": {},
   "outputs": [
    {
     "data": {
      "image/png": "[encoded data removed]",
      "text/plain": [
       "<Figure size 432x288 with 1 Axes>"
      ]
     },
     "metadata": {},
     "output_type": "display_data"
    }
   ],
   "source": [
    "icu_cases_saxonia = icu_saxonia.plot(\n",
    "    title='Patients with Covid-19 in ICUs in Saxonia\\n(Data Source: DIVI-Intensivregister)',\n",
    "xlabel='Date',\n",
    "ylabel='Number of Patients')"
   ]
  }
 ],
 "metadata": {
  "kernelspec": {
   "display_name": "Python 3",
   "language": "python",
   "name": "python3"
  },
  "language_info": {
   "codemirror_mode": {
    "name": "ipython",
    "version": 3
   },
   "file_extension": ".py",
   "mimetype": "text/x-python",
   "name": "python",
   "nbconvert_exporter": "python",
   "pygments_lexer": "ipython3",
   "version": "3.8.10"
  }
 },
 "nbformat": 4,
 "nbformat_minor": 4
}

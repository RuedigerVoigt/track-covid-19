{
 "cells": [
  {
   "cell_type": "markdown",
   "metadata": {},
   "source": [
    "# Intensive Care in Germany"
   ]
  },
  {
   "cell_type": "markdown",
   "metadata": {},
   "source": [
    "## Data Source\n",
    "\n",
    "[DIVI-Intensivregister](https://www.intensivregister.de/) monitors the ICU capacities of 1,300 hospitals in Germany."
   ]
  },
  {
   "cell_type": "markdown",
   "metadata": {},
   "source": [
    "## Setup"
   ]
  },
  {
   "cell_type": "code",
   "execution_count": 1,
   "metadata": {},
   "outputs": [],
   "source": [
    "# standard library\n",
    "import datetime\n",
    "import math"
   ]
  },
  {
   "cell_type": "code",
   "execution_count": 2,
   "metadata": {},
   "outputs": [],
   "source": [
    "# third party\n",
    "import numpy as np\n",
    "import pandas as pd\n",
    "import matplotlib.pyplot as plt\n",
    "import requests"
   ]
  },
  {
   "cell_type": "markdown",
   "metadata": {},
   "source": [
    "## Date this Notebook was run"
   ]
  },
  {
   "cell_type": "code",
   "execution_count": 3,
   "metadata": {},
   "outputs": [
    {
     "data": {
      "text/plain": [
       "'2021-07-21'"
      ]
     },
     "execution_count": 3,
     "metadata": {},
     "output_type": "execute_result"
    }
   ],
   "source": [
    "today = datetime.datetime.today().strftime('%Y-%m-%d')\n",
    "today"
   ]
  },
  {
   "cell_type": "code",
   "execution_count": 4,
   "metadata": {},
   "outputs": [],
   "source": [
    "# style like ggplot in R\n",
    "plt.style.use('ggplot')"
   ]
  },
  {
   "cell_type": "code",
   "execution_count": 5,
   "metadata": {},
   "outputs": [],
   "source": [
    "# Avoid cutting off part of the axis labels, see:\n",
    "# https://stackoverflow.com/questions/6774086/why-is-my-xlabel-cut-off-in-my-matplotlib-plot\n",
    "plt.rcParams.update({'figure.autolayout': True})"
   ]
  },
  {
   "cell_type": "markdown",
   "metadata": {},
   "source": [
    "## Get Data"
   ]
  },
  {
   "cell_type": "code",
   "execution_count": 6,
   "metadata": {},
   "outputs": [],
   "source": [
    "timeline_data = \"https://diviexchange.blob.core.windows.net/%24web/bundesland-zeitreihe.csv\""
   ]
  },
  {
   "cell_type": "code",
   "execution_count": 7,
   "metadata": {},
   "outputs": [],
   "source": [
    "timeline_df = pd.read_csv(timeline_data)"
   ]
  },
  {
   "cell_type": "code",
   "execution_count": 8,
   "metadata": {},
   "outputs": [
    {
     "data": {
      "text/html": [
       "<div>\n",
       "<style scoped>\n",
       "    .dataframe tbody tr th:only-of-type {\n",
       "        vertical-align: middle;\n",
       "    }\n",
       "\n",
       "    .dataframe tbody tr th {\n",
       "        vertical-align: top;\n",
       "    }\n",
       "\n",
       "    .dataframe thead th {\n",
       "        text-align: right;\n",
       "    }\n",
       "</style>\n",
       "<table border=\"1\" class=\"dataframe\">\n",
       "  <thead>\n",
       "    <tr style=\"text-align: right;\">\n",
       "      <th></th>\n",
       "      <th>Datum</th>\n",
       "      <th>Bundesland</th>\n",
       "      <th>Anzahl_Meldebereiche_Erwachsene</th>\n",
       "      <th>Aktuelle_COVID_Faelle_Erwachsene_ITS</th>\n",
       "      <th>Belegte_Intensivbetten_Erwachsene</th>\n",
       "      <th>Freie_Intensivbetten_Erwachsene</th>\n",
       "      <th>7_Tage_Notfallreserve_Erwachsene</th>\n",
       "      <th>Freie_IV_Kapazitaeten_Gesamt</th>\n",
       "      <th>Freie_IV_Kapazitaeten_Davon_COVID</th>\n",
       "      <th>Betriebssituation_Regulaerer_Betrieb</th>\n",
       "      <th>Betriebssituation_Teilweise_Eingeschraenkt</th>\n",
       "      <th>Betriebssituation_Eingeschraenkt</th>\n",
       "      <th>Betriebssituation_Keine_Angabe</th>\n",
       "    </tr>\n",
       "  </thead>\n",
       "  <tbody>\n",
       "    <tr>\n",
       "      <th>8310</th>\n",
       "      <td>2021-07-21T12:15:00+02:00</td>\n",
       "      <td>BREMEN</td>\n",
       "      <td>11</td>\n",
       "      <td>1</td>\n",
       "      <td>169</td>\n",
       "      <td>15</td>\n",
       "      <td>130</td>\n",
       "      <td>10</td>\n",
       "      <td>5</td>\n",
       "      <td>4</td>\n",
       "      <td>3</td>\n",
       "      <td>2</td>\n",
       "      <td>2</td>\n",
       "    </tr>\n",
       "    <tr>\n",
       "      <th>8311</th>\n",
       "      <td>2021-07-21T12:15:00+02:00</td>\n",
       "      <td>NIEDERSACHSEN</td>\n",
       "      <td>119</td>\n",
       "      <td>27</td>\n",
       "      <td>1437</td>\n",
       "      <td>305</td>\n",
       "      <td>960</td>\n",
       "      <td>321</td>\n",
       "      <td>144</td>\n",
       "      <td>64</td>\n",
       "      <td>18</td>\n",
       "      <td>25</td>\n",
       "      <td>12</td>\n",
       "    </tr>\n",
       "    <tr>\n",
       "      <th>8312</th>\n",
       "      <td>2021-07-21T12:15:00+02:00</td>\n",
       "      <td>DEUTSCHLAND</td>\n",
       "      <td>1315</td>\n",
       "      <td>353</td>\n",
       "      <td>19140</td>\n",
       "      <td>3553</td>\n",
       "      <td>10233</td>\n",
       "      <td>3261</td>\n",
       "      <td>1331</td>\n",
       "      <td>641</td>\n",
       "      <td>213</td>\n",
       "      <td>312</td>\n",
       "      <td>149</td>\n",
       "    </tr>\n",
       "  </tbody>\n",
       "</table>\n",
       "</div>"
      ],
      "text/plain": [
       "                          Datum     Bundesland  \\\n",
       "8310  2021-07-21T12:15:00+02:00         BREMEN   \n",
       "8311  2021-07-21T12:15:00+02:00  NIEDERSACHSEN   \n",
       "8312  2021-07-21T12:15:00+02:00    DEUTSCHLAND   \n",
       "\n",
       "      Anzahl_Meldebereiche_Erwachsene  Aktuelle_COVID_Faelle_Erwachsene_ITS  \\\n",
       "8310                               11                                     1   \n",
       "8311                              119                                    27   \n",
       "8312                             1315                                   353   \n",
       "\n",
       "      Belegte_Intensivbetten_Erwachsene  Freie_Intensivbetten_Erwachsene  \\\n",
       "8310                                169                               15   \n",
       "8311                               1437                              305   \n",
       "8312                              19140                             3553   \n",
       "\n",
       "      7_Tage_Notfallreserve_Erwachsene  Freie_IV_Kapazitaeten_Gesamt  \\\n",
       "8310                               130                            10   \n",
       "8311                               960                           321   \n",
       "8312                             10233                          3261   \n",
       "\n",
       "      Freie_IV_Kapazitaeten_Davon_COVID  Betriebssituation_Regulaerer_Betrieb  \\\n",
       "8310                                  5                                     4   \n",
       "8311                                144                                    64   \n",
       "8312                               1331                                   641   \n",
       "\n",
       "      Betriebssituation_Teilweise_Eingeschraenkt  \\\n",
       "8310                                           3   \n",
       "8311                                          18   \n",
       "8312                                         213   \n",
       "\n",
       "      Betriebssituation_Eingeschraenkt  Betriebssituation_Keine_Angabe  \n",
       "8310                                 2                               2  \n",
       "8311                                25                              12  \n",
       "8312                               312                             149  "
      ]
     },
     "execution_count": 8,
     "metadata": {},
     "output_type": "execute_result"
    }
   ],
   "source": [
    "timeline_df.tail(3)"
   ]
  },
  {
   "cell_type": "markdown",
   "metadata": {},
   "source": [
    "## Rename Columns"
   ]
  },
  {
   "cell_type": "markdown",
   "metadata": {},
   "source": [
    "### Convert datatype of date column"
   ]
  },
  {
   "cell_type": "code",
   "execution_count": 9,
   "metadata": {},
   "outputs": [
    {
     "data": {
      "text/html": [
       "<div>\n",
       "<style scoped>\n",
       "    .dataframe tbody tr th:only-of-type {\n",
       "        vertical-align: middle;\n",
       "    }\n",
       "\n",
       "    .dataframe tbody tr th {\n",
       "        vertical-align: top;\n",
       "    }\n",
       "\n",
       "    .dataframe thead th {\n",
       "        text-align: right;\n",
       "    }\n",
       "</style>\n",
       "<table border=\"1\" class=\"dataframe\">\n",
       "  <thead>\n",
       "    <tr style=\"text-align: right;\">\n",
       "      <th></th>\n",
       "      <th>Datum</th>\n",
       "      <th>Bundesland</th>\n",
       "      <th>Anzahl_Meldebereiche_Erwachsene</th>\n",
       "      <th>Aktuelle_COVID_Faelle_Erwachsene_ITS</th>\n",
       "      <th>Belegte_Intensivbetten_Erwachsene</th>\n",
       "      <th>Freie_Intensivbetten_Erwachsene</th>\n",
       "      <th>7_Tage_Notfallreserve_Erwachsene</th>\n",
       "      <th>Freie_IV_Kapazitaeten_Gesamt</th>\n",
       "      <th>Freie_IV_Kapazitaeten_Davon_COVID</th>\n",
       "      <th>Betriebssituation_Regulaerer_Betrieb</th>\n",
       "      <th>Betriebssituation_Teilweise_Eingeschraenkt</th>\n",
       "      <th>Betriebssituation_Eingeschraenkt</th>\n",
       "      <th>Betriebssituation_Keine_Angabe</th>\n",
       "    </tr>\n",
       "  </thead>\n",
       "  <tbody>\n",
       "    <tr>\n",
       "      <th>0</th>\n",
       "      <td>2020-03-20</td>\n",
       "      <td>RHEINLAND_PFALZ</td>\n",
       "      <td>15</td>\n",
       "      <td>14</td>\n",
       "      <td>48</td>\n",
       "      <td>112</td>\n",
       "      <td>0</td>\n",
       "      <td>0</td>\n",
       "      <td>0</td>\n",
       "      <td>10</td>\n",
       "      <td>3</td>\n",
       "      <td>2</td>\n",
       "      <td>0</td>\n",
       "    </tr>\n",
       "    <tr>\n",
       "      <th>1</th>\n",
       "      <td>2020-03-20</td>\n",
       "      <td>HESSEN</td>\n",
       "      <td>19</td>\n",
       "      <td>7</td>\n",
       "      <td>18</td>\n",
       "      <td>185</td>\n",
       "      <td>0</td>\n",
       "      <td>0</td>\n",
       "      <td>0</td>\n",
       "      <td>16</td>\n",
       "      <td>3</td>\n",
       "      <td>0</td>\n",
       "      <td>0</td>\n",
       "    </tr>\n",
       "    <tr>\n",
       "      <th>2</th>\n",
       "      <td>2020-03-20</td>\n",
       "      <td>BAYERN</td>\n",
       "      <td>45</td>\n",
       "      <td>61</td>\n",
       "      <td>77</td>\n",
       "      <td>392</td>\n",
       "      <td>0</td>\n",
       "      <td>0</td>\n",
       "      <td>0</td>\n",
       "      <td>37</td>\n",
       "      <td>5</td>\n",
       "      <td>1</td>\n",
       "      <td>2</td>\n",
       "    </tr>\n",
       "    <tr>\n",
       "      <th>3</th>\n",
       "      <td>2020-03-20</td>\n",
       "      <td>BERLIN</td>\n",
       "      <td>22</td>\n",
       "      <td>9</td>\n",
       "      <td>114</td>\n",
       "      <td>157</td>\n",
       "      <td>0</td>\n",
       "      <td>0</td>\n",
       "      <td>0</td>\n",
       "      <td>18</td>\n",
       "      <td>2</td>\n",
       "      <td>1</td>\n",
       "      <td>1</td>\n",
       "    </tr>\n",
       "    <tr>\n",
       "      <th>4</th>\n",
       "      <td>2020-03-20</td>\n",
       "      <td>SACHSEN_ANHALT</td>\n",
       "      <td>8</td>\n",
       "      <td>0</td>\n",
       "      <td>2</td>\n",
       "      <td>105</td>\n",
       "      <td>0</td>\n",
       "      <td>0</td>\n",
       "      <td>0</td>\n",
       "      <td>6</td>\n",
       "      <td>2</td>\n",
       "      <td>0</td>\n",
       "      <td>0</td>\n",
       "    </tr>\n",
       "  </tbody>\n",
       "</table>\n",
       "</div>"
      ],
      "text/plain": [
       "        Datum       Bundesland  Anzahl_Meldebereiche_Erwachsene  \\\n",
       "0  2020-03-20  RHEINLAND_PFALZ                               15   \n",
       "1  2020-03-20           HESSEN                               19   \n",
       "2  2020-03-20           BAYERN                               45   \n",
       "3  2020-03-20           BERLIN                               22   \n",
       "4  2020-03-20   SACHSEN_ANHALT                                8   \n",
       "\n",
       "   Aktuelle_COVID_Faelle_Erwachsene_ITS  Belegte_Intensivbetten_Erwachsene  \\\n",
       "0                                    14                                 48   \n",
       "1                                     7                                 18   \n",
       "2                                    61                                 77   \n",
       "3                                     9                                114   \n",
       "4                                     0                                  2   \n",
       "\n",
       "   Freie_Intensivbetten_Erwachsene  7_Tage_Notfallreserve_Erwachsene  \\\n",
       "0                              112                                 0   \n",
       "1                              185                                 0   \n",
       "2                              392                                 0   \n",
       "3                              157                                 0   \n",
       "4                              105                                 0   \n",
       "\n",
       "   Freie_IV_Kapazitaeten_Gesamt  Freie_IV_Kapazitaeten_Davon_COVID  \\\n",
       "0                             0                                  0   \n",
       "1                             0                                  0   \n",
       "2                             0                                  0   \n",
       "3                             0                                  0   \n",
       "4                             0                                  0   \n",
       "\n",
       "   Betriebssituation_Regulaerer_Betrieb  \\\n",
       "0                                    10   \n",
       "1                                    16   \n",
       "2                                    37   \n",
       "3                                    18   \n",
       "4                                     6   \n",
       "\n",
       "   Betriebssituation_Teilweise_Eingeschraenkt  \\\n",
       "0                                           3   \n",
       "1                                           3   \n",
       "2                                           5   \n",
       "3                                           2   \n",
       "4                                           2   \n",
       "\n",
       "   Betriebssituation_Eingeschraenkt  Betriebssituation_Keine_Angabe  \n",
       "0                                 2                               0  \n",
       "1                                 0                               0  \n",
       "2                                 1                               2  \n",
       "3                                 1                               1  \n",
       "4                                 0                               0  "
      ]
     },
     "execution_count": 9,
     "metadata": {},
     "output_type": "execute_result"
    }
   ],
   "source": [
    "timeline_df[\"Datum\"] = timeline_df[\"Datum\"].str[:10]\n",
    "timeline_df.head()"
   ]
  },
  {
   "cell_type": "code",
   "execution_count": 10,
   "metadata": {},
   "outputs": [],
   "source": [
    "timeline_df.iloc[ : , [0]] = timeline_df.iloc[ : , [0]].apply(pd.to_datetime)"
   ]
  },
  {
   "cell_type": "code",
   "execution_count": 11,
   "metadata": {},
   "outputs": [
    {
     "name": "stdout",
     "output_type": "stream",
     "text": [
      "<class 'pandas.core.frame.DataFrame'>\n",
      "RangeIndex: 8313 entries, 0 to 8312\n",
      "Data columns (total 13 columns):\n",
      " #   Column                                      Non-Null Count  Dtype         \n",
      "---  ------                                      --------------  -----         \n",
      " 0   Datum                                       8313 non-null   datetime64[ns]\n",
      " 1   Bundesland                                  8313 non-null   object        \n",
      " 2   Anzahl_Meldebereiche_Erwachsene             8313 non-null   int64         \n",
      " 3   Aktuelle_COVID_Faelle_Erwachsene_ITS        8313 non-null   int64         \n",
      " 4   Belegte_Intensivbetten_Erwachsene           8313 non-null   int64         \n",
      " 5   Freie_Intensivbetten_Erwachsene             8313 non-null   int64         \n",
      " 6   7_Tage_Notfallreserve_Erwachsene            8313 non-null   int64         \n",
      " 7   Freie_IV_Kapazitaeten_Gesamt                8313 non-null   int64         \n",
      " 8   Freie_IV_Kapazitaeten_Davon_COVID           8313 non-null   int64         \n",
      " 9   Betriebssituation_Regulaerer_Betrieb        8313 non-null   int64         \n",
      " 10  Betriebssituation_Teilweise_Eingeschraenkt  8313 non-null   int64         \n",
      " 11  Betriebssituation_Eingeschraenkt            8313 non-null   int64         \n",
      " 12  Betriebssituation_Keine_Angabe              8313 non-null   int64         \n",
      "dtypes: datetime64[ns](1), int64(11), object(1)\n",
      "memory usage: 844.4+ KB\n"
     ]
    }
   ],
   "source": [
    "timeline_df.info()"
   ]
  },
  {
   "cell_type": "code",
   "execution_count": 12,
   "metadata": {},
   "outputs": [
    {
     "data": {
      "text/html": [
       "<div>\n",
       "<style scoped>\n",
       "    .dataframe tbody tr th:only-of-type {\n",
       "        vertical-align: middle;\n",
       "    }\n",
       "\n",
       "    .dataframe tbody tr th {\n",
       "        vertical-align: top;\n",
       "    }\n",
       "\n",
       "    .dataframe thead th {\n",
       "        text-align: right;\n",
       "    }\n",
       "</style>\n",
       "<table border=\"1\" class=\"dataframe\">\n",
       "  <thead>\n",
       "    <tr style=\"text-align: right;\">\n",
       "      <th></th>\n",
       "      <th>Datum</th>\n",
       "      <th>Bundesland</th>\n",
       "      <th>Anzahl_Meldebereiche_Erwachsene</th>\n",
       "      <th>Aktuelle_COVID_Faelle_Erwachsene_ITS</th>\n",
       "      <th>Belegte_Intensivbetten_Erwachsene</th>\n",
       "      <th>Freie_Intensivbetten_Erwachsene</th>\n",
       "      <th>7_Tage_Notfallreserve_Erwachsene</th>\n",
       "      <th>Freie_IV_Kapazitaeten_Gesamt</th>\n",
       "      <th>Freie_IV_Kapazitaeten_Davon_COVID</th>\n",
       "      <th>Betriebssituation_Regulaerer_Betrieb</th>\n",
       "      <th>Betriebssituation_Teilweise_Eingeschraenkt</th>\n",
       "      <th>Betriebssituation_Eingeschraenkt</th>\n",
       "      <th>Betriebssituation_Keine_Angabe</th>\n",
       "    </tr>\n",
       "  </thead>\n",
       "  <tbody>\n",
       "    <tr>\n",
       "      <th>8278</th>\n",
       "      <td>2021-07-19</td>\n",
       "      <td>DEUTSCHLAND</td>\n",
       "      <td>1318</td>\n",
       "      <td>363</td>\n",
       "      <td>18577</td>\n",
       "      <td>4103</td>\n",
       "      <td>10327</td>\n",
       "      <td>3525</td>\n",
       "      <td>1441</td>\n",
       "      <td>647</td>\n",
       "      <td>216</td>\n",
       "      <td>308</td>\n",
       "      <td>147</td>\n",
       "    </tr>\n",
       "    <tr>\n",
       "      <th>8295</th>\n",
       "      <td>2021-07-20</td>\n",
       "      <td>DEUTSCHLAND</td>\n",
       "      <td>1318</td>\n",
       "      <td>357</td>\n",
       "      <td>19102</td>\n",
       "      <td>3631</td>\n",
       "      <td>10284</td>\n",
       "      <td>3278</td>\n",
       "      <td>1372</td>\n",
       "      <td>640</td>\n",
       "      <td>209</td>\n",
       "      <td>317</td>\n",
       "      <td>152</td>\n",
       "    </tr>\n",
       "    <tr>\n",
       "      <th>8312</th>\n",
       "      <td>2021-07-21</td>\n",
       "      <td>DEUTSCHLAND</td>\n",
       "      <td>1315</td>\n",
       "      <td>353</td>\n",
       "      <td>19140</td>\n",
       "      <td>3553</td>\n",
       "      <td>10233</td>\n",
       "      <td>3261</td>\n",
       "      <td>1331</td>\n",
       "      <td>641</td>\n",
       "      <td>213</td>\n",
       "      <td>312</td>\n",
       "      <td>149</td>\n",
       "    </tr>\n",
       "  </tbody>\n",
       "</table>\n",
       "</div>"
      ],
      "text/plain": [
       "          Datum   Bundesland  Anzahl_Meldebereiche_Erwachsene  \\\n",
       "8278 2021-07-19  DEUTSCHLAND                             1318   \n",
       "8295 2021-07-20  DEUTSCHLAND                             1318   \n",
       "8312 2021-07-21  DEUTSCHLAND                             1315   \n",
       "\n",
       "      Aktuelle_COVID_Faelle_Erwachsene_ITS  Belegte_Intensivbetten_Erwachsene  \\\n",
       "8278                                   363                              18577   \n",
       "8295                                   357                              19102   \n",
       "8312                                   353                              19140   \n",
       "\n",
       "      Freie_Intensivbetten_Erwachsene  7_Tage_Notfallreserve_Erwachsene  \\\n",
       "8278                             4103                             10327   \n",
       "8295                             3631                             10284   \n",
       "8312                             3553                             10233   \n",
       "\n",
       "      Freie_IV_Kapazitaeten_Gesamt  Freie_IV_Kapazitaeten_Davon_COVID  \\\n",
       "8278                          3525                               1441   \n",
       "8295                          3278                               1372   \n",
       "8312                          3261                               1331   \n",
       "\n",
       "      Betriebssituation_Regulaerer_Betrieb  \\\n",
       "8278                                   647   \n",
       "8295                                   640   \n",
       "8312                                   641   \n",
       "\n",
       "      Betriebssituation_Teilweise_Eingeschraenkt  \\\n",
       "8278                                         216   \n",
       "8295                                         209   \n",
       "8312                                         213   \n",
       "\n",
       "      Betriebssituation_Eingeschraenkt  Betriebssituation_Keine_Angabe  \n",
       "8278                               308                             147  \n",
       "8295                               317                             152  \n",
       "8312                               312                             149  "
      ]
     },
     "execution_count": 12,
     "metadata": {},
     "output_type": "execute_result"
    }
   ],
   "source": [
    "federal_level = timeline_df[timeline_df.Bundesland=='DEUTSCHLAND']\n",
    "federal_level.tail(3)"
   ]
  },
  {
   "cell_type": "markdown",
   "metadata": {},
   "source": [
    "## Used Beds (Adults)"
   ]
  },
  {
   "cell_type": "code",
   "execution_count": 13,
   "metadata": {},
   "outputs": [
    {
     "name": "stdout",
     "output_type": "stream",
     "text": [
      "<class 'pandas.core.frame.DataFrame'>\n",
      "Int64Index: 489 entries, 16 to 8312\n",
      "Data columns (total 2 columns):\n",
      " #   Column                    Non-Null Count  Dtype         \n",
      "---  ------                    --------------  -----         \n",
      " 0   date                      489 non-null    datetime64[ns]\n",
      " 1   ICU beds in use (adults)  489 non-null    int64         \n",
      "dtypes: datetime64[ns](1), int64(1)\n",
      "memory usage: 11.5 KB\n"
     ]
    }
   ],
   "source": [
    "used_beds = federal_level.loc[ : , ['Datum', 'Belegte_Intensivbetten_Erwachsene']]\n",
    "used_beds.columns = ['date', 'ICU beds in use (adults)']\n",
    "used_beds.info()"
   ]
  },
  {
   "cell_type": "code",
   "execution_count": 14,
   "metadata": {},
   "outputs": [],
   "source": [
    "used_beds.set_index('date', inplace=True)"
   ]
  },
  {
   "cell_type": "code",
   "execution_count": 15,
   "metadata": {},
   "outputs": [
    {
     "data": {
      "text/plain": [
       "<AxesSubplot:xlabel='date'>"
      ]
     },
     "execution_count": 15,
     "metadata": {},
     "output_type": "execute_result"
    },
    {
     "data": {
      "image/png": "[encoded data removed]",
      "text/plain": [
       "<Figure size 432x288 with 1 Axes>"
      ]
     },
     "metadata": {},
     "output_type": "display_data"
    }
   ],
   "source": [
    "used_beds.plot()"
   ]
  },
  {
   "cell_type": "markdown",
   "metadata": {},
   "source": [
    "## Covid-19 patients in ICU"
   ]
  },
  {
   "cell_type": "code",
   "execution_count": 16,
   "metadata": {},
   "outputs": [],
   "source": [
    "icu = federal_level.loc[ : , ['Datum', 'Aktuelle_COVID_Faelle_Erwachsene_ITS']]"
   ]
  },
  {
   "cell_type": "code",
   "execution_count": 17,
   "metadata": {},
   "outputs": [
    {
     "name": "stdout",
     "output_type": "stream",
     "text": [
      "<class 'pandas.core.frame.DataFrame'>\n",
      "DatetimeIndex: 489 entries, 2020-03-20 to 2021-07-21\n",
      "Data columns (total 1 columns):\n",
      " #   Column                 Non-Null Count  Dtype\n",
      "---  ------                 --------------  -----\n",
      " 0   Covid-19 cases in ICU  489 non-null    int64\n",
      "dtypes: int64(1)\n",
      "memory usage: 7.6 KB\n"
     ]
    }
   ],
   "source": [
    "icu.columns = ['date', 'Covid-19 cases in ICU']\n",
    "icu.set_index('date', inplace=True)\n",
    "icu.info()"
   ]
  },
  {
   "cell_type": "code",
   "execution_count": 18,
   "metadata": {},
   "outputs": [
    {
     "data": {
      "image/png": "[encoded data removed]",
      "text/plain": [
       "<Figure size 432x288 with 1 Axes>"
      ]
     },
     "metadata": {},
     "output_type": "display_data"
    }
   ],
   "source": [
    "icu_cases = icu.plot(\n",
    "    title='Patients with Covid-19 in German ICUs\\n(Data Source: DIVI-Intensivregister)',\n",
    "xlabel='Date',\n",
    "ylabel='Number of Patients')"
   ]
  },
  {
   "cell_type": "code",
   "execution_count": 19,
   "metadata": {},
   "outputs": [],
   "source": [
    "fig = icu_cases.get_figure()\n",
    "fig.savefig('img/covid-19-patients-in-icu-germany.png')"
   ]
  },
  {
   "cell_type": "markdown",
   "metadata": {},
   "source": [
    "### Situation in North Rhine-Westphalia\n",
    "\n",
    "NRW ist the state in Germany with the highest number of inhabitants."
   ]
  },
  {
   "cell_type": "code",
   "execution_count": 20,
   "metadata": {},
   "outputs": [
    {
     "data": {
      "text/html": [
       "<div>\n",
       "<style scoped>\n",
       "    .dataframe tbody tr th:only-of-type {\n",
       "        vertical-align: middle;\n",
       "    }\n",
       "\n",
       "    .dataframe tbody tr th {\n",
       "        vertical-align: top;\n",
       "    }\n",
       "\n",
       "    .dataframe thead th {\n",
       "        text-align: right;\n",
       "    }\n",
       "</style>\n",
       "<table border=\"1\" class=\"dataframe\">\n",
       "  <thead>\n",
       "    <tr style=\"text-align: right;\">\n",
       "      <th></th>\n",
       "      <th>Datum</th>\n",
       "      <th>Bundesland</th>\n",
       "      <th>Anzahl_Meldebereiche_Erwachsene</th>\n",
       "      <th>Aktuelle_COVID_Faelle_Erwachsene_ITS</th>\n",
       "      <th>Belegte_Intensivbetten_Erwachsene</th>\n",
       "      <th>Freie_Intensivbetten_Erwachsene</th>\n",
       "      <th>7_Tage_Notfallreserve_Erwachsene</th>\n",
       "      <th>Freie_IV_Kapazitaeten_Gesamt</th>\n",
       "      <th>Freie_IV_Kapazitaeten_Davon_COVID</th>\n",
       "      <th>Betriebssituation_Regulaerer_Betrieb</th>\n",
       "      <th>Betriebssituation_Teilweise_Eingeschraenkt</th>\n",
       "      <th>Betriebssituation_Eingeschraenkt</th>\n",
       "      <th>Betriebssituation_Keine_Angabe</th>\n",
       "    </tr>\n",
       "  </thead>\n",
       "  <tbody>\n",
       "    <tr>\n",
       "      <th>8288</th>\n",
       "      <td>2021-07-20</td>\n",
       "      <td>NORDRHEIN_WESTFALEN</td>\n",
       "      <td>315</td>\n",
       "      <td>75</td>\n",
       "      <td>4607</td>\n",
       "      <td>797</td>\n",
       "      <td>2418</td>\n",
       "      <td>691</td>\n",
       "      <td>343</td>\n",
       "      <td>159</td>\n",
       "      <td>53</td>\n",
       "      <td>81</td>\n",
       "      <td>22</td>\n",
       "    </tr>\n",
       "    <tr>\n",
       "      <th>8305</th>\n",
       "      <td>2021-07-21</td>\n",
       "      <td>NORDRHEIN_WESTFALEN</td>\n",
       "      <td>316</td>\n",
       "      <td>72</td>\n",
       "      <td>4585</td>\n",
       "      <td>860</td>\n",
       "      <td>2416</td>\n",
       "      <td>748</td>\n",
       "      <td>343</td>\n",
       "      <td>164</td>\n",
       "      <td>56</td>\n",
       "      <td>74</td>\n",
       "      <td>22</td>\n",
       "    </tr>\n",
       "  </tbody>\n",
       "</table>\n",
       "</div>"
      ],
      "text/plain": [
       "          Datum           Bundesland  Anzahl_Meldebereiche_Erwachsene  \\\n",
       "8288 2021-07-20  NORDRHEIN_WESTFALEN                              315   \n",
       "8305 2021-07-21  NORDRHEIN_WESTFALEN                              316   \n",
       "\n",
       "      Aktuelle_COVID_Faelle_Erwachsene_ITS  Belegte_Intensivbetten_Erwachsene  \\\n",
       "8288                                    75                               4607   \n",
       "8305                                    72                               4585   \n",
       "\n",
       "      Freie_Intensivbetten_Erwachsene  7_Tage_Notfallreserve_Erwachsene  \\\n",
       "8288                              797                              2418   \n",
       "8305                              860                              2416   \n",
       "\n",
       "      Freie_IV_Kapazitaeten_Gesamt  Freie_IV_Kapazitaeten_Davon_COVID  \\\n",
       "8288                           691                                343   \n",
       "8305                           748                                343   \n",
       "\n",
       "      Betriebssituation_Regulaerer_Betrieb  \\\n",
       "8288                                   159   \n",
       "8305                                   164   \n",
       "\n",
       "      Betriebssituation_Teilweise_Eingeschraenkt  \\\n",
       "8288                                          53   \n",
       "8305                                          56   \n",
       "\n",
       "      Betriebssituation_Eingeschraenkt  Betriebssituation_Keine_Angabe  \n",
       "8288                                81                              22  \n",
       "8305                                74                              22  "
      ]
     },
     "execution_count": 20,
     "metadata": {},
     "output_type": "execute_result"
    }
   ],
   "source": [
    "nrw = timeline_df[timeline_df.Bundesland=='NORDRHEIN_WESTFALEN']\n",
    "nrw.tail(2)"
   ]
  },
  {
   "cell_type": "code",
   "execution_count": 21,
   "metadata": {},
   "outputs": [
    {
     "name": "stdout",
     "output_type": "stream",
     "text": [
      "<class 'pandas.core.frame.DataFrame'>\n",
      "DatetimeIndex: 489 entries, 2020-03-20 to 2021-07-21\n",
      "Data columns (total 1 columns):\n",
      " #   Column                 Non-Null Count  Dtype\n",
      "---  ------                 --------------  -----\n",
      " 0   Covid-19 cases in ICU  489 non-null    int64\n",
      "dtypes: int64(1)\n",
      "memory usage: 7.6 KB\n"
     ]
    }
   ],
   "source": [
    "icu_nrw = nrw.loc[ : , ['Datum', 'Aktuelle_COVID_Faelle_Erwachsene_ITS']]\n",
    "icu_nrw.columns = ['date', 'Covid-19 cases in ICU']\n",
    "icu_nrw.set_index('date', inplace=True)\n",
    "icu_nrw.info()"
   ]
  },
  {
   "cell_type": "code",
   "execution_count": 22,
   "metadata": {},
   "outputs": [
    {
     "data": {
      "image/png": "[encoded data removed]",
      "text/plain": [
       "<Figure size 432x288 with 1 Axes>"
      ]
     },
     "metadata": {},
     "output_type": "display_data"
    }
   ],
   "source": [
    "icu_cases_nrw = icu_nrw.plot(\n",
    "    title='Patients with Covid-19 in ICUs in North Rhine-Westphalia\\n(Data Source: DIVI-Intensivregister)',\n",
    "xlabel='Date',\n",
    "ylabel='Number of Patients')"
   ]
  },
  {
   "cell_type": "markdown",
   "metadata": {},
   "source": [
    "### Situation in Rhineland-Palatinate"
   ]
  },
  {
   "cell_type": "code",
   "execution_count": 23,
   "metadata": {},
   "outputs": [
    {
     "data": {
      "text/html": [
       "<div>\n",
       "<style scoped>\n",
       "    .dataframe tbody tr th:only-of-type {\n",
       "        vertical-align: middle;\n",
       "    }\n",
       "\n",
       "    .dataframe tbody tr th {\n",
       "        vertical-align: top;\n",
       "    }\n",
       "\n",
       "    .dataframe thead th {\n",
       "        text-align: right;\n",
       "    }\n",
       "</style>\n",
       "<table border=\"1\" class=\"dataframe\">\n",
       "  <thead>\n",
       "    <tr style=\"text-align: right;\">\n",
       "      <th></th>\n",
       "      <th>Datum</th>\n",
       "      <th>Bundesland</th>\n",
       "      <th>Anzahl_Meldebereiche_Erwachsene</th>\n",
       "      <th>Aktuelle_COVID_Faelle_Erwachsene_ITS</th>\n",
       "      <th>Belegte_Intensivbetten_Erwachsene</th>\n",
       "      <th>Freie_Intensivbetten_Erwachsene</th>\n",
       "      <th>7_Tage_Notfallreserve_Erwachsene</th>\n",
       "      <th>Freie_IV_Kapazitaeten_Gesamt</th>\n",
       "      <th>Freie_IV_Kapazitaeten_Davon_COVID</th>\n",
       "      <th>Betriebssituation_Regulaerer_Betrieb</th>\n",
       "      <th>Betriebssituation_Teilweise_Eingeschraenkt</th>\n",
       "      <th>Betriebssituation_Eingeschraenkt</th>\n",
       "      <th>Betriebssituation_Keine_Angabe</th>\n",
       "    </tr>\n",
       "  </thead>\n",
       "  <tbody>\n",
       "    <tr>\n",
       "      <th>8279</th>\n",
       "      <td>2021-07-20</td>\n",
       "      <td>RHEINLAND_PFALZ</td>\n",
       "      <td>77</td>\n",
       "      <td>15</td>\n",
       "      <td>806</td>\n",
       "      <td>233</td>\n",
       "      <td>429</td>\n",
       "      <td>203</td>\n",
       "      <td>101</td>\n",
       "      <td>36</td>\n",
       "      <td>20</td>\n",
       "      <td>13</td>\n",
       "      <td>8</td>\n",
       "    </tr>\n",
       "    <tr>\n",
       "      <th>8296</th>\n",
       "      <td>2021-07-21</td>\n",
       "      <td>RHEINLAND_PFALZ</td>\n",
       "      <td>76</td>\n",
       "      <td>15</td>\n",
       "      <td>805</td>\n",
       "      <td>221</td>\n",
       "      <td>406</td>\n",
       "      <td>194</td>\n",
       "      <td>102</td>\n",
       "      <td>39</td>\n",
       "      <td>19</td>\n",
       "      <td>11</td>\n",
       "      <td>7</td>\n",
       "    </tr>\n",
       "  </tbody>\n",
       "</table>\n",
       "</div>"
      ],
      "text/plain": [
       "          Datum       Bundesland  Anzahl_Meldebereiche_Erwachsene  \\\n",
       "8279 2021-07-20  RHEINLAND_PFALZ                               77   \n",
       "8296 2021-07-21  RHEINLAND_PFALZ                               76   \n",
       "\n",
       "      Aktuelle_COVID_Faelle_Erwachsene_ITS  Belegte_Intensivbetten_Erwachsene  \\\n",
       "8279                                    15                                806   \n",
       "8296                                    15                                805   \n",
       "\n",
       "      Freie_Intensivbetten_Erwachsene  7_Tage_Notfallreserve_Erwachsene  \\\n",
       "8279                              233                               429   \n",
       "8296                              221                               406   \n",
       "\n",
       "      Freie_IV_Kapazitaeten_Gesamt  Freie_IV_Kapazitaeten_Davon_COVID  \\\n",
       "8279                           203                                101   \n",
       "8296                           194                                102   \n",
       "\n",
       "      Betriebssituation_Regulaerer_Betrieb  \\\n",
       "8279                                    36   \n",
       "8296                                    39   \n",
       "\n",
       "      Betriebssituation_Teilweise_Eingeschraenkt  \\\n",
       "8279                                          20   \n",
       "8296                                          19   \n",
       "\n",
       "      Betriebssituation_Eingeschraenkt  Betriebssituation_Keine_Angabe  \n",
       "8279                                13                               8  \n",
       "8296                                11                               7  "
      ]
     },
     "execution_count": 23,
     "metadata": {},
     "output_type": "execute_result"
    }
   ],
   "source": [
    "rlp = timeline_df[timeline_df.Bundesland=='RHEINLAND_PFALZ']\n",
    "rlp.tail(2)"
   ]
  },
  {
   "cell_type": "code",
   "execution_count": 24,
   "metadata": {},
   "outputs": [
    {
     "name": "stdout",
     "output_type": "stream",
     "text": [
      "<class 'pandas.core.frame.DataFrame'>\n",
      "DatetimeIndex: 489 entries, 2020-03-20 to 2021-07-21\n",
      "Data columns (total 1 columns):\n",
      " #   Column                 Non-Null Count  Dtype\n",
      "---  ------                 --------------  -----\n",
      " 0   Covid-19 cases in ICU  489 non-null    int64\n",
      "dtypes: int64(1)\n",
      "memory usage: 7.6 KB\n"
     ]
    }
   ],
   "source": [
    "icu_rlp = rlp.loc[ : , ['Datum', 'Aktuelle_COVID_Faelle_Erwachsene_ITS']]\n",
    "icu_rlp.columns = ['date', 'Covid-19 cases in ICU']\n",
    "icu_rlp.set_index('date', inplace=True)\n",
    "icu_rlp.info()"
   ]
  },
  {
   "cell_type": "code",
   "execution_count": 25,
   "metadata": {},
   "outputs": [
    {
     "data": {
      "image/png": "[encoded data removed]",
      "text/plain": [
       "<Figure size 432x288 with 1 Axes>"
      ]
     },
     "metadata": {},
     "output_type": "display_data"
    }
   ],
   "source": [
    "icu_cases_rlp = icu_rlp.plot(\n",
    "    title='Patients with Covid-19 in ICUs in Rhineland-Palatinate\\n(Data Source: DIVI-Intensivregister)',\n",
    "xlabel='Date',\n",
    "ylabel='Number of Patients')"
   ]
  },
  {
   "cell_type": "markdown",
   "metadata": {},
   "source": [
    "### Situation in Saxony\n",
    "\n",
    "Saxonia had high case numbers during the pandemic."
   ]
  },
  {
   "cell_type": "code",
   "execution_count": 26,
   "metadata": {},
   "outputs": [
    {
     "data": {
      "text/html": [
       "<div>\n",
       "<style scoped>\n",
       "    .dataframe tbody tr th:only-of-type {\n",
       "        vertical-align: middle;\n",
       "    }\n",
       "\n",
       "    .dataframe tbody tr th {\n",
       "        vertical-align: top;\n",
       "    }\n",
       "\n",
       "    .dataframe thead th {\n",
       "        text-align: right;\n",
       "    }\n",
       "</style>\n",
       "<table border=\"1\" class=\"dataframe\">\n",
       "  <thead>\n",
       "    <tr style=\"text-align: right;\">\n",
       "      <th></th>\n",
       "      <th>Datum</th>\n",
       "      <th>Bundesland</th>\n",
       "      <th>Anzahl_Meldebereiche_Erwachsene</th>\n",
       "      <th>Aktuelle_COVID_Faelle_Erwachsene_ITS</th>\n",
       "      <th>Belegte_Intensivbetten_Erwachsene</th>\n",
       "      <th>Freie_Intensivbetten_Erwachsene</th>\n",
       "      <th>7_Tage_Notfallreserve_Erwachsene</th>\n",
       "      <th>Freie_IV_Kapazitaeten_Gesamt</th>\n",
       "      <th>Freie_IV_Kapazitaeten_Davon_COVID</th>\n",
       "      <th>Betriebssituation_Regulaerer_Betrieb</th>\n",
       "      <th>Betriebssituation_Teilweise_Eingeschraenkt</th>\n",
       "      <th>Betriebssituation_Eingeschraenkt</th>\n",
       "      <th>Betriebssituation_Keine_Angabe</th>\n",
       "    </tr>\n",
       "  </thead>\n",
       "  <tbody>\n",
       "    <tr>\n",
       "      <th>8291</th>\n",
       "      <td>2021-07-20</td>\n",
       "      <td>SACHSEN</td>\n",
       "      <td>79</td>\n",
       "      <td>14</td>\n",
       "      <td>1240</td>\n",
       "      <td>241</td>\n",
       "      <td>625</td>\n",
       "      <td>281</td>\n",
       "      <td>81</td>\n",
       "      <td>48</td>\n",
       "      <td>12</td>\n",
       "      <td>9</td>\n",
       "      <td>10</td>\n",
       "    </tr>\n",
       "    <tr>\n",
       "      <th>8308</th>\n",
       "      <td>2021-07-21</td>\n",
       "      <td>SACHSEN</td>\n",
       "      <td>79</td>\n",
       "      <td>16</td>\n",
       "      <td>1236</td>\n",
       "      <td>242</td>\n",
       "      <td>628</td>\n",
       "      <td>280</td>\n",
       "      <td>83</td>\n",
       "      <td>45</td>\n",
       "      <td>13</td>\n",
       "      <td>10</td>\n",
       "      <td>11</td>\n",
       "    </tr>\n",
       "  </tbody>\n",
       "</table>\n",
       "</div>"
      ],
      "text/plain": [
       "          Datum Bundesland  Anzahl_Meldebereiche_Erwachsene  \\\n",
       "8291 2021-07-20    SACHSEN                               79   \n",
       "8308 2021-07-21    SACHSEN                               79   \n",
       "\n",
       "      Aktuelle_COVID_Faelle_Erwachsene_ITS  Belegte_Intensivbetten_Erwachsene  \\\n",
       "8291                                    14                               1240   \n",
       "8308                                    16                               1236   \n",
       "\n",
       "      Freie_Intensivbetten_Erwachsene  7_Tage_Notfallreserve_Erwachsene  \\\n",
       "8291                              241                               625   \n",
       "8308                              242                               628   \n",
       "\n",
       "      Freie_IV_Kapazitaeten_Gesamt  Freie_IV_Kapazitaeten_Davon_COVID  \\\n",
       "8291                           281                                 81   \n",
       "8308                           280                                 83   \n",
       "\n",
       "      Betriebssituation_Regulaerer_Betrieb  \\\n",
       "8291                                    48   \n",
       "8308                                    45   \n",
       "\n",
       "      Betriebssituation_Teilweise_Eingeschraenkt  \\\n",
       "8291                                          12   \n",
       "8308                                          13   \n",
       "\n",
       "      Betriebssituation_Eingeschraenkt  Betriebssituation_Keine_Angabe  \n",
       "8291                                 9                              10  \n",
       "8308                                10                              11  "
      ]
     },
     "execution_count": 26,
     "metadata": {},
     "output_type": "execute_result"
    }
   ],
   "source": [
    "saxonia = timeline_df[timeline_df.Bundesland=='SACHSEN']\n",
    "saxonia.tail(2)"
   ]
  },
  {
   "cell_type": "code",
   "execution_count": 27,
   "metadata": {},
   "outputs": [
    {
     "name": "stdout",
     "output_type": "stream",
     "text": [
      "<class 'pandas.core.frame.DataFrame'>\n",
      "DatetimeIndex: 489 entries, 2020-03-20 to 2021-07-21\n",
      "Data columns (total 1 columns):\n",
      " #   Column                 Non-Null Count  Dtype\n",
      "---  ------                 --------------  -----\n",
      " 0   Covid-19 cases in ICU  489 non-null    int64\n",
      "dtypes: int64(1)\n",
      "memory usage: 7.6 KB\n"
     ]
    }
   ],
   "source": [
    "icu_saxonia = saxonia.loc[ : , ['Datum', 'Aktuelle_COVID_Faelle_Erwachsene_ITS']]\n",
    "icu_saxonia.columns = ['date', 'Covid-19 cases in ICU']\n",
    "icu_saxonia.set_index('date', inplace=True)\n",
    "icu_saxonia.info()"
   ]
  },
  {
   "cell_type": "code",
   "execution_count": 28,
   "metadata": {},
   "outputs": [
    {
     "data": {
      "image/png": "[encoded data removed]",
      "text/plain": [
       "<Figure size 432x288 with 1 Axes>"
      ]
     },
     "metadata": {},
     "output_type": "display_data"
    }
   ],
   "source": [
    "icu_cases_saxonia = icu_saxonia.plot(\n",
    "    title='Patients with Covid-19 in ICUs in Saxonia\\n(Data Source: DIVI-Intensivregister)',\n",
    "xlabel='Date',\n",
    "ylabel='Number of Patients')"
   ]
  }
 ],
 "metadata": {
  "kernelspec": {
   "display_name": "Python 3",
   "language": "python",
   "name": "python3"
  },
  "language_info": {
   "codemirror_mode": {
    "name": "ipython",
    "version": 3
   },
   "file_extension": ".py",
   "mimetype": "text/x-python",
   "name": "python",
   "nbconvert_exporter": "python",
   "pygments_lexer": "ipython3",
   "version": "3.8.10"
  }
 },
 "nbformat": 4,
 "nbformat_minor": 4
}

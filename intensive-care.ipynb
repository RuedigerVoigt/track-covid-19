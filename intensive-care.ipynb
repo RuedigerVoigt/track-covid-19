{
 "cells": [
  {
   "cell_type": "markdown",
   "metadata": {},
   "source": [
    "# Intensive Care in Germany"
   ]
  },
  {
   "cell_type": "markdown",
   "metadata": {},
   "source": [
    "## Data Source\n",
    "\n",
    "[DIVI-Intensivregister](https://www.intensivregister.de/) monitors the ICU capacities of 1,300 hospitals in Germany."
   ]
  },
  {
   "cell_type": "markdown",
   "metadata": {},
   "source": [
    "## Setup"
   ]
  },
  {
   "cell_type": "code",
   "execution_count": 29,
   "metadata": {},
   "outputs": [],
   "source": [
    "# standard library\n",
    "import datetime\n",
    "import math"
   ]
  },
  {
   "cell_type": "code",
   "execution_count": 30,
   "metadata": {},
   "outputs": [],
   "source": [
    "# third party\n",
    "import numpy as np\n",
    "import pandas as pd\n",
    "import matplotlib.pyplot as plt\n",
    "import requests"
   ]
  },
  {
   "cell_type": "markdown",
   "metadata": {},
   "source": [
    "## Date this Notebook was run"
   ]
  },
  {
   "cell_type": "code",
   "execution_count": 31,
   "metadata": {},
   "outputs": [
    {
     "data": {
      "text/plain": [
       "'2021-07-25'"
      ]
     },
     "execution_count": 31,
     "metadata": {},
     "output_type": "execute_result"
    }
   ],
   "source": [
    "today = datetime.datetime.today().strftime('%Y-%m-%d')\n",
    "today"
   ]
  },
  {
   "cell_type": "code",
   "execution_count": 32,
   "metadata": {},
   "outputs": [],
   "source": [
    "# style like ggplot in R\n",
    "plt.style.use('ggplot')"
   ]
  },
  {
   "cell_type": "code",
   "execution_count": 33,
   "metadata": {},
   "outputs": [],
   "source": [
    "# Avoid cutting off part of the axis labels, see:\n",
    "# https://stackoverflow.com/questions/6774086/why-is-my-xlabel-cut-off-in-my-matplotlib-plot\n",
    "plt.rcParams.update({'figure.autolayout': True})"
   ]
  },
  {
   "cell_type": "markdown",
   "metadata": {},
   "source": [
    "## Get Data"
   ]
  },
  {
   "cell_type": "code",
   "execution_count": 34,
   "metadata": {},
   "outputs": [],
   "source": [
    "timeline_data = \"https://diviexchange.blob.core.windows.net/%24web/bundesland-zeitreihe.csv\""
   ]
  },
  {
   "cell_type": "code",
   "execution_count": 35,
   "metadata": {},
   "outputs": [],
   "source": [
    "timeline_df = pd.read_csv(timeline_data)"
   ]
  },
  {
   "cell_type": "code",
   "execution_count": 36,
   "metadata": {},
   "outputs": [
    {
     "data": {
      "text/html": [
       "<div>\n",
       "<style scoped>\n",
       "    .dataframe tbody tr th:only-of-type {\n",
       "        vertical-align: middle;\n",
       "    }\n",
       "\n",
       "    .dataframe tbody tr th {\n",
       "        vertical-align: top;\n",
       "    }\n",
       "\n",
       "    .dataframe thead th {\n",
       "        text-align: right;\n",
       "    }\n",
       "</style>\n",
       "<table border=\"1\" class=\"dataframe\">\n",
       "  <thead>\n",
       "    <tr style=\"text-align: right;\">\n",
       "      <th></th>\n",
       "      <th>Datum</th>\n",
       "      <th>Bundesland</th>\n",
       "      <th>Anzahl_Meldebereiche_Erwachsene</th>\n",
       "      <th>Aktuelle_COVID_Faelle_Erwachsene_ITS</th>\n",
       "      <th>Belegte_Intensivbetten_Erwachsene</th>\n",
       "      <th>Freie_Intensivbetten_Erwachsene</th>\n",
       "      <th>7_Tage_Notfallreserve_Erwachsene</th>\n",
       "      <th>Freie_IV_Kapazitaeten_Gesamt</th>\n",
       "      <th>Freie_IV_Kapazitaeten_Davon_COVID</th>\n",
       "      <th>Betriebssituation_Regulaerer_Betrieb</th>\n",
       "      <th>Betriebssituation_Teilweise_Eingeschraenkt</th>\n",
       "      <th>Betriebssituation_Eingeschraenkt</th>\n",
       "      <th>Betriebssituation_Keine_Angabe</th>\n",
       "    </tr>\n",
       "  </thead>\n",
       "  <tbody>\n",
       "    <tr>\n",
       "      <th>8378</th>\n",
       "      <td>2021-07-25T12:15:00+02:00</td>\n",
       "      <td>HESSEN</td>\n",
       "      <td>97</td>\n",
       "      <td>44</td>\n",
       "      <td>1541</td>\n",
       "      <td>308</td>\n",
       "      <td>748</td>\n",
       "      <td>215</td>\n",
       "      <td>65</td>\n",
       "      <td>43</td>\n",
       "      <td>20</td>\n",
       "      <td>23</td>\n",
       "      <td>11</td>\n",
       "    </tr>\n",
       "    <tr>\n",
       "      <th>8379</th>\n",
       "      <td>2021-07-25T12:15:00+02:00</td>\n",
       "      <td>SCHLESWIG_HOLSTEIN</td>\n",
       "      <td>32</td>\n",
       "      <td>4</td>\n",
       "      <td>543</td>\n",
       "      <td>175</td>\n",
       "      <td>466</td>\n",
       "      <td>151</td>\n",
       "      <td>63</td>\n",
       "      <td>16</td>\n",
       "      <td>6</td>\n",
       "      <td>5</td>\n",
       "      <td>5</td>\n",
       "    </tr>\n",
       "    <tr>\n",
       "      <th>8380</th>\n",
       "      <td>2021-07-25T12:15:00+02:00</td>\n",
       "      <td>DEUTSCHLAND</td>\n",
       "      <td>1309</td>\n",
       "      <td>368</td>\n",
       "      <td>18372</td>\n",
       "      <td>4000</td>\n",
       "      <td>10268</td>\n",
       "      <td>3456</td>\n",
       "      <td>1440</td>\n",
       "      <td>630</td>\n",
       "      <td>214</td>\n",
       "      <td>322</td>\n",
       "      <td>143</td>\n",
       "    </tr>\n",
       "  </tbody>\n",
       "</table>\n",
       "</div>"
      ],
      "text/plain": [
       "                          Datum          Bundesland  \\\n",
       "8378  2021-07-25T12:15:00+02:00              HESSEN   \n",
       "8379  2021-07-25T12:15:00+02:00  SCHLESWIG_HOLSTEIN   \n",
       "8380  2021-07-25T12:15:00+02:00         DEUTSCHLAND   \n",
       "\n",
       "      Anzahl_Meldebereiche_Erwachsene  Aktuelle_COVID_Faelle_Erwachsene_ITS  \\\n",
       "8378                               97                                    44   \n",
       "8379                               32                                     4   \n",
       "8380                             1309                                   368   \n",
       "\n",
       "      Belegte_Intensivbetten_Erwachsene  Freie_Intensivbetten_Erwachsene  \\\n",
       "8378                               1541                              308   \n",
       "8379                                543                              175   \n",
       "8380                              18372                             4000   \n",
       "\n",
       "      7_Tage_Notfallreserve_Erwachsene  Freie_IV_Kapazitaeten_Gesamt  \\\n",
       "8378                               748                           215   \n",
       "8379                               466                           151   \n",
       "8380                             10268                          3456   \n",
       "\n",
       "      Freie_IV_Kapazitaeten_Davon_COVID  Betriebssituation_Regulaerer_Betrieb  \\\n",
       "8378                                 65                                    43   \n",
       "8379                                 63                                    16   \n",
       "8380                               1440                                   630   \n",
       "\n",
       "      Betriebssituation_Teilweise_Eingeschraenkt  \\\n",
       "8378                                          20   \n",
       "8379                                           6   \n",
       "8380                                         214   \n",
       "\n",
       "      Betriebssituation_Eingeschraenkt  Betriebssituation_Keine_Angabe  \n",
       "8378                                23                              11  \n",
       "8379                                 5                               5  \n",
       "8380                               322                             143  "
      ]
     },
     "execution_count": 36,
     "metadata": {},
     "output_type": "execute_result"
    }
   ],
   "source": [
    "timeline_df.tail(3)"
   ]
  },
  {
   "cell_type": "markdown",
   "metadata": {},
   "source": [
    "## Rename Columns"
   ]
  },
  {
   "cell_type": "markdown",
   "metadata": {},
   "source": [
    "### Convert datatype of date column"
   ]
  },
  {
   "cell_type": "code",
   "execution_count": 37,
   "metadata": {},
   "outputs": [
    {
     "data": {
      "text/html": [
       "<div>\n",
       "<style scoped>\n",
       "    .dataframe tbody tr th:only-of-type {\n",
       "        vertical-align: middle;\n",
       "    }\n",
       "\n",
       "    .dataframe tbody tr th {\n",
       "        vertical-align: top;\n",
       "    }\n",
       "\n",
       "    .dataframe thead th {\n",
       "        text-align: right;\n",
       "    }\n",
       "</style>\n",
       "<table border=\"1\" class=\"dataframe\">\n",
       "  <thead>\n",
       "    <tr style=\"text-align: right;\">\n",
       "      <th></th>\n",
       "      <th>Datum</th>\n",
       "      <th>Bundesland</th>\n",
       "      <th>Anzahl_Meldebereiche_Erwachsene</th>\n",
       "      <th>Aktuelle_COVID_Faelle_Erwachsene_ITS</th>\n",
       "      <th>Belegte_Intensivbetten_Erwachsene</th>\n",
       "      <th>Freie_Intensivbetten_Erwachsene</th>\n",
       "      <th>7_Tage_Notfallreserve_Erwachsene</th>\n",
       "      <th>Freie_IV_Kapazitaeten_Gesamt</th>\n",
       "      <th>Freie_IV_Kapazitaeten_Davon_COVID</th>\n",
       "      <th>Betriebssituation_Regulaerer_Betrieb</th>\n",
       "      <th>Betriebssituation_Teilweise_Eingeschraenkt</th>\n",
       "      <th>Betriebssituation_Eingeschraenkt</th>\n",
       "      <th>Betriebssituation_Keine_Angabe</th>\n",
       "    </tr>\n",
       "  </thead>\n",
       "  <tbody>\n",
       "    <tr>\n",
       "      <th>0</th>\n",
       "      <td>2020-03-20</td>\n",
       "      <td>RHEINLAND_PFALZ</td>\n",
       "      <td>15</td>\n",
       "      <td>14</td>\n",
       "      <td>48</td>\n",
       "      <td>112</td>\n",
       "      <td>0</td>\n",
       "      <td>0</td>\n",
       "      <td>0</td>\n",
       "      <td>10</td>\n",
       "      <td>3</td>\n",
       "      <td>2</td>\n",
       "      <td>0</td>\n",
       "    </tr>\n",
       "    <tr>\n",
       "      <th>1</th>\n",
       "      <td>2020-03-20</td>\n",
       "      <td>BERLIN</td>\n",
       "      <td>22</td>\n",
       "      <td>9</td>\n",
       "      <td>114</td>\n",
       "      <td>157</td>\n",
       "      <td>0</td>\n",
       "      <td>0</td>\n",
       "      <td>0</td>\n",
       "      <td>18</td>\n",
       "      <td>2</td>\n",
       "      <td>1</td>\n",
       "      <td>1</td>\n",
       "    </tr>\n",
       "    <tr>\n",
       "      <th>2</th>\n",
       "      <td>2020-03-20</td>\n",
       "      <td>SACHSEN_ANHALT</td>\n",
       "      <td>8</td>\n",
       "      <td>0</td>\n",
       "      <td>2</td>\n",
       "      <td>105</td>\n",
       "      <td>0</td>\n",
       "      <td>0</td>\n",
       "      <td>0</td>\n",
       "      <td>6</td>\n",
       "      <td>2</td>\n",
       "      <td>0</td>\n",
       "      <td>0</td>\n",
       "    </tr>\n",
       "    <tr>\n",
       "      <th>3</th>\n",
       "      <td>2020-03-20</td>\n",
       "      <td>BRANDENBURG</td>\n",
       "      <td>20</td>\n",
       "      <td>2</td>\n",
       "      <td>50</td>\n",
       "      <td>142</td>\n",
       "      <td>0</td>\n",
       "      <td>0</td>\n",
       "      <td>0</td>\n",
       "      <td>15</td>\n",
       "      <td>4</td>\n",
       "      <td>1</td>\n",
       "      <td>0</td>\n",
       "    </tr>\n",
       "    <tr>\n",
       "      <th>4</th>\n",
       "      <td>2020-03-20</td>\n",
       "      <td>SAARLAND</td>\n",
       "      <td>4</td>\n",
       "      <td>1</td>\n",
       "      <td>7</td>\n",
       "      <td>19</td>\n",
       "      <td>0</td>\n",
       "      <td>0</td>\n",
       "      <td>0</td>\n",
       "      <td>3</td>\n",
       "      <td>1</td>\n",
       "      <td>0</td>\n",
       "      <td>0</td>\n",
       "    </tr>\n",
       "  </tbody>\n",
       "</table>\n",
       "</div>"
      ],
      "text/plain": [
       "        Datum       Bundesland  Anzahl_Meldebereiche_Erwachsene  \\\n",
       "0  2020-03-20  RHEINLAND_PFALZ                               15   \n",
       "1  2020-03-20           BERLIN                               22   \n",
       "2  2020-03-20   SACHSEN_ANHALT                                8   \n",
       "3  2020-03-20      BRANDENBURG                               20   \n",
       "4  2020-03-20         SAARLAND                                4   \n",
       "\n",
       "   Aktuelle_COVID_Faelle_Erwachsene_ITS  Belegte_Intensivbetten_Erwachsene  \\\n",
       "0                                    14                                 48   \n",
       "1                                     9                                114   \n",
       "2                                     0                                  2   \n",
       "3                                     2                                 50   \n",
       "4                                     1                                  7   \n",
       "\n",
       "   Freie_Intensivbetten_Erwachsene  7_Tage_Notfallreserve_Erwachsene  \\\n",
       "0                              112                                 0   \n",
       "1                              157                                 0   \n",
       "2                              105                                 0   \n",
       "3                              142                                 0   \n",
       "4                               19                                 0   \n",
       "\n",
       "   Freie_IV_Kapazitaeten_Gesamt  Freie_IV_Kapazitaeten_Davon_COVID  \\\n",
       "0                             0                                  0   \n",
       "1                             0                                  0   \n",
       "2                             0                                  0   \n",
       "3                             0                                  0   \n",
       "4                             0                                  0   \n",
       "\n",
       "   Betriebssituation_Regulaerer_Betrieb  \\\n",
       "0                                    10   \n",
       "1                                    18   \n",
       "2                                     6   \n",
       "3                                    15   \n",
       "4                                     3   \n",
       "\n",
       "   Betriebssituation_Teilweise_Eingeschraenkt  \\\n",
       "0                                           3   \n",
       "1                                           2   \n",
       "2                                           2   \n",
       "3                                           4   \n",
       "4                                           1   \n",
       "\n",
       "   Betriebssituation_Eingeschraenkt  Betriebssituation_Keine_Angabe  \n",
       "0                                 2                               0  \n",
       "1                                 1                               1  \n",
       "2                                 0                               0  \n",
       "3                                 1                               0  \n",
       "4                                 0                               0  "
      ]
     },
     "execution_count": 37,
     "metadata": {},
     "output_type": "execute_result"
    }
   ],
   "source": [
    "timeline_df[\"Datum\"] = timeline_df[\"Datum\"].str[:10]\n",
    "timeline_df.head()"
   ]
  },
  {
   "cell_type": "code",
   "execution_count": 38,
   "metadata": {},
   "outputs": [],
   "source": [
    "timeline_df.iloc[ : , [0]] = timeline_df.iloc[ : , [0]].apply(pd.to_datetime)"
   ]
  },
  {
   "cell_type": "code",
   "execution_count": 39,
   "metadata": {},
   "outputs": [
    {
     "name": "stdout",
     "output_type": "stream",
     "text": [
      "<class 'pandas.core.frame.DataFrame'>\n",
      "RangeIndex: 8381 entries, 0 to 8380\n",
      "Data columns (total 13 columns):\n",
      " #   Column                                      Non-Null Count  Dtype         \n",
      "---  ------                                      --------------  -----         \n",
      " 0   Datum                                       8381 non-null   datetime64[ns]\n",
      " 1   Bundesland                                  8381 non-null   object        \n",
      " 2   Anzahl_Meldebereiche_Erwachsene             8381 non-null   int64         \n",
      " 3   Aktuelle_COVID_Faelle_Erwachsene_ITS        8381 non-null   int64         \n",
      " 4   Belegte_Intensivbetten_Erwachsene           8381 non-null   int64         \n",
      " 5   Freie_Intensivbetten_Erwachsene             8381 non-null   int64         \n",
      " 6   7_Tage_Notfallreserve_Erwachsene            8381 non-null   int64         \n",
      " 7   Freie_IV_Kapazitaeten_Gesamt                8381 non-null   int64         \n",
      " 8   Freie_IV_Kapazitaeten_Davon_COVID           8381 non-null   int64         \n",
      " 9   Betriebssituation_Regulaerer_Betrieb        8381 non-null   int64         \n",
      " 10  Betriebssituation_Teilweise_Eingeschraenkt  8381 non-null   int64         \n",
      " 11  Betriebssituation_Eingeschraenkt            8381 non-null   int64         \n",
      " 12  Betriebssituation_Keine_Angabe              8381 non-null   int64         \n",
      "dtypes: datetime64[ns](1), int64(11), object(1)\n",
      "memory usage: 851.3+ KB\n"
     ]
    }
   ],
   "source": [
    "timeline_df.info()"
   ]
  },
  {
   "cell_type": "code",
   "execution_count": 40,
   "metadata": {},
   "outputs": [
    {
     "data": {
      "text/html": [
       "<div>\n",
       "<style scoped>\n",
       "    .dataframe tbody tr th:only-of-type {\n",
       "        vertical-align: middle;\n",
       "    }\n",
       "\n",
       "    .dataframe tbody tr th {\n",
       "        vertical-align: top;\n",
       "    }\n",
       "\n",
       "    .dataframe thead th {\n",
       "        text-align: right;\n",
       "    }\n",
       "</style>\n",
       "<table border=\"1\" class=\"dataframe\">\n",
       "  <thead>\n",
       "    <tr style=\"text-align: right;\">\n",
       "      <th></th>\n",
       "      <th>Datum</th>\n",
       "      <th>Bundesland</th>\n",
       "      <th>Anzahl_Meldebereiche_Erwachsene</th>\n",
       "      <th>Aktuelle_COVID_Faelle_Erwachsene_ITS</th>\n",
       "      <th>Belegte_Intensivbetten_Erwachsene</th>\n",
       "      <th>Freie_Intensivbetten_Erwachsene</th>\n",
       "      <th>7_Tage_Notfallreserve_Erwachsene</th>\n",
       "      <th>Freie_IV_Kapazitaeten_Gesamt</th>\n",
       "      <th>Freie_IV_Kapazitaeten_Davon_COVID</th>\n",
       "      <th>Betriebssituation_Regulaerer_Betrieb</th>\n",
       "      <th>Betriebssituation_Teilweise_Eingeschraenkt</th>\n",
       "      <th>Betriebssituation_Eingeschraenkt</th>\n",
       "      <th>Betriebssituation_Keine_Angabe</th>\n",
       "    </tr>\n",
       "  </thead>\n",
       "  <tbody>\n",
       "    <tr>\n",
       "      <th>8346</th>\n",
       "      <td>2021-07-23</td>\n",
       "      <td>DEUTSCHLAND</td>\n",
       "      <td>1309</td>\n",
       "      <td>354</td>\n",
       "      <td>19035</td>\n",
       "      <td>3551</td>\n",
       "      <td>10197</td>\n",
       "      <td>3219</td>\n",
       "      <td>1350</td>\n",
       "      <td>637</td>\n",
       "      <td>209</td>\n",
       "      <td>315</td>\n",
       "      <td>148</td>\n",
       "    </tr>\n",
       "    <tr>\n",
       "      <th>8363</th>\n",
       "      <td>2021-07-24</td>\n",
       "      <td>DEUTSCHLAND</td>\n",
       "      <td>1311</td>\n",
       "      <td>352</td>\n",
       "      <td>18752</td>\n",
       "      <td>3732</td>\n",
       "      <td>10254</td>\n",
       "      <td>3340</td>\n",
       "      <td>1368</td>\n",
       "      <td>619</td>\n",
       "      <td>218</td>\n",
       "      <td>329</td>\n",
       "      <td>145</td>\n",
       "    </tr>\n",
       "    <tr>\n",
       "      <th>8380</th>\n",
       "      <td>2021-07-25</td>\n",
       "      <td>DEUTSCHLAND</td>\n",
       "      <td>1309</td>\n",
       "      <td>368</td>\n",
       "      <td>18372</td>\n",
       "      <td>4000</td>\n",
       "      <td>10268</td>\n",
       "      <td>3456</td>\n",
       "      <td>1440</td>\n",
       "      <td>630</td>\n",
       "      <td>214</td>\n",
       "      <td>322</td>\n",
       "      <td>143</td>\n",
       "    </tr>\n",
       "  </tbody>\n",
       "</table>\n",
       "</div>"
      ],
      "text/plain": [
       "          Datum   Bundesland  Anzahl_Meldebereiche_Erwachsene  \\\n",
       "8346 2021-07-23  DEUTSCHLAND                             1309   \n",
       "8363 2021-07-24  DEUTSCHLAND                             1311   \n",
       "8380 2021-07-25  DEUTSCHLAND                             1309   \n",
       "\n",
       "      Aktuelle_COVID_Faelle_Erwachsene_ITS  Belegte_Intensivbetten_Erwachsene  \\\n",
       "8346                                   354                              19035   \n",
       "8363                                   352                              18752   \n",
       "8380                                   368                              18372   \n",
       "\n",
       "      Freie_Intensivbetten_Erwachsene  7_Tage_Notfallreserve_Erwachsene  \\\n",
       "8346                             3551                             10197   \n",
       "8363                             3732                             10254   \n",
       "8380                             4000                             10268   \n",
       "\n",
       "      Freie_IV_Kapazitaeten_Gesamt  Freie_IV_Kapazitaeten_Davon_COVID  \\\n",
       "8346                          3219                               1350   \n",
       "8363                          3340                               1368   \n",
       "8380                          3456                               1440   \n",
       "\n",
       "      Betriebssituation_Regulaerer_Betrieb  \\\n",
       "8346                                   637   \n",
       "8363                                   619   \n",
       "8380                                   630   \n",
       "\n",
       "      Betriebssituation_Teilweise_Eingeschraenkt  \\\n",
       "8346                                         209   \n",
       "8363                                         218   \n",
       "8380                                         214   \n",
       "\n",
       "      Betriebssituation_Eingeschraenkt  Betriebssituation_Keine_Angabe  \n",
       "8346                               315                             148  \n",
       "8363                               329                             145  \n",
       "8380                               322                             143  "
      ]
     },
     "execution_count": 40,
     "metadata": {},
     "output_type": "execute_result"
    }
   ],
   "source": [
    "federal_level = timeline_df[timeline_df.Bundesland=='DEUTSCHLAND']\n",
    "federal_level.tail(3)"
   ]
  },
  {
   "cell_type": "markdown",
   "metadata": {},
   "source": [
    "## Used Beds (Adults)"
   ]
  },
  {
   "cell_type": "code",
   "execution_count": 41,
   "metadata": {},
   "outputs": [
    {
     "name": "stdout",
     "output_type": "stream",
     "text": [
      "<class 'pandas.core.frame.DataFrame'>\n",
      "Int64Index: 493 entries, 16 to 8380\n",
      "Data columns (total 2 columns):\n",
      " #   Column                    Non-Null Count  Dtype         \n",
      "---  ------                    --------------  -----         \n",
      " 0   date                      493 non-null    datetime64[ns]\n",
      " 1   ICU beds in use (adults)  493 non-null    int64         \n",
      "dtypes: datetime64[ns](1), int64(1)\n",
      "memory usage: 11.6 KB\n"
     ]
    }
   ],
   "source": [
    "used_beds = federal_level.loc[ : , ['Datum', 'Belegte_Intensivbetten_Erwachsene']]\n",
    "used_beds.columns = ['date', 'ICU beds in use (adults)']\n",
    "used_beds.info()"
   ]
  },
  {
   "cell_type": "code",
   "execution_count": 42,
   "metadata": {},
   "outputs": [],
   "source": [
    "used_beds.set_index('date', inplace=True)"
   ]
  },
  {
   "cell_type": "code",
   "execution_count": 43,
   "metadata": {},
   "outputs": [
    {
     "data": {
      "text/plain": [
       "<AxesSubplot:xlabel='date'>"
      ]
     },
     "execution_count": 43,
     "metadata": {},
     "output_type": "execute_result"
    },
    {
     "data": {
      "image/png": "[encoded data removed]",
      "text/plain": [
       "<Figure size 432x288 with 1 Axes>"
      ]
     },
     "metadata": {},
     "output_type": "display_data"
    }
   ],
   "source": [
    "used_beds.plot()"
   ]
  },
  {
   "cell_type": "markdown",
   "metadata": {},
   "source": [
    "## Covid-19 patients in ICU"
   ]
  },
  {
   "cell_type": "code",
   "execution_count": 44,
   "metadata": {},
   "outputs": [],
   "source": [
    "icu = federal_level.loc[ : , ['Datum', 'Aktuelle_COVID_Faelle_Erwachsene_ITS']]"
   ]
  },
  {
   "cell_type": "code",
   "execution_count": 45,
   "metadata": {},
   "outputs": [
    {
     "name": "stdout",
     "output_type": "stream",
     "text": [
      "<class 'pandas.core.frame.DataFrame'>\n",
      "DatetimeIndex: 493 entries, 2020-03-20 to 2021-07-25\n",
      "Data columns (total 1 columns):\n",
      " #   Column                 Non-Null Count  Dtype\n",
      "---  ------                 --------------  -----\n",
      " 0   Covid-19 cases in ICU  493 non-null    int64\n",
      "dtypes: int64(1)\n",
      "memory usage: 7.7 KB\n"
     ]
    }
   ],
   "source": [
    "icu.columns = ['date', 'Covid-19 cases in ICU']\n",
    "icu.set_index('date', inplace=True)\n",
    "icu.info()"
   ]
  },
  {
   "cell_type": "code",
   "execution_count": 46,
   "metadata": {},
   "outputs": [
    {
     "data": {
      "image/png": "[encoded data removed]",
      "text/plain": [
       "<Figure size 432x288 with 1 Axes>"
      ]
     },
     "metadata": {},
     "output_type": "display_data"
    }
   ],
   "source": [
    "icu_cases = icu.plot(\n",
    "    title='Patients with Covid-19 in German ICUs\\n(Data Source: DIVI-Intensivregister)',\n",
    "xlabel='Date',\n",
    "ylabel='Number of Patients')"
   ]
  },
  {
   "cell_type": "code",
   "execution_count": 47,
   "metadata": {},
   "outputs": [],
   "source": [
    "fig = icu_cases.get_figure()\n",
    "fig.savefig('img/covid-19-patients-in-icu-germany.png')"
   ]
  },
  {
   "cell_type": "markdown",
   "metadata": {},
   "source": [
    "### Situation in North Rhine-Westphalia\n",
    "\n",
    "NRW ist the state in Germany with the highest number of inhabitants."
   ]
  },
  {
   "cell_type": "code",
   "execution_count": 48,
   "metadata": {},
   "outputs": [
    {
     "data": {
      "text/html": [
       "<div>\n",
       "<style scoped>\n",
       "    .dataframe tbody tr th:only-of-type {\n",
       "        vertical-align: middle;\n",
       "    }\n",
       "\n",
       "    .dataframe tbody tr th {\n",
       "        vertical-align: top;\n",
       "    }\n",
       "\n",
       "    .dataframe thead th {\n",
       "        text-align: right;\n",
       "    }\n",
       "</style>\n",
       "<table border=\"1\" class=\"dataframe\">\n",
       "  <thead>\n",
       "    <tr style=\"text-align: right;\">\n",
       "      <th></th>\n",
       "      <th>Datum</th>\n",
       "      <th>Bundesland</th>\n",
       "      <th>Anzahl_Meldebereiche_Erwachsene</th>\n",
       "      <th>Aktuelle_COVID_Faelle_Erwachsene_ITS</th>\n",
       "      <th>Belegte_Intensivbetten_Erwachsene</th>\n",
       "      <th>Freie_Intensivbetten_Erwachsene</th>\n",
       "      <th>7_Tage_Notfallreserve_Erwachsene</th>\n",
       "      <th>Freie_IV_Kapazitaeten_Gesamt</th>\n",
       "      <th>Freie_IV_Kapazitaeten_Davon_COVID</th>\n",
       "      <th>Betriebssituation_Regulaerer_Betrieb</th>\n",
       "      <th>Betriebssituation_Teilweise_Eingeschraenkt</th>\n",
       "      <th>Betriebssituation_Eingeschraenkt</th>\n",
       "      <th>Betriebssituation_Keine_Angabe</th>\n",
       "    </tr>\n",
       "  </thead>\n",
       "  <tbody>\n",
       "    <tr>\n",
       "      <th>8352</th>\n",
       "      <td>2021-07-24</td>\n",
       "      <td>NORDRHEIN_WESTFALEN</td>\n",
       "      <td>317</td>\n",
       "      <td>73</td>\n",
       "      <td>4550</td>\n",
       "      <td>881</td>\n",
       "      <td>2404</td>\n",
       "      <td>754</td>\n",
       "      <td>388</td>\n",
       "      <td>157</td>\n",
       "      <td>55</td>\n",
       "      <td>83</td>\n",
       "      <td>22</td>\n",
       "    </tr>\n",
       "    <tr>\n",
       "      <th>8369</th>\n",
       "      <td>2021-07-25</td>\n",
       "      <td>NORDRHEIN_WESTFALEN</td>\n",
       "      <td>317</td>\n",
       "      <td>77</td>\n",
       "      <td>4516</td>\n",
       "      <td>913</td>\n",
       "      <td>2401</td>\n",
       "      <td>759</td>\n",
       "      <td>405</td>\n",
       "      <td>161</td>\n",
       "      <td>57</td>\n",
       "      <td>78</td>\n",
       "      <td>21</td>\n",
       "    </tr>\n",
       "  </tbody>\n",
       "</table>\n",
       "</div>"
      ],
      "text/plain": [
       "          Datum           Bundesland  Anzahl_Meldebereiche_Erwachsene  \\\n",
       "8352 2021-07-24  NORDRHEIN_WESTFALEN                              317   \n",
       "8369 2021-07-25  NORDRHEIN_WESTFALEN                              317   \n",
       "\n",
       "      Aktuelle_COVID_Faelle_Erwachsene_ITS  Belegte_Intensivbetten_Erwachsene  \\\n",
       "8352                                    73                               4550   \n",
       "8369                                    77                               4516   \n",
       "\n",
       "      Freie_Intensivbetten_Erwachsene  7_Tage_Notfallreserve_Erwachsene  \\\n",
       "8352                              881                              2404   \n",
       "8369                              913                              2401   \n",
       "\n",
       "      Freie_IV_Kapazitaeten_Gesamt  Freie_IV_Kapazitaeten_Davon_COVID  \\\n",
       "8352                           754                                388   \n",
       "8369                           759                                405   \n",
       "\n",
       "      Betriebssituation_Regulaerer_Betrieb  \\\n",
       "8352                                   157   \n",
       "8369                                   161   \n",
       "\n",
       "      Betriebssituation_Teilweise_Eingeschraenkt  \\\n",
       "8352                                          55   \n",
       "8369                                          57   \n",
       "\n",
       "      Betriebssituation_Eingeschraenkt  Betriebssituation_Keine_Angabe  \n",
       "8352                                83                              22  \n",
       "8369                                78                              21  "
      ]
     },
     "execution_count": 48,
     "metadata": {},
     "output_type": "execute_result"
    }
   ],
   "source": [
    "nrw = timeline_df[timeline_df.Bundesland=='NORDRHEIN_WESTFALEN']\n",
    "nrw.tail(2)"
   ]
  },
  {
   "cell_type": "code",
   "execution_count": 49,
   "metadata": {},
   "outputs": [
    {
     "name": "stdout",
     "output_type": "stream",
     "text": [
      "<class 'pandas.core.frame.DataFrame'>\n",
      "DatetimeIndex: 493 entries, 2020-03-20 to 2021-07-25\n",
      "Data columns (total 1 columns):\n",
      " #   Column                 Non-Null Count  Dtype\n",
      "---  ------                 --------------  -----\n",
      " 0   Covid-19 cases in ICU  493 non-null    int64\n",
      "dtypes: int64(1)\n",
      "memory usage: 7.7 KB\n"
     ]
    }
   ],
   "source": [
    "icu_nrw = nrw.loc[ : , ['Datum', 'Aktuelle_COVID_Faelle_Erwachsene_ITS']]\n",
    "icu_nrw.columns = ['date', 'Covid-19 cases in ICU']\n",
    "icu_nrw.set_index('date', inplace=True)\n",
    "icu_nrw.info()"
   ]
  },
  {
   "cell_type": "code",
   "execution_count": 50,
   "metadata": {},
   "outputs": [
    {
     "data": {
      "image/png": "[encoded data removed]",
      "text/plain": [
       "<Figure size 432x288 with 1 Axes>"
      ]
     },
     "metadata": {},
     "output_type": "display_data"
    }
   ],
   "source": [
    "icu_cases_nrw = icu_nrw.plot(\n",
    "    title='Patients with Covid-19 in ICUs in North Rhine-Westphalia\\n(Data Source: DIVI-Intensivregister)',\n",
    "xlabel='Date',\n",
    "ylabel='Number of Patients')"
   ]
  },
  {
   "cell_type": "markdown",
   "metadata": {},
   "source": [
    "### Situation in Rhineland-Palatinate"
   ]
  },
  {
   "cell_type": "code",
   "execution_count": 51,
   "metadata": {},
   "outputs": [
    {
     "data": {
      "text/html": [
       "<div>\n",
       "<style scoped>\n",
       "    .dataframe tbody tr th:only-of-type {\n",
       "        vertical-align: middle;\n",
       "    }\n",
       "\n",
       "    .dataframe tbody tr th {\n",
       "        vertical-align: top;\n",
       "    }\n",
       "\n",
       "    .dataframe thead th {\n",
       "        text-align: right;\n",
       "    }\n",
       "</style>\n",
       "<table border=\"1\" class=\"dataframe\">\n",
       "  <thead>\n",
       "    <tr style=\"text-align: right;\">\n",
       "      <th></th>\n",
       "      <th>Datum</th>\n",
       "      <th>Bundesland</th>\n",
       "      <th>Anzahl_Meldebereiche_Erwachsene</th>\n",
       "      <th>Aktuelle_COVID_Faelle_Erwachsene_ITS</th>\n",
       "      <th>Belegte_Intensivbetten_Erwachsene</th>\n",
       "      <th>Freie_Intensivbetten_Erwachsene</th>\n",
       "      <th>7_Tage_Notfallreserve_Erwachsene</th>\n",
       "      <th>Freie_IV_Kapazitaeten_Gesamt</th>\n",
       "      <th>Freie_IV_Kapazitaeten_Davon_COVID</th>\n",
       "      <th>Betriebssituation_Regulaerer_Betrieb</th>\n",
       "      <th>Betriebssituation_Teilweise_Eingeschraenkt</th>\n",
       "      <th>Betriebssituation_Eingeschraenkt</th>\n",
       "      <th>Betriebssituation_Keine_Angabe</th>\n",
       "    </tr>\n",
       "  </thead>\n",
       "  <tbody>\n",
       "    <tr>\n",
       "      <th>8347</th>\n",
       "      <td>2021-07-24</td>\n",
       "      <td>RHEINLAND_PFALZ</td>\n",
       "      <td>76</td>\n",
       "      <td>15</td>\n",
       "      <td>804</td>\n",
       "      <td>203</td>\n",
       "      <td>409</td>\n",
       "      <td>176</td>\n",
       "      <td>88</td>\n",
       "      <td>38</td>\n",
       "      <td>19</td>\n",
       "      <td>13</td>\n",
       "      <td>6</td>\n",
       "    </tr>\n",
       "    <tr>\n",
       "      <th>8364</th>\n",
       "      <td>2021-07-25</td>\n",
       "      <td>RHEINLAND_PFALZ</td>\n",
       "      <td>76</td>\n",
       "      <td>18</td>\n",
       "      <td>770</td>\n",
       "      <td>229</td>\n",
       "      <td>410</td>\n",
       "      <td>184</td>\n",
       "      <td>89</td>\n",
       "      <td>38</td>\n",
       "      <td>17</td>\n",
       "      <td>15</td>\n",
       "      <td>6</td>\n",
       "    </tr>\n",
       "  </tbody>\n",
       "</table>\n",
       "</div>"
      ],
      "text/plain": [
       "          Datum       Bundesland  Anzahl_Meldebereiche_Erwachsene  \\\n",
       "8347 2021-07-24  RHEINLAND_PFALZ                               76   \n",
       "8364 2021-07-25  RHEINLAND_PFALZ                               76   \n",
       "\n",
       "      Aktuelle_COVID_Faelle_Erwachsene_ITS  Belegte_Intensivbetten_Erwachsene  \\\n",
       "8347                                    15                                804   \n",
       "8364                                    18                                770   \n",
       "\n",
       "      Freie_Intensivbetten_Erwachsene  7_Tage_Notfallreserve_Erwachsene  \\\n",
       "8347                              203                               409   \n",
       "8364                              229                               410   \n",
       "\n",
       "      Freie_IV_Kapazitaeten_Gesamt  Freie_IV_Kapazitaeten_Davon_COVID  \\\n",
       "8347                           176                                 88   \n",
       "8364                           184                                 89   \n",
       "\n",
       "      Betriebssituation_Regulaerer_Betrieb  \\\n",
       "8347                                    38   \n",
       "8364                                    38   \n",
       "\n",
       "      Betriebssituation_Teilweise_Eingeschraenkt  \\\n",
       "8347                                          19   \n",
       "8364                                          17   \n",
       "\n",
       "      Betriebssituation_Eingeschraenkt  Betriebssituation_Keine_Angabe  \n",
       "8347                                13                               6  \n",
       "8364                                15                               6  "
      ]
     },
     "execution_count": 51,
     "metadata": {},
     "output_type": "execute_result"
    }
   ],
   "source": [
    "rlp = timeline_df[timeline_df.Bundesland=='RHEINLAND_PFALZ']\n",
    "rlp.tail(2)"
   ]
  },
  {
   "cell_type": "code",
   "execution_count": 52,
   "metadata": {},
   "outputs": [
    {
     "name": "stdout",
     "output_type": "stream",
     "text": [
      "<class 'pandas.core.frame.DataFrame'>\n",
      "DatetimeIndex: 493 entries, 2020-03-20 to 2021-07-25\n",
      "Data columns (total 1 columns):\n",
      " #   Column                 Non-Null Count  Dtype\n",
      "---  ------                 --------------  -----\n",
      " 0   Covid-19 cases in ICU  493 non-null    int64\n",
      "dtypes: int64(1)\n",
      "memory usage: 7.7 KB\n"
     ]
    }
   ],
   "source": [
    "icu_rlp = rlp.loc[ : , ['Datum', 'Aktuelle_COVID_Faelle_Erwachsene_ITS']]\n",
    "icu_rlp.columns = ['date', 'Covid-19 cases in ICU']\n",
    "icu_rlp.set_index('date', inplace=True)\n",
    "icu_rlp.info()"
   ]
  },
  {
   "cell_type": "code",
   "execution_count": 53,
   "metadata": {},
   "outputs": [
    {
     "data": {
      "image/png": "[encoded data removed]",
      "text/plain": [
       "<Figure size 432x288 with 1 Axes>"
      ]
     },
     "metadata": {},
     "output_type": "display_data"
    }
   ],
   "source": [
    "icu_cases_rlp = icu_rlp.plot(\n",
    "    title='Patients with Covid-19 in ICUs in Rhineland-Palatinate\\n(Data Source: DIVI-Intensivregister)',\n",
    "xlabel='Date',\n",
    "ylabel='Number of Patients')"
   ]
  },
  {
   "cell_type": "markdown",
   "metadata": {},
   "source": [
    "### Situation in Saxony\n",
    "\n",
    "Saxonia had high case numbers during the pandemic."
   ]
  },
  {
   "cell_type": "code",
   "execution_count": 54,
   "metadata": {},
   "outputs": [
    {
     "data": {
      "text/html": [
       "<div>\n",
       "<style scoped>\n",
       "    .dataframe tbody tr th:only-of-type {\n",
       "        vertical-align: middle;\n",
       "    }\n",
       "\n",
       "    .dataframe tbody tr th {\n",
       "        vertical-align: top;\n",
       "    }\n",
       "\n",
       "    .dataframe thead th {\n",
       "        text-align: right;\n",
       "    }\n",
       "</style>\n",
       "<table border=\"1\" class=\"dataframe\">\n",
       "  <thead>\n",
       "    <tr style=\"text-align: right;\">\n",
       "      <th></th>\n",
       "      <th>Datum</th>\n",
       "      <th>Bundesland</th>\n",
       "      <th>Anzahl_Meldebereiche_Erwachsene</th>\n",
       "      <th>Aktuelle_COVID_Faelle_Erwachsene_ITS</th>\n",
       "      <th>Belegte_Intensivbetten_Erwachsene</th>\n",
       "      <th>Freie_Intensivbetten_Erwachsene</th>\n",
       "      <th>7_Tage_Notfallreserve_Erwachsene</th>\n",
       "      <th>Freie_IV_Kapazitaeten_Gesamt</th>\n",
       "      <th>Freie_IV_Kapazitaeten_Davon_COVID</th>\n",
       "      <th>Betriebssituation_Regulaerer_Betrieb</th>\n",
       "      <th>Betriebssituation_Teilweise_Eingeschraenkt</th>\n",
       "      <th>Betriebssituation_Eingeschraenkt</th>\n",
       "      <th>Betriebssituation_Keine_Angabe</th>\n",
       "    </tr>\n",
       "  </thead>\n",
       "  <tbody>\n",
       "    <tr>\n",
       "      <th>8355</th>\n",
       "      <td>2021-07-24</td>\n",
       "      <td>SACHSEN</td>\n",
       "      <td>76</td>\n",
       "      <td>18</td>\n",
       "      <td>1199</td>\n",
       "      <td>252</td>\n",
       "      <td>622</td>\n",
       "      <td>276</td>\n",
       "      <td>84</td>\n",
       "      <td>42</td>\n",
       "      <td>9</td>\n",
       "      <td>14</td>\n",
       "      <td>11</td>\n",
       "    </tr>\n",
       "    <tr>\n",
       "      <th>8372</th>\n",
       "      <td>2021-07-25</td>\n",
       "      <td>SACHSEN</td>\n",
       "      <td>76</td>\n",
       "      <td>18</td>\n",
       "      <td>1165</td>\n",
       "      <td>289</td>\n",
       "      <td>623</td>\n",
       "      <td>298</td>\n",
       "      <td>95</td>\n",
       "      <td>43</td>\n",
       "      <td>10</td>\n",
       "      <td>12</td>\n",
       "      <td>11</td>\n",
       "    </tr>\n",
       "  </tbody>\n",
       "</table>\n",
       "</div>"
      ],
      "text/plain": [
       "          Datum Bundesland  Anzahl_Meldebereiche_Erwachsene  \\\n",
       "8355 2021-07-24    SACHSEN                               76   \n",
       "8372 2021-07-25    SACHSEN                               76   \n",
       "\n",
       "      Aktuelle_COVID_Faelle_Erwachsene_ITS  Belegte_Intensivbetten_Erwachsene  \\\n",
       "8355                                    18                               1199   \n",
       "8372                                    18                               1165   \n",
       "\n",
       "      Freie_Intensivbetten_Erwachsene  7_Tage_Notfallreserve_Erwachsene  \\\n",
       "8355                              252                               622   \n",
       "8372                              289                               623   \n",
       "\n",
       "      Freie_IV_Kapazitaeten_Gesamt  Freie_IV_Kapazitaeten_Davon_COVID  \\\n",
       "8355                           276                                 84   \n",
       "8372                           298                                 95   \n",
       "\n",
       "      Betriebssituation_Regulaerer_Betrieb  \\\n",
       "8355                                    42   \n",
       "8372                                    43   \n",
       "\n",
       "      Betriebssituation_Teilweise_Eingeschraenkt  \\\n",
       "8355                                           9   \n",
       "8372                                          10   \n",
       "\n",
       "      Betriebssituation_Eingeschraenkt  Betriebssituation_Keine_Angabe  \n",
       "8355                                14                              11  \n",
       "8372                                12                              11  "
      ]
     },
     "execution_count": 54,
     "metadata": {},
     "output_type": "execute_result"
    }
   ],
   "source": [
    "saxonia = timeline_df[timeline_df.Bundesland=='SACHSEN']\n",
    "saxonia.tail(2)"
   ]
  },
  {
   "cell_type": "code",
   "execution_count": 55,
   "metadata": {},
   "outputs": [
    {
     "name": "stdout",
     "output_type": "stream",
     "text": [
      "<class 'pandas.core.frame.DataFrame'>\n",
      "DatetimeIndex: 493 entries, 2020-03-20 to 2021-07-25\n",
      "Data columns (total 1 columns):\n",
      " #   Column                 Non-Null Count  Dtype\n",
      "---  ------                 --------------  -----\n",
      " 0   Covid-19 cases in ICU  493 non-null    int64\n",
      "dtypes: int64(1)\n",
      "memory usage: 7.7 KB\n"
     ]
    }
   ],
   "source": [
    "icu_saxonia = saxonia.loc[ : , ['Datum', 'Aktuelle_COVID_Faelle_Erwachsene_ITS']]\n",
    "icu_saxonia.columns = ['date', 'Covid-19 cases in ICU']\n",
    "icu_saxonia.set_index('date', inplace=True)\n",
    "icu_saxonia.info()"
   ]
  },
  {
   "cell_type": "code",
   "execution_count": 56,
   "metadata": {},
   "outputs": [
    {
     "data": {
      "image/png": "[encoded data removed]",
      "text/plain": [
       "<Figure size 432x288 with 1 Axes>"
      ]
     },
     "metadata": {},
     "output_type": "display_data"
    }
   ],
   "source": [
    "icu_cases_saxonia = icu_saxonia.plot(\n",
    "    title='Patients with Covid-19 in ICUs in Saxonia\\n(Data Source: DIVI-Intensivregister)',\n",
    "xlabel='Date',\n",
    "ylabel='Number of Patients')"
   ]
  }
 ],
 "metadata": {
  "kernelspec": {
   "display_name": "Python 3",
   "language": "python",
   "name": "python3"
  },
  "language_info": {
   "codemirror_mode": {
    "name": "ipython",
    "version": 3
   },
   "file_extension": ".py",
   "mimetype": "text/x-python",
   "name": "python",
   "nbconvert_exporter": "python",
   "pygments_lexer": "ipython3",
   "version": "3.8.10"
  }
 },
 "nbformat": 4,
 "nbformat_minor": 4
}

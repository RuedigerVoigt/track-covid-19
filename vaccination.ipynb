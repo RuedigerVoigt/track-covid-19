{
 "cells": [
  {
   "cell_type": "markdown",
   "metadata": {},
   "source": [
    "# Covid-19 Vaccination Campaign in Germany"
   ]
  },
  {
   "cell_type": "markdown",
   "metadata": {},
   "source": [
    "The data used here were provided by \n",
    "[Robert Koch Institute](https://www.rki.de) and the [German federal ministry of Health](https://www.bundesgesundheitsministerium.de/).\n",
    "\n",
    "These institutions publish the datasets and some analysis on the page [impfdashboard.de](https://impfdashboard.de/)."
   ]
  },
  {
   "cell_type": "markdown",
   "metadata": {},
   "source": [
    "## Setup"
   ]
  },
  {
   "cell_type": "markdown",
   "metadata": {},
   "source": [
    "### Imports"
   ]
  },
  {
   "cell_type": "code",
   "execution_count": 1,
   "metadata": {},
   "outputs": [],
   "source": [
    "# standard library\n",
    "import datetime\n",
    "import math"
   ]
  },
  {
   "cell_type": "code",
   "execution_count": 2,
   "metadata": {},
   "outputs": [],
   "source": [
    "# third party\n",
    "import numpy as np\n",
    "import pandas as pd\n",
    "import matplotlib.pyplot as plt\n",
    "import requests"
   ]
  },
  {
   "cell_type": "markdown",
   "metadata": {},
   "source": [
    "### Date this Notebook was run"
   ]
  },
  {
   "cell_type": "code",
   "execution_count": 3,
   "metadata": {},
   "outputs": [
    {
     "data": {
      "text/plain": [
       "'2021-04-30'"
      ]
     },
     "execution_count": 3,
     "metadata": {},
     "output_type": "execute_result"
    }
   ],
   "source": [
    "today = datetime.datetime.today().strftime('%Y-%m-%d')\n",
    "today"
   ]
  },
  {
   "cell_type": "markdown",
   "metadata": {},
   "source": [
    "### Set Defaults"
   ]
  },
  {
   "cell_type": "code",
   "execution_count": 4,
   "metadata": {},
   "outputs": [],
   "source": [
    "# style like ggplot in R\n",
    "plt.style.use('ggplot')"
   ]
  },
  {
   "cell_type": "code",
   "execution_count": 5,
   "metadata": {},
   "outputs": [],
   "source": [
    "# Avoid cutting off part of the axis labels, see:\n",
    "# https://stackoverflow.com/questions/6774086/why-is-my-xlabel-cut-off-in-my-matplotlib-plot\n",
    "plt.rcParams.update({'figure.autolayout': True})"
   ]
  },
  {
   "cell_type": "markdown",
   "metadata": {},
   "source": [
    "## Get and Transform Data"
   ]
  },
  {
   "cell_type": "code",
   "execution_count": 6,
   "metadata": {},
   "outputs": [],
   "source": [
    "vaccination_data_permalink = 'https://impfdashboard.de/static/data/germany_vaccinations_timeseries_v2.tsv'\n",
    "vaccinations = pd.read_csv(\n",
    "    vaccination_data_permalink,\n",
    "    sep=\"\\t\")"
   ]
  },
  {
   "cell_type": "markdown",
   "metadata": {},
   "source": [
    "### Drop unnecessary columns\n",
    "\n",
    "Columns with names starting with 'indikation_' will not be analyzed as the data providers stopped updating them."
   ]
  },
  {
   "cell_type": "code",
   "execution_count": 7,
   "metadata": {},
   "outputs": [],
   "source": [
    "# No analysis of indication planned:\n",
    "cols_to_drop = vaccinations.columns[vaccinations.columns.str.contains('indikation_')]\n",
    "vaccinations.drop(columns=cols_to_drop, inplace=True)"
   ]
  },
  {
   "cell_type": "code",
   "execution_count": 8,
   "metadata": {},
   "outputs": [],
   "source": [
    "# Convert datatype of date column\n",
    "vaccinations.iloc[ : , [0]] = vaccinations.iloc[ : , [0]].apply(pd.to_datetime)"
   ]
  },
  {
   "cell_type": "markdown",
   "metadata": {},
   "source": [
    "### Show Data"
   ]
  },
  {
   "cell_type": "code",
   "execution_count": 9,
   "metadata": {},
   "outputs": [
    {
     "name": "stdout",
     "output_type": "stream",
     "text": [
      "<class 'pandas.core.frame.DataFrame'>\n",
      "RangeIndex: 124 entries, 0 to 123\n",
      "Data columns (total 21 columns):\n",
      " #   Column                             Non-Null Count  Dtype         \n",
      "---  ------                             --------------  -----         \n",
      " 0   date                               124 non-null    datetime64[ns]\n",
      " 1   dosen_kumulativ                    124 non-null    int64         \n",
      " 2   dosen_differenz_zum_vortag         124 non-null    int64         \n",
      " 3   dosen_erst_differenz_zum_vortag    124 non-null    int64         \n",
      " 4   dosen_zweit_differenz_zum_vortag   124 non-null    int64         \n",
      " 5   dosen_biontech_kumulativ           124 non-null    int64         \n",
      " 6   dosen_moderna_kumulativ            124 non-null    int64         \n",
      " 7   dosen_astrazeneca_kumulativ        124 non-null    int64         \n",
      " 8   personen_erst_kumulativ            124 non-null    int64         \n",
      " 9   personen_voll_kumulativ            124 non-null    int64         \n",
      " 10  impf_quote_erst                    124 non-null    float64       \n",
      " 11  impf_quote_voll                    124 non-null    float64       \n",
      " 12  dosen_dim_kumulativ                124 non-null    int64         \n",
      " 13  dosen_kbv_kumulativ                124 non-null    int64         \n",
      " 14  dosen_johnson_kumulativ            124 non-null    int64         \n",
      " 15  dosen_biontech_erst_kumulativ      124 non-null    int64         \n",
      " 16  dosen_biontech_zweit_kumulativ     124 non-null    int64         \n",
      " 17  dosen_moderna_erst_kumulativ       124 non-null    int64         \n",
      " 18  dosen_moderna_zweit_kumulativ      124 non-null    int64         \n",
      " 19  dosen_astrazeneca_erst_kumulativ   124 non-null    int64         \n",
      " 20  dosen_astrazeneca_zweit_kumulativ  124 non-null    int64         \n",
      "dtypes: datetime64[ns](1), float64(2), int64(18)\n",
      "memory usage: 20.5 KB\n"
     ]
    }
   ],
   "source": [
    "vaccinations.info()"
   ]
  },
  {
   "cell_type": "code",
   "execution_count": 10,
   "metadata": {},
   "outputs": [
    {
     "data": {
      "text/html": [
       "<div>\n",
       "<style scoped>\n",
       "    .dataframe tbody tr th:only-of-type {\n",
       "        vertical-align: middle;\n",
       "    }\n",
       "\n",
       "    .dataframe tbody tr th {\n",
       "        vertical-align: top;\n",
       "    }\n",
       "\n",
       "    .dataframe thead th {\n",
       "        text-align: right;\n",
       "    }\n",
       "</style>\n",
       "<table border=\"1\" class=\"dataframe\">\n",
       "  <thead>\n",
       "    <tr style=\"text-align: right;\">\n",
       "      <th></th>\n",
       "      <th>date</th>\n",
       "      <th>dosen_kumulativ</th>\n",
       "      <th>dosen_differenz_zum_vortag</th>\n",
       "      <th>dosen_erst_differenz_zum_vortag</th>\n",
       "      <th>dosen_zweit_differenz_zum_vortag</th>\n",
       "      <th>dosen_biontech_kumulativ</th>\n",
       "      <th>dosen_moderna_kumulativ</th>\n",
       "      <th>dosen_astrazeneca_kumulativ</th>\n",
       "      <th>personen_erst_kumulativ</th>\n",
       "      <th>personen_voll_kumulativ</th>\n",
       "      <th>...</th>\n",
       "      <th>impf_quote_voll</th>\n",
       "      <th>dosen_dim_kumulativ</th>\n",
       "      <th>dosen_kbv_kumulativ</th>\n",
       "      <th>dosen_johnson_kumulativ</th>\n",
       "      <th>dosen_biontech_erst_kumulativ</th>\n",
       "      <th>dosen_biontech_zweit_kumulativ</th>\n",
       "      <th>dosen_moderna_erst_kumulativ</th>\n",
       "      <th>dosen_moderna_zweit_kumulativ</th>\n",
       "      <th>dosen_astrazeneca_erst_kumulativ</th>\n",
       "      <th>dosen_astrazeneca_zweit_kumulativ</th>\n",
       "    </tr>\n",
       "  </thead>\n",
       "  <tbody>\n",
       "    <tr>\n",
       "      <th>121</th>\n",
       "      <td>2021-04-27</td>\n",
       "      <td>26756575</td>\n",
       "      <td>778608</td>\n",
       "      <td>690632</td>\n",
       "      <td>87976</td>\n",
       "      <td>19525300</td>\n",
       "      <td>1560661</td>\n",
       "      <td>5670098</td>\n",
       "      <td>20624750</td>\n",
       "      <td>6131825</td>\n",
       "      <td>...</td>\n",
       "      <td>0.074</td>\n",
       "      <td>23048198</td>\n",
       "      <td>3708377</td>\n",
       "      <td>516</td>\n",
       "      <td>13805627</td>\n",
       "      <td>5719673</td>\n",
       "      <td>1180973</td>\n",
       "      <td>379688</td>\n",
       "      <td>5638150</td>\n",
       "      <td>31948</td>\n",
       "    </tr>\n",
       "    <tr>\n",
       "      <th>122</th>\n",
       "      <td>2021-04-28</td>\n",
       "      <td>27858192</td>\n",
       "      <td>1101617</td>\n",
       "      <td>978719</td>\n",
       "      <td>122898</td>\n",
       "      <td>20521458</td>\n",
       "      <td>1614106</td>\n",
       "      <td>5721399</td>\n",
       "      <td>21603469</td>\n",
       "      <td>6254723</td>\n",
       "      <td>...</td>\n",
       "      <td>0.075</td>\n",
       "      <td>23420732</td>\n",
       "      <td>4437460</td>\n",
       "      <td>1229</td>\n",
       "      <td>14694772</td>\n",
       "      <td>5826686</td>\n",
       "      <td>1223978</td>\n",
       "      <td>390128</td>\n",
       "      <td>5684719</td>\n",
       "      <td>36680</td>\n",
       "    </tr>\n",
       "    <tr>\n",
       "      <th>123</th>\n",
       "      <td>2021-04-29</td>\n",
       "      <td>28774580</td>\n",
       "      <td>916388</td>\n",
       "      <td>789714</td>\n",
       "      <td>126674</td>\n",
       "      <td>21329667</td>\n",
       "      <td>1667261</td>\n",
       "      <td>5775546</td>\n",
       "      <td>22393183</td>\n",
       "      <td>6381397</td>\n",
       "      <td>...</td>\n",
       "      <td>0.077</td>\n",
       "      <td>23779052</td>\n",
       "      <td>4995528</td>\n",
       "      <td>2106</td>\n",
       "      <td>15394941</td>\n",
       "      <td>5934726</td>\n",
       "      <td>1266702</td>\n",
       "      <td>400559</td>\n",
       "      <td>5731540</td>\n",
       "      <td>44006</td>\n",
       "    </tr>\n",
       "  </tbody>\n",
       "</table>\n",
       "<p>3 rows × 21 columns</p>\n",
       "</div>"
      ],
      "text/plain": [
       "          date  dosen_kumulativ  dosen_differenz_zum_vortag  \\\n",
       "121 2021-04-27         26756575                      778608   \n",
       "122 2021-04-28         27858192                     1101617   \n",
       "123 2021-04-29         28774580                      916388   \n",
       "\n",
       "     dosen_erst_differenz_zum_vortag  dosen_zweit_differenz_zum_vortag  \\\n",
       "121                           690632                             87976   \n",
       "122                           978719                            122898   \n",
       "123                           789714                            126674   \n",
       "\n",
       "     dosen_biontech_kumulativ  dosen_moderna_kumulativ  \\\n",
       "121                  19525300                  1560661   \n",
       "122                  20521458                  1614106   \n",
       "123                  21329667                  1667261   \n",
       "\n",
       "     dosen_astrazeneca_kumulativ  personen_erst_kumulativ  \\\n",
       "121                      5670098                 20624750   \n",
       "122                      5721399                 21603469   \n",
       "123                      5775546                 22393183   \n",
       "\n",
       "     personen_voll_kumulativ  ...  impf_quote_voll  dosen_dim_kumulativ  \\\n",
       "121                  6131825  ...            0.074             23048198   \n",
       "122                  6254723  ...            0.075             23420732   \n",
       "123                  6381397  ...            0.077             23779052   \n",
       "\n",
       "     dosen_kbv_kumulativ  dosen_johnson_kumulativ  \\\n",
       "121              3708377                      516   \n",
       "122              4437460                     1229   \n",
       "123              4995528                     2106   \n",
       "\n",
       "     dosen_biontech_erst_kumulativ  dosen_biontech_zweit_kumulativ  \\\n",
       "121                       13805627                         5719673   \n",
       "122                       14694772                         5826686   \n",
       "123                       15394941                         5934726   \n",
       "\n",
       "     dosen_moderna_erst_kumulativ  dosen_moderna_zweit_kumulativ  \\\n",
       "121                       1180973                         379688   \n",
       "122                       1223978                         390128   \n",
       "123                       1266702                         400559   \n",
       "\n",
       "     dosen_astrazeneca_erst_kumulativ  dosen_astrazeneca_zweit_kumulativ  \n",
       "121                           5638150                              31948  \n",
       "122                           5684719                              36680  \n",
       "123                           5731540                              44006  \n",
       "\n",
       "[3 rows x 21 columns]"
      ]
     },
     "execution_count": 10,
     "metadata": {},
     "output_type": "execute_result"
    }
   ],
   "source": [
    "vaccinations.tail(3)"
   ]
  },
  {
   "cell_type": "markdown",
   "metadata": {},
   "source": [
    "### Last Update\n",
    "\n",
    "Often the data is not updated on weekends, so get the highest date in the dataset."
   ]
  },
  {
   "cell_type": "code",
   "execution_count": 11,
   "metadata": {},
   "outputs": [
    {
     "data": {
      "text/plain": [
       "'2021-04-29'"
      ]
     },
     "execution_count": 11,
     "metadata": {},
     "output_type": "execute_result"
    }
   ],
   "source": [
    "last_update = vaccinations.loc[vaccinations.index[-1], \"date\"].strftime('%Y-%m-%d')\n",
    "last_update"
   ]
  },
  {
   "cell_type": "markdown",
   "metadata": {},
   "source": [
    "## Doses Used"
   ]
  },
  {
   "cell_type": "code",
   "execution_count": 12,
   "metadata": {},
   "outputs": [],
   "source": [
    "doses = vaccinations.loc[ : , ['date', 'dosen_differenz_zum_vortag']]\n",
    "# Rename columns\n",
    "doses.columns = ['date', 'doses used']"
   ]
  },
  {
   "cell_type": "code",
   "execution_count": 13,
   "metadata": {},
   "outputs": [],
   "source": [
    "# Scale number of doses as millions\n",
    "doses['doses used'] = doses['doses used'] / 1_000_000"
   ]
  },
  {
   "cell_type": "markdown",
   "metadata": {},
   "source": [
    "### Doses Daily"
   ]
  },
  {
   "cell_type": "code",
   "execution_count": 14,
   "metadata": {},
   "outputs": [
    {
     "data": {
      "text/html": [
       "<div>\n",
       "<style scoped>\n",
       "    .dataframe tbody tr th:only-of-type {\n",
       "        vertical-align: middle;\n",
       "    }\n",
       "\n",
       "    .dataframe tbody tr th {\n",
       "        vertical-align: top;\n",
       "    }\n",
       "\n",
       "    .dataframe thead th {\n",
       "        text-align: right;\n",
       "    }\n",
       "</style>\n",
       "<table border=\"1\" class=\"dataframe\">\n",
       "  <thead>\n",
       "    <tr style=\"text-align: right;\">\n",
       "      <th></th>\n",
       "      <th>doses used</th>\n",
       "    </tr>\n",
       "    <tr>\n",
       "      <th>date</th>\n",
       "      <th></th>\n",
       "    </tr>\n",
       "  </thead>\n",
       "  <tbody>\n",
       "    <tr>\n",
       "      <th>2021-04-29</th>\n",
       "      <td>0.916388</td>\n",
       "    </tr>\n",
       "  </tbody>\n",
       "</table>\n",
       "</div>"
      ],
      "text/plain": [
       "            doses used\n",
       "date                  \n",
       "2021-04-29    0.916388"
      ]
     },
     "execution_count": 14,
     "metadata": {},
     "output_type": "execute_result"
    }
   ],
   "source": [
    "doses_daily = doses.set_index('date', inplace=False)\n",
    "doses_daily.tail(1)"
   ]
  },
  {
   "cell_type": "code",
   "execution_count": 15,
   "metadata": {},
   "outputs": [
    {
     "data": {
      "text/plain": [
       "1.101617"
      ]
     },
     "execution_count": 15,
     "metadata": {},
     "output_type": "execute_result"
    }
   ],
   "source": [
    "# What is the highest number of doses used in a day?\n",
    "max_doses_daily = max(doses_daily['doses used'])\n",
    "max_doses_daily"
   ]
  },
  {
   "cell_type": "code",
   "execution_count": 16,
   "metadata": {},
   "outputs": [
    {
     "data": {
      "text/plain": [
       "<AxesSubplot:title={'center':'VACCINATION DOSES PER DAY IN GERMANY'}, xlabel='Date', ylabel='Million Doses'>"
      ]
     },
     "execution_count": 16,
     "metadata": {},
     "output_type": "execute_result"
    },
    {
     "data": {
      "image/png": "[encoded data removed]",
      "text/plain": [
       "<Figure size 432x288 with 1 Axes>"
      ]
     },
     "metadata": {},
     "output_type": "display_data"
    }
   ],
   "source": [
    "doses_daily.plot(\n",
    "    ylim=(0,math.ceil(max_doses_daily)),\n",
    "    xlabel='Date',\n",
    "    ylabel='Million Doses',\n",
    "    title='VACCINATION DOSES PER DAY IN GERMANY')"
   ]
  },
  {
   "cell_type": "markdown",
   "metadata": {},
   "source": [
    "### Doses per Weekday (in the last 6 weeks)"
   ]
  },
  {
   "cell_type": "code",
   "execution_count": 17,
   "metadata": {},
   "outputs": [],
   "source": [
    "last_6_weeks = doses.tail(42)"
   ]
  },
  {
   "cell_type": "code",
   "execution_count": 18,
   "metadata": {},
   "outputs": [
    {
     "name": "stderr",
     "output_type": "stream",
     "text": [
      "<ipython-input-18-45013977109e>:3: SettingWithCopyWarning: \n",
      "A value is trying to be set on a copy of a slice from a DataFrame.\n",
      "Try using .loc[row_indexer,col_indexer] = value instead\n",
      "\n",
      "See the caveats in the documentation: https://pandas.pydata.org/pandas-docs/stable/user_guide/indexing.html#returning-a-view-versus-a-copy\n",
      "  last_6_weeks['weekday'] = last_6_weeks['date'].dt.day_name()\n"
     ]
    }
   ],
   "source": [
    "# Yields a warning, but exactly like the docs prescribe and it works\n",
    "# https://pandas.pydata.org/docs/getting_started/intro_tutorials/05_add_columns.html\n",
    "last_6_weeks['weekday'] = last_6_weeks['date'].dt.day_name()"
   ]
  },
  {
   "cell_type": "code",
   "execution_count": 19,
   "metadata": {},
   "outputs": [
    {
     "data": {
      "text/html": [
       "<div>\n",
       "<style scoped>\n",
       "    .dataframe tbody tr th:only-of-type {\n",
       "        vertical-align: middle;\n",
       "    }\n",
       "\n",
       "    .dataframe tbody tr th {\n",
       "        vertical-align: top;\n",
       "    }\n",
       "\n",
       "    .dataframe thead th {\n",
       "        text-align: right;\n",
       "    }\n",
       "</style>\n",
       "<table border=\"1\" class=\"dataframe\">\n",
       "  <thead>\n",
       "    <tr style=\"text-align: right;\">\n",
       "      <th></th>\n",
       "      <th>date</th>\n",
       "      <th>doses used</th>\n",
       "      <th>weekday</th>\n",
       "    </tr>\n",
       "  </thead>\n",
       "  <tbody>\n",
       "    <tr>\n",
       "      <th>121</th>\n",
       "      <td>2021-04-27</td>\n",
       "      <td>0.778608</td>\n",
       "      <td>Tuesday</td>\n",
       "    </tr>\n",
       "    <tr>\n",
       "      <th>122</th>\n",
       "      <td>2021-04-28</td>\n",
       "      <td>1.101617</td>\n",
       "      <td>Wednesday</td>\n",
       "    </tr>\n",
       "    <tr>\n",
       "      <th>123</th>\n",
       "      <td>2021-04-29</td>\n",
       "      <td>0.916388</td>\n",
       "      <td>Thursday</td>\n",
       "    </tr>\n",
       "  </tbody>\n",
       "</table>\n",
       "</div>"
      ],
      "text/plain": [
       "          date  doses used    weekday\n",
       "121 2021-04-27    0.778608    Tuesday\n",
       "122 2021-04-28    1.101617  Wednesday\n",
       "123 2021-04-29    0.916388   Thursday"
      ]
     },
     "execution_count": 19,
     "metadata": {},
     "output_type": "execute_result"
    }
   ],
   "source": [
    "# check:\n",
    "last_6_weeks.tail(3)"
   ]
  },
  {
   "cell_type": "code",
   "execution_count": 20,
   "metadata": {},
   "outputs": [],
   "source": [
    "# drop the date column\n",
    "last_6_weeks = last_6_weeks.drop(labels=['date'], axis=1)"
   ]
  },
  {
   "cell_type": "code",
   "execution_count": 21,
   "metadata": {},
   "outputs": [
    {
     "data": {
      "text/html": [
       "<div>\n",
       "<style scoped>\n",
       "    .dataframe tbody tr th:only-of-type {\n",
       "        vertical-align: middle;\n",
       "    }\n",
       "\n",
       "    .dataframe tbody tr th {\n",
       "        vertical-align: top;\n",
       "    }\n",
       "\n",
       "    .dataframe thead th {\n",
       "        text-align: right;\n",
       "    }\n",
       "</style>\n",
       "<table border=\"1\" class=\"dataframe\">\n",
       "  <thead>\n",
       "    <tr style=\"text-align: right;\">\n",
       "      <th></th>\n",
       "      <th>doses used</th>\n",
       "      <th>weekday</th>\n",
       "    </tr>\n",
       "  </thead>\n",
       "  <tbody>\n",
       "    <tr>\n",
       "      <th>121</th>\n",
       "      <td>0.778608</td>\n",
       "      <td>Tuesday</td>\n",
       "    </tr>\n",
       "    <tr>\n",
       "      <th>122</th>\n",
       "      <td>1.101617</td>\n",
       "      <td>Wednesday</td>\n",
       "    </tr>\n",
       "    <tr>\n",
       "      <th>123</th>\n",
       "      <td>0.916388</td>\n",
       "      <td>Thursday</td>\n",
       "    </tr>\n",
       "  </tbody>\n",
       "</table>\n",
       "</div>"
      ],
      "text/plain": [
       "     doses used    weekday\n",
       "121    0.778608    Tuesday\n",
       "122    1.101617  Wednesday\n",
       "123    0.916388   Thursday"
      ]
     },
     "execution_count": 21,
     "metadata": {},
     "output_type": "execute_result"
    }
   ],
   "source": [
    "#last_6_weeks.set_index('weekday', inplace=True)\n",
    "last_6_weeks.tail(3)"
   ]
  },
  {
   "cell_type": "code",
   "execution_count": 22,
   "metadata": {},
   "outputs": [
    {
     "data": {
      "text/html": [
       "<div>\n",
       "<style scoped>\n",
       "    .dataframe tbody tr th:only-of-type {\n",
       "        vertical-align: middle;\n",
       "    }\n",
       "\n",
       "    .dataframe tbody tr th {\n",
       "        vertical-align: top;\n",
       "    }\n",
       "\n",
       "    .dataframe thead th {\n",
       "        text-align: right;\n",
       "    }\n",
       "</style>\n",
       "<table border=\"1\" class=\"dataframe\">\n",
       "  <thead>\n",
       "    <tr style=\"text-align: right;\">\n",
       "      <th>weekday</th>\n",
       "      <th>Friday</th>\n",
       "      <th>Monday</th>\n",
       "      <th>Saturday</th>\n",
       "      <th>Sunday</th>\n",
       "      <th>Thursday</th>\n",
       "      <th>Tuesday</th>\n",
       "      <th>Wednesday</th>\n",
       "    </tr>\n",
       "  </thead>\n",
       "  <tbody>\n",
       "    <tr>\n",
       "      <th>119</th>\n",
       "      <td>NaN</td>\n",
       "      <td>NaN</td>\n",
       "      <td>NaN</td>\n",
       "      <td>0.280702</td>\n",
       "      <td>NaN</td>\n",
       "      <td>NaN</td>\n",
       "      <td>NaN</td>\n",
       "    </tr>\n",
       "    <tr>\n",
       "      <th>120</th>\n",
       "      <td>NaN</td>\n",
       "      <td>0.424052</td>\n",
       "      <td>NaN</td>\n",
       "      <td>NaN</td>\n",
       "      <td>NaN</td>\n",
       "      <td>NaN</td>\n",
       "      <td>NaN</td>\n",
       "    </tr>\n",
       "    <tr>\n",
       "      <th>121</th>\n",
       "      <td>NaN</td>\n",
       "      <td>NaN</td>\n",
       "      <td>NaN</td>\n",
       "      <td>NaN</td>\n",
       "      <td>NaN</td>\n",
       "      <td>0.778608</td>\n",
       "      <td>NaN</td>\n",
       "    </tr>\n",
       "    <tr>\n",
       "      <th>122</th>\n",
       "      <td>NaN</td>\n",
       "      <td>NaN</td>\n",
       "      <td>NaN</td>\n",
       "      <td>NaN</td>\n",
       "      <td>NaN</td>\n",
       "      <td>NaN</td>\n",
       "      <td>1.101617</td>\n",
       "    </tr>\n",
       "    <tr>\n",
       "      <th>123</th>\n",
       "      <td>NaN</td>\n",
       "      <td>NaN</td>\n",
       "      <td>NaN</td>\n",
       "      <td>NaN</td>\n",
       "      <td>0.916388</td>\n",
       "      <td>NaN</td>\n",
       "      <td>NaN</td>\n",
       "    </tr>\n",
       "  </tbody>\n",
       "</table>\n",
       "</div>"
      ],
      "text/plain": [
       "weekday  Friday    Monday  Saturday    Sunday  Thursday   Tuesday  Wednesday\n",
       "119         NaN       NaN       NaN  0.280702       NaN       NaN        NaN\n",
       "120         NaN  0.424052       NaN       NaN       NaN       NaN        NaN\n",
       "121         NaN       NaN       NaN       NaN       NaN  0.778608        NaN\n",
       "122         NaN       NaN       NaN       NaN       NaN       NaN   1.101617\n",
       "123         NaN       NaN       NaN       NaN  0.916388       NaN        NaN"
      ]
     },
     "execution_count": 22,
     "metadata": {},
     "output_type": "execute_result"
    }
   ],
   "source": [
    "pivot_table =last_6_weeks.pivot(columns='weekday', values='doses used')\n",
    "pivot_table.tail()"
   ]
  },
  {
   "cell_type": "code",
   "execution_count": 23,
   "metadata": {},
   "outputs": [
    {
     "data": {
      "text/html": [
       "<div>\n",
       "<style scoped>\n",
       "    .dataframe tbody tr th:only-of-type {\n",
       "        vertical-align: middle;\n",
       "    }\n",
       "\n",
       "    .dataframe tbody tr th {\n",
       "        vertical-align: top;\n",
       "    }\n",
       "\n",
       "    .dataframe thead th {\n",
       "        text-align: right;\n",
       "    }\n",
       "</style>\n",
       "<table border=\"1\" class=\"dataframe\">\n",
       "  <thead>\n",
       "    <tr style=\"text-align: right;\">\n",
       "      <th></th>\n",
       "      <th>Mo</th>\n",
       "      <th>Tue</th>\n",
       "      <th>Wed</th>\n",
       "      <th>Thu</th>\n",
       "      <th>Fri</th>\n",
       "      <th>Sat</th>\n",
       "      <th>Sun</th>\n",
       "    </tr>\n",
       "  </thead>\n",
       "  <tbody>\n",
       "    <tr>\n",
       "      <th>119</th>\n",
       "      <td>NaN</td>\n",
       "      <td>NaN</td>\n",
       "      <td>NaN</td>\n",
       "      <td>NaN</td>\n",
       "      <td>NaN</td>\n",
       "      <td>NaN</td>\n",
       "      <td>0.280702</td>\n",
       "    </tr>\n",
       "    <tr>\n",
       "      <th>120</th>\n",
       "      <td>0.424052</td>\n",
       "      <td>NaN</td>\n",
       "      <td>NaN</td>\n",
       "      <td>NaN</td>\n",
       "      <td>NaN</td>\n",
       "      <td>NaN</td>\n",
       "      <td>NaN</td>\n",
       "    </tr>\n",
       "    <tr>\n",
       "      <th>121</th>\n",
       "      <td>NaN</td>\n",
       "      <td>0.778608</td>\n",
       "      <td>NaN</td>\n",
       "      <td>NaN</td>\n",
       "      <td>NaN</td>\n",
       "      <td>NaN</td>\n",
       "      <td>NaN</td>\n",
       "    </tr>\n",
       "    <tr>\n",
       "      <th>122</th>\n",
       "      <td>NaN</td>\n",
       "      <td>NaN</td>\n",
       "      <td>1.101617</td>\n",
       "      <td>NaN</td>\n",
       "      <td>NaN</td>\n",
       "      <td>NaN</td>\n",
       "      <td>NaN</td>\n",
       "    </tr>\n",
       "    <tr>\n",
       "      <th>123</th>\n",
       "      <td>NaN</td>\n",
       "      <td>NaN</td>\n",
       "      <td>NaN</td>\n",
       "      <td>0.916388</td>\n",
       "      <td>NaN</td>\n",
       "      <td>NaN</td>\n",
       "      <td>NaN</td>\n",
       "    </tr>\n",
       "  </tbody>\n",
       "</table>\n",
       "</div>"
      ],
      "text/plain": [
       "           Mo       Tue       Wed       Thu  Fri  Sat       Sun\n",
       "119       NaN       NaN       NaN       NaN  NaN  NaN  0.280702\n",
       "120  0.424052       NaN       NaN       NaN  NaN  NaN       NaN\n",
       "121       NaN  0.778608       NaN       NaN  NaN  NaN       NaN\n",
       "122       NaN       NaN  1.101617       NaN  NaN  NaN       NaN\n",
       "123       NaN       NaN       NaN  0.916388  NaN  NaN       NaN"
      ]
     },
     "execution_count": 23,
     "metadata": {},
     "output_type": "execute_result"
    }
   ],
   "source": [
    "# Reorder the columns\n",
    "pivot_table = pivot_table[['Monday', 'Tuesday', 'Wednesday', 'Thursday', 'Friday', 'Saturday', 'Sunday']]\n",
    "# Rename the columns\n",
    "pivot_table.columns=['Mo', 'Tue', 'Wed', 'Thu', 'Fri', 'Sat', 'Sun']\n",
    "pivot_table.tail()"
   ]
  },
  {
   "cell_type": "code",
   "execution_count": 24,
   "metadata": {},
   "outputs": [
    {
     "data": {
      "image/png": "[encoded data removed]",
      "text/plain": [
       "<Figure size 432x288 with 1 Axes>"
      ]
     },
     "metadata": {},
     "output_type": "display_data"
    }
   ],
   "source": [
    "weekday_boxplot = pivot_table.boxplot()"
   ]
  },
  {
   "cell_type": "code",
   "execution_count": 25,
   "metadata": {},
   "outputs": [],
   "source": [
    "fig = weekday_boxplot.get_figure()\n",
    "fig.savefig('img/weekday_boxplot.png')"
   ]
  },
  {
   "cell_type": "markdown",
   "metadata": {},
   "source": [
    "### Doses per Week"
   ]
  },
  {
   "cell_type": "code",
   "execution_count": 26,
   "metadata": {},
   "outputs": [
    {
     "data": {
      "text/html": [
       "<div>\n",
       "<style scoped>\n",
       "    .dataframe tbody tr th:only-of-type {\n",
       "        vertical-align: middle;\n",
       "    }\n",
       "\n",
       "    .dataframe tbody tr th {\n",
       "        vertical-align: top;\n",
       "    }\n",
       "\n",
       "    .dataframe thead th {\n",
       "        text-align: right;\n",
       "    }\n",
       "</style>\n",
       "<table border=\"1\" class=\"dataframe\">\n",
       "  <thead>\n",
       "    <tr style=\"text-align: right;\">\n",
       "      <th></th>\n",
       "      <th>million doses used</th>\n",
       "    </tr>\n",
       "    <tr>\n",
       "      <th>date</th>\n",
       "      <th></th>\n",
       "    </tr>\n",
       "  </thead>\n",
       "  <tbody>\n",
       "    <tr>\n",
       "      <th>2021-04-05</th>\n",
       "      <td>1.896211</td>\n",
       "    </tr>\n",
       "    <tr>\n",
       "      <th>2021-04-12</th>\n",
       "      <td>3.449377</td>\n",
       "    </tr>\n",
       "    <tr>\n",
       "      <th>2021-04-19</th>\n",
       "      <td>3.632515</td>\n",
       "    </tr>\n",
       "    <tr>\n",
       "      <th>2021-04-26</th>\n",
       "      <td>3.507617</td>\n",
       "    </tr>\n",
       "    <tr>\n",
       "      <th>2021-05-03</th>\n",
       "      <td>2.796613</td>\n",
       "    </tr>\n",
       "  </tbody>\n",
       "</table>\n",
       "</div>"
      ],
      "text/plain": [
       "            million doses used\n",
       "date                          \n",
       "2021-04-05            1.896211\n",
       "2021-04-12            3.449377\n",
       "2021-04-19            3.632515\n",
       "2021-04-26            3.507617\n",
       "2021-05-03            2.796613"
      ]
     },
     "execution_count": 26,
     "metadata": {},
     "output_type": "execute_result"
    }
   ],
   "source": [
    "# W-Mon in order to start the week on a Monday, see:\n",
    "# https://pandas.pydata.org/pandas-docs/stable/user_guide/timeseries.html#anchored-offsets\n",
    "doses_weekly = doses.groupby(pd.Grouper(key='date',freq='W-Mon')).sum()\n",
    "doses_weekly.columns = ['million doses used']\n",
    "doses_weekly.tail()"
   ]
  },
  {
   "cell_type": "code",
   "execution_count": 27,
   "metadata": {},
   "outputs": [
    {
     "data": {
      "text/plain": [
       "3.6325149999999997"
      ]
     },
     "execution_count": 27,
     "metadata": {},
     "output_type": "execute_result"
    }
   ],
   "source": [
    "# What is the highest number of doses used in a week?\n",
    "max_million_doses_weekly = max(doses_weekly['million doses used'])\n",
    "max_million_doses_weekly"
   ]
  },
  {
   "cell_type": "code",
   "execution_count": 28,
   "metadata": {},
   "outputs": [
    {
     "data": {
      "text/plain": [
       "<AxesSubplot:title={'center':'VACCINATION DOSES PER WEEK IN GERMANY\\n(until 2021-04-29)'}, xlabel='Date', ylabel='Million Doses'>"
      ]
     },
     "execution_count": 28,
     "metadata": {},
     "output_type": "execute_result"
    },
    {
     "data": {
      "image/png": "[encoded data removed]",
      "text/plain": [
       "<Figure size 432x288 with 1 Axes>"
      ]
     },
     "metadata": {},
     "output_type": "display_data"
    }
   ],
   "source": [
    "doses_weekly.plot(\n",
    "    ylim=(0, math.ceil(max_million_doses_weekly)),\n",
    "    xlabel='Date',\n",
    "    ylabel='Million Doses',\n",
    "    title=f\"VACCINATION DOSES PER WEEK IN GERMANY\\n(until {last_update})\")"
   ]
  },
  {
   "cell_type": "markdown",
   "metadata": {},
   "source": [
    "### Doses per Month"
   ]
  },
  {
   "cell_type": "code",
   "execution_count": 29,
   "metadata": {},
   "outputs": [
    {
     "data": {
      "text/html": [
       "<div>\n",
       "<style scoped>\n",
       "    .dataframe tbody tr th:only-of-type {\n",
       "        vertical-align: middle;\n",
       "    }\n",
       "\n",
       "    .dataframe tbody tr th {\n",
       "        vertical-align: top;\n",
       "    }\n",
       "\n",
       "    .dataframe thead th {\n",
       "        text-align: right;\n",
       "    }\n",
       "</style>\n",
       "<table border=\"1\" class=\"dataframe\">\n",
       "  <thead>\n",
       "    <tr style=\"text-align: right;\">\n",
       "      <th></th>\n",
       "      <th>doses used</th>\n",
       "    </tr>\n",
       "    <tr>\n",
       "      <th>date</th>\n",
       "      <th></th>\n",
       "    </tr>\n",
       "  </thead>\n",
       "  <tbody>\n",
       "    <tr>\n",
       "      <th>2020-12-31</th>\n",
       "      <td>0.204783</td>\n",
       "    </tr>\n",
       "    <tr>\n",
       "      <th>2021-01-31</th>\n",
       "      <td>2.342028</td>\n",
       "    </tr>\n",
       "    <tr>\n",
       "      <th>2021-02-28</th>\n",
       "      <td>3.775498</td>\n",
       "    </tr>\n",
       "    <tr>\n",
       "      <th>2021-03-31</th>\n",
       "      <td>7.837632</td>\n",
       "    </tr>\n",
       "    <tr>\n",
       "      <th>2021-04-30</th>\n",
       "      <td>14.614639</td>\n",
       "    </tr>\n",
       "  </tbody>\n",
       "</table>\n",
       "</div>"
      ],
      "text/plain": [
       "            doses used\n",
       "date                  \n",
       "2020-12-31    0.204783\n",
       "2021-01-31    2.342028\n",
       "2021-02-28    3.775498\n",
       "2021-03-31    7.837632\n",
       "2021-04-30   14.614639"
      ]
     },
     "execution_count": 29,
     "metadata": {},
     "output_type": "execute_result"
    }
   ],
   "source": [
    "# M = month end frequency\n",
    "doses_monthly = doses.groupby(pd.Grouper(key='date',freq='M')).sum()\n",
    "doses_monthly.tail()"
   ]
  },
  {
   "cell_type": "code",
   "execution_count": 30,
   "metadata": {},
   "outputs": [
    {
     "data": {
      "text/html": [
       "<div>\n",
       "<style scoped>\n",
       "    .dataframe tbody tr th:only-of-type {\n",
       "        vertical-align: middle;\n",
       "    }\n",
       "\n",
       "    .dataframe tbody tr th {\n",
       "        vertical-align: top;\n",
       "    }\n",
       "\n",
       "    .dataframe thead th {\n",
       "        text-align: right;\n",
       "    }\n",
       "</style>\n",
       "<table border=\"1\" class=\"dataframe\">\n",
       "  <thead>\n",
       "    <tr style=\"text-align: right;\">\n",
       "      <th></th>\n",
       "      <th>doses used</th>\n",
       "    </tr>\n",
       "    <tr>\n",
       "      <th>label</th>\n",
       "      <th></th>\n",
       "    </tr>\n",
       "  </thead>\n",
       "  <tbody>\n",
       "    <tr>\n",
       "      <th>December 2020</th>\n",
       "      <td>0.204783</td>\n",
       "    </tr>\n",
       "    <tr>\n",
       "      <th>January 2021</th>\n",
       "      <td>2.342028</td>\n",
       "    </tr>\n",
       "    <tr>\n",
       "      <th>February 2021</th>\n",
       "      <td>3.775498</td>\n",
       "    </tr>\n",
       "    <tr>\n",
       "      <th>March 2021</th>\n",
       "      <td>7.837632</td>\n",
       "    </tr>\n",
       "    <tr>\n",
       "      <th>April 2021</th>\n",
       "      <td>14.614639</td>\n",
       "    </tr>\n",
       "  </tbody>\n",
       "</table>\n",
       "</div>"
      ],
      "text/plain": [
       "               doses used\n",
       "label                    \n",
       "December 2020    0.204783\n",
       "January 2021     2.342028\n",
       "February 2021    3.775498\n",
       "March 2021       7.837632\n",
       "April 2021      14.614639"
      ]
     },
     "execution_count": 30,
     "metadata": {},
     "output_type": "execute_result"
    }
   ],
   "source": [
    "max_doses_monthly = max(doses_monthly['doses used'])\n",
    "max_doses_monthly\n",
    "doses_monthly['month'] = doses_monthly.index.strftime('%B')\n",
    "doses_monthly['year'] =  doses_monthly.index.strftime('%Y')\n",
    "doses_monthly['label'] = doses_monthly['month'] + ' ' + doses_monthly['year']\n",
    "doses_monthly.drop(columns=['month', 'year'], inplace=True)\n",
    "doses_monthly.set_index('label', inplace=True)\n",
    "doses_monthly.tail(6)"
   ]
  },
  {
   "cell_type": "code",
   "execution_count": 31,
   "metadata": {},
   "outputs": [
    {
     "data": {
      "image/png": "[encoded data removed]",
      "text/plain": [
       "<Figure size 432x288 with 1 Axes>"
      ]
     },
     "metadata": {},
     "output_type": "display_data"
    }
   ],
   "source": [
    "monthly_plot = doses_monthly.plot.bar(\n",
    "    ylim=(0,math.ceil(max_doses_monthly) + 1),\n",
    "    xlabel='Date',\n",
    "    ylabel='Million Doses',\n",
    "    title=f\"VACCINATION DOSES PER MONTH IN GERMANY\\n(including data for {last_update})\")"
   ]
  },
  {
   "cell_type": "code",
   "execution_count": 32,
   "metadata": {},
   "outputs": [],
   "source": [
    "fig = monthly_plot.get_figure()\n",
    "fig.savefig('img/monthly_doses_germany.png')"
   ]
  },
  {
   "cell_type": "markdown",
   "metadata": {},
   "source": [
    "## Vaccination Campaign Progress"
   ]
  },
  {
   "cell_type": "code",
   "execution_count": 33,
   "metadata": {},
   "outputs": [
    {
     "data": {
      "text/html": [
       "<div>\n",
       "<style scoped>\n",
       "    .dataframe tbody tr th:only-of-type {\n",
       "        vertical-align: middle;\n",
       "    }\n",
       "\n",
       "    .dataframe tbody tr th {\n",
       "        vertical-align: top;\n",
       "    }\n",
       "\n",
       "    .dataframe thead th {\n",
       "        text-align: right;\n",
       "    }\n",
       "</style>\n",
       "<table border=\"1\" class=\"dataframe\">\n",
       "  <thead>\n",
       "    <tr style=\"text-align: right;\">\n",
       "      <th></th>\n",
       "      <th>personen_erst_kumulativ</th>\n",
       "      <th>personen_voll_kumulativ</th>\n",
       "    </tr>\n",
       "    <tr>\n",
       "      <th>date</th>\n",
       "      <th></th>\n",
       "      <th></th>\n",
       "    </tr>\n",
       "  </thead>\n",
       "  <tbody>\n",
       "    <tr>\n",
       "      <th>2021-04-27</th>\n",
       "      <td>20624750</td>\n",
       "      <td>6131825</td>\n",
       "    </tr>\n",
       "    <tr>\n",
       "      <th>2021-04-28</th>\n",
       "      <td>21603469</td>\n",
       "      <td>6254723</td>\n",
       "    </tr>\n",
       "    <tr>\n",
       "      <th>2021-04-29</th>\n",
       "      <td>22393183</td>\n",
       "      <td>6381397</td>\n",
       "    </tr>\n",
       "  </tbody>\n",
       "</table>\n",
       "</div>"
      ],
      "text/plain": [
       "            personen_erst_kumulativ  personen_voll_kumulativ\n",
       "date                                                        \n",
       "2021-04-27                 20624750                  6131825\n",
       "2021-04-28                 21603469                  6254723\n",
       "2021-04-29                 22393183                  6381397"
      ]
     },
     "execution_count": 33,
     "metadata": {},
     "output_type": "execute_result"
    }
   ],
   "source": [
    "doses_cumulative = vaccinations.loc[ : , ['date', 'personen_erst_kumulativ', 'personen_voll_kumulativ']]\n",
    "doses_cumulative.set_index('date', inplace=True)\n",
    "doses_cumulative.tail(3)"
   ]
  },
  {
   "cell_type": "code",
   "execution_count": 34,
   "metadata": {},
   "outputs": [
    {
     "data": {
      "text/html": [
       "<div>\n",
       "<style scoped>\n",
       "    .dataframe tbody tr th:only-of-type {\n",
       "        vertical-align: middle;\n",
       "    }\n",
       "\n",
       "    .dataframe tbody tr th {\n",
       "        vertical-align: top;\n",
       "    }\n",
       "\n",
       "    .dataframe thead th {\n",
       "        text-align: right;\n",
       "    }\n",
       "</style>\n",
       "<table border=\"1\" class=\"dataframe\">\n",
       "  <thead>\n",
       "    <tr style=\"text-align: right;\">\n",
       "      <th></th>\n",
       "      <th>first vaccination</th>\n",
       "      <th>fully vaccinated</th>\n",
       "    </tr>\n",
       "    <tr>\n",
       "      <th>date</th>\n",
       "      <th></th>\n",
       "      <th></th>\n",
       "    </tr>\n",
       "  </thead>\n",
       "  <tbody>\n",
       "    <tr>\n",
       "      <th>2021-04-27</th>\n",
       "      <td>24.79</td>\n",
       "      <td>7.37</td>\n",
       "    </tr>\n",
       "    <tr>\n",
       "      <th>2021-04-28</th>\n",
       "      <td>25.97</td>\n",
       "      <td>7.52</td>\n",
       "    </tr>\n",
       "    <tr>\n",
       "      <th>2021-04-29</th>\n",
       "      <td>26.91</td>\n",
       "      <td>7.67</td>\n",
       "    </tr>\n",
       "  </tbody>\n",
       "</table>\n",
       "</div>"
      ],
      "text/plain": [
       "            first vaccination  fully vaccinated\n",
       "date                                           \n",
       "2021-04-27              24.79              7.37\n",
       "2021-04-28              25.97              7.52\n",
       "2021-04-29              26.91              7.67"
      ]
     },
     "execution_count": 34,
     "metadata": {},
     "output_type": "execute_result"
    }
   ],
   "source": [
    "population_germany = 83_200_000\n",
    "# Calculate new fields\n",
    "doses_cumulative['first vaccination'] = round(\n",
    "    doses_cumulative['personen_erst_kumulativ'] * 100 / population_germany,\n",
    "    2)\n",
    "doses_cumulative['fully vaccinated'] = round(\n",
    "    doses_cumulative['personen_voll_kumulativ'] * 100 / population_germany,\n",
    "    2)\n",
    "doses_cumulative.drop(columns=['personen_erst_kumulativ','personen_voll_kumulativ'], inplace=True)\n",
    "doses_cumulative.tail(3)"
   ]
  },
  {
   "cell_type": "code",
   "execution_count": 35,
   "metadata": {},
   "outputs": [
    {
     "data": {
      "image/png": "[encoded data removed]",
      "text/plain": [
       "<Figure size 432x288 with 1 Axes>"
      ]
     },
     "metadata": {},
     "output_type": "display_data"
    }
   ],
   "source": [
    "doses_area_plot = doses_cumulative.plot.area(\n",
    "    ylim=(0,100),\n",
    "    xlabel='Date',\n",
    "    ylabel='Percentage of population',\n",
    "    title=f\"Vaccination Campaign Progress in Germany\\n(until {last_update})\")"
   ]
  },
  {
   "cell_type": "code",
   "execution_count": 36,
   "metadata": {},
   "outputs": [],
   "source": [
    "fig = doses_area_plot.get_figure()\n",
    "fig.savefig('img/vaccinations_germany_area_plot.png')"
   ]
  },
  {
   "cell_type": "markdown",
   "metadata": {},
   "source": [
    "### As of Today"
   ]
  },
  {
   "cell_type": "code",
   "execution_count": 37,
   "metadata": {},
   "outputs": [
    {
     "data": {
      "text/plain": [
       "first vaccination    26.91\n",
       "fully vaccinated      7.67\n",
       "Name: 2021-04-29 00:00:00, dtype: float64"
      ]
     },
     "execution_count": 37,
     "metadata": {},
     "output_type": "execute_result"
    }
   ],
   "source": [
    "# get the last line of the data\n",
    "current_state = doses_cumulative.iloc[-1]\n",
    "current_state"
   ]
  },
  {
   "cell_type": "code",
   "execution_count": 38,
   "metadata": {},
   "outputs": [
    {
     "data": {
      "image/png": "[encoded data removed]",
      "text/plain": [
       "<Figure size 432x288 with 1 Axes>"
      ]
     },
     "metadata": {},
     "output_type": "display_data"
    }
   ],
   "source": [
    "percentage_not_vacc = 100 - current_state['first vaccination'] - current_state['fully vaccinated']\n",
    "labels = [f\"not vaccinated ({round(percentage_not_vacc, 1)}%)\",\n",
    "          f\"first dose ({round(current_state['first vaccination'],1)}%)\",\n",
    "          f\"fully vaccinated ({round(current_state['fully vaccinated'],1)}%)\"]\n",
    "colors = ['red', 'yellow', 'green']\n",
    "sizes = [percentage_not_vacc,\n",
    "         current_state['first vaccination'],\n",
    "         current_state['fully vaccinated']]\n",
    "fig1, ax1 = plt.subplots()\n",
    "ax1.pie(sizes, shadow=True, startangle=90)\n",
    "ax1.axis('equal')  # Equal aspect ratio ensures that pie is drawn as a circle.\n",
    "patches, texts = plt.pie(sizes, colors=colors, startangle=90)\n",
    "plt.legend(patches, labels, loc=\"best\")\n",
    "plt.title(f\"Vaccination Progress in Germany\\nas of {last_update}\")\n",
    "# plt.savefig must be before show()\n",
    "# BEWARE plt.savefig must be in the same Jupyter code cell that creates the graph!\n",
    "# See comment by ijoseph here:\n",
    "# https://stackoverflow.com/questions/9012487/matplotlib-pyplot-savefig-outputs-blank-image\n",
    "plt.savefig('img/vaccination_in_germany_pie.png', bbox_inches='tight')\n",
    "plt.show()"
   ]
  },
  {
   "cell_type": "markdown",
   "metadata": {},
   "source": [
    "## Vaccines in Use"
   ]
  },
  {
   "cell_type": "code",
   "execution_count": 39,
   "metadata": {},
   "outputs": [
    {
     "data": {
      "text/html": [
       "<div>\n",
       "<style scoped>\n",
       "    .dataframe tbody tr th:only-of-type {\n",
       "        vertical-align: middle;\n",
       "    }\n",
       "\n",
       "    .dataframe tbody tr th {\n",
       "        vertical-align: top;\n",
       "    }\n",
       "\n",
       "    .dataframe thead th {\n",
       "        text-align: right;\n",
       "    }\n",
       "</style>\n",
       "<table border=\"1\" class=\"dataframe\">\n",
       "  <thead>\n",
       "    <tr style=\"text-align: right;\">\n",
       "      <th></th>\n",
       "      <th>BioNTech</th>\n",
       "      <th>Moderna</th>\n",
       "      <th>AstraZeneca</th>\n",
       "      <th>Johnson &amp; Johnson</th>\n",
       "    </tr>\n",
       "    <tr>\n",
       "      <th>date</th>\n",
       "      <th></th>\n",
       "      <th></th>\n",
       "      <th></th>\n",
       "      <th></th>\n",
       "    </tr>\n",
       "  </thead>\n",
       "  <tbody>\n",
       "    <tr>\n",
       "      <th>2021-04-27</th>\n",
       "      <td>19.525300</td>\n",
       "      <td>1.560661</td>\n",
       "      <td>5.670098</td>\n",
       "      <td>0.000516</td>\n",
       "    </tr>\n",
       "    <tr>\n",
       "      <th>2021-04-28</th>\n",
       "      <td>20.521458</td>\n",
       "      <td>1.614106</td>\n",
       "      <td>5.721399</td>\n",
       "      <td>0.001229</td>\n",
       "    </tr>\n",
       "    <tr>\n",
       "      <th>2021-04-29</th>\n",
       "      <td>21.329667</td>\n",
       "      <td>1.667261</td>\n",
       "      <td>5.775546</td>\n",
       "      <td>0.002106</td>\n",
       "    </tr>\n",
       "  </tbody>\n",
       "</table>\n",
       "</div>"
      ],
      "text/plain": [
       "             BioNTech   Moderna  AstraZeneca  Johnson & Johnson\n",
       "date                                                           \n",
       "2021-04-27  19.525300  1.560661     5.670098           0.000516\n",
       "2021-04-28  20.521458  1.614106     5.721399           0.001229\n",
       "2021-04-29  21.329667  1.667261     5.775546           0.002106"
      ]
     },
     "execution_count": 39,
     "metadata": {},
     "output_type": "execute_result"
    }
   ],
   "source": [
    "vaccine_use = vaccinations.loc[ : , ['date', 'dosen_biontech_kumulativ',\n",
    "                                     'dosen_moderna_kumulativ',\n",
    "                                     'dosen_astrazeneca_kumulativ',\n",
    "                                     'dosen_johnson_kumulativ']]\n",
    "# Rename columns\n",
    "vaccine_use.columns = ['date', 'BioNTech', 'Moderna', 'AstraZeneca', 'Johnson & Johnson']\n",
    "# make 'date' an index\n",
    "vaccine_use.set_index('date', inplace=True)\n",
    "# divide columns by 1 million\n",
    "vaccine_use[\"BioNTech\"] = vaccine_use[\"BioNTech\"] / 1_000_000\n",
    "vaccine_use[\"Moderna\"] = vaccine_use[\"Moderna\"] / 1_000_000\n",
    "vaccine_use[\"AstraZeneca\"] = vaccine_use[\"AstraZeneca\"] / 1_000_000\n",
    "vaccine_use[\"Johnson & Johnson\"] = vaccine_use[\"Johnson & Johnson\"] / 1_000_000\n",
    "vaccine_use.tail(3)"
   ]
  },
  {
   "cell_type": "code",
   "execution_count": 40,
   "metadata": {},
   "outputs": [
    {
     "data": {
      "image/png": "[encoded data removed]",
      "text/plain": [
       "<Figure size 432x288 with 1 Axes>"
      ]
     },
     "metadata": {},
     "output_type": "display_data"
    }
   ],
   "source": [
    "vaccines_used = vaccine_use.plot(\n",
    "    # as it is cumulative, the last row must contain the single highest number\n",
    "    ylim=(0,math.ceil(max(vaccine_use.iloc[-1]))+1),\n",
    "    xlabel='Date',\n",
    "    ylabel='Million Doses (cumulative)',\n",
    "    title=f\"VACCINES USED IN GERMANY\\n(until {last_update})\")"
   ]
  },
  {
   "cell_type": "code",
   "execution_count": 41,
   "metadata": {},
   "outputs": [],
   "source": [
    "fig = vaccines_used.get_figure()\n",
    "fig.savefig('img/vaccines_used_in_germany.png')"
   ]
  }
 ],
 "metadata": {
  "kernelspec": {
   "display_name": "Python 3",
   "language": "python",
   "name": "python3"
  },
  "language_info": {
   "codemirror_mode": {
    "name": "ipython",
    "version": 3
   },
   "file_extension": ".py",
   "mimetype": "text/x-python",
   "name": "python",
   "nbconvert_exporter": "python",
   "pygments_lexer": "ipython3",
   "version": "3.8.5"
  }
 },
 "nbformat": 4,
 "nbformat_minor": 4
}

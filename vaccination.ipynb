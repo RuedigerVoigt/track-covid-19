{
 "cells": [
  {
   "cell_type": "markdown",
   "metadata": {},
   "source": [
    "# Covid-19 Vaccination Campaign in Germany"
   ]
  },
  {
   "cell_type": "markdown",
   "metadata": {},
   "source": [
    "The data used here were provided by \n",
    "[Robert Koch Institute](https://www.rki.de) and the [German federal ministry of Health](https://www.bundesgesundheitsministerium.de/).\n",
    "\n",
    "These institutions publish the datasets and some analysis on the page [impfdashboard.de](https://impfdashboard.de/)."
   ]
  },
  {
   "cell_type": "markdown",
   "metadata": {},
   "source": [
    "## Setup"
   ]
  },
  {
   "cell_type": "markdown",
   "metadata": {},
   "source": [
    "### Imports"
   ]
  },
  {
   "cell_type": "code",
   "execution_count": 1,
   "metadata": {},
   "outputs": [],
   "source": [
    "# standard library\n",
    "import datetime\n",
    "import math"
   ]
  },
  {
   "cell_type": "code",
   "execution_count": 2,
   "metadata": {},
   "outputs": [],
   "source": [
    "# third party\n",
    "import numpy as np\n",
    "import pandas as pd\n",
    "import matplotlib.pyplot as plt\n",
    "import requests\n",
    "import seaborn"
   ]
  },
  {
   "cell_type": "markdown",
   "metadata": {},
   "source": [
    "### Date this Notebook was run"
   ]
  },
  {
   "cell_type": "code",
   "execution_count": 3,
   "metadata": {},
   "outputs": [
    {
     "data": {
      "text/plain": [
       "'2021-05-29'"
      ]
     },
     "execution_count": 3,
     "metadata": {},
     "output_type": "execute_result"
    }
   ],
   "source": [
    "today = datetime.datetime.today().strftime('%Y-%m-%d')\n",
    "today"
   ]
  },
  {
   "cell_type": "markdown",
   "metadata": {},
   "source": [
    "### Set Defaults"
   ]
  },
  {
   "cell_type": "code",
   "execution_count": 4,
   "metadata": {},
   "outputs": [],
   "source": [
    "# style like ggplot in R\n",
    "plt.style.use('ggplot')"
   ]
  },
  {
   "cell_type": "code",
   "execution_count": 5,
   "metadata": {},
   "outputs": [],
   "source": [
    "# Avoid cutting off part of the axis labels, see:\n",
    "# https://stackoverflow.com/questions/6774086/why-is-my-xlabel-cut-off-in-my-matplotlib-plot\n",
    "plt.rcParams.update({'figure.autolayout': True})"
   ]
  },
  {
   "cell_type": "code",
   "execution_count": 6,
   "metadata": {},
   "outputs": [],
   "source": [
    "population_germany = 83_200_000"
   ]
  },
  {
   "cell_type": "markdown",
   "metadata": {},
   "source": [
    "## Get and Transform Data"
   ]
  },
  {
   "cell_type": "code",
   "execution_count": 7,
   "metadata": {},
   "outputs": [],
   "source": [
    "vaccination_data_permalink = 'https://impfdashboard.de/static/data/germany_vaccinations_timeseries_v2.tsv'\n",
    "vaccinations = pd.read_csv(\n",
    "    vaccination_data_permalink,\n",
    "    sep=\"\\t\")"
   ]
  },
  {
   "cell_type": "markdown",
   "metadata": {},
   "source": [
    "### Drop unnecessary / misleading columns\n",
    "\n",
    "Columns with names starting with 'indikation_' will not be analyzed as the data providers stopped updating them."
   ]
  },
  {
   "cell_type": "code",
   "execution_count": 8,
   "metadata": {},
   "outputs": [],
   "source": [
    "cols_to_drop = vaccinations.columns[vaccinations.columns.str.contains('indikation_')]\n",
    "vaccinations.drop(columns=cols_to_drop, inplace=True)"
   ]
  },
  {
   "cell_type": "markdown",
   "metadata": {},
   "source": [
    "Some more columns can be dropped, as there is no interest in analyzing differences on a vaccine level - especially since in some cases vaccines were mixed."
   ]
  },
  {
   "cell_type": "code",
   "execution_count": 9,
   "metadata": {},
   "outputs": [],
   "source": [
    "more_cols_to_drop = ['dosen_biontech_erst_kumulativ', 'dosen_biontech_zweit_kumulativ', \n",
    "                    'dosen_moderna_erst_kumulativ', 'dosen_moderna_zweit_kumulativ',\n",
    "                    'dosen_astrazeneca_erst_kumulativ', 'dosen_astrazeneca_zweit_kumulativ']\n",
    "vaccinations.drop(columns=more_cols_to_drop, inplace=True)"
   ]
  },
  {
   "cell_type": "markdown",
   "metadata": {},
   "source": [
    "Some columns are labeled misleadingly. As stated by the data provider the columns `personen_erst_kumulativ` and `impf_quote_erst` contain people vaccinated with the Johnson & Johnson vaccine. As this requires only one shot. the same persons are included in `personen_voll_kumulativ`.\n",
    "Therefore more columns are dropped and recalculated later."
   ]
  },
  {
   "cell_type": "code",
   "execution_count": 10,
   "metadata": {},
   "outputs": [],
   "source": [
    "vaccinations.drop(columns=['impf_quote_erst', 'impf_quote_voll'], inplace=True)"
   ]
  },
  {
   "cell_type": "markdown",
   "metadata": {},
   "source": [
    "Convert datatype of date column"
   ]
  },
  {
   "cell_type": "code",
   "execution_count": 11,
   "metadata": {},
   "outputs": [],
   "source": [
    "vaccinations.iloc[ : , [0]] = vaccinations.iloc[ : , [0]].apply(pd.to_datetime)"
   ]
  },
  {
   "cell_type": "markdown",
   "metadata": {},
   "source": [
    "### Show Data"
   ]
  },
  {
   "cell_type": "code",
   "execution_count": 12,
   "metadata": {},
   "outputs": [
    {
     "name": "stdout",
     "output_type": "stream",
     "text": [
      "<class 'pandas.core.frame.DataFrame'>\n",
      "RangeIndex: 153 entries, 0 to 152\n",
      "Data columns (total 13 columns):\n",
      " #   Column                            Non-Null Count  Dtype         \n",
      "---  ------                            --------------  -----         \n",
      " 0   date                              153 non-null    datetime64[ns]\n",
      " 1   dosen_kumulativ                   153 non-null    int64         \n",
      " 2   dosen_differenz_zum_vortag        153 non-null    int64         \n",
      " 3   dosen_erst_differenz_zum_vortag   153 non-null    int64         \n",
      " 4   dosen_zweit_differenz_zum_vortag  153 non-null    int64         \n",
      " 5   dosen_biontech_kumulativ          153 non-null    int64         \n",
      " 6   dosen_moderna_kumulativ           153 non-null    int64         \n",
      " 7   dosen_astrazeneca_kumulativ       153 non-null    int64         \n",
      " 8   personen_erst_kumulativ           153 non-null    int64         \n",
      " 9   personen_voll_kumulativ           153 non-null    int64         \n",
      " 10  dosen_dim_kumulativ               153 non-null    int64         \n",
      " 11  dosen_kbv_kumulativ               153 non-null    int64         \n",
      " 12  dosen_johnson_kumulativ           153 non-null    int64         \n",
      "dtypes: datetime64[ns](1), int64(12)\n",
      "memory usage: 15.7 KB\n"
     ]
    }
   ],
   "source": [
    "vaccinations.info()"
   ]
  },
  {
   "cell_type": "code",
   "execution_count": 13,
   "metadata": {},
   "outputs": [
    {
     "data": {
      "text/html": [
       "<div>\n",
       "<style scoped>\n",
       "    .dataframe tbody tr th:only-of-type {\n",
       "        vertical-align: middle;\n",
       "    }\n",
       "\n",
       "    .dataframe tbody tr th {\n",
       "        vertical-align: top;\n",
       "    }\n",
       "\n",
       "    .dataframe thead th {\n",
       "        text-align: right;\n",
       "    }\n",
       "</style>\n",
       "<table border=\"1\" class=\"dataframe\">\n",
       "  <thead>\n",
       "    <tr style=\"text-align: right;\">\n",
       "      <th></th>\n",
       "      <th>date</th>\n",
       "      <th>dosen_kumulativ</th>\n",
       "      <th>dosen_differenz_zum_vortag</th>\n",
       "      <th>dosen_erst_differenz_zum_vortag</th>\n",
       "      <th>dosen_zweit_differenz_zum_vortag</th>\n",
       "      <th>dosen_biontech_kumulativ</th>\n",
       "      <th>dosen_moderna_kumulativ</th>\n",
       "      <th>dosen_astrazeneca_kumulativ</th>\n",
       "      <th>personen_erst_kumulativ</th>\n",
       "      <th>personen_voll_kumulativ</th>\n",
       "      <th>dosen_dim_kumulativ</th>\n",
       "      <th>dosen_kbv_kumulativ</th>\n",
       "      <th>dosen_johnson_kumulativ</th>\n",
       "    </tr>\n",
       "  </thead>\n",
       "  <tbody>\n",
       "    <tr>\n",
       "      <th>150</th>\n",
       "      <td>2021-05-26</td>\n",
       "      <td>47425864</td>\n",
       "      <td>1160899</td>\n",
       "      <td>464056</td>\n",
       "      <td>696843</td>\n",
       "      <td>34725668</td>\n",
       "      <td>3637896</td>\n",
       "      <td>8825892</td>\n",
       "      <td>34563251</td>\n",
       "      <td>13099021</td>\n",
       "      <td>33890696</td>\n",
       "      <td>13535168</td>\n",
       "      <td>236408</td>\n",
       "    </tr>\n",
       "    <tr>\n",
       "      <th>151</th>\n",
       "      <td>2021-05-27</td>\n",
       "      <td>48434832</td>\n",
       "      <td>1008968</td>\n",
       "      <td>397811</td>\n",
       "      <td>611157</td>\n",
       "      <td>35446482</td>\n",
       "      <td>3719594</td>\n",
       "      <td>8953835</td>\n",
       "      <td>35039575</td>\n",
       "      <td>13710178</td>\n",
       "      <td>34277827</td>\n",
       "      <td>14157005</td>\n",
       "      <td>314921</td>\n",
       "    </tr>\n",
       "    <tr>\n",
       "      <th>152</th>\n",
       "      <td>2021-05-28</td>\n",
       "      <td>49255748</td>\n",
       "      <td>820916</td>\n",
       "      <td>333993</td>\n",
       "      <td>486923</td>\n",
       "      <td>35996302</td>\n",
       "      <td>3792059</td>\n",
       "      <td>9072385</td>\n",
       "      <td>35453649</td>\n",
       "      <td>14197101</td>\n",
       "      <td>34630782</td>\n",
       "      <td>14624966</td>\n",
       "      <td>395002</td>\n",
       "    </tr>\n",
       "  </tbody>\n",
       "</table>\n",
       "</div>"
      ],
      "text/plain": [
       "          date  dosen_kumulativ  dosen_differenz_zum_vortag  \\\n",
       "150 2021-05-26         47425864                     1160899   \n",
       "151 2021-05-27         48434832                     1008968   \n",
       "152 2021-05-28         49255748                      820916   \n",
       "\n",
       "     dosen_erst_differenz_zum_vortag  dosen_zweit_differenz_zum_vortag  \\\n",
       "150                           464056                            696843   \n",
       "151                           397811                            611157   \n",
       "152                           333993                            486923   \n",
       "\n",
       "     dosen_biontech_kumulativ  dosen_moderna_kumulativ  \\\n",
       "150                  34725668                  3637896   \n",
       "151                  35446482                  3719594   \n",
       "152                  35996302                  3792059   \n",
       "\n",
       "     dosen_astrazeneca_kumulativ  personen_erst_kumulativ  \\\n",
       "150                      8825892                 34563251   \n",
       "151                      8953835                 35039575   \n",
       "152                      9072385                 35453649   \n",
       "\n",
       "     personen_voll_kumulativ  dosen_dim_kumulativ  dosen_kbv_kumulativ  \\\n",
       "150                 13099021             33890696             13535168   \n",
       "151                 13710178             34277827             14157005   \n",
       "152                 14197101             34630782             14624966   \n",
       "\n",
       "     dosen_johnson_kumulativ  \n",
       "150                   236408  \n",
       "151                   314921  \n",
       "152                   395002  "
      ]
     },
     "execution_count": 13,
     "metadata": {},
     "output_type": "execute_result"
    }
   ],
   "source": [
    "vaccinations.tail(3)"
   ]
  },
  {
   "cell_type": "markdown",
   "metadata": {},
   "source": [
    "## Check Validity"
   ]
  },
  {
   "cell_type": "code",
   "execution_count": 14,
   "metadata": {},
   "outputs": [],
   "source": [
    "# get the last row / the newest available data\n",
    "last_row = vaccinations.tail(1)"
   ]
  },
  {
   "cell_type": "code",
   "execution_count": 15,
   "metadata": {},
   "outputs": [
    {
     "data": {
      "text/plain": [
       "152    49255748\n",
       "Name: dosen_kumulativ, dtype: int64"
      ]
     },
     "execution_count": 15,
     "metadata": {},
     "output_type": "execute_result"
    }
   ],
   "source": [
    "doses_used = last_row['dosen_kumulativ']\n",
    "doses_used"
   ]
  },
  {
   "cell_type": "code",
   "execution_count": 16,
   "metadata": {},
   "outputs": [],
   "source": [
    "# The number of person having been vaccinated at least once, includes those fully vaccinated\n",
    "at_least_once = last_row['personen_erst_kumulativ']\n",
    "fully_vaccinated_people = last_row['personen_voll_kumulativ']\n",
    "partially_vaccinated_people = at_least_once - fully_vaccinated_people\n",
    "# The johnson & Johnson vaccine is the only one used in Germany that only needs a single shot:\n",
    "johnson_doses = last_row['dosen_johnson_kumulativ']"
   ]
  },
  {
   "cell_type": "code",
   "execution_count": 17,
   "metadata": {},
   "outputs": [
    {
     "data": {
      "text/plain": [
       "152    True\n",
       "dtype: bool"
      ]
     },
     "execution_count": 17,
     "metadata": {},
     "output_type": "execute_result"
    }
   ],
   "source": [
    "# Must be exactly 0\n",
    "doses_used - partially_vaccinated_people - (fully_vaccinated_people - johnson_doses) * 2 - johnson_doses ==  0"
   ]
  },
  {
   "cell_type": "markdown",
   "metadata": {},
   "source": [
    "## Calculate columns"
   ]
  },
  {
   "cell_type": "code",
   "execution_count": 18,
   "metadata": {},
   "outputs": [],
   "source": [
    "vaccinations['partly vaccinated'] = round(\n",
    "    (vaccinations['personen_erst_kumulativ'] - vaccinations['personen_voll_kumulativ']) * 100 / population_germany,\n",
    "    2)"
   ]
  },
  {
   "cell_type": "code",
   "execution_count": 19,
   "metadata": {},
   "outputs": [],
   "source": [
    "vaccinations['fully vaccinated'] = round(\n",
    "    vaccinations['personen_voll_kumulativ'] * 100 / population_germany,\n",
    "    2)"
   ]
  },
  {
   "cell_type": "code",
   "execution_count": 20,
   "metadata": {},
   "outputs": [
    {
     "name": "stdout",
     "output_type": "stream",
     "text": [
      "<class 'pandas.core.frame.DataFrame'>\n",
      "RangeIndex: 153 entries, 0 to 152\n",
      "Data columns (total 15 columns):\n",
      " #   Column                            Non-Null Count  Dtype         \n",
      "---  ------                            --------------  -----         \n",
      " 0   date                              153 non-null    datetime64[ns]\n",
      " 1   dosen_kumulativ                   153 non-null    int64         \n",
      " 2   dosen_differenz_zum_vortag        153 non-null    int64         \n",
      " 3   dosen_erst_differenz_zum_vortag   153 non-null    int64         \n",
      " 4   dosen_zweit_differenz_zum_vortag  153 non-null    int64         \n",
      " 5   dosen_biontech_kumulativ          153 non-null    int64         \n",
      " 6   dosen_moderna_kumulativ           153 non-null    int64         \n",
      " 7   dosen_astrazeneca_kumulativ       153 non-null    int64         \n",
      " 8   personen_erst_kumulativ           153 non-null    int64         \n",
      " 9   personen_voll_kumulativ           153 non-null    int64         \n",
      " 10  dosen_dim_kumulativ               153 non-null    int64         \n",
      " 11  dosen_kbv_kumulativ               153 non-null    int64         \n",
      " 12  dosen_johnson_kumulativ           153 non-null    int64         \n",
      " 13  partly vaccinated                 153 non-null    float64       \n",
      " 14  fully vaccinated                  153 non-null    float64       \n",
      "dtypes: datetime64[ns](1), float64(2), int64(12)\n",
      "memory usage: 18.1 KB\n"
     ]
    }
   ],
   "source": [
    "vaccinations.info()"
   ]
  },
  {
   "cell_type": "code",
   "execution_count": 21,
   "metadata": {},
   "outputs": [
    {
     "data": {
      "text/html": [
       "<div>\n",
       "<style scoped>\n",
       "    .dataframe tbody tr th:only-of-type {\n",
       "        vertical-align: middle;\n",
       "    }\n",
       "\n",
       "    .dataframe tbody tr th {\n",
       "        vertical-align: top;\n",
       "    }\n",
       "\n",
       "    .dataframe thead th {\n",
       "        text-align: right;\n",
       "    }\n",
       "</style>\n",
       "<table border=\"1\" class=\"dataframe\">\n",
       "  <thead>\n",
       "    <tr style=\"text-align: right;\">\n",
       "      <th></th>\n",
       "      <th>date</th>\n",
       "      <th>dosen_kumulativ</th>\n",
       "      <th>dosen_differenz_zum_vortag</th>\n",
       "      <th>dosen_erst_differenz_zum_vortag</th>\n",
       "      <th>dosen_zweit_differenz_zum_vortag</th>\n",
       "      <th>dosen_biontech_kumulativ</th>\n",
       "      <th>dosen_moderna_kumulativ</th>\n",
       "      <th>dosen_astrazeneca_kumulativ</th>\n",
       "      <th>personen_erst_kumulativ</th>\n",
       "      <th>personen_voll_kumulativ</th>\n",
       "      <th>dosen_dim_kumulativ</th>\n",
       "      <th>dosen_kbv_kumulativ</th>\n",
       "      <th>dosen_johnson_kumulativ</th>\n",
       "      <th>partly vaccinated</th>\n",
       "      <th>fully vaccinated</th>\n",
       "    </tr>\n",
       "  </thead>\n",
       "  <tbody>\n",
       "    <tr>\n",
       "      <th>150</th>\n",
       "      <td>2021-05-26</td>\n",
       "      <td>47425864</td>\n",
       "      <td>1160899</td>\n",
       "      <td>464056</td>\n",
       "      <td>696843</td>\n",
       "      <td>34725668</td>\n",
       "      <td>3637896</td>\n",
       "      <td>8825892</td>\n",
       "      <td>34563251</td>\n",
       "      <td>13099021</td>\n",
       "      <td>33890696</td>\n",
       "      <td>13535168</td>\n",
       "      <td>236408</td>\n",
       "      <td>25.80</td>\n",
       "      <td>15.74</td>\n",
       "    </tr>\n",
       "    <tr>\n",
       "      <th>151</th>\n",
       "      <td>2021-05-27</td>\n",
       "      <td>48434832</td>\n",
       "      <td>1008968</td>\n",
       "      <td>397811</td>\n",
       "      <td>611157</td>\n",
       "      <td>35446482</td>\n",
       "      <td>3719594</td>\n",
       "      <td>8953835</td>\n",
       "      <td>35039575</td>\n",
       "      <td>13710178</td>\n",
       "      <td>34277827</td>\n",
       "      <td>14157005</td>\n",
       "      <td>314921</td>\n",
       "      <td>25.64</td>\n",
       "      <td>16.48</td>\n",
       "    </tr>\n",
       "    <tr>\n",
       "      <th>152</th>\n",
       "      <td>2021-05-28</td>\n",
       "      <td>49255748</td>\n",
       "      <td>820916</td>\n",
       "      <td>333993</td>\n",
       "      <td>486923</td>\n",
       "      <td>35996302</td>\n",
       "      <td>3792059</td>\n",
       "      <td>9072385</td>\n",
       "      <td>35453649</td>\n",
       "      <td>14197101</td>\n",
       "      <td>34630782</td>\n",
       "      <td>14624966</td>\n",
       "      <td>395002</td>\n",
       "      <td>25.55</td>\n",
       "      <td>17.06</td>\n",
       "    </tr>\n",
       "  </tbody>\n",
       "</table>\n",
       "</div>"
      ],
      "text/plain": [
       "          date  dosen_kumulativ  dosen_differenz_zum_vortag  \\\n",
       "150 2021-05-26         47425864                     1160899   \n",
       "151 2021-05-27         48434832                     1008968   \n",
       "152 2021-05-28         49255748                      820916   \n",
       "\n",
       "     dosen_erst_differenz_zum_vortag  dosen_zweit_differenz_zum_vortag  \\\n",
       "150                           464056                            696843   \n",
       "151                           397811                            611157   \n",
       "152                           333993                            486923   \n",
       "\n",
       "     dosen_biontech_kumulativ  dosen_moderna_kumulativ  \\\n",
       "150                  34725668                  3637896   \n",
       "151                  35446482                  3719594   \n",
       "152                  35996302                  3792059   \n",
       "\n",
       "     dosen_astrazeneca_kumulativ  personen_erst_kumulativ  \\\n",
       "150                      8825892                 34563251   \n",
       "151                      8953835                 35039575   \n",
       "152                      9072385                 35453649   \n",
       "\n",
       "     personen_voll_kumulativ  dosen_dim_kumulativ  dosen_kbv_kumulativ  \\\n",
       "150                 13099021             33890696             13535168   \n",
       "151                 13710178             34277827             14157005   \n",
       "152                 14197101             34630782             14624966   \n",
       "\n",
       "     dosen_johnson_kumulativ  partly vaccinated  fully vaccinated  \n",
       "150                   236408              25.80             15.74  \n",
       "151                   314921              25.64             16.48  \n",
       "152                   395002              25.55             17.06  "
      ]
     },
     "execution_count": 21,
     "metadata": {},
     "output_type": "execute_result"
    }
   ],
   "source": [
    "vaccinations.tail(3)"
   ]
  },
  {
   "cell_type": "markdown",
   "metadata": {},
   "source": [
    "### Last Update\n",
    "\n",
    "Often the data is not updated on weekends, so get the highest date in the dataset."
   ]
  },
  {
   "cell_type": "code",
   "execution_count": 22,
   "metadata": {},
   "outputs": [
    {
     "data": {
      "text/plain": [
       "'2021-05-28'"
      ]
     },
     "execution_count": 22,
     "metadata": {},
     "output_type": "execute_result"
    }
   ],
   "source": [
    "last_update = vaccinations.loc[vaccinations.index[-1], \"date\"].strftime('%Y-%m-%d')\n",
    "last_update"
   ]
  },
  {
   "cell_type": "markdown",
   "metadata": {},
   "source": [
    "## Doses Used"
   ]
  },
  {
   "cell_type": "code",
   "execution_count": 23,
   "metadata": {},
   "outputs": [],
   "source": [
    "doses = vaccinations.loc[ : , ['date', 'dosen_differenz_zum_vortag']]\n",
    "# Rename columns\n",
    "doses.columns = ['date', 'doses used']"
   ]
  },
  {
   "cell_type": "code",
   "execution_count": 24,
   "metadata": {},
   "outputs": [],
   "source": [
    "# Scale number of doses as millions\n",
    "doses['doses used'] = doses['doses used'] / 1_000_000"
   ]
  },
  {
   "cell_type": "markdown",
   "metadata": {},
   "source": [
    "### Doses Daily"
   ]
  },
  {
   "cell_type": "code",
   "execution_count": 25,
   "metadata": {},
   "outputs": [
    {
     "data": {
      "text/html": [
       "<div>\n",
       "<style scoped>\n",
       "    .dataframe tbody tr th:only-of-type {\n",
       "        vertical-align: middle;\n",
       "    }\n",
       "\n",
       "    .dataframe tbody tr th {\n",
       "        vertical-align: top;\n",
       "    }\n",
       "\n",
       "    .dataframe thead th {\n",
       "        text-align: right;\n",
       "    }\n",
       "</style>\n",
       "<table border=\"1\" class=\"dataframe\">\n",
       "  <thead>\n",
       "    <tr style=\"text-align: right;\">\n",
       "      <th></th>\n",
       "      <th>doses used</th>\n",
       "    </tr>\n",
       "    <tr>\n",
       "      <th>date</th>\n",
       "      <th></th>\n",
       "    </tr>\n",
       "  </thead>\n",
       "  <tbody>\n",
       "    <tr>\n",
       "      <th>2021-05-28</th>\n",
       "      <td>0.820916</td>\n",
       "    </tr>\n",
       "  </tbody>\n",
       "</table>\n",
       "</div>"
      ],
      "text/plain": [
       "            doses used\n",
       "date                  \n",
       "2021-05-28    0.820916"
      ]
     },
     "execution_count": 25,
     "metadata": {},
     "output_type": "execute_result"
    }
   ],
   "source": [
    "doses_daily = doses.set_index('date', inplace=False)\n",
    "doses_daily.tail(1)"
   ]
  },
  {
   "cell_type": "code",
   "execution_count": 26,
   "metadata": {},
   "outputs": [
    {
     "data": {
      "text/plain": [
       "1.405599"
      ]
     },
     "execution_count": 26,
     "metadata": {},
     "output_type": "execute_result"
    }
   ],
   "source": [
    "# What is the highest number of doses used in a day?\n",
    "max_doses_daily = max(doses_daily['doses used'])\n",
    "max_doses_daily"
   ]
  },
  {
   "cell_type": "code",
   "execution_count": 27,
   "metadata": {},
   "outputs": [
    {
     "data": {
      "text/plain": [
       "<AxesSubplot:title={'center':'VACCINATION DOSES PER DAY IN GERMANY'}, xlabel='Date', ylabel='Million Doses'>"
      ]
     },
     "execution_count": 27,
     "metadata": {},
     "output_type": "execute_result"
    },
    {
     "data": {
      "image/png": "[encoded data removed]",
      "text/plain": [
       "<Figure size 432x288 with 1 Axes>"
      ]
     },
     "metadata": {},
     "output_type": "display_data"
    }
   ],
   "source": [
    "doses_daily.plot(\n",
    "    ylim=(0,math.ceil(max_doses_daily)),\n",
    "    xlabel='Date',\n",
    "    ylabel='Million Doses',\n",
    "    title='VACCINATION DOSES PER DAY IN GERMANY')"
   ]
  },
  {
   "cell_type": "markdown",
   "metadata": {},
   "source": [
    "### Doses per Weekday (in the last 6 weeks)"
   ]
  },
  {
   "cell_type": "code",
   "execution_count": 28,
   "metadata": {},
   "outputs": [],
   "source": [
    "last_6_weeks = doses.tail(42)"
   ]
  },
  {
   "cell_type": "code",
   "execution_count": 29,
   "metadata": {},
   "outputs": [
    {
     "name": "stderr",
     "output_type": "stream",
     "text": [
      "<ipython-input-29-45013977109e>:3: SettingWithCopyWarning: \n",
      "A value is trying to be set on a copy of a slice from a DataFrame.\n",
      "Try using .loc[row_indexer,col_indexer] = value instead\n",
      "\n",
      "See the caveats in the documentation: https://pandas.pydata.org/pandas-docs/stable/user_guide/indexing.html#returning-a-view-versus-a-copy\n",
      "  last_6_weeks['weekday'] = last_6_weeks['date'].dt.day_name()\n"
     ]
    }
   ],
   "source": [
    "# Yields a warning, but exactly like the docs prescribe and it works\n",
    "# https://pandas.pydata.org/docs/getting_started/intro_tutorials/05_add_columns.html\n",
    "last_6_weeks['weekday'] = last_6_weeks['date'].dt.day_name()"
   ]
  },
  {
   "cell_type": "code",
   "execution_count": 30,
   "metadata": {},
   "outputs": [
    {
     "data": {
      "text/html": [
       "<div>\n",
       "<style scoped>\n",
       "    .dataframe tbody tr th:only-of-type {\n",
       "        vertical-align: middle;\n",
       "    }\n",
       "\n",
       "    .dataframe tbody tr th {\n",
       "        vertical-align: top;\n",
       "    }\n",
       "\n",
       "    .dataframe thead th {\n",
       "        text-align: right;\n",
       "    }\n",
       "</style>\n",
       "<table border=\"1\" class=\"dataframe\">\n",
       "  <thead>\n",
       "    <tr style=\"text-align: right;\">\n",
       "      <th></th>\n",
       "      <th>date</th>\n",
       "      <th>doses used</th>\n",
       "      <th>weekday</th>\n",
       "    </tr>\n",
       "  </thead>\n",
       "  <tbody>\n",
       "    <tr>\n",
       "      <th>150</th>\n",
       "      <td>2021-05-26</td>\n",
       "      <td>1.160899</td>\n",
       "      <td>Wednesday</td>\n",
       "    </tr>\n",
       "    <tr>\n",
       "      <th>151</th>\n",
       "      <td>2021-05-27</td>\n",
       "      <td>1.008968</td>\n",
       "      <td>Thursday</td>\n",
       "    </tr>\n",
       "    <tr>\n",
       "      <th>152</th>\n",
       "      <td>2021-05-28</td>\n",
       "      <td>0.820916</td>\n",
       "      <td>Friday</td>\n",
       "    </tr>\n",
       "  </tbody>\n",
       "</table>\n",
       "</div>"
      ],
      "text/plain": [
       "          date  doses used    weekday\n",
       "150 2021-05-26    1.160899  Wednesday\n",
       "151 2021-05-27    1.008968   Thursday\n",
       "152 2021-05-28    0.820916     Friday"
      ]
     },
     "execution_count": 30,
     "metadata": {},
     "output_type": "execute_result"
    }
   ],
   "source": [
    "# check:\n",
    "last_6_weeks.tail(3)"
   ]
  },
  {
   "cell_type": "code",
   "execution_count": 31,
   "metadata": {},
   "outputs": [],
   "source": [
    "# drop the date column\n",
    "last_6_weeks = last_6_weeks.drop(labels=['date'], axis=1)"
   ]
  },
  {
   "cell_type": "code",
   "execution_count": 32,
   "metadata": {},
   "outputs": [
    {
     "data": {
      "text/html": [
       "<div>\n",
       "<style scoped>\n",
       "    .dataframe tbody tr th:only-of-type {\n",
       "        vertical-align: middle;\n",
       "    }\n",
       "\n",
       "    .dataframe tbody tr th {\n",
       "        vertical-align: top;\n",
       "    }\n",
       "\n",
       "    .dataframe thead th {\n",
       "        text-align: right;\n",
       "    }\n",
       "</style>\n",
       "<table border=\"1\" class=\"dataframe\">\n",
       "  <thead>\n",
       "    <tr style=\"text-align: right;\">\n",
       "      <th></th>\n",
       "      <th>doses used</th>\n",
       "      <th>weekday</th>\n",
       "    </tr>\n",
       "  </thead>\n",
       "  <tbody>\n",
       "    <tr>\n",
       "      <th>150</th>\n",
       "      <td>1.160899</td>\n",
       "      <td>Wednesday</td>\n",
       "    </tr>\n",
       "    <tr>\n",
       "      <th>151</th>\n",
       "      <td>1.008968</td>\n",
       "      <td>Thursday</td>\n",
       "    </tr>\n",
       "    <tr>\n",
       "      <th>152</th>\n",
       "      <td>0.820916</td>\n",
       "      <td>Friday</td>\n",
       "    </tr>\n",
       "  </tbody>\n",
       "</table>\n",
       "</div>"
      ],
      "text/plain": [
       "     doses used    weekday\n",
       "150    1.160899  Wednesday\n",
       "151    1.008968   Thursday\n",
       "152    0.820916     Friday"
      ]
     },
     "execution_count": 32,
     "metadata": {},
     "output_type": "execute_result"
    }
   ],
   "source": [
    "#last_6_weeks.set_index('weekday', inplace=True)\n",
    "last_6_weeks.tail(3)"
   ]
  },
  {
   "cell_type": "code",
   "execution_count": 33,
   "metadata": {},
   "outputs": [
    {
     "data": {
      "text/html": [
       "<div>\n",
       "<style scoped>\n",
       "    .dataframe tbody tr th:only-of-type {\n",
       "        vertical-align: middle;\n",
       "    }\n",
       "\n",
       "    .dataframe tbody tr th {\n",
       "        vertical-align: top;\n",
       "    }\n",
       "\n",
       "    .dataframe thead th {\n",
       "        text-align: right;\n",
       "    }\n",
       "</style>\n",
       "<table border=\"1\" class=\"dataframe\">\n",
       "  <thead>\n",
       "    <tr style=\"text-align: right;\">\n",
       "      <th>weekday</th>\n",
       "      <th>Friday</th>\n",
       "      <th>Monday</th>\n",
       "      <th>Saturday</th>\n",
       "      <th>Sunday</th>\n",
       "      <th>Thursday</th>\n",
       "      <th>Tuesday</th>\n",
       "      <th>Wednesday</th>\n",
       "    </tr>\n",
       "  </thead>\n",
       "  <tbody>\n",
       "    <tr>\n",
       "      <th>148</th>\n",
       "      <td>NaN</td>\n",
       "      <td>0.323518</td>\n",
       "      <td>NaN</td>\n",
       "      <td>NaN</td>\n",
       "      <td>NaN</td>\n",
       "      <td>NaN</td>\n",
       "      <td>NaN</td>\n",
       "    </tr>\n",
       "    <tr>\n",
       "      <th>149</th>\n",
       "      <td>NaN</td>\n",
       "      <td>NaN</td>\n",
       "      <td>NaN</td>\n",
       "      <td>NaN</td>\n",
       "      <td>NaN</td>\n",
       "      <td>0.646539</td>\n",
       "      <td>NaN</td>\n",
       "    </tr>\n",
       "    <tr>\n",
       "      <th>150</th>\n",
       "      <td>NaN</td>\n",
       "      <td>NaN</td>\n",
       "      <td>NaN</td>\n",
       "      <td>NaN</td>\n",
       "      <td>NaN</td>\n",
       "      <td>NaN</td>\n",
       "      <td>1.160899</td>\n",
       "    </tr>\n",
       "    <tr>\n",
       "      <th>151</th>\n",
       "      <td>NaN</td>\n",
       "      <td>NaN</td>\n",
       "      <td>NaN</td>\n",
       "      <td>NaN</td>\n",
       "      <td>1.008968</td>\n",
       "      <td>NaN</td>\n",
       "      <td>NaN</td>\n",
       "    </tr>\n",
       "    <tr>\n",
       "      <th>152</th>\n",
       "      <td>0.820916</td>\n",
       "      <td>NaN</td>\n",
       "      <td>NaN</td>\n",
       "      <td>NaN</td>\n",
       "      <td>NaN</td>\n",
       "      <td>NaN</td>\n",
       "      <td>NaN</td>\n",
       "    </tr>\n",
       "  </tbody>\n",
       "</table>\n",
       "</div>"
      ],
      "text/plain": [
       "weekday    Friday    Monday  Saturday  Sunday  Thursday   Tuesday  Wednesday\n",
       "148           NaN  0.323518       NaN     NaN       NaN       NaN        NaN\n",
       "149           NaN       NaN       NaN     NaN       NaN  0.646539        NaN\n",
       "150           NaN       NaN       NaN     NaN       NaN       NaN   1.160899\n",
       "151           NaN       NaN       NaN     NaN  1.008968       NaN        NaN\n",
       "152      0.820916       NaN       NaN     NaN       NaN       NaN        NaN"
      ]
     },
     "execution_count": 33,
     "metadata": {},
     "output_type": "execute_result"
    }
   ],
   "source": [
    "pivot_table =last_6_weeks.pivot(columns='weekday', values='doses used')\n",
    "pivot_table.tail()"
   ]
  },
  {
   "cell_type": "code",
   "execution_count": 34,
   "metadata": {},
   "outputs": [
    {
     "data": {
      "text/html": [
       "<div>\n",
       "<style scoped>\n",
       "    .dataframe tbody tr th:only-of-type {\n",
       "        vertical-align: middle;\n",
       "    }\n",
       "\n",
       "    .dataframe tbody tr th {\n",
       "        vertical-align: top;\n",
       "    }\n",
       "\n",
       "    .dataframe thead th {\n",
       "        text-align: right;\n",
       "    }\n",
       "</style>\n",
       "<table border=\"1\" class=\"dataframe\">\n",
       "  <thead>\n",
       "    <tr style=\"text-align: right;\">\n",
       "      <th></th>\n",
       "      <th>Mo</th>\n",
       "      <th>Tue</th>\n",
       "      <th>Wed</th>\n",
       "      <th>Thu</th>\n",
       "      <th>Fri</th>\n",
       "      <th>Sat</th>\n",
       "      <th>Sun</th>\n",
       "    </tr>\n",
       "  </thead>\n",
       "  <tbody>\n",
       "    <tr>\n",
       "      <th>148</th>\n",
       "      <td>0.323518</td>\n",
       "      <td>NaN</td>\n",
       "      <td>NaN</td>\n",
       "      <td>NaN</td>\n",
       "      <td>NaN</td>\n",
       "      <td>NaN</td>\n",
       "      <td>NaN</td>\n",
       "    </tr>\n",
       "    <tr>\n",
       "      <th>149</th>\n",
       "      <td>NaN</td>\n",
       "      <td>0.646539</td>\n",
       "      <td>NaN</td>\n",
       "      <td>NaN</td>\n",
       "      <td>NaN</td>\n",
       "      <td>NaN</td>\n",
       "      <td>NaN</td>\n",
       "    </tr>\n",
       "    <tr>\n",
       "      <th>150</th>\n",
       "      <td>NaN</td>\n",
       "      <td>NaN</td>\n",
       "      <td>1.160899</td>\n",
       "      <td>NaN</td>\n",
       "      <td>NaN</td>\n",
       "      <td>NaN</td>\n",
       "      <td>NaN</td>\n",
       "    </tr>\n",
       "    <tr>\n",
       "      <th>151</th>\n",
       "      <td>NaN</td>\n",
       "      <td>NaN</td>\n",
       "      <td>NaN</td>\n",
       "      <td>1.008968</td>\n",
       "      <td>NaN</td>\n",
       "      <td>NaN</td>\n",
       "      <td>NaN</td>\n",
       "    </tr>\n",
       "    <tr>\n",
       "      <th>152</th>\n",
       "      <td>NaN</td>\n",
       "      <td>NaN</td>\n",
       "      <td>NaN</td>\n",
       "      <td>NaN</td>\n",
       "      <td>0.820916</td>\n",
       "      <td>NaN</td>\n",
       "      <td>NaN</td>\n",
       "    </tr>\n",
       "  </tbody>\n",
       "</table>\n",
       "</div>"
      ],
      "text/plain": [
       "           Mo       Tue       Wed       Thu       Fri  Sat  Sun\n",
       "148  0.323518       NaN       NaN       NaN       NaN  NaN  NaN\n",
       "149       NaN  0.646539       NaN       NaN       NaN  NaN  NaN\n",
       "150       NaN       NaN  1.160899       NaN       NaN  NaN  NaN\n",
       "151       NaN       NaN       NaN  1.008968       NaN  NaN  NaN\n",
       "152       NaN       NaN       NaN       NaN  0.820916  NaN  NaN"
      ]
     },
     "execution_count": 34,
     "metadata": {},
     "output_type": "execute_result"
    }
   ],
   "source": [
    "# Reorder the columns\n",
    "pivot_table = pivot_table[['Monday', 'Tuesday', 'Wednesday', 'Thursday', 'Friday', 'Saturday', 'Sunday']]\n",
    "# Rename the columns\n",
    "pivot_table.columns=['Mo', 'Tue', 'Wed', 'Thu', 'Fri', 'Sat', 'Sun']\n",
    "pivot_table.tail()"
   ]
  },
  {
   "cell_type": "code",
   "execution_count": 35,
   "metadata": {},
   "outputs": [
    {
     "data": {
      "image/png": "[encoded data removed]",
      "text/plain": [
       "<Figure size 432x288 with 1 Axes>"
      ]
     },
     "metadata": {},
     "output_type": "display_data"
    }
   ],
   "source": [
    "weekday_boxplot = pivot_table.boxplot()"
   ]
  },
  {
   "cell_type": "code",
   "execution_count": 36,
   "metadata": {},
   "outputs": [],
   "source": [
    "fig = weekday_boxplot.get_figure()\n",
    "fig.savefig('img/weekday_boxplot.png')"
   ]
  },
  {
   "cell_type": "markdown",
   "metadata": {},
   "source": [
    "### Doses per Week"
   ]
  },
  {
   "cell_type": "code",
   "execution_count": 37,
   "metadata": {},
   "outputs": [
    {
     "data": {
      "text/html": [
       "<div>\n",
       "<style scoped>\n",
       "    .dataframe tbody tr th:only-of-type {\n",
       "        vertical-align: middle;\n",
       "    }\n",
       "\n",
       "    .dataframe tbody tr th {\n",
       "        vertical-align: top;\n",
       "    }\n",
       "\n",
       "    .dataframe thead th {\n",
       "        text-align: right;\n",
       "    }\n",
       "</style>\n",
       "<table border=\"1\" class=\"dataframe\">\n",
       "  <thead>\n",
       "    <tr style=\"text-align: right;\">\n",
       "      <th></th>\n",
       "      <th>million doses used</th>\n",
       "    </tr>\n",
       "    <tr>\n",
       "      <th>date</th>\n",
       "      <th></th>\n",
       "    </tr>\n",
       "  </thead>\n",
       "  <tbody>\n",
       "    <tr>\n",
       "      <th>2021-05-03</th>\n",
       "      <td>4.697271</td>\n",
       "    </tr>\n",
       "    <tr>\n",
       "      <th>2021-05-10</th>\n",
       "      <td>5.136168</td>\n",
       "    </tr>\n",
       "    <tr>\n",
       "      <th>2021-05-17</th>\n",
       "      <td>4.891116</td>\n",
       "    </tr>\n",
       "    <tr>\n",
       "      <th>2021-05-24</th>\n",
       "      <td>4.822101</td>\n",
       "    </tr>\n",
       "    <tr>\n",
       "      <th>2021-05-31</th>\n",
       "      <td>3.637322</td>\n",
       "    </tr>\n",
       "  </tbody>\n",
       "</table>\n",
       "</div>"
      ],
      "text/plain": [
       "            million doses used\n",
       "date                          \n",
       "2021-05-03            4.697271\n",
       "2021-05-10            5.136168\n",
       "2021-05-17            4.891116\n",
       "2021-05-24            4.822101\n",
       "2021-05-31            3.637322"
      ]
     },
     "execution_count": 37,
     "metadata": {},
     "output_type": "execute_result"
    }
   ],
   "source": [
    "# W-Mon in order to start the week on a Monday, see:\n",
    "# https://pandas.pydata.org/pandas-docs/stable/user_guide/timeseries.html#anchored-offsets\n",
    "doses_weekly = doses.groupby(pd.Grouper(key='date',freq='W-Mon')).sum()\n",
    "doses_weekly.columns = ['million doses used']\n",
    "doses_weekly.tail()"
   ]
  },
  {
   "cell_type": "code",
   "execution_count": 38,
   "metadata": {},
   "outputs": [
    {
     "data": {
      "text/plain": [
       "5.1361680000000005"
      ]
     },
     "execution_count": 38,
     "metadata": {},
     "output_type": "execute_result"
    }
   ],
   "source": [
    "# What is the highest number of doses used in a week?\n",
    "max_million_doses_weekly = max(doses_weekly['million doses used'])\n",
    "max_million_doses_weekly"
   ]
  },
  {
   "cell_type": "code",
   "execution_count": 39,
   "metadata": {},
   "outputs": [
    {
     "data": {
      "text/plain": [
       "<AxesSubplot:title={'center':'VACCINATION DOSES PER WEEK IN GERMANY\\n(until 2021-05-28)'}, xlabel='Date', ylabel='Million Doses'>"
      ]
     },
     "execution_count": 39,
     "metadata": {},
     "output_type": "execute_result"
    },
    {
     "data": {
      "image/png": "[encoded data removed]",
      "text/plain": [
       "<Figure size 432x288 with 1 Axes>"
      ]
     },
     "metadata": {},
     "output_type": "display_data"
    }
   ],
   "source": [
    "doses_weekly.plot(\n",
    "    ylim=(0, math.ceil(max_million_doses_weekly)),\n",
    "    xlabel='Date',\n",
    "    ylabel='Million Doses',\n",
    "    title=f\"VACCINATION DOSES PER WEEK IN GERMANY\\n(until {last_update})\")"
   ]
  },
  {
   "cell_type": "markdown",
   "metadata": {},
   "source": [
    "### Doses per Month"
   ]
  },
  {
   "cell_type": "code",
   "execution_count": 40,
   "metadata": {},
   "outputs": [
    {
     "data": {
      "text/html": [
       "<div>\n",
       "<style scoped>\n",
       "    .dataframe tbody tr th:only-of-type {\n",
       "        vertical-align: middle;\n",
       "    }\n",
       "\n",
       "    .dataframe tbody tr th {\n",
       "        vertical-align: top;\n",
       "    }\n",
       "\n",
       "    .dataframe thead th {\n",
       "        text-align: right;\n",
       "    }\n",
       "</style>\n",
       "<table border=\"1\" class=\"dataframe\">\n",
       "  <thead>\n",
       "    <tr style=\"text-align: right;\">\n",
       "      <th></th>\n",
       "      <th>doses used</th>\n",
       "    </tr>\n",
       "    <tr>\n",
       "      <th>date</th>\n",
       "      <th></th>\n",
       "    </tr>\n",
       "  </thead>\n",
       "  <tbody>\n",
       "    <tr>\n",
       "      <th>2021-01-31</th>\n",
       "      <td>2.345620</td>\n",
       "    </tr>\n",
       "    <tr>\n",
       "      <th>2021-02-28</th>\n",
       "      <td>3.780386</td>\n",
       "    </tr>\n",
       "    <tr>\n",
       "      <th>2021-03-31</th>\n",
       "      <td>7.855864</td>\n",
       "    </tr>\n",
       "    <tr>\n",
       "      <th>2021-04-30</th>\n",
       "      <td>15.530787</td>\n",
       "    </tr>\n",
       "    <tr>\n",
       "      <th>2021-05-31</th>\n",
       "      <td>19.536349</td>\n",
       "    </tr>\n",
       "  </tbody>\n",
       "</table>\n",
       "</div>"
      ],
      "text/plain": [
       "            doses used\n",
       "date                  \n",
       "2021-01-31    2.345620\n",
       "2021-02-28    3.780386\n",
       "2021-03-31    7.855864\n",
       "2021-04-30   15.530787\n",
       "2021-05-31   19.536349"
      ]
     },
     "execution_count": 40,
     "metadata": {},
     "output_type": "execute_result"
    }
   ],
   "source": [
    "# M = month end frequency\n",
    "doses_monthly = doses.groupby(pd.Grouper(key='date',freq='M')).sum()\n",
    "doses_monthly.tail()"
   ]
  },
  {
   "cell_type": "code",
   "execution_count": 41,
   "metadata": {},
   "outputs": [
    {
     "data": {
      "text/html": [
       "<div>\n",
       "<style scoped>\n",
       "    .dataframe tbody tr th:only-of-type {\n",
       "        vertical-align: middle;\n",
       "    }\n",
       "\n",
       "    .dataframe tbody tr th {\n",
       "        vertical-align: top;\n",
       "    }\n",
       "\n",
       "    .dataframe thead th {\n",
       "        text-align: right;\n",
       "    }\n",
       "</style>\n",
       "<table border=\"1\" class=\"dataframe\">\n",
       "  <thead>\n",
       "    <tr style=\"text-align: right;\">\n",
       "      <th></th>\n",
       "      <th>doses used</th>\n",
       "    </tr>\n",
       "    <tr>\n",
       "      <th>label</th>\n",
       "      <th></th>\n",
       "    </tr>\n",
       "  </thead>\n",
       "  <tbody>\n",
       "    <tr>\n",
       "      <th>December 2020</th>\n",
       "      <td>0.206742</td>\n",
       "    </tr>\n",
       "    <tr>\n",
       "      <th>January 2021</th>\n",
       "      <td>2.345620</td>\n",
       "    </tr>\n",
       "    <tr>\n",
       "      <th>February 2021</th>\n",
       "      <td>3.780386</td>\n",
       "    </tr>\n",
       "    <tr>\n",
       "      <th>March 2021</th>\n",
       "      <td>7.855864</td>\n",
       "    </tr>\n",
       "    <tr>\n",
       "      <th>April 2021</th>\n",
       "      <td>15.530787</td>\n",
       "    </tr>\n",
       "    <tr>\n",
       "      <th>May 2021</th>\n",
       "      <td>19.536349</td>\n",
       "    </tr>\n",
       "  </tbody>\n",
       "</table>\n",
       "</div>"
      ],
      "text/plain": [
       "               doses used\n",
       "label                    \n",
       "December 2020    0.206742\n",
       "January 2021     2.345620\n",
       "February 2021    3.780386\n",
       "March 2021       7.855864\n",
       "April 2021      15.530787\n",
       "May 2021        19.536349"
      ]
     },
     "execution_count": 41,
     "metadata": {},
     "output_type": "execute_result"
    }
   ],
   "source": [
    "max_doses_monthly = max(doses_monthly['doses used'])\n",
    "max_doses_monthly\n",
    "doses_monthly['month'] = doses_monthly.index.strftime('%B')\n",
    "doses_monthly['year'] =  doses_monthly.index.strftime('%Y')\n",
    "doses_monthly['label'] = doses_monthly['month'] + ' ' + doses_monthly['year']\n",
    "doses_monthly.drop(columns=['month', 'year'], inplace=True)\n",
    "doses_monthly.set_index('label', inplace=True)\n",
    "doses_monthly.tail(6)"
   ]
  },
  {
   "cell_type": "code",
   "execution_count": 42,
   "metadata": {},
   "outputs": [
    {
     "data": {
      "image/png": "[encoded data removed]",
      "text/plain": [
       "<Figure size 432x288 with 1 Axes>"
      ]
     },
     "metadata": {},
     "output_type": "display_data"
    }
   ],
   "source": [
    "monthly_plot = doses_monthly.plot.bar(\n",
    "    ylim=(0,math.ceil(max_doses_monthly) + 1),\n",
    "    xlabel='Date',\n",
    "    ylabel='Million Doses',\n",
    "    title=f\"VACCINATION DOSES PER MONTH IN GERMANY\\n(including data for {last_update})\")"
   ]
  },
  {
   "cell_type": "code",
   "execution_count": 43,
   "metadata": {},
   "outputs": [],
   "source": [
    "fig = monthly_plot.get_figure()\n",
    "fig.savefig('img/monthly_doses_germany.png')"
   ]
  },
  {
   "cell_type": "markdown",
   "metadata": {},
   "source": [
    "## Vaccination Campaign Progress"
   ]
  },
  {
   "cell_type": "code",
   "execution_count": 44,
   "metadata": {},
   "outputs": [
    {
     "data": {
      "text/html": [
       "<div>\n",
       "<style scoped>\n",
       "    .dataframe tbody tr th:only-of-type {\n",
       "        vertical-align: middle;\n",
       "    }\n",
       "\n",
       "    .dataframe tbody tr th {\n",
       "        vertical-align: top;\n",
       "    }\n",
       "\n",
       "    .dataframe thead th {\n",
       "        text-align: right;\n",
       "    }\n",
       "</style>\n",
       "<table border=\"1\" class=\"dataframe\">\n",
       "  <thead>\n",
       "    <tr style=\"text-align: right;\">\n",
       "      <th></th>\n",
       "      <th>partly vaccinated</th>\n",
       "      <th>fully vaccinated</th>\n",
       "    </tr>\n",
       "    <tr>\n",
       "      <th>date</th>\n",
       "      <th></th>\n",
       "      <th></th>\n",
       "    </tr>\n",
       "  </thead>\n",
       "  <tbody>\n",
       "    <tr>\n",
       "      <th>2021-05-26</th>\n",
       "      <td>25.80</td>\n",
       "      <td>15.74</td>\n",
       "    </tr>\n",
       "    <tr>\n",
       "      <th>2021-05-27</th>\n",
       "      <td>25.64</td>\n",
       "      <td>16.48</td>\n",
       "    </tr>\n",
       "    <tr>\n",
       "      <th>2021-05-28</th>\n",
       "      <td>25.55</td>\n",
       "      <td>17.06</td>\n",
       "    </tr>\n",
       "  </tbody>\n",
       "</table>\n",
       "</div>"
      ],
      "text/plain": [
       "            partly vaccinated  fully vaccinated\n",
       "date                                           \n",
       "2021-05-26              25.80             15.74\n",
       "2021-05-27              25.64             16.48\n",
       "2021-05-28              25.55             17.06"
      ]
     },
     "execution_count": 44,
     "metadata": {},
     "output_type": "execute_result"
    }
   ],
   "source": [
    "doses_cumulative = vaccinations.loc[ : , ['date', 'partly vaccinated', 'fully vaccinated']]\n",
    "doses_cumulative.set_index('date', inplace=True)\n",
    "doses_cumulative.tail(3)"
   ]
  },
  {
   "cell_type": "code",
   "execution_count": 45,
   "metadata": {},
   "outputs": [
    {
     "data": {
      "image/png": "[encoded data removed]",
      "text/plain": [
       "<Figure size 432x288 with 1 Axes>"
      ]
     },
     "metadata": {},
     "output_type": "display_data"
    }
   ],
   "source": [
    "doses_area_plot = doses_cumulative.plot.area(\n",
    "    ylim=(0,100),\n",
    "    xlabel='Date',\n",
    "    ylabel='Percentage of population',\n",
    "    title=f\"Vaccination Campaign Progress in Germany\\n(until {last_update})\")"
   ]
  },
  {
   "cell_type": "code",
   "execution_count": 46,
   "metadata": {},
   "outputs": [],
   "source": [
    "fig = doses_area_plot.get_figure()\n",
    "fig.savefig('img/vaccinations_germany_area_plot.png')"
   ]
  },
  {
   "cell_type": "markdown",
   "metadata": {},
   "source": [
    "### As of Today"
   ]
  },
  {
   "cell_type": "code",
   "execution_count": 47,
   "metadata": {},
   "outputs": [
    {
     "data": {
      "text/plain": [
       "partly vaccinated    25.55\n",
       "fully vaccinated     17.06\n",
       "Name: 2021-05-28 00:00:00, dtype: float64"
      ]
     },
     "execution_count": 47,
     "metadata": {},
     "output_type": "execute_result"
    }
   ],
   "source": [
    "# get the last line of the data\n",
    "current_state = doses_cumulative.iloc[-1]\n",
    "current_state"
   ]
  },
  {
   "cell_type": "code",
   "execution_count": 48,
   "metadata": {},
   "outputs": [
    {
     "data": {
      "image/png": "[encoded data removed]",
      "text/plain": [
       "<Figure size 432x288 with 1 Axes>"
      ]
     },
     "metadata": {},
     "output_type": "display_data"
    }
   ],
   "source": [
    "percentage_not_vacc = 100 - current_state['partly vaccinated'] - current_state['fully vaccinated']\n",
    "labels = [f\"not vaccinated ({round(percentage_not_vacc, 1)}%)\",\n",
    "          f\"first dose ({round(current_state['partly vaccinated'], 1)}%)\",\n",
    "          f\"fully vaccinated ({round(current_state['fully vaccinated'], 1)}%)\"]\n",
    "colors = ['red', 'yellow', 'green']\n",
    "sizes = [percentage_not_vacc,\n",
    "         current_state['partly vaccinated'],\n",
    "         current_state['fully vaccinated']]\n",
    "fig1, ax1 = plt.subplots()\n",
    "ax1.pie(sizes, shadow=True, startangle=90)\n",
    "ax1.axis('equal')  # Equal aspect ratio ensures that pie is drawn as a circle.\n",
    "patches, texts = plt.pie(sizes, colors=colors, startangle=90)\n",
    "plt.legend(patches, labels, loc=\"best\")\n",
    "plt.title(f\"Vaccination Progress in Germany\\nas of {last_update}\")\n",
    "# plt.savefig must be before show()\n",
    "# BEWARE plt.savefig must be in the same Jupyter code cell that creates the graph!\n",
    "# See comment by ijoseph here:\n",
    "# https://stackoverflow.com/questions/9012487/matplotlib-pyplot-savefig-outputs-blank-image\n",
    "plt.savefig('img/vaccination_in_germany_pie.png', bbox_inches='tight')\n",
    "plt.show()"
   ]
  },
  {
   "cell_type": "markdown",
   "metadata": {},
   "source": [
    "## Vaccines in Use"
   ]
  },
  {
   "cell_type": "code",
   "execution_count": 49,
   "metadata": {},
   "outputs": [
    {
     "data": {
      "text/html": [
       "<div>\n",
       "<style scoped>\n",
       "    .dataframe tbody tr th:only-of-type {\n",
       "        vertical-align: middle;\n",
       "    }\n",
       "\n",
       "    .dataframe tbody tr th {\n",
       "        vertical-align: top;\n",
       "    }\n",
       "\n",
       "    .dataframe thead th {\n",
       "        text-align: right;\n",
       "    }\n",
       "</style>\n",
       "<table border=\"1\" class=\"dataframe\">\n",
       "  <thead>\n",
       "    <tr style=\"text-align: right;\">\n",
       "      <th></th>\n",
       "      <th>BioNTech</th>\n",
       "      <th>Moderna</th>\n",
       "      <th>AstraZeneca</th>\n",
       "      <th>Johnson &amp; Johnson</th>\n",
       "    </tr>\n",
       "    <tr>\n",
       "      <th>date</th>\n",
       "      <th></th>\n",
       "      <th></th>\n",
       "      <th></th>\n",
       "      <th></th>\n",
       "    </tr>\n",
       "  </thead>\n",
       "  <tbody>\n",
       "    <tr>\n",
       "      <th>2021-05-26</th>\n",
       "      <td>34.725668</td>\n",
       "      <td>3.637896</td>\n",
       "      <td>8.825892</td>\n",
       "      <td>0.236408</td>\n",
       "    </tr>\n",
       "    <tr>\n",
       "      <th>2021-05-27</th>\n",
       "      <td>35.446482</td>\n",
       "      <td>3.719594</td>\n",
       "      <td>8.953835</td>\n",
       "      <td>0.314921</td>\n",
       "    </tr>\n",
       "    <tr>\n",
       "      <th>2021-05-28</th>\n",
       "      <td>35.996302</td>\n",
       "      <td>3.792059</td>\n",
       "      <td>9.072385</td>\n",
       "      <td>0.395002</td>\n",
       "    </tr>\n",
       "  </tbody>\n",
       "</table>\n",
       "</div>"
      ],
      "text/plain": [
       "             BioNTech   Moderna  AstraZeneca  Johnson & Johnson\n",
       "date                                                           \n",
       "2021-05-26  34.725668  3.637896     8.825892           0.236408\n",
       "2021-05-27  35.446482  3.719594     8.953835           0.314921\n",
       "2021-05-28  35.996302  3.792059     9.072385           0.395002"
      ]
     },
     "execution_count": 49,
     "metadata": {},
     "output_type": "execute_result"
    }
   ],
   "source": [
    "vaccine_use = vaccinations.loc[ : , ['date', 'dosen_biontech_kumulativ',\n",
    "                                     'dosen_moderna_kumulativ',\n",
    "                                     'dosen_astrazeneca_kumulativ',\n",
    "                                     'dosen_johnson_kumulativ']]\n",
    "# Rename columns\n",
    "vaccine_use.columns = ['date', 'BioNTech', 'Moderna', 'AstraZeneca', 'Johnson & Johnson']\n",
    "# make 'date' an index\n",
    "vaccine_use.set_index('date', inplace=True)\n",
    "# divide columns by 1 million\n",
    "vaccine_use[\"BioNTech\"] = vaccine_use[\"BioNTech\"] / 1_000_000\n",
    "vaccine_use[\"Moderna\"] = vaccine_use[\"Moderna\"] / 1_000_000\n",
    "vaccine_use[\"AstraZeneca\"] = vaccine_use[\"AstraZeneca\"] / 1_000_000\n",
    "vaccine_use[\"Johnson & Johnson\"] = vaccine_use[\"Johnson & Johnson\"] / 1_000_000\n",
    "vaccine_use.tail(3)"
   ]
  },
  {
   "cell_type": "code",
   "execution_count": 50,
   "metadata": {},
   "outputs": [
    {
     "data": {
      "image/png": "[encoded data removed]",
      "text/plain": [
       "<Figure size 432x288 with 1 Axes>"
      ]
     },
     "metadata": {},
     "output_type": "display_data"
    }
   ],
   "source": [
    "vaccines_used = vaccine_use.plot(\n",
    "    # as it is cumulative, the last row must contain the single highest number\n",
    "    ylim=(0,math.ceil(max(vaccine_use.iloc[-1]))+1),\n",
    "    xlabel='Date',\n",
    "    ylabel='Million Doses (cumulative)',\n",
    "    title=f\"VACCINES USED IN GERMANY\\n(until {last_update})\")"
   ]
  },
  {
   "cell_type": "code",
   "execution_count": 51,
   "metadata": {},
   "outputs": [],
   "source": [
    "fig = vaccines_used.get_figure()\n",
    "fig.savefig('img/vaccines_used_in_germany.png')"
   ]
  },
  {
   "cell_type": "markdown",
   "metadata": {},
   "source": [
    "# Vaccination Centers versus Doctor’s Practices"
   ]
  },
  {
   "cell_type": "code",
   "execution_count": 52,
   "metadata": {},
   "outputs": [],
   "source": [
    "by_place = vaccinations.loc[ : , ['date', 'dosen_dim_kumulativ', 'dosen_kbv_kumulativ']]\n",
    "by_place.columns = ['date', 'vaccination centers', 'practices']"
   ]
  },
  {
   "cell_type": "code",
   "execution_count": 53,
   "metadata": {},
   "outputs": [],
   "source": [
    "by_place['vaccination centers daily'] = by_place['vaccination centers'].diff()\n",
    "by_place['practices daily'] = by_place['practices'].diff()"
   ]
  },
  {
   "cell_type": "code",
   "execution_count": 54,
   "metadata": {},
   "outputs": [],
   "source": [
    "by_place['percentage practices'] =  round(\n",
    "    by_place['practices daily'] * 100 / \n",
    "    (by_place['vaccination centers daily'] + by_place['practices daily']), 2)\n",
    "\n",
    "by_place['percentage centers'] = 100 - by_place['percentage practices']"
   ]
  },
  {
   "cell_type": "code",
   "execution_count": 55,
   "metadata": {},
   "outputs": [],
   "source": [
    "# make 'date' an index\n",
    "by_place.set_index('date', inplace=True)"
   ]
  },
  {
   "cell_type": "code",
   "execution_count": 56,
   "metadata": {},
   "outputs": [
    {
     "data": {
      "text/html": [
       "<div>\n",
       "<style scoped>\n",
       "    .dataframe tbody tr th:only-of-type {\n",
       "        vertical-align: middle;\n",
       "    }\n",
       "\n",
       "    .dataframe tbody tr th {\n",
       "        vertical-align: top;\n",
       "    }\n",
       "\n",
       "    .dataframe thead th {\n",
       "        text-align: right;\n",
       "    }\n",
       "</style>\n",
       "<table border=\"1\" class=\"dataframe\">\n",
       "  <thead>\n",
       "    <tr style=\"text-align: right;\">\n",
       "      <th></th>\n",
       "      <th>vaccination centers</th>\n",
       "      <th>practices</th>\n",
       "      <th>vaccination centers daily</th>\n",
       "      <th>practices daily</th>\n",
       "      <th>percentage practices</th>\n",
       "      <th>percentage centers</th>\n",
       "    </tr>\n",
       "    <tr>\n",
       "      <th>date</th>\n",
       "      <th></th>\n",
       "      <th></th>\n",
       "      <th></th>\n",
       "      <th></th>\n",
       "      <th></th>\n",
       "      <th></th>\n",
       "    </tr>\n",
       "  </thead>\n",
       "  <tbody>\n",
       "    <tr>\n",
       "      <th>2020-12-27</th>\n",
       "      <td>24100</td>\n",
       "      <td>0</td>\n",
       "      <td>NaN</td>\n",
       "      <td>NaN</td>\n",
       "      <td>NaN</td>\n",
       "      <td>NaN</td>\n",
       "    </tr>\n",
       "    <tr>\n",
       "      <th>2020-12-28</th>\n",
       "      <td>42658</td>\n",
       "      <td>0</td>\n",
       "      <td>18558.0</td>\n",
       "      <td>0.0</td>\n",
       "      <td>0.00</td>\n",
       "      <td>100.00</td>\n",
       "    </tr>\n",
       "    <tr>\n",
       "      <th>2020-12-29</th>\n",
       "      <td>93511</td>\n",
       "      <td>0</td>\n",
       "      <td>50853.0</td>\n",
       "      <td>0.0</td>\n",
       "      <td>0.00</td>\n",
       "      <td>100.00</td>\n",
       "    </tr>\n",
       "    <tr>\n",
       "      <th>2020-12-30</th>\n",
       "      <td>156537</td>\n",
       "      <td>0</td>\n",
       "      <td>63026.0</td>\n",
       "      <td>0.0</td>\n",
       "      <td>0.00</td>\n",
       "      <td>100.00</td>\n",
       "    </tr>\n",
       "    <tr>\n",
       "      <th>2020-12-31</th>\n",
       "      <td>206742</td>\n",
       "      <td>0</td>\n",
       "      <td>50205.0</td>\n",
       "      <td>0.0</td>\n",
       "      <td>0.00</td>\n",
       "      <td>100.00</td>\n",
       "    </tr>\n",
       "    <tr>\n",
       "      <th>...</th>\n",
       "      <td>...</td>\n",
       "      <td>...</td>\n",
       "      <td>...</td>\n",
       "      <td>...</td>\n",
       "      <td>...</td>\n",
       "      <td>...</td>\n",
       "    </tr>\n",
       "    <tr>\n",
       "      <th>2021-05-24</th>\n",
       "      <td>33105616</td>\n",
       "      <td>12512810</td>\n",
       "      <td>307993.0</td>\n",
       "      <td>15525.0</td>\n",
       "      <td>4.80</td>\n",
       "      <td>95.20</td>\n",
       "    </tr>\n",
       "    <tr>\n",
       "      <th>2021-05-25</th>\n",
       "      <td>33493212</td>\n",
       "      <td>12771753</td>\n",
       "      <td>387596.0</td>\n",
       "      <td>258943.0</td>\n",
       "      <td>40.05</td>\n",
       "      <td>59.95</td>\n",
       "    </tr>\n",
       "    <tr>\n",
       "      <th>2021-05-26</th>\n",
       "      <td>33890696</td>\n",
       "      <td>13535168</td>\n",
       "      <td>397484.0</td>\n",
       "      <td>763415.0</td>\n",
       "      <td>65.76</td>\n",
       "      <td>34.24</td>\n",
       "    </tr>\n",
       "    <tr>\n",
       "      <th>2021-05-27</th>\n",
       "      <td>34277827</td>\n",
       "      <td>14157005</td>\n",
       "      <td>387131.0</td>\n",
       "      <td>621837.0</td>\n",
       "      <td>61.63</td>\n",
       "      <td>38.37</td>\n",
       "    </tr>\n",
       "    <tr>\n",
       "      <th>2021-05-28</th>\n",
       "      <td>34630782</td>\n",
       "      <td>14624966</td>\n",
       "      <td>352955.0</td>\n",
       "      <td>467961.0</td>\n",
       "      <td>57.00</td>\n",
       "      <td>43.00</td>\n",
       "    </tr>\n",
       "  </tbody>\n",
       "</table>\n",
       "<p>153 rows × 6 columns</p>\n",
       "</div>"
      ],
      "text/plain": [
       "            vaccination centers  practices  vaccination centers daily  \\\n",
       "date                                                                    \n",
       "2020-12-27                24100          0                        NaN   \n",
       "2020-12-28                42658          0                    18558.0   \n",
       "2020-12-29                93511          0                    50853.0   \n",
       "2020-12-30               156537          0                    63026.0   \n",
       "2020-12-31               206742          0                    50205.0   \n",
       "...                         ...        ...                        ...   \n",
       "2021-05-24             33105616   12512810                   307993.0   \n",
       "2021-05-25             33493212   12771753                   387596.0   \n",
       "2021-05-26             33890696   13535168                   397484.0   \n",
       "2021-05-27             34277827   14157005                   387131.0   \n",
       "2021-05-28             34630782   14624966                   352955.0   \n",
       "\n",
       "            practices daily  percentage practices  percentage centers  \n",
       "date                                                                   \n",
       "2020-12-27              NaN                   NaN                 NaN  \n",
       "2020-12-28              0.0                  0.00              100.00  \n",
       "2020-12-29              0.0                  0.00              100.00  \n",
       "2020-12-30              0.0                  0.00              100.00  \n",
       "2020-12-31              0.0                  0.00              100.00  \n",
       "...                     ...                   ...                 ...  \n",
       "2021-05-24          15525.0                  4.80               95.20  \n",
       "2021-05-25         258943.0                 40.05               59.95  \n",
       "2021-05-26         763415.0                 65.76               34.24  \n",
       "2021-05-27         621837.0                 61.63               38.37  \n",
       "2021-05-28         467961.0                 57.00               43.00  \n",
       "\n",
       "[153 rows x 6 columns]"
      ]
     },
     "execution_count": 56,
     "metadata": {},
     "output_type": "execute_result"
    }
   ],
   "source": [
    "by_place"
   ]
  },
  {
   "cell_type": "code",
   "execution_count": 57,
   "metadata": {},
   "outputs": [],
   "source": [
    "share = by_place.loc[ : , ['percentage centers', 'percentage practices']]"
   ]
  },
  {
   "cell_type": "code",
   "execution_count": 58,
   "metadata": {},
   "outputs": [
    {
     "data": {
      "image/png": "[encoded data removed]",
      "text/plain": [
       "<Figure size 432x288 with 1 Axes>"
      ]
     },
     "metadata": {},
     "output_type": "display_data"
    }
   ],
   "source": [
    "vacc_shares = share.plot(\n",
    "    # as it is cumulative, the last row must contain the single highest number\n",
    "    ylim=(0, 105),  # above 100 to see the line\n",
    "    xlabel='Date',\n",
    "    ylabel='Percentage of Vaccinations',\n",
    "    title=f\"Place of Vaccination in Germany\\n(until {last_update})\")"
   ]
  },
  {
   "cell_type": "code",
   "execution_count": 59,
   "metadata": {},
   "outputs": [],
   "source": [
    "fig = vacc_shares.get_figure()\n",
    "fig.savefig('img/vaccinations_germany_by_place.png')"
   ]
  },
  {
   "cell_type": "markdown",
   "metadata": {},
   "source": [
    "## Other units of Time"
   ]
  },
  {
   "cell_type": "code",
   "execution_count": 60,
   "metadata": {},
   "outputs": [],
   "source": [
    "by_place_daily = by_place.loc[ : , ['vaccination centers daily', 'practices daily']]\n",
    "by_place_daily.columns = ['vaccination centers', 'practices']\n",
    "by_place_daily.reset_index(inplace=True)"
   ]
  },
  {
   "cell_type": "markdown",
   "metadata": {},
   "source": [
    "### Monthly"
   ]
  },
  {
   "cell_type": "code",
   "execution_count": 61,
   "metadata": {},
   "outputs": [
    {
     "data": {
      "text/html": [
       "<div>\n",
       "<style scoped>\n",
       "    .dataframe tbody tr th:only-of-type {\n",
       "        vertical-align: middle;\n",
       "    }\n",
       "\n",
       "    .dataframe tbody tr th {\n",
       "        vertical-align: top;\n",
       "    }\n",
       "\n",
       "    .dataframe thead th {\n",
       "        text-align: right;\n",
       "    }\n",
       "</style>\n",
       "<table border=\"1\" class=\"dataframe\">\n",
       "  <thead>\n",
       "    <tr style=\"text-align: right;\">\n",
       "      <th></th>\n",
       "      <th>vaccination centers</th>\n",
       "      <th>practices</th>\n",
       "    </tr>\n",
       "    <tr>\n",
       "      <th>date</th>\n",
       "      <th></th>\n",
       "      <th></th>\n",
       "    </tr>\n",
       "  </thead>\n",
       "  <tbody>\n",
       "    <tr>\n",
       "      <th>2021-01-31</th>\n",
       "      <td>2345620.0</td>\n",
       "      <td>0.0</td>\n",
       "    </tr>\n",
       "    <tr>\n",
       "      <th>2021-02-28</th>\n",
       "      <td>3780386.0</td>\n",
       "      <td>0.0</td>\n",
       "    </tr>\n",
       "    <tr>\n",
       "      <th>2021-03-31</th>\n",
       "      <td>7789630.0</td>\n",
       "      <td>66234.0</td>\n",
       "    </tr>\n",
       "    <tr>\n",
       "      <th>2021-04-30</th>\n",
       "      <td>10201647.0</td>\n",
       "      <td>5329140.0</td>\n",
       "    </tr>\n",
       "    <tr>\n",
       "      <th>2021-05-31</th>\n",
       "      <td>10306757.0</td>\n",
       "      <td>9229592.0</td>\n",
       "    </tr>\n",
       "  </tbody>\n",
       "</table>\n",
       "</div>"
      ],
      "text/plain": [
       "            vaccination centers  practices\n",
       "date                                      \n",
       "2021-01-31            2345620.0        0.0\n",
       "2021-02-28            3780386.0        0.0\n",
       "2021-03-31            7789630.0    66234.0\n",
       "2021-04-30           10201647.0  5329140.0\n",
       "2021-05-31           10306757.0  9229592.0"
      ]
     },
     "execution_count": 61,
     "metadata": {},
     "output_type": "execute_result"
    }
   ],
   "source": [
    "by_place_monthly = by_place_daily.groupby(pd.Grouper(key='date',freq='M')).sum()\n",
    "by_place_monthly.tail()"
   ]
  },
  {
   "cell_type": "markdown",
   "metadata": {},
   "source": [
    "Scale:"
   ]
  },
  {
   "cell_type": "code",
   "execution_count": 62,
   "metadata": {},
   "outputs": [],
   "source": [
    "by_place_monthly['vaccination centers'] = by_place_monthly['vaccination centers'] / 1_000_000\n",
    "by_place_monthly['practices'] = by_place_monthly['practices'] / 1_000_000"
   ]
  },
  {
   "cell_type": "markdown",
   "metadata": {},
   "source": [
    "Rename the columns"
   ]
  },
  {
   "cell_type": "code",
   "execution_count": 63,
   "metadata": {},
   "outputs": [
    {
     "data": {
      "text/html": [
       "<div>\n",
       "<style scoped>\n",
       "    .dataframe tbody tr th:only-of-type {\n",
       "        vertical-align: middle;\n",
       "    }\n",
       "\n",
       "    .dataframe tbody tr th {\n",
       "        vertical-align: top;\n",
       "    }\n",
       "\n",
       "    .dataframe thead th {\n",
       "        text-align: right;\n",
       "    }\n",
       "</style>\n",
       "<table border=\"1\" class=\"dataframe\">\n",
       "  <thead>\n",
       "    <tr style=\"text-align: right;\">\n",
       "      <th></th>\n",
       "      <th>vaccination centers</th>\n",
       "      <th>practices</th>\n",
       "    </tr>\n",
       "    <tr>\n",
       "      <th>label</th>\n",
       "      <th></th>\n",
       "      <th></th>\n",
       "    </tr>\n",
       "  </thead>\n",
       "  <tbody>\n",
       "    <tr>\n",
       "      <th>December 2020</th>\n",
       "      <td>0.182642</td>\n",
       "      <td>0.000000</td>\n",
       "    </tr>\n",
       "    <tr>\n",
       "      <th>January 2021</th>\n",
       "      <td>2.345620</td>\n",
       "      <td>0.000000</td>\n",
       "    </tr>\n",
       "    <tr>\n",
       "      <th>February 2021</th>\n",
       "      <td>3.780386</td>\n",
       "      <td>0.000000</td>\n",
       "    </tr>\n",
       "    <tr>\n",
       "      <th>March 2021</th>\n",
       "      <td>7.789630</td>\n",
       "      <td>0.066234</td>\n",
       "    </tr>\n",
       "    <tr>\n",
       "      <th>April 2021</th>\n",
       "      <td>10.201647</td>\n",
       "      <td>5.329140</td>\n",
       "    </tr>\n",
       "    <tr>\n",
       "      <th>May 2021</th>\n",
       "      <td>10.306757</td>\n",
       "      <td>9.229592</td>\n",
       "    </tr>\n",
       "  </tbody>\n",
       "</table>\n",
       "</div>"
      ],
      "text/plain": [
       "               vaccination centers  practices\n",
       "label                                        \n",
       "December 2020             0.182642   0.000000\n",
       "January 2021              2.345620   0.000000\n",
       "February 2021             3.780386   0.000000\n",
       "March 2021                7.789630   0.066234\n",
       "April 2021               10.201647   5.329140\n",
       "May 2021                 10.306757   9.229592"
      ]
     },
     "execution_count": 63,
     "metadata": {},
     "output_type": "execute_result"
    }
   ],
   "source": [
    "by_place_monthly['month'] = by_place_monthly.index.strftime('%B')\n",
    "by_place_monthly['year'] =  by_place_monthly.index.strftime('%Y')\n",
    "by_place_monthly['label'] = by_place_monthly['month'] + ' ' + by_place_monthly['year']\n",
    "by_place_monthly.drop(columns=['month', 'year'], inplace=True)\n",
    "by_place_monthly.set_index('label', inplace=True)\n",
    "by_place_monthly.tail(6)"
   ]
  },
  {
   "cell_type": "code",
   "execution_count": 64,
   "metadata": {},
   "outputs": [
    {
     "data": {
      "image/png": "[encoded data removed]",
      "text/plain": [
       "<Figure size 432x288 with 1 Axes>"
      ]
     },
     "metadata": {},
     "output_type": "display_data"
    }
   ],
   "source": [
    "monthly_plot = by_place_monthly.plot.bar(\n",
    "    stacked=True,\n",
    "    ylim=(0, 25),\n",
    "    xlabel='Date',\n",
    "    ylabel='Million Doses',\n",
    "    title=f\"VACCINATION DOSES BY PLACE IN GERMANY\\n(including data for {last_update})\")"
   ]
  },
  {
   "cell_type": "code",
   "execution_count": 65,
   "metadata": {},
   "outputs": [],
   "source": [
    "fig = monthly_plot.get_figure()\n",
    "fig.savefig('img/monthly_doses_by_place_germany.png')"
   ]
  }
 ],
 "metadata": {
  "kernelspec": {
   "display_name": "Python 3",
   "language": "python",
   "name": "python3"
  },
  "language_info": {
   "codemirror_mode": {
    "name": "ipython",
    "version": 3
   },
   "file_extension": ".py",
   "mimetype": "text/x-python",
   "name": "python",
   "nbconvert_exporter": "python",
   "pygments_lexer": "ipython3",
   "version": "3.8.5"
  }
 },
 "nbformat": 4,
 "nbformat_minor": 4
}

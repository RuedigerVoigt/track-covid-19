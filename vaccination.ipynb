{
 "cells": [
  {
   "cell_type": "markdown",
   "metadata": {},
   "source": [
    "# Covid-19 Vaccination Campaign in Germany"
   ]
  },
  {
   "cell_type": "markdown",
   "metadata": {},
   "source": [
    "The data used here were provided by \n",
    "[Robert Koch Institute](https://www.rki.de) and the [German federal ministry of Health](https://www.bundesgesundheitsministerium.de/).\n",
    "\n",
    "These institutions publish the datasets and some analysis on the page [impfdashboard.de](https://impfdashboard.de/)."
   ]
  },
  {
   "cell_type": "markdown",
   "metadata": {},
   "source": [
    "## Setup"
   ]
  },
  {
   "cell_type": "markdown",
   "metadata": {},
   "source": [
    "### Imports"
   ]
  },
  {
   "cell_type": "code",
   "execution_count": 1,
   "metadata": {},
   "outputs": [],
   "source": [
    "# standard library\n",
    "import datetime\n",
    "import math"
   ]
  },
  {
   "cell_type": "code",
   "execution_count": 2,
   "metadata": {},
   "outputs": [],
   "source": [
    "# third party\n",
    "import numpy as np\n",
    "import pandas as pd\n",
    "import matplotlib.pyplot as plt\n",
    "import requests\n",
    "import seaborn"
   ]
  },
  {
   "cell_type": "markdown",
   "metadata": {},
   "source": [
    "### Date this Notebook was run"
   ]
  },
  {
   "cell_type": "code",
   "execution_count": 3,
   "metadata": {},
   "outputs": [
    {
     "data": {
      "text/plain": [
       "'2021-08-21'"
      ]
     },
     "execution_count": 3,
     "metadata": {},
     "output_type": "execute_result"
    }
   ],
   "source": [
    "today = datetime.datetime.today().strftime('%Y-%m-%d')\n",
    "today"
   ]
  },
  {
   "cell_type": "markdown",
   "metadata": {},
   "source": [
    "### Set Defaults"
   ]
  },
  {
   "cell_type": "code",
   "execution_count": 4,
   "metadata": {},
   "outputs": [],
   "source": [
    "# style like ggplot in R\n",
    "plt.style.use('ggplot')"
   ]
  },
  {
   "cell_type": "code",
   "execution_count": 5,
   "metadata": {},
   "outputs": [],
   "source": [
    "# Avoid cutting off part of the axis labels, see:\n",
    "# https://stackoverflow.com/questions/6774086/why-is-my-xlabel-cut-off-in-my-matplotlib-plot\n",
    "plt.rcParams.update({'figure.autolayout': True})"
   ]
  },
  {
   "cell_type": "code",
   "execution_count": 6,
   "metadata": {},
   "outputs": [],
   "source": [
    "population_germany = 83_200_000"
   ]
  },
  {
   "cell_type": "markdown",
   "metadata": {},
   "source": [
    "## Get and Transform Data"
   ]
  },
  {
   "cell_type": "code",
   "execution_count": 7,
   "metadata": {},
   "outputs": [],
   "source": [
    "vaccination_data_permalink = 'https://impfdashboard.de/static/data/germany_vaccinations_timeseries_v2.tsv'\n",
    "vaccinations = pd.read_csv(\n",
    "    vaccination_data_permalink,\n",
    "    sep=\"\\t\")"
   ]
  },
  {
   "cell_type": "markdown",
   "metadata": {},
   "source": [
    "### Drop unnecessary / misleading columns\n",
    "\n",
    "Columns with names starting with 'indikation_' will not be analyzed as the data providers stopped updating them."
   ]
  },
  {
   "cell_type": "code",
   "execution_count": 8,
   "metadata": {},
   "outputs": [],
   "source": [
    "cols_to_drop = vaccinations.columns[vaccinations.columns.str.contains('indikation_')]\n",
    "vaccinations.drop(columns=cols_to_drop, inplace=True)"
   ]
  },
  {
   "cell_type": "markdown",
   "metadata": {},
   "source": [
    "Some more columns can be dropped, as there is no interest in analyzing differences on a vaccine level - especially since in some cases vaccines were mixed."
   ]
  },
  {
   "cell_type": "code",
   "execution_count": 9,
   "metadata": {},
   "outputs": [],
   "source": [
    "more_cols_to_drop = ['dosen_biontech_erst_kumulativ', 'dosen_biontech_zweit_kumulativ', \n",
    "                    'dosen_moderna_erst_kumulativ', 'dosen_moderna_zweit_kumulativ',\n",
    "                    'dosen_astrazeneca_erst_kumulativ', 'dosen_astrazeneca_zweit_kumulativ']\n",
    "vaccinations.drop(columns=more_cols_to_drop, inplace=True)"
   ]
  },
  {
   "cell_type": "markdown",
   "metadata": {},
   "source": [
    "Some columns are labeled misleadingly. As stated by the data provider the columns `personen_erst_kumulativ` and `impf_quote_erst` contain people vaccinated with the Johnson & Johnson vaccine. As this requires only one shot. the same persons are included in `personen_voll_kumulativ`.\n",
    "Therefore more columns are dropped and recalculated later."
   ]
  },
  {
   "cell_type": "code",
   "execution_count": 10,
   "metadata": {},
   "outputs": [],
   "source": [
    "vaccinations.drop(columns=['impf_quote_erst', 'impf_quote_voll'], inplace=True)"
   ]
  },
  {
   "cell_type": "markdown",
   "metadata": {},
   "source": [
    "Convert datatype of date column"
   ]
  },
  {
   "cell_type": "code",
   "execution_count": 11,
   "metadata": {},
   "outputs": [],
   "source": [
    "vaccinations.iloc[ : , [0]] = vaccinations.iloc[ : , [0]].apply(pd.to_datetime)"
   ]
  },
  {
   "cell_type": "markdown",
   "metadata": {},
   "source": [
    "### Show Data"
   ]
  },
  {
   "cell_type": "code",
   "execution_count": 12,
   "metadata": {},
   "outputs": [
    {
     "name": "stdout",
     "output_type": "stream",
     "text": [
      "<class 'pandas.core.frame.DataFrame'>\n",
      "RangeIndex: 237 entries, 0 to 236\n",
      "Data columns (total 15 columns):\n",
      " #   Column                            Non-Null Count  Dtype         \n",
      "---  ------                            --------------  -----         \n",
      " 0   date                              237 non-null    datetime64[ns]\n",
      " 1   dosen_kumulativ                   237 non-null    int64         \n",
      " 2   dosen_differenz_zum_vortag        237 non-null    int64         \n",
      " 3   dosen_erst_differenz_zum_vortag   237 non-null    int64         \n",
      " 4   dosen_zweit_differenz_zum_vortag  237 non-null    int64         \n",
      " 5   dosen_biontech_kumulativ          237 non-null    int64         \n",
      " 6   dosen_moderna_kumulativ           237 non-null    int64         \n",
      " 7   dosen_astrazeneca_kumulativ       237 non-null    int64         \n",
      " 8   personen_erst_kumulativ           237 non-null    int64         \n",
      " 9   personen_voll_kumulativ           237 non-null    int64         \n",
      " 10  dosen_dim_kumulativ               237 non-null    int64         \n",
      " 11  dosen_kbv_kumulativ               237 non-null    int64         \n",
      " 12  dosen_johnson_kumulativ           237 non-null    int64         \n",
      " 13  dosen_erst_kumulativ              237 non-null    int64         \n",
      " 14  dosen_zweit_kumulativ             237 non-null    int64         \n",
      "dtypes: datetime64[ns](1), int64(14)\n",
      "memory usage: 27.9 KB\n"
     ]
    }
   ],
   "source": [
    "vaccinations.info()"
   ]
  },
  {
   "cell_type": "code",
   "execution_count": 13,
   "metadata": {},
   "outputs": [
    {
     "data": {
      "text/html": [
       "<div>\n",
       "<style scoped>\n",
       "    .dataframe tbody tr th:only-of-type {\n",
       "        vertical-align: middle;\n",
       "    }\n",
       "\n",
       "    .dataframe tbody tr th {\n",
       "        vertical-align: top;\n",
       "    }\n",
       "\n",
       "    .dataframe thead th {\n",
       "        text-align: right;\n",
       "    }\n",
       "</style>\n",
       "<table border=\"1\" class=\"dataframe\">\n",
       "  <thead>\n",
       "    <tr style=\"text-align: right;\">\n",
       "      <th></th>\n",
       "      <th>date</th>\n",
       "      <th>dosen_kumulativ</th>\n",
       "      <th>dosen_differenz_zum_vortag</th>\n",
       "      <th>dosen_erst_differenz_zum_vortag</th>\n",
       "      <th>dosen_zweit_differenz_zum_vortag</th>\n",
       "      <th>dosen_biontech_kumulativ</th>\n",
       "      <th>dosen_moderna_kumulativ</th>\n",
       "      <th>dosen_astrazeneca_kumulativ</th>\n",
       "      <th>personen_erst_kumulativ</th>\n",
       "      <th>personen_voll_kumulativ</th>\n",
       "      <th>dosen_dim_kumulativ</th>\n",
       "      <th>dosen_kbv_kumulativ</th>\n",
       "      <th>dosen_johnson_kumulativ</th>\n",
       "      <th>dosen_erst_kumulativ</th>\n",
       "      <th>dosen_zweit_kumulativ</th>\n",
       "    </tr>\n",
       "  </thead>\n",
       "  <tbody>\n",
       "    <tr>\n",
       "      <th>234</th>\n",
       "      <td>2021-08-18</td>\n",
       "      <td>98740390</td>\n",
       "      <td>414300</td>\n",
       "      <td>115268</td>\n",
       "      <td>299032</td>\n",
       "      <td>74357653</td>\n",
       "      <td>9118921</td>\n",
       "      <td>12601947</td>\n",
       "      <td>52960953</td>\n",
       "      <td>48441306</td>\n",
       "      <td>58757668</td>\n",
       "      <td>39798751</td>\n",
       "      <td>2661869</td>\n",
       "      <td>50299084</td>\n",
       "      <td>48441306</td>\n",
       "    </tr>\n",
       "    <tr>\n",
       "      <th>235</th>\n",
       "      <td>2021-08-19</td>\n",
       "      <td>99058091</td>\n",
       "      <td>317701</td>\n",
       "      <td>96008</td>\n",
       "      <td>221693</td>\n",
       "      <td>74630208</td>\n",
       "      <td>9143697</td>\n",
       "      <td>12606443</td>\n",
       "      <td>53072835</td>\n",
       "      <td>48662999</td>\n",
       "      <td>58901873</td>\n",
       "      <td>39969692</td>\n",
       "      <td>2677743</td>\n",
       "      <td>50395092</td>\n",
       "      <td>48662999</td>\n",
       "    </tr>\n",
       "    <tr>\n",
       "      <th>236</th>\n",
       "      <td>2021-08-20</td>\n",
       "      <td>99340944</td>\n",
       "      <td>282853</td>\n",
       "      <td>84981</td>\n",
       "      <td>197872</td>\n",
       "      <td>74873277</td>\n",
       "      <td>9163215</td>\n",
       "      <td>12611507</td>\n",
       "      <td>53173018</td>\n",
       "      <td>48860871</td>\n",
       "      <td>59016180</td>\n",
       "      <td>40138238</td>\n",
       "      <td>2692945</td>\n",
       "      <td>50480073</td>\n",
       "      <td>48860871</td>\n",
       "    </tr>\n",
       "  </tbody>\n",
       "</table>\n",
       "</div>"
      ],
      "text/plain": [
       "          date  dosen_kumulativ  dosen_differenz_zum_vortag  \\\n",
       "234 2021-08-18         98740390                      414300   \n",
       "235 2021-08-19         99058091                      317701   \n",
       "236 2021-08-20         99340944                      282853   \n",
       "\n",
       "     dosen_erst_differenz_zum_vortag  dosen_zweit_differenz_zum_vortag  \\\n",
       "234                           115268                            299032   \n",
       "235                            96008                            221693   \n",
       "236                            84981                            197872   \n",
       "\n",
       "     dosen_biontech_kumulativ  dosen_moderna_kumulativ  \\\n",
       "234                  74357653                  9118921   \n",
       "235                  74630208                  9143697   \n",
       "236                  74873277                  9163215   \n",
       "\n",
       "     dosen_astrazeneca_kumulativ  personen_erst_kumulativ  \\\n",
       "234                     12601947                 52960953   \n",
       "235                     12606443                 53072835   \n",
       "236                     12611507                 53173018   \n",
       "\n",
       "     personen_voll_kumulativ  dosen_dim_kumulativ  dosen_kbv_kumulativ  \\\n",
       "234                 48441306             58757668             39798751   \n",
       "235                 48662999             58901873             39969692   \n",
       "236                 48860871             59016180             40138238   \n",
       "\n",
       "     dosen_johnson_kumulativ  dosen_erst_kumulativ  dosen_zweit_kumulativ  \n",
       "234                  2661869              50299084               48441306  \n",
       "235                  2677743              50395092               48662999  \n",
       "236                  2692945              50480073               48860871  "
      ]
     },
     "execution_count": 13,
     "metadata": {},
     "output_type": "execute_result"
    }
   ],
   "source": [
    "vaccinations.tail(3)"
   ]
  },
  {
   "cell_type": "markdown",
   "metadata": {},
   "source": [
    "## Check Validity"
   ]
  },
  {
   "cell_type": "code",
   "execution_count": 14,
   "metadata": {},
   "outputs": [],
   "source": [
    "# get the last row / the newest available data\n",
    "last_row = vaccinations.tail(1)"
   ]
  },
  {
   "cell_type": "code",
   "execution_count": 15,
   "metadata": {},
   "outputs": [
    {
     "data": {
      "text/plain": [
       "236    99340944\n",
       "Name: dosen_kumulativ, dtype: int64"
      ]
     },
     "execution_count": 15,
     "metadata": {},
     "output_type": "execute_result"
    }
   ],
   "source": [
    "doses_used = last_row['dosen_kumulativ']\n",
    "doses_used"
   ]
  },
  {
   "cell_type": "code",
   "execution_count": 16,
   "metadata": {},
   "outputs": [],
   "source": [
    "# The number of person having been vaccinated at least once, includes those fully vaccinated\n",
    "at_least_once = last_row['personen_erst_kumulativ']\n",
    "fully_vaccinated_people = last_row['personen_voll_kumulativ']\n",
    "partially_vaccinated_people = at_least_once - fully_vaccinated_people\n",
    "# The johnson & Johnson vaccine is the only one used in Germany that only needs a single shot:\n",
    "johnson_doses = last_row['dosen_johnson_kumulativ']"
   ]
  },
  {
   "cell_type": "code",
   "execution_count": 17,
   "metadata": {},
   "outputs": [
    {
     "data": {
      "text/plain": [
       "236    True\n",
       "dtype: bool"
      ]
     },
     "execution_count": 17,
     "metadata": {},
     "output_type": "execute_result"
    }
   ],
   "source": [
    "# Must be exactly 0\n",
    "doses_used - partially_vaccinated_people - (fully_vaccinated_people - johnson_doses) * 2 - johnson_doses ==  0"
   ]
  },
  {
   "cell_type": "markdown",
   "metadata": {},
   "source": [
    "## Calculate columns"
   ]
  },
  {
   "cell_type": "code",
   "execution_count": 18,
   "metadata": {},
   "outputs": [],
   "source": [
    "vaccinations['partly vaccinated'] = round(\n",
    "    (vaccinations['personen_erst_kumulativ'] - vaccinations['personen_voll_kumulativ']) * 100 / population_germany,\n",
    "    2)"
   ]
  },
  {
   "cell_type": "code",
   "execution_count": 19,
   "metadata": {},
   "outputs": [],
   "source": [
    "vaccinations['fully vaccinated'] = round(\n",
    "    vaccinations['personen_voll_kumulativ'] * 100 / population_germany,\n",
    "    2)"
   ]
  },
  {
   "cell_type": "code",
   "execution_count": 20,
   "metadata": {},
   "outputs": [
    {
     "name": "stdout",
     "output_type": "stream",
     "text": [
      "<class 'pandas.core.frame.DataFrame'>\n",
      "RangeIndex: 237 entries, 0 to 236\n",
      "Data columns (total 17 columns):\n",
      " #   Column                            Non-Null Count  Dtype         \n",
      "---  ------                            --------------  -----         \n",
      " 0   date                              237 non-null    datetime64[ns]\n",
      " 1   dosen_kumulativ                   237 non-null    int64         \n",
      " 2   dosen_differenz_zum_vortag        237 non-null    int64         \n",
      " 3   dosen_erst_differenz_zum_vortag   237 non-null    int64         \n",
      " 4   dosen_zweit_differenz_zum_vortag  237 non-null    int64         \n",
      " 5   dosen_biontech_kumulativ          237 non-null    int64         \n",
      " 6   dosen_moderna_kumulativ           237 non-null    int64         \n",
      " 7   dosen_astrazeneca_kumulativ       237 non-null    int64         \n",
      " 8   personen_erst_kumulativ           237 non-null    int64         \n",
      " 9   personen_voll_kumulativ           237 non-null    int64         \n",
      " 10  dosen_dim_kumulativ               237 non-null    int64         \n",
      " 11  dosen_kbv_kumulativ               237 non-null    int64         \n",
      " 12  dosen_johnson_kumulativ           237 non-null    int64         \n",
      " 13  dosen_erst_kumulativ              237 non-null    int64         \n",
      " 14  dosen_zweit_kumulativ             237 non-null    int64         \n",
      " 15  partly vaccinated                 237 non-null    float64       \n",
      " 16  fully vaccinated                  237 non-null    float64       \n",
      "dtypes: datetime64[ns](1), float64(2), int64(14)\n",
      "memory usage: 31.6 KB\n"
     ]
    }
   ],
   "source": [
    "vaccinations.info()"
   ]
  },
  {
   "cell_type": "code",
   "execution_count": 21,
   "metadata": {},
   "outputs": [
    {
     "data": {
      "text/html": [
       "<div>\n",
       "<style scoped>\n",
       "    .dataframe tbody tr th:only-of-type {\n",
       "        vertical-align: middle;\n",
       "    }\n",
       "\n",
       "    .dataframe tbody tr th {\n",
       "        vertical-align: top;\n",
       "    }\n",
       "\n",
       "    .dataframe thead th {\n",
       "        text-align: right;\n",
       "    }\n",
       "</style>\n",
       "<table border=\"1\" class=\"dataframe\">\n",
       "  <thead>\n",
       "    <tr style=\"text-align: right;\">\n",
       "      <th></th>\n",
       "      <th>date</th>\n",
       "      <th>dosen_kumulativ</th>\n",
       "      <th>dosen_differenz_zum_vortag</th>\n",
       "      <th>dosen_erst_differenz_zum_vortag</th>\n",
       "      <th>dosen_zweit_differenz_zum_vortag</th>\n",
       "      <th>dosen_biontech_kumulativ</th>\n",
       "      <th>dosen_moderna_kumulativ</th>\n",
       "      <th>dosen_astrazeneca_kumulativ</th>\n",
       "      <th>personen_erst_kumulativ</th>\n",
       "      <th>personen_voll_kumulativ</th>\n",
       "      <th>dosen_dim_kumulativ</th>\n",
       "      <th>dosen_kbv_kumulativ</th>\n",
       "      <th>dosen_johnson_kumulativ</th>\n",
       "      <th>dosen_erst_kumulativ</th>\n",
       "      <th>dosen_zweit_kumulativ</th>\n",
       "      <th>partly vaccinated</th>\n",
       "      <th>fully vaccinated</th>\n",
       "    </tr>\n",
       "  </thead>\n",
       "  <tbody>\n",
       "    <tr>\n",
       "      <th>234</th>\n",
       "      <td>2021-08-18</td>\n",
       "      <td>98740390</td>\n",
       "      <td>414300</td>\n",
       "      <td>115268</td>\n",
       "      <td>299032</td>\n",
       "      <td>74357653</td>\n",
       "      <td>9118921</td>\n",
       "      <td>12601947</td>\n",
       "      <td>52960953</td>\n",
       "      <td>48441306</td>\n",
       "      <td>58757668</td>\n",
       "      <td>39798751</td>\n",
       "      <td>2661869</td>\n",
       "      <td>50299084</td>\n",
       "      <td>48441306</td>\n",
       "      <td>5.43</td>\n",
       "      <td>58.22</td>\n",
       "    </tr>\n",
       "    <tr>\n",
       "      <th>235</th>\n",
       "      <td>2021-08-19</td>\n",
       "      <td>99058091</td>\n",
       "      <td>317701</td>\n",
       "      <td>96008</td>\n",
       "      <td>221693</td>\n",
       "      <td>74630208</td>\n",
       "      <td>9143697</td>\n",
       "      <td>12606443</td>\n",
       "      <td>53072835</td>\n",
       "      <td>48662999</td>\n",
       "      <td>58901873</td>\n",
       "      <td>39969692</td>\n",
       "      <td>2677743</td>\n",
       "      <td>50395092</td>\n",
       "      <td>48662999</td>\n",
       "      <td>5.30</td>\n",
       "      <td>58.49</td>\n",
       "    </tr>\n",
       "    <tr>\n",
       "      <th>236</th>\n",
       "      <td>2021-08-20</td>\n",
       "      <td>99340944</td>\n",
       "      <td>282853</td>\n",
       "      <td>84981</td>\n",
       "      <td>197872</td>\n",
       "      <td>74873277</td>\n",
       "      <td>9163215</td>\n",
       "      <td>12611507</td>\n",
       "      <td>53173018</td>\n",
       "      <td>48860871</td>\n",
       "      <td>59016180</td>\n",
       "      <td>40138238</td>\n",
       "      <td>2692945</td>\n",
       "      <td>50480073</td>\n",
       "      <td>48860871</td>\n",
       "      <td>5.18</td>\n",
       "      <td>58.73</td>\n",
       "    </tr>\n",
       "  </tbody>\n",
       "</table>\n",
       "</div>"
      ],
      "text/plain": [
       "          date  dosen_kumulativ  dosen_differenz_zum_vortag  \\\n",
       "234 2021-08-18         98740390                      414300   \n",
       "235 2021-08-19         99058091                      317701   \n",
       "236 2021-08-20         99340944                      282853   \n",
       "\n",
       "     dosen_erst_differenz_zum_vortag  dosen_zweit_differenz_zum_vortag  \\\n",
       "234                           115268                            299032   \n",
       "235                            96008                            221693   \n",
       "236                            84981                            197872   \n",
       "\n",
       "     dosen_biontech_kumulativ  dosen_moderna_kumulativ  \\\n",
       "234                  74357653                  9118921   \n",
       "235                  74630208                  9143697   \n",
       "236                  74873277                  9163215   \n",
       "\n",
       "     dosen_astrazeneca_kumulativ  personen_erst_kumulativ  \\\n",
       "234                     12601947                 52960953   \n",
       "235                     12606443                 53072835   \n",
       "236                     12611507                 53173018   \n",
       "\n",
       "     personen_voll_kumulativ  dosen_dim_kumulativ  dosen_kbv_kumulativ  \\\n",
       "234                 48441306             58757668             39798751   \n",
       "235                 48662999             58901873             39969692   \n",
       "236                 48860871             59016180             40138238   \n",
       "\n",
       "     dosen_johnson_kumulativ  dosen_erst_kumulativ  dosen_zweit_kumulativ  \\\n",
       "234                  2661869              50299084               48441306   \n",
       "235                  2677743              50395092               48662999   \n",
       "236                  2692945              50480073               48860871   \n",
       "\n",
       "     partly vaccinated  fully vaccinated  \n",
       "234               5.43             58.22  \n",
       "235               5.30             58.49  \n",
       "236               5.18             58.73  "
      ]
     },
     "execution_count": 21,
     "metadata": {},
     "output_type": "execute_result"
    }
   ],
   "source": [
    "vaccinations.tail(3)"
   ]
  },
  {
   "cell_type": "markdown",
   "metadata": {},
   "source": [
    "### Last Update\n",
    "\n",
    "Often the data is not updated on weekends, so get the highest date in the dataset."
   ]
  },
  {
   "cell_type": "code",
   "execution_count": 22,
   "metadata": {},
   "outputs": [
    {
     "data": {
      "text/plain": [
       "'2021-08-20'"
      ]
     },
     "execution_count": 22,
     "metadata": {},
     "output_type": "execute_result"
    }
   ],
   "source": [
    "last_update = vaccinations.loc[vaccinations.index[-1], \"date\"].strftime('%Y-%m-%d')\n",
    "last_update"
   ]
  },
  {
   "cell_type": "markdown",
   "metadata": {},
   "source": [
    "## Doses Used"
   ]
  },
  {
   "cell_type": "code",
   "execution_count": 23,
   "metadata": {},
   "outputs": [],
   "source": [
    "doses = vaccinations.loc[ : , ['date', 'dosen_differenz_zum_vortag']]\n",
    "# Rename columns\n",
    "doses.columns = ['date', 'doses used']"
   ]
  },
  {
   "cell_type": "code",
   "execution_count": 24,
   "metadata": {},
   "outputs": [],
   "source": [
    "# Scale number of doses as millions\n",
    "doses['doses used'] = doses['doses used'] / 1_000_000"
   ]
  },
  {
   "cell_type": "markdown",
   "metadata": {},
   "source": [
    "### Doses Daily"
   ]
  },
  {
   "cell_type": "code",
   "execution_count": 25,
   "metadata": {},
   "outputs": [
    {
     "data": {
      "text/html": [
       "<div>\n",
       "<style scoped>\n",
       "    .dataframe tbody tr th:only-of-type {\n",
       "        vertical-align: middle;\n",
       "    }\n",
       "\n",
       "    .dataframe tbody tr th {\n",
       "        vertical-align: top;\n",
       "    }\n",
       "\n",
       "    .dataframe thead th {\n",
       "        text-align: right;\n",
       "    }\n",
       "</style>\n",
       "<table border=\"1\" class=\"dataframe\">\n",
       "  <thead>\n",
       "    <tr style=\"text-align: right;\">\n",
       "      <th></th>\n",
       "      <th>doses used</th>\n",
       "    </tr>\n",
       "    <tr>\n",
       "      <th>date</th>\n",
       "      <th></th>\n",
       "    </tr>\n",
       "  </thead>\n",
       "  <tbody>\n",
       "    <tr>\n",
       "      <th>2021-08-20</th>\n",
       "      <td>0.282853</td>\n",
       "    </tr>\n",
       "  </tbody>\n",
       "</table>\n",
       "</div>"
      ],
      "text/plain": [
       "            doses used\n",
       "date                  \n",
       "2021-08-20    0.282853"
      ]
     },
     "execution_count": 25,
     "metadata": {},
     "output_type": "execute_result"
    }
   ],
   "source": [
    "doses_daily = doses.set_index('date', inplace=False)\n",
    "doses_daily.tail(1)"
   ]
  },
  {
   "cell_type": "code",
   "execution_count": 26,
   "metadata": {},
   "outputs": [
    {
     "data": {
      "text/plain": [
       "1.424032"
      ]
     },
     "execution_count": 26,
     "metadata": {},
     "output_type": "execute_result"
    }
   ],
   "source": [
    "# What is the highest number of doses used in a day?\n",
    "max_doses_daily = max(doses_daily['doses used'])\n",
    "max_doses_daily"
   ]
  },
  {
   "cell_type": "code",
   "execution_count": 27,
   "metadata": {},
   "outputs": [
    {
     "data": {
      "text/plain": [
       "<AxesSubplot:title={'center':'VACCINATION DOSES PER DAY IN GERMANY'}, xlabel='Date', ylabel='Million Doses'>"
      ]
     },
     "execution_count": 27,
     "metadata": {},
     "output_type": "execute_result"
    },
    {
     "data": {
      "image/png": "[encoded data removed]",
      "text/plain": [
       "<Figure size 432x288 with 1 Axes>"
      ]
     },
     "metadata": {},
     "output_type": "display_data"
    }
   ],
   "source": [
    "doses_daily.plot(\n",
    "    ylim=(0,math.ceil(max_doses_daily)),\n",
    "    xlabel='Date',\n",
    "    ylabel='Million Doses',\n",
    "    title='VACCINATION DOSES PER DAY IN GERMANY')"
   ]
  },
  {
   "cell_type": "markdown",
   "metadata": {},
   "source": [
    "### Doses per Weekday (in the last 6 weeks)"
   ]
  },
  {
   "cell_type": "code",
   "execution_count": 28,
   "metadata": {},
   "outputs": [],
   "source": [
    "last_6_weeks = doses.tail(42)"
   ]
  },
  {
   "cell_type": "code",
   "execution_count": 29,
   "metadata": {},
   "outputs": [
    {
     "name": "stderr",
     "output_type": "stream",
     "text": [
      "<ipython-input-29-45013977109e>:3: SettingWithCopyWarning: \n",
      "A value is trying to be set on a copy of a slice from a DataFrame.\n",
      "Try using .loc[row_indexer,col_indexer] = value instead\n",
      "\n",
      "See the caveats in the documentation: https://pandas.pydata.org/pandas-docs/stable/user_guide/indexing.html#returning-a-view-versus-a-copy\n",
      "  last_6_weeks['weekday'] = last_6_weeks['date'].dt.day_name()\n"
     ]
    }
   ],
   "source": [
    "# Yields a warning, but exactly like the docs prescribe and it works\n",
    "# https://pandas.pydata.org/docs/getting_started/intro_tutorials/05_add_columns.html\n",
    "last_6_weeks['weekday'] = last_6_weeks['date'].dt.day_name()"
   ]
  },
  {
   "cell_type": "code",
   "execution_count": 30,
   "metadata": {},
   "outputs": [
    {
     "data": {
      "text/html": [
       "<div>\n",
       "<style scoped>\n",
       "    .dataframe tbody tr th:only-of-type {\n",
       "        vertical-align: middle;\n",
       "    }\n",
       "\n",
       "    .dataframe tbody tr th {\n",
       "        vertical-align: top;\n",
       "    }\n",
       "\n",
       "    .dataframe thead th {\n",
       "        text-align: right;\n",
       "    }\n",
       "</style>\n",
       "<table border=\"1\" class=\"dataframe\">\n",
       "  <thead>\n",
       "    <tr style=\"text-align: right;\">\n",
       "      <th></th>\n",
       "      <th>date</th>\n",
       "      <th>doses used</th>\n",
       "      <th>weekday</th>\n",
       "    </tr>\n",
       "  </thead>\n",
       "  <tbody>\n",
       "    <tr>\n",
       "      <th>234</th>\n",
       "      <td>2021-08-18</td>\n",
       "      <td>0.414300</td>\n",
       "      <td>Wednesday</td>\n",
       "    </tr>\n",
       "    <tr>\n",
       "      <th>235</th>\n",
       "      <td>2021-08-19</td>\n",
       "      <td>0.317701</td>\n",
       "      <td>Thursday</td>\n",
       "    </tr>\n",
       "    <tr>\n",
       "      <th>236</th>\n",
       "      <td>2021-08-20</td>\n",
       "      <td>0.282853</td>\n",
       "      <td>Friday</td>\n",
       "    </tr>\n",
       "  </tbody>\n",
       "</table>\n",
       "</div>"
      ],
      "text/plain": [
       "          date  doses used    weekday\n",
       "234 2021-08-18    0.414300  Wednesday\n",
       "235 2021-08-19    0.317701   Thursday\n",
       "236 2021-08-20    0.282853     Friday"
      ]
     },
     "execution_count": 30,
     "metadata": {},
     "output_type": "execute_result"
    }
   ],
   "source": [
    "# check:\n",
    "last_6_weeks.tail(3)"
   ]
  },
  {
   "cell_type": "code",
   "execution_count": 31,
   "metadata": {},
   "outputs": [],
   "source": [
    "# drop the date column\n",
    "last_6_weeks = last_6_weeks.drop(labels=['date'], axis=1)"
   ]
  },
  {
   "cell_type": "code",
   "execution_count": 32,
   "metadata": {},
   "outputs": [
    {
     "data": {
      "text/html": [
       "<div>\n",
       "<style scoped>\n",
       "    .dataframe tbody tr th:only-of-type {\n",
       "        vertical-align: middle;\n",
       "    }\n",
       "\n",
       "    .dataframe tbody tr th {\n",
       "        vertical-align: top;\n",
       "    }\n",
       "\n",
       "    .dataframe thead th {\n",
       "        text-align: right;\n",
       "    }\n",
       "</style>\n",
       "<table border=\"1\" class=\"dataframe\">\n",
       "  <thead>\n",
       "    <tr style=\"text-align: right;\">\n",
       "      <th></th>\n",
       "      <th>doses used</th>\n",
       "      <th>weekday</th>\n",
       "    </tr>\n",
       "  </thead>\n",
       "  <tbody>\n",
       "    <tr>\n",
       "      <th>234</th>\n",
       "      <td>0.414300</td>\n",
       "      <td>Wednesday</td>\n",
       "    </tr>\n",
       "    <tr>\n",
       "      <th>235</th>\n",
       "      <td>0.317701</td>\n",
       "      <td>Thursday</td>\n",
       "    </tr>\n",
       "    <tr>\n",
       "      <th>236</th>\n",
       "      <td>0.282853</td>\n",
       "      <td>Friday</td>\n",
       "    </tr>\n",
       "  </tbody>\n",
       "</table>\n",
       "</div>"
      ],
      "text/plain": [
       "     doses used    weekday\n",
       "234    0.414300  Wednesday\n",
       "235    0.317701   Thursday\n",
       "236    0.282853     Friday"
      ]
     },
     "execution_count": 32,
     "metadata": {},
     "output_type": "execute_result"
    }
   ],
   "source": [
    "#last_6_weeks.set_index('weekday', inplace=True)\n",
    "last_6_weeks.tail(3)"
   ]
  },
  {
   "cell_type": "code",
   "execution_count": 33,
   "metadata": {},
   "outputs": [
    {
     "data": {
      "text/html": [
       "<div>\n",
       "<style scoped>\n",
       "    .dataframe tbody tr th:only-of-type {\n",
       "        vertical-align: middle;\n",
       "    }\n",
       "\n",
       "    .dataframe tbody tr th {\n",
       "        vertical-align: top;\n",
       "    }\n",
       "\n",
       "    .dataframe thead th {\n",
       "        text-align: right;\n",
       "    }\n",
       "</style>\n",
       "<table border=\"1\" class=\"dataframe\">\n",
       "  <thead>\n",
       "    <tr style=\"text-align: right;\">\n",
       "      <th>weekday</th>\n",
       "      <th>Friday</th>\n",
       "      <th>Monday</th>\n",
       "      <th>Saturday</th>\n",
       "      <th>Sunday</th>\n",
       "      <th>Thursday</th>\n",
       "      <th>Tuesday</th>\n",
       "      <th>Wednesday</th>\n",
       "    </tr>\n",
       "  </thead>\n",
       "  <tbody>\n",
       "    <tr>\n",
       "      <th>232</th>\n",
       "      <td>NaN</td>\n",
       "      <td>0.262317</td>\n",
       "      <td>NaN</td>\n",
       "      <td>NaN</td>\n",
       "      <td>NaN</td>\n",
       "      <td>NaN</td>\n",
       "      <td>NaN</td>\n",
       "    </tr>\n",
       "    <tr>\n",
       "      <th>233</th>\n",
       "      <td>NaN</td>\n",
       "      <td>NaN</td>\n",
       "      <td>NaN</td>\n",
       "      <td>NaN</td>\n",
       "      <td>NaN</td>\n",
       "      <td>0.355608</td>\n",
       "      <td>NaN</td>\n",
       "    </tr>\n",
       "    <tr>\n",
       "      <th>234</th>\n",
       "      <td>NaN</td>\n",
       "      <td>NaN</td>\n",
       "      <td>NaN</td>\n",
       "      <td>NaN</td>\n",
       "      <td>NaN</td>\n",
       "      <td>NaN</td>\n",
       "      <td>0.4143</td>\n",
       "    </tr>\n",
       "    <tr>\n",
       "      <th>235</th>\n",
       "      <td>NaN</td>\n",
       "      <td>NaN</td>\n",
       "      <td>NaN</td>\n",
       "      <td>NaN</td>\n",
       "      <td>0.317701</td>\n",
       "      <td>NaN</td>\n",
       "      <td>NaN</td>\n",
       "    </tr>\n",
       "    <tr>\n",
       "      <th>236</th>\n",
       "      <td>0.282853</td>\n",
       "      <td>NaN</td>\n",
       "      <td>NaN</td>\n",
       "      <td>NaN</td>\n",
       "      <td>NaN</td>\n",
       "      <td>NaN</td>\n",
       "      <td>NaN</td>\n",
       "    </tr>\n",
       "  </tbody>\n",
       "</table>\n",
       "</div>"
      ],
      "text/plain": [
       "weekday    Friday    Monday  Saturday  Sunday  Thursday   Tuesday  Wednesday\n",
       "232           NaN  0.262317       NaN     NaN       NaN       NaN        NaN\n",
       "233           NaN       NaN       NaN     NaN       NaN  0.355608        NaN\n",
       "234           NaN       NaN       NaN     NaN       NaN       NaN     0.4143\n",
       "235           NaN       NaN       NaN     NaN  0.317701       NaN        NaN\n",
       "236      0.282853       NaN       NaN     NaN       NaN       NaN        NaN"
      ]
     },
     "execution_count": 33,
     "metadata": {},
     "output_type": "execute_result"
    }
   ],
   "source": [
    "pivot_table =last_6_weeks.pivot(columns='weekday', values='doses used')\n",
    "pivot_table.tail()"
   ]
  },
  {
   "cell_type": "code",
   "execution_count": 34,
   "metadata": {},
   "outputs": [
    {
     "data": {
      "text/html": [
       "<div>\n",
       "<style scoped>\n",
       "    .dataframe tbody tr th:only-of-type {\n",
       "        vertical-align: middle;\n",
       "    }\n",
       "\n",
       "    .dataframe tbody tr th {\n",
       "        vertical-align: top;\n",
       "    }\n",
       "\n",
       "    .dataframe thead th {\n",
       "        text-align: right;\n",
       "    }\n",
       "</style>\n",
       "<table border=\"1\" class=\"dataframe\">\n",
       "  <thead>\n",
       "    <tr style=\"text-align: right;\">\n",
       "      <th></th>\n",
       "      <th>Mo</th>\n",
       "      <th>Tue</th>\n",
       "      <th>Wed</th>\n",
       "      <th>Thu</th>\n",
       "      <th>Fri</th>\n",
       "      <th>Sat</th>\n",
       "      <th>Sun</th>\n",
       "    </tr>\n",
       "  </thead>\n",
       "  <tbody>\n",
       "    <tr>\n",
       "      <th>232</th>\n",
       "      <td>0.262317</td>\n",
       "      <td>NaN</td>\n",
       "      <td>NaN</td>\n",
       "      <td>NaN</td>\n",
       "      <td>NaN</td>\n",
       "      <td>NaN</td>\n",
       "      <td>NaN</td>\n",
       "    </tr>\n",
       "    <tr>\n",
       "      <th>233</th>\n",
       "      <td>NaN</td>\n",
       "      <td>0.355608</td>\n",
       "      <td>NaN</td>\n",
       "      <td>NaN</td>\n",
       "      <td>NaN</td>\n",
       "      <td>NaN</td>\n",
       "      <td>NaN</td>\n",
       "    </tr>\n",
       "    <tr>\n",
       "      <th>234</th>\n",
       "      <td>NaN</td>\n",
       "      <td>NaN</td>\n",
       "      <td>0.4143</td>\n",
       "      <td>NaN</td>\n",
       "      <td>NaN</td>\n",
       "      <td>NaN</td>\n",
       "      <td>NaN</td>\n",
       "    </tr>\n",
       "    <tr>\n",
       "      <th>235</th>\n",
       "      <td>NaN</td>\n",
       "      <td>NaN</td>\n",
       "      <td>NaN</td>\n",
       "      <td>0.317701</td>\n",
       "      <td>NaN</td>\n",
       "      <td>NaN</td>\n",
       "      <td>NaN</td>\n",
       "    </tr>\n",
       "    <tr>\n",
       "      <th>236</th>\n",
       "      <td>NaN</td>\n",
       "      <td>NaN</td>\n",
       "      <td>NaN</td>\n",
       "      <td>NaN</td>\n",
       "      <td>0.282853</td>\n",
       "      <td>NaN</td>\n",
       "      <td>NaN</td>\n",
       "    </tr>\n",
       "  </tbody>\n",
       "</table>\n",
       "</div>"
      ],
      "text/plain": [
       "           Mo       Tue     Wed       Thu       Fri  Sat  Sun\n",
       "232  0.262317       NaN     NaN       NaN       NaN  NaN  NaN\n",
       "233       NaN  0.355608     NaN       NaN       NaN  NaN  NaN\n",
       "234       NaN       NaN  0.4143       NaN       NaN  NaN  NaN\n",
       "235       NaN       NaN     NaN  0.317701       NaN  NaN  NaN\n",
       "236       NaN       NaN     NaN       NaN  0.282853  NaN  NaN"
      ]
     },
     "execution_count": 34,
     "metadata": {},
     "output_type": "execute_result"
    }
   ],
   "source": [
    "# Reorder the columns\n",
    "pivot_table = pivot_table[['Monday', 'Tuesday', 'Wednesday', 'Thursday', 'Friday', 'Saturday', 'Sunday']]\n",
    "# Rename the columns\n",
    "pivot_table.columns=['Mo', 'Tue', 'Wed', 'Thu', 'Fri', 'Sat', 'Sun']\n",
    "pivot_table.tail()"
   ]
  },
  {
   "cell_type": "code",
   "execution_count": 35,
   "metadata": {},
   "outputs": [
    {
     "data": {
      "image/png": "[encoded data removed]",
      "text/plain": [
       "<Figure size 432x288 with 1 Axes>"
      ]
     },
     "metadata": {},
     "output_type": "display_data"
    }
   ],
   "source": [
    "weekday_boxplot = pivot_table.boxplot()"
   ]
  },
  {
   "cell_type": "code",
   "execution_count": 36,
   "metadata": {},
   "outputs": [],
   "source": [
    "fig = weekday_boxplot.get_figure()\n",
    "fig.savefig('img/weekday_boxplot.png')"
   ]
  },
  {
   "cell_type": "markdown",
   "metadata": {},
   "source": [
    "### Doses per Week"
   ]
  },
  {
   "cell_type": "code",
   "execution_count": 37,
   "metadata": {},
   "outputs": [
    {
     "data": {
      "text/html": [
       "<div>\n",
       "<style scoped>\n",
       "    .dataframe tbody tr th:only-of-type {\n",
       "        vertical-align: middle;\n",
       "    }\n",
       "\n",
       "    .dataframe tbody tr th {\n",
       "        vertical-align: top;\n",
       "    }\n",
       "\n",
       "    .dataframe thead th {\n",
       "        text-align: right;\n",
       "    }\n",
       "</style>\n",
       "<table border=\"1\" class=\"dataframe\">\n",
       "  <thead>\n",
       "    <tr style=\"text-align: right;\">\n",
       "      <th></th>\n",
       "      <th>million doses used</th>\n",
       "    </tr>\n",
       "    <tr>\n",
       "      <th>date</th>\n",
       "      <th></th>\n",
       "    </tr>\n",
       "  </thead>\n",
       "  <tbody>\n",
       "    <tr>\n",
       "      <th>2021-07-26</th>\n",
       "      <td>3.220431</td>\n",
       "    </tr>\n",
       "    <tr>\n",
       "      <th>2021-08-02</th>\n",
       "      <td>2.906494</td>\n",
       "    </tr>\n",
       "    <tr>\n",
       "      <th>2021-08-09</th>\n",
       "      <td>2.569250</td>\n",
       "    </tr>\n",
       "    <tr>\n",
       "      <th>2021-08-16</th>\n",
       "      <td>2.422118</td>\n",
       "    </tr>\n",
       "    <tr>\n",
       "      <th>2021-08-23</th>\n",
       "      <td>1.370462</td>\n",
       "    </tr>\n",
       "  </tbody>\n",
       "</table>\n",
       "</div>"
      ],
      "text/plain": [
       "            million doses used\n",
       "date                          \n",
       "2021-07-26            3.220431\n",
       "2021-08-02            2.906494\n",
       "2021-08-09            2.569250\n",
       "2021-08-16            2.422118\n",
       "2021-08-23            1.370462"
      ]
     },
     "execution_count": 37,
     "metadata": {},
     "output_type": "execute_result"
    }
   ],
   "source": [
    "# W-Mon in order to start the week on a Monday, see:\n",
    "# https://pandas.pydata.org/pandas-docs/stable/user_guide/timeseries.html#anchored-offsets\n",
    "doses_weekly = doses.groupby(pd.Grouper(key='date',freq='W-Mon')).sum()\n",
    "doses_weekly.columns = ['million doses used']\n",
    "doses_weekly.tail()"
   ]
  },
  {
   "cell_type": "code",
   "execution_count": 38,
   "metadata": {},
   "outputs": [
    {
     "data": {
      "text/plain": [
       "6.1072180000000005"
      ]
     },
     "execution_count": 38,
     "metadata": {},
     "output_type": "execute_result"
    }
   ],
   "source": [
    "# What is the highest number of doses used in a week?\n",
    "max_million_doses_weekly = max(doses_weekly['million doses used'])\n",
    "max_million_doses_weekly"
   ]
  },
  {
   "cell_type": "code",
   "execution_count": 39,
   "metadata": {},
   "outputs": [
    {
     "data": {
      "text/plain": [
       "<AxesSubplot:title={'center':'VACCINATION DOSES PER WEEK IN GERMANY\\n(until 2021-08-20)'}, xlabel='Date', ylabel='Million Doses'>"
      ]
     },
     "execution_count": 39,
     "metadata": {},
     "output_type": "execute_result"
    },
    {
     "data": {
      "image/png": "[encoded data removed]",
      "text/plain": [
       "<Figure size 432x288 with 1 Axes>"
      ]
     },
     "metadata": {},
     "output_type": "display_data"
    }
   ],
   "source": [
    "doses_weekly.plot(\n",
    "    ylim=(0, math.ceil(max_million_doses_weekly)),\n",
    "    xlabel='Date',\n",
    "    ylabel='Million Doses',\n",
    "    title=f\"VACCINATION DOSES PER WEEK IN GERMANY\\n(until {last_update})\")"
   ]
  },
  {
   "cell_type": "markdown",
   "metadata": {},
   "source": [
    "### Doses per Month"
   ]
  },
  {
   "cell_type": "code",
   "execution_count": 40,
   "metadata": {},
   "outputs": [
    {
     "data": {
      "text/html": [
       "<div>\n",
       "<style scoped>\n",
       "    .dataframe tbody tr th:only-of-type {\n",
       "        vertical-align: middle;\n",
       "    }\n",
       "\n",
       "    .dataframe tbody tr th {\n",
       "        vertical-align: top;\n",
       "    }\n",
       "\n",
       "    .dataframe thead th {\n",
       "        text-align: right;\n",
       "    }\n",
       "</style>\n",
       "<table border=\"1\" class=\"dataframe\">\n",
       "  <thead>\n",
       "    <tr style=\"text-align: right;\">\n",
       "      <th></th>\n",
       "      <th>doses used</th>\n",
       "    </tr>\n",
       "    <tr>\n",
       "      <th>date</th>\n",
       "      <th></th>\n",
       "    </tr>\n",
       "  </thead>\n",
       "  <tbody>\n",
       "    <tr>\n",
       "      <th>2021-04-30</th>\n",
       "      <td>15.535945</td>\n",
       "    </tr>\n",
       "    <tr>\n",
       "      <th>2021-05-31</th>\n",
       "      <td>21.024700</td>\n",
       "    </tr>\n",
       "    <tr>\n",
       "      <th>2021-06-30</th>\n",
       "      <td>24.690596</td>\n",
       "    </tr>\n",
       "    <tr>\n",
       "      <th>2021-07-31</th>\n",
       "      <td>17.171329</td>\n",
       "    </tr>\n",
       "    <tr>\n",
       "      <th>2021-08-31</th>\n",
       "      <td>6.769928</td>\n",
       "    </tr>\n",
       "  </tbody>\n",
       "</table>\n",
       "</div>"
      ],
      "text/plain": [
       "            doses used\n",
       "date                  \n",
       "2021-04-30   15.535945\n",
       "2021-05-31   21.024700\n",
       "2021-06-30   24.690596\n",
       "2021-07-31   17.171329\n",
       "2021-08-31    6.769928"
      ]
     },
     "execution_count": 40,
     "metadata": {},
     "output_type": "execute_result"
    }
   ],
   "source": [
    "# M = month end frequency\n",
    "doses_monthly = doses.groupby(pd.Grouper(key='date',freq='M')).sum()\n",
    "doses_monthly.tail()"
   ]
  },
  {
   "cell_type": "code",
   "execution_count": 41,
   "metadata": {},
   "outputs": [
    {
     "data": {
      "text/html": [
       "<div>\n",
       "<style scoped>\n",
       "    .dataframe tbody tr th:only-of-type {\n",
       "        vertical-align: middle;\n",
       "    }\n",
       "\n",
       "    .dataframe tbody tr th {\n",
       "        vertical-align: top;\n",
       "    }\n",
       "\n",
       "    .dataframe thead th {\n",
       "        text-align: right;\n",
       "    }\n",
       "</style>\n",
       "<table border=\"1\" class=\"dataframe\">\n",
       "  <thead>\n",
       "    <tr style=\"text-align: right;\">\n",
       "      <th></th>\n",
       "      <th>doses used</th>\n",
       "    </tr>\n",
       "    <tr>\n",
       "      <th>label</th>\n",
       "      <th></th>\n",
       "    </tr>\n",
       "  </thead>\n",
       "  <tbody>\n",
       "    <tr>\n",
       "      <th>March 2021</th>\n",
       "      <td>7.850273</td>\n",
       "    </tr>\n",
       "    <tr>\n",
       "      <th>April 2021</th>\n",
       "      <td>15.535945</td>\n",
       "    </tr>\n",
       "    <tr>\n",
       "      <th>May 2021</th>\n",
       "      <td>21.024700</td>\n",
       "    </tr>\n",
       "    <tr>\n",
       "      <th>June 2021</th>\n",
       "      <td>24.690596</td>\n",
       "    </tr>\n",
       "    <tr>\n",
       "      <th>July 2021</th>\n",
       "      <td>17.171329</td>\n",
       "    </tr>\n",
       "    <tr>\n",
       "      <th>August 2021</th>\n",
       "      <td>6.769928</td>\n",
       "    </tr>\n",
       "  </tbody>\n",
       "</table>\n",
       "</div>"
      ],
      "text/plain": [
       "             doses used\n",
       "label                  \n",
       "March 2021     7.850273\n",
       "April 2021    15.535945\n",
       "May 2021      21.024700\n",
       "June 2021     24.690596\n",
       "July 2021     17.171329\n",
       "August 2021    6.769928"
      ]
     },
     "execution_count": 41,
     "metadata": {},
     "output_type": "execute_result"
    }
   ],
   "source": [
    "max_doses_monthly = max(doses_monthly['doses used'])\n",
    "max_doses_monthly\n",
    "doses_monthly['month'] = doses_monthly.index.strftime('%B')\n",
    "doses_monthly['year'] =  doses_monthly.index.strftime('%Y')\n",
    "doses_monthly['label'] = doses_monthly['month'] + ' ' + doses_monthly['year']\n",
    "doses_monthly.drop(columns=['month', 'year'], inplace=True)\n",
    "doses_monthly.set_index('label', inplace=True)\n",
    "doses_monthly.tail(6)"
   ]
  },
  {
   "cell_type": "code",
   "execution_count": 42,
   "metadata": {},
   "outputs": [
    {
     "data": {
      "image/png": "[encoded data removed]",
      "text/plain": [
       "<Figure size 432x288 with 1 Axes>"
      ]
     },
     "metadata": {},
     "output_type": "display_data"
    }
   ],
   "source": [
    "monthly_plot = doses_monthly.plot.bar(\n",
    "    ylim=(0,math.ceil(max_doses_monthly) + 1),\n",
    "    xlabel='Date',\n",
    "    ylabel='Million Doses',\n",
    "    title=f\"VACCINATION DOSES PER MONTH IN GERMANY\\n(including data for {last_update})\")"
   ]
  },
  {
   "cell_type": "code",
   "execution_count": 43,
   "metadata": {},
   "outputs": [],
   "source": [
    "fig = monthly_plot.get_figure()\n",
    "fig.savefig('img/monthly_doses_germany.png')"
   ]
  },
  {
   "cell_type": "markdown",
   "metadata": {},
   "source": [
    "## Vaccination Campaign Progress"
   ]
  },
  {
   "cell_type": "code",
   "execution_count": 44,
   "metadata": {},
   "outputs": [
    {
     "data": {
      "text/html": [
       "<div>\n",
       "<style scoped>\n",
       "    .dataframe tbody tr th:only-of-type {\n",
       "        vertical-align: middle;\n",
       "    }\n",
       "\n",
       "    .dataframe tbody tr th {\n",
       "        vertical-align: top;\n",
       "    }\n",
       "\n",
       "    .dataframe thead th {\n",
       "        text-align: right;\n",
       "    }\n",
       "</style>\n",
       "<table border=\"1\" class=\"dataframe\">\n",
       "  <thead>\n",
       "    <tr style=\"text-align: right;\">\n",
       "      <th></th>\n",
       "      <th>partly vaccinated</th>\n",
       "      <th>fully vaccinated</th>\n",
       "    </tr>\n",
       "    <tr>\n",
       "      <th>date</th>\n",
       "      <th></th>\n",
       "      <th></th>\n",
       "    </tr>\n",
       "  </thead>\n",
       "  <tbody>\n",
       "    <tr>\n",
       "      <th>2021-08-18</th>\n",
       "      <td>5.43</td>\n",
       "      <td>58.22</td>\n",
       "    </tr>\n",
       "    <tr>\n",
       "      <th>2021-08-19</th>\n",
       "      <td>5.30</td>\n",
       "      <td>58.49</td>\n",
       "    </tr>\n",
       "    <tr>\n",
       "      <th>2021-08-20</th>\n",
       "      <td>5.18</td>\n",
       "      <td>58.73</td>\n",
       "    </tr>\n",
       "  </tbody>\n",
       "</table>\n",
       "</div>"
      ],
      "text/plain": [
       "            partly vaccinated  fully vaccinated\n",
       "date                                           \n",
       "2021-08-18               5.43             58.22\n",
       "2021-08-19               5.30             58.49\n",
       "2021-08-20               5.18             58.73"
      ]
     },
     "execution_count": 44,
     "metadata": {},
     "output_type": "execute_result"
    }
   ],
   "source": [
    "doses_cumulative = vaccinations.loc[ : , ['date', 'partly vaccinated', 'fully vaccinated']]\n",
    "doses_cumulative.set_index('date', inplace=True)\n",
    "doses_cumulative.tail(3)"
   ]
  },
  {
   "cell_type": "code",
   "execution_count": 45,
   "metadata": {},
   "outputs": [
    {
     "data": {
      "image/png": "[encoded data removed]",
      "text/plain": [
       "<Figure size 432x288 with 1 Axes>"
      ]
     },
     "metadata": {},
     "output_type": "display_data"
    }
   ],
   "source": [
    "doses_area_plot = doses_cumulative.plot.area(\n",
    "    ylim=(0,100),\n",
    "    xlabel='Date',\n",
    "    ylabel='Percentage of population',\n",
    "    title=f\"Vaccination Campaign Progress in Germany\\n(until {last_update})\")"
   ]
  },
  {
   "cell_type": "code",
   "execution_count": 46,
   "metadata": {},
   "outputs": [],
   "source": [
    "fig = doses_area_plot.get_figure()\n",
    "fig.savefig('img/vaccinations_germany_area_plot.png')"
   ]
  },
  {
   "cell_type": "markdown",
   "metadata": {},
   "source": [
    "### As of Today"
   ]
  },
  {
   "cell_type": "code",
   "execution_count": 47,
   "metadata": {},
   "outputs": [
    {
     "data": {
      "text/plain": [
       "partly vaccinated     5.18\n",
       "fully vaccinated     58.73\n",
       "Name: 2021-08-20 00:00:00, dtype: float64"
      ]
     },
     "execution_count": 47,
     "metadata": {},
     "output_type": "execute_result"
    }
   ],
   "source": [
    "# get the last line of the data\n",
    "current_state = doses_cumulative.iloc[-1]\n",
    "current_state"
   ]
  },
  {
   "cell_type": "code",
   "execution_count": 48,
   "metadata": {},
   "outputs": [
    {
     "data": {
      "image/png": "[encoded data removed]",
      "text/plain": [
       "<Figure size 432x288 with 1 Axes>"
      ]
     },
     "metadata": {},
     "output_type": "display_data"
    }
   ],
   "source": [
    "percentage_not_vacc = 100 - current_state['partly vaccinated'] - current_state['fully vaccinated']\n",
    "labels = [f\"not vaccinated ({round(percentage_not_vacc, 1)}%)\",\n",
    "          f\"first dose ({round(current_state['partly vaccinated'], 1)}%)\",\n",
    "          f\"fully vaccinated ({round(current_state['fully vaccinated'], 1)}%)\"]\n",
    "colors = ['red', 'yellow', 'green']\n",
    "sizes = [percentage_not_vacc,\n",
    "         current_state['partly vaccinated'],\n",
    "         current_state['fully vaccinated']]\n",
    "fig1, ax1 = plt.subplots()\n",
    "ax1.pie(sizes, shadow=True, startangle=90)\n",
    "ax1.axis('equal')  # Equal aspect ratio ensures that pie is drawn as a circle.\n",
    "patches, texts = plt.pie(sizes, colors=colors, startangle=90)\n",
    "plt.legend(patches, labels, loc=\"best\")\n",
    "plt.title(f\"Vaccination Progress in Germany\\nas of {last_update}\")\n",
    "# plt.savefig must be before show()\n",
    "# BEWARE plt.savefig must be in the same Jupyter code cell that creates the graph!\n",
    "# See comment by ijoseph here:\n",
    "# https://stackoverflow.com/questions/9012487/matplotlib-pyplot-savefig-outputs-blank-image\n",
    "plt.savefig('img/vaccination_in_germany_pie.png', bbox_inches='tight')\n",
    "plt.show()"
   ]
  },
  {
   "cell_type": "markdown",
   "metadata": {},
   "source": [
    "## Vaccines in Use"
   ]
  },
  {
   "cell_type": "code",
   "execution_count": 49,
   "metadata": {},
   "outputs": [
    {
     "data": {
      "text/html": [
       "<div>\n",
       "<style scoped>\n",
       "    .dataframe tbody tr th:only-of-type {\n",
       "        vertical-align: middle;\n",
       "    }\n",
       "\n",
       "    .dataframe tbody tr th {\n",
       "        vertical-align: top;\n",
       "    }\n",
       "\n",
       "    .dataframe thead th {\n",
       "        text-align: right;\n",
       "    }\n",
       "</style>\n",
       "<table border=\"1\" class=\"dataframe\">\n",
       "  <thead>\n",
       "    <tr style=\"text-align: right;\">\n",
       "      <th></th>\n",
       "      <th>BioNTech</th>\n",
       "      <th>Moderna</th>\n",
       "      <th>AstraZeneca</th>\n",
       "      <th>Johnson &amp; Johnson</th>\n",
       "    </tr>\n",
       "    <tr>\n",
       "      <th>date</th>\n",
       "      <th></th>\n",
       "      <th></th>\n",
       "      <th></th>\n",
       "      <th></th>\n",
       "    </tr>\n",
       "  </thead>\n",
       "  <tbody>\n",
       "    <tr>\n",
       "      <th>2021-08-18</th>\n",
       "      <td>74.357653</td>\n",
       "      <td>9.118921</td>\n",
       "      <td>12.601947</td>\n",
       "      <td>2.661869</td>\n",
       "    </tr>\n",
       "    <tr>\n",
       "      <th>2021-08-19</th>\n",
       "      <td>74.630208</td>\n",
       "      <td>9.143697</td>\n",
       "      <td>12.606443</td>\n",
       "      <td>2.677743</td>\n",
       "    </tr>\n",
       "    <tr>\n",
       "      <th>2021-08-20</th>\n",
       "      <td>74.873277</td>\n",
       "      <td>9.163215</td>\n",
       "      <td>12.611507</td>\n",
       "      <td>2.692945</td>\n",
       "    </tr>\n",
       "  </tbody>\n",
       "</table>\n",
       "</div>"
      ],
      "text/plain": [
       "             BioNTech   Moderna  AstraZeneca  Johnson & Johnson\n",
       "date                                                           \n",
       "2021-08-18  74.357653  9.118921    12.601947           2.661869\n",
       "2021-08-19  74.630208  9.143697    12.606443           2.677743\n",
       "2021-08-20  74.873277  9.163215    12.611507           2.692945"
      ]
     },
     "execution_count": 49,
     "metadata": {},
     "output_type": "execute_result"
    }
   ],
   "source": [
    "vaccine_use = vaccinations.loc[ : , ['date', 'dosen_biontech_kumulativ',\n",
    "                                     'dosen_moderna_kumulativ',\n",
    "                                     'dosen_astrazeneca_kumulativ',\n",
    "                                     'dosen_johnson_kumulativ']]\n",
    "# Rename columns\n",
    "vaccine_use.columns = ['date', 'BioNTech', 'Moderna', 'AstraZeneca', 'Johnson & Johnson']\n",
    "# make 'date' an index\n",
    "vaccine_use.set_index('date', inplace=True)\n",
    "# divide columns by 1 million\n",
    "vaccine_use[\"BioNTech\"] = vaccine_use[\"BioNTech\"] / 1_000_000\n",
    "vaccine_use[\"Moderna\"] = vaccine_use[\"Moderna\"] / 1_000_000\n",
    "vaccine_use[\"AstraZeneca\"] = vaccine_use[\"AstraZeneca\"] / 1_000_000\n",
    "vaccine_use[\"Johnson & Johnson\"] = vaccine_use[\"Johnson & Johnson\"] / 1_000_000\n",
    "vaccine_use.tail(3)"
   ]
  },
  {
   "cell_type": "code",
   "execution_count": 50,
   "metadata": {},
   "outputs": [
    {
     "data": {
      "image/png": "[encoded data removed]",
      "text/plain": [
       "<Figure size 432x288 with 1 Axes>"
      ]
     },
     "metadata": {},
     "output_type": "display_data"
    }
   ],
   "source": [
    "vaccines_used = vaccine_use.plot(\n",
    "    # as it is cumulative, the last row must contain the single highest number\n",
    "    ylim=(0,math.ceil(max(vaccine_use.iloc[-1]))+10),\n",
    "    xlabel='Date',\n",
    "    ylabel='Million Doses (cumulative)',\n",
    "    title=f\"VACCINES USED IN GERMANY\\n(until {last_update})\")"
   ]
  },
  {
   "cell_type": "code",
   "execution_count": 51,
   "metadata": {},
   "outputs": [],
   "source": [
    "fig = vaccines_used.get_figure()\n",
    "fig.savefig('img/vaccines_used_in_germany.png')"
   ]
  },
  {
   "cell_type": "markdown",
   "metadata": {},
   "source": [
    "# Vaccination Centers versus Doctor’s Practices"
   ]
  },
  {
   "cell_type": "code",
   "execution_count": 52,
   "metadata": {},
   "outputs": [],
   "source": [
    "by_place = vaccinations.loc[ : , ['date', 'dosen_dim_kumulativ', 'dosen_kbv_kumulativ']]\n",
    "by_place.columns = ['date', 'vaccination centers', 'practices']"
   ]
  },
  {
   "cell_type": "code",
   "execution_count": 53,
   "metadata": {},
   "outputs": [],
   "source": [
    "by_place['vaccination centers daily'] = by_place['vaccination centers'].diff()\n",
    "by_place['practices daily'] = by_place['practices'].diff()"
   ]
  },
  {
   "cell_type": "code",
   "execution_count": 54,
   "metadata": {},
   "outputs": [],
   "source": [
    "by_place['percentage practices'] =  round(\n",
    "    by_place['practices daily'] * 100 / \n",
    "    (by_place['vaccination centers daily'] + by_place['practices daily']), 2)\n",
    "\n",
    "by_place['percentage centers'] = 100 - by_place['percentage practices']"
   ]
  },
  {
   "cell_type": "code",
   "execution_count": 55,
   "metadata": {},
   "outputs": [],
   "source": [
    "# make 'date' an index\n",
    "by_place.set_index('date', inplace=True)"
   ]
  },
  {
   "cell_type": "code",
   "execution_count": 56,
   "metadata": {},
   "outputs": [
    {
     "data": {
      "text/html": [
       "<div>\n",
       "<style scoped>\n",
       "    .dataframe tbody tr th:only-of-type {\n",
       "        vertical-align: middle;\n",
       "    }\n",
       "\n",
       "    .dataframe tbody tr th {\n",
       "        vertical-align: top;\n",
       "    }\n",
       "\n",
       "    .dataframe thead th {\n",
       "        text-align: right;\n",
       "    }\n",
       "</style>\n",
       "<table border=\"1\" class=\"dataframe\">\n",
       "  <thead>\n",
       "    <tr style=\"text-align: right;\">\n",
       "      <th></th>\n",
       "      <th>vaccination centers</th>\n",
       "      <th>practices</th>\n",
       "      <th>vaccination centers daily</th>\n",
       "      <th>practices daily</th>\n",
       "      <th>percentage practices</th>\n",
       "      <th>percentage centers</th>\n",
       "    </tr>\n",
       "    <tr>\n",
       "      <th>date</th>\n",
       "      <th></th>\n",
       "      <th></th>\n",
       "      <th></th>\n",
       "      <th></th>\n",
       "      <th></th>\n",
       "      <th></th>\n",
       "    </tr>\n",
       "  </thead>\n",
       "  <tbody>\n",
       "    <tr>\n",
       "      <th>2020-12-27</th>\n",
       "      <td>24087</td>\n",
       "      <td>0</td>\n",
       "      <td>NaN</td>\n",
       "      <td>NaN</td>\n",
       "      <td>NaN</td>\n",
       "      <td>NaN</td>\n",
       "    </tr>\n",
       "    <tr>\n",
       "      <th>2020-12-28</th>\n",
       "      <td>42078</td>\n",
       "      <td>0</td>\n",
       "      <td>17991.0</td>\n",
       "      <td>0.0</td>\n",
       "      <td>0.00</td>\n",
       "      <td>100.00</td>\n",
       "    </tr>\n",
       "    <tr>\n",
       "      <th>2020-12-29</th>\n",
       "      <td>92082</td>\n",
       "      <td>0</td>\n",
       "      <td>50004.0</td>\n",
       "      <td>0.0</td>\n",
       "      <td>0.00</td>\n",
       "      <td>100.00</td>\n",
       "    </tr>\n",
       "    <tr>\n",
       "      <th>2020-12-30</th>\n",
       "      <td>155576</td>\n",
       "      <td>0</td>\n",
       "      <td>63494.0</td>\n",
       "      <td>0.0</td>\n",
       "      <td>0.00</td>\n",
       "      <td>100.00</td>\n",
       "    </tr>\n",
       "    <tr>\n",
       "      <th>2020-12-31</th>\n",
       "      <td>205267</td>\n",
       "      <td>0</td>\n",
       "      <td>49691.0</td>\n",
       "      <td>0.0</td>\n",
       "      <td>0.00</td>\n",
       "      <td>100.00</td>\n",
       "    </tr>\n",
       "    <tr>\n",
       "      <th>...</th>\n",
       "      <td>...</td>\n",
       "      <td>...</td>\n",
       "      <td>...</td>\n",
       "      <td>...</td>\n",
       "      <td>...</td>\n",
       "      <td>...</td>\n",
       "    </tr>\n",
       "    <tr>\n",
       "      <th>2021-08-16</th>\n",
       "      <td>58429231</td>\n",
       "      <td>39361152</td>\n",
       "      <td>177045.0</td>\n",
       "      <td>83608.0</td>\n",
       "      <td>32.08</td>\n",
       "      <td>67.92</td>\n",
       "    </tr>\n",
       "    <tr>\n",
       "      <th>2021-08-17</th>\n",
       "      <td>58589352</td>\n",
       "      <td>39554693</td>\n",
       "      <td>160121.0</td>\n",
       "      <td>193541.0</td>\n",
       "      <td>54.72</td>\n",
       "      <td>45.28</td>\n",
       "    </tr>\n",
       "    <tr>\n",
       "      <th>2021-08-18</th>\n",
       "      <td>58757668</td>\n",
       "      <td>39798751</td>\n",
       "      <td>168316.0</td>\n",
       "      <td>244058.0</td>\n",
       "      <td>59.18</td>\n",
       "      <td>40.82</td>\n",
       "    </tr>\n",
       "    <tr>\n",
       "      <th>2021-08-19</th>\n",
       "      <td>58901873</td>\n",
       "      <td>39969692</td>\n",
       "      <td>144205.0</td>\n",
       "      <td>170941.0</td>\n",
       "      <td>54.24</td>\n",
       "      <td>45.76</td>\n",
       "    </tr>\n",
       "    <tr>\n",
       "      <th>2021-08-20</th>\n",
       "      <td>59016180</td>\n",
       "      <td>40138238</td>\n",
       "      <td>114307.0</td>\n",
       "      <td>168546.0</td>\n",
       "      <td>59.59</td>\n",
       "      <td>40.41</td>\n",
       "    </tr>\n",
       "  </tbody>\n",
       "</table>\n",
       "<p>237 rows × 6 columns</p>\n",
       "</div>"
      ],
      "text/plain": [
       "            vaccination centers  practices  vaccination centers daily  \\\n",
       "date                                                                    \n",
       "2020-12-27                24087          0                        NaN   \n",
       "2020-12-28                42078          0                    17991.0   \n",
       "2020-12-29                92082          0                    50004.0   \n",
       "2020-12-30               155576          0                    63494.0   \n",
       "2020-12-31               205267          0                    49691.0   \n",
       "...                         ...        ...                        ...   \n",
       "2021-08-16             58429231   39361152                   177045.0   \n",
       "2021-08-17             58589352   39554693                   160121.0   \n",
       "2021-08-18             58757668   39798751                   168316.0   \n",
       "2021-08-19             58901873   39969692                   144205.0   \n",
       "2021-08-20             59016180   40138238                   114307.0   \n",
       "\n",
       "            practices daily  percentage practices  percentage centers  \n",
       "date                                                                   \n",
       "2020-12-27              NaN                   NaN                 NaN  \n",
       "2020-12-28              0.0                  0.00              100.00  \n",
       "2020-12-29              0.0                  0.00              100.00  \n",
       "2020-12-30              0.0                  0.00              100.00  \n",
       "2020-12-31              0.0                  0.00              100.00  \n",
       "...                     ...                   ...                 ...  \n",
       "2021-08-16          83608.0                 32.08               67.92  \n",
       "2021-08-17         193541.0                 54.72               45.28  \n",
       "2021-08-18         244058.0                 59.18               40.82  \n",
       "2021-08-19         170941.0                 54.24               45.76  \n",
       "2021-08-20         168546.0                 59.59               40.41  \n",
       "\n",
       "[237 rows x 6 columns]"
      ]
     },
     "execution_count": 56,
     "metadata": {},
     "output_type": "execute_result"
    }
   ],
   "source": [
    "by_place"
   ]
  },
  {
   "cell_type": "code",
   "execution_count": 57,
   "metadata": {},
   "outputs": [],
   "source": [
    "share = by_place.loc[ : , ['percentage centers', 'percentage practices']]"
   ]
  },
  {
   "cell_type": "code",
   "execution_count": 58,
   "metadata": {},
   "outputs": [
    {
     "data": {
      "image/png": "[encoded data removed]",
      "text/plain": [
       "<Figure size 432x288 with 1 Axes>"
      ]
     },
     "metadata": {},
     "output_type": "display_data"
    }
   ],
   "source": [
    "vacc_shares = share.plot(\n",
    "    # as it is cumulative, the last row must contain the single highest number\n",
    "    ylim=(0, 105),  # above 100 to see the line\n",
    "    xlabel='Date',\n",
    "    ylabel='Percentage of Vaccinations',\n",
    "    title=f\"Place of Vaccination in Germany\\n(until {last_update})\")"
   ]
  },
  {
   "cell_type": "code",
   "execution_count": 59,
   "metadata": {},
   "outputs": [],
   "source": [
    "fig = vacc_shares.get_figure()\n",
    "fig.savefig('img/vaccinations_germany_by_place.png')"
   ]
  },
  {
   "cell_type": "markdown",
   "metadata": {},
   "source": [
    "## Other units of Time"
   ]
  },
  {
   "cell_type": "code",
   "execution_count": 60,
   "metadata": {},
   "outputs": [],
   "source": [
    "by_place_daily = by_place.loc[ : , ['vaccination centers daily', 'practices daily']]\n",
    "by_place_daily.columns = ['vaccination centers', 'practices']\n",
    "by_place_daily.reset_index(inplace=True)"
   ]
  },
  {
   "cell_type": "markdown",
   "metadata": {},
   "source": [
    "### Monthly"
   ]
  },
  {
   "cell_type": "code",
   "execution_count": 61,
   "metadata": {},
   "outputs": [
    {
     "data": {
      "text/html": [
       "<div>\n",
       "<style scoped>\n",
       "    .dataframe tbody tr th:only-of-type {\n",
       "        vertical-align: middle;\n",
       "    }\n",
       "\n",
       "    .dataframe tbody tr th {\n",
       "        vertical-align: top;\n",
       "    }\n",
       "\n",
       "    .dataframe thead th {\n",
       "        text-align: right;\n",
       "    }\n",
       "</style>\n",
       "<table border=\"1\" class=\"dataframe\">\n",
       "  <thead>\n",
       "    <tr style=\"text-align: right;\">\n",
       "      <th></th>\n",
       "      <th>vaccination centers</th>\n",
       "      <th>practices</th>\n",
       "    </tr>\n",
       "    <tr>\n",
       "      <th>date</th>\n",
       "      <th></th>\n",
       "      <th></th>\n",
       "    </tr>\n",
       "  </thead>\n",
       "  <tbody>\n",
       "    <tr>\n",
       "      <th>2021-04-30</th>\n",
       "      <td>10206805.0</td>\n",
       "      <td>5329140.0</td>\n",
       "    </tr>\n",
       "    <tr>\n",
       "      <th>2021-05-31</th>\n",
       "      <td>11541112.0</td>\n",
       "      <td>9483588.0</td>\n",
       "    </tr>\n",
       "    <tr>\n",
       "      <th>2021-06-30</th>\n",
       "      <td>11809012.0</td>\n",
       "      <td>12819000.0</td>\n",
       "    </tr>\n",
       "    <tr>\n",
       "      <th>2021-07-31</th>\n",
       "      <td>7924431.0</td>\n",
       "      <td>9158395.0</td>\n",
       "    </tr>\n",
       "    <tr>\n",
       "      <th>2021-08-31</th>\n",
       "      <td>3452608.0</td>\n",
       "      <td>3281881.0</td>\n",
       "    </tr>\n",
       "  </tbody>\n",
       "</table>\n",
       "</div>"
      ],
      "text/plain": [
       "            vaccination centers   practices\n",
       "date                                       \n",
       "2021-04-30           10206805.0   5329140.0\n",
       "2021-05-31           11541112.0   9483588.0\n",
       "2021-06-30           11809012.0  12819000.0\n",
       "2021-07-31            7924431.0   9158395.0\n",
       "2021-08-31            3452608.0   3281881.0"
      ]
     },
     "execution_count": 61,
     "metadata": {},
     "output_type": "execute_result"
    }
   ],
   "source": [
    "by_place_monthly = by_place_daily.groupby(pd.Grouper(key='date',freq='M')).sum()\n",
    "by_place_monthly.tail()"
   ]
  },
  {
   "cell_type": "markdown",
   "metadata": {},
   "source": [
    "Scale:"
   ]
  },
  {
   "cell_type": "code",
   "execution_count": 62,
   "metadata": {},
   "outputs": [],
   "source": [
    "by_place_monthly['vaccination centers'] = by_place_monthly['vaccination centers'] / 1_000_000\n",
    "by_place_monthly['practices'] = by_place_monthly['practices'] / 1_000_000"
   ]
  },
  {
   "cell_type": "markdown",
   "metadata": {},
   "source": [
    "Rename the columns"
   ]
  },
  {
   "cell_type": "code",
   "execution_count": 63,
   "metadata": {},
   "outputs": [
    {
     "data": {
      "text/html": [
       "<div>\n",
       "<style scoped>\n",
       "    .dataframe tbody tr th:only-of-type {\n",
       "        vertical-align: middle;\n",
       "    }\n",
       "\n",
       "    .dataframe tbody tr th {\n",
       "        vertical-align: top;\n",
       "    }\n",
       "\n",
       "    .dataframe thead th {\n",
       "        text-align: right;\n",
       "    }\n",
       "</style>\n",
       "<table border=\"1\" class=\"dataframe\">\n",
       "  <thead>\n",
       "    <tr style=\"text-align: right;\">\n",
       "      <th></th>\n",
       "      <th>vaccination centers</th>\n",
       "      <th>practices</th>\n",
       "    </tr>\n",
       "    <tr>\n",
       "      <th>label</th>\n",
       "      <th></th>\n",
       "      <th></th>\n",
       "    </tr>\n",
       "  </thead>\n",
       "  <tbody>\n",
       "    <tr>\n",
       "      <th>March 2021</th>\n",
       "      <td>7.784039</td>\n",
       "      <td>0.066234</td>\n",
       "    </tr>\n",
       "    <tr>\n",
       "      <th>April 2021</th>\n",
       "      <td>10.206805</td>\n",
       "      <td>5.329140</td>\n",
       "    </tr>\n",
       "    <tr>\n",
       "      <th>May 2021</th>\n",
       "      <td>11.541112</td>\n",
       "      <td>9.483588</td>\n",
       "    </tr>\n",
       "    <tr>\n",
       "      <th>June 2021</th>\n",
       "      <td>11.809012</td>\n",
       "      <td>12.819000</td>\n",
       "    </tr>\n",
       "    <tr>\n",
       "      <th>July 2021</th>\n",
       "      <td>7.924431</td>\n",
       "      <td>9.158395</td>\n",
       "    </tr>\n",
       "    <tr>\n",
       "      <th>August 2021</th>\n",
       "      <td>3.452608</td>\n",
       "      <td>3.281881</td>\n",
       "    </tr>\n",
       "  </tbody>\n",
       "</table>\n",
       "</div>"
      ],
      "text/plain": [
       "             vaccination centers  practices\n",
       "label                                      \n",
       "March 2021              7.784039   0.066234\n",
       "April 2021             10.206805   5.329140\n",
       "May 2021               11.541112   9.483588\n",
       "June 2021              11.809012  12.819000\n",
       "July 2021               7.924431   9.158395\n",
       "August 2021             3.452608   3.281881"
      ]
     },
     "execution_count": 63,
     "metadata": {},
     "output_type": "execute_result"
    }
   ],
   "source": [
    "by_place_monthly['month'] = by_place_monthly.index.strftime('%B')\n",
    "by_place_monthly['year'] =  by_place_monthly.index.strftime('%Y')\n",
    "by_place_monthly['label'] = by_place_monthly['month'] + ' ' + by_place_monthly['year']\n",
    "by_place_monthly.drop(columns=['month', 'year'], inplace=True)\n",
    "by_place_monthly.set_index('label', inplace=True)\n",
    "by_place_monthly.tail(6)"
   ]
  },
  {
   "cell_type": "code",
   "execution_count": 64,
   "metadata": {},
   "outputs": [
    {
     "data": {
      "image/png": "[encoded data removed]",
      "text/plain": [
       "<Figure size 432x288 with 1 Axes>"
      ]
     },
     "metadata": {},
     "output_type": "display_data"
    }
   ],
   "source": [
    "monthly_plot = by_place_monthly.plot.bar(\n",
    "    stacked=True,\n",
    "    ylim=(0, 25),\n",
    "    xlabel='Date',\n",
    "    ylabel='Million Doses',\n",
    "    title=f\"VACCINATION DOSES BY PLACE IN GERMANY\\n(including data for {last_update})\")"
   ]
  },
  {
   "cell_type": "code",
   "execution_count": 65,
   "metadata": {},
   "outputs": [],
   "source": [
    "fig = monthly_plot.get_figure()\n",
    "fig.savefig('img/monthly_doses_by_place_germany.png')"
   ]
  }
 ],
 "metadata": {
  "kernelspec": {
   "display_name": "Python 3",
   "language": "python",
   "name": "python3"
  },
  "language_info": {
   "codemirror_mode": {
    "name": "ipython",
    "version": 3
   },
   "file_extension": ".py",
   "mimetype": "text/x-python",
   "name": "python",
   "nbconvert_exporter": "python",
   "pygments_lexer": "ipython3",
   "version": "3.8.10"
  }
 },
 "nbformat": 4,
 "nbformat_minor": 4
}

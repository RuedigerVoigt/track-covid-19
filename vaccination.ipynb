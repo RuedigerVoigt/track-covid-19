{
 "cells": [
  {
   "cell_type": "markdown",
   "metadata": {},
   "source": [
    "# Covid-19 Vaccination Campaign in Germany"
   ]
  },
  {
   "cell_type": "markdown",
   "metadata": {},
   "source": [
    "The data used here were provided by \n",
    "[Robert Koch Institute](https://www.rki.de) and the [German federal ministry of Health](https://www.bundesgesundheitsministerium.de/).\n",
    "\n",
    "These institutions publish the datasets and some analysis on the page [impfdashboard.de](https://impfdashboard.de/)."
   ]
  },
  {
   "cell_type": "markdown",
   "metadata": {},
   "source": [
    "## Setup"
   ]
  },
  {
   "cell_type": "markdown",
   "metadata": {},
   "source": [
    "### Imports"
   ]
  },
  {
   "cell_type": "code",
   "execution_count": 66,
   "metadata": {},
   "outputs": [],
   "source": [
    "# standard library\n",
    "import datetime\n",
    "import math"
   ]
  },
  {
   "cell_type": "code",
   "execution_count": 67,
   "metadata": {},
   "outputs": [],
   "source": [
    "# third party\n",
    "import numpy as np\n",
    "import pandas as pd\n",
    "import matplotlib.pyplot as plt\n",
    "import requests\n",
    "import seaborn"
   ]
  },
  {
   "cell_type": "markdown",
   "metadata": {},
   "source": [
    "### Date this Notebook was run"
   ]
  },
  {
   "cell_type": "code",
   "execution_count": 68,
   "metadata": {},
   "outputs": [
    {
     "data": {
      "text/plain": [
       "'2021-05-19'"
      ]
     },
     "execution_count": 68,
     "metadata": {},
     "output_type": "execute_result"
    }
   ],
   "source": [
    "today = datetime.datetime.today().strftime('%Y-%m-%d')\n",
    "today"
   ]
  },
  {
   "cell_type": "markdown",
   "metadata": {},
   "source": [
    "### Set Defaults"
   ]
  },
  {
   "cell_type": "code",
   "execution_count": 69,
   "metadata": {},
   "outputs": [],
   "source": [
    "# style like ggplot in R\n",
    "plt.style.use('ggplot')"
   ]
  },
  {
   "cell_type": "code",
   "execution_count": 70,
   "metadata": {},
   "outputs": [],
   "source": [
    "# Avoid cutting off part of the axis labels, see:\n",
    "# https://stackoverflow.com/questions/6774086/why-is-my-xlabel-cut-off-in-my-matplotlib-plot\n",
    "plt.rcParams.update({'figure.autolayout': True})"
   ]
  },
  {
   "cell_type": "code",
   "execution_count": 71,
   "metadata": {},
   "outputs": [],
   "source": [
    "population_germany = 83_200_000"
   ]
  },
  {
   "cell_type": "markdown",
   "metadata": {},
   "source": [
    "## Get and Transform Data"
   ]
  },
  {
   "cell_type": "code",
   "execution_count": 72,
   "metadata": {},
   "outputs": [],
   "source": [
    "vaccination_data_permalink = 'https://impfdashboard.de/static/data/germany_vaccinations_timeseries_v2.tsv'\n",
    "vaccinations = pd.read_csv(\n",
    "    vaccination_data_permalink,\n",
    "    sep=\"\\t\")"
   ]
  },
  {
   "cell_type": "markdown",
   "metadata": {},
   "source": [
    "### Drop unnecessary / misleading columns\n",
    "\n",
    "Columns with names starting with 'indikation_' will not be analyzed as the data providers stopped updating them."
   ]
  },
  {
   "cell_type": "code",
   "execution_count": 73,
   "metadata": {},
   "outputs": [],
   "source": [
    "cols_to_drop = vaccinations.columns[vaccinations.columns.str.contains('indikation_')]\n",
    "vaccinations.drop(columns=cols_to_drop, inplace=True)"
   ]
  },
  {
   "cell_type": "markdown",
   "metadata": {},
   "source": [
    "Some more columns can be dropped, as there is no interest in analyzing differences on a vaccine level - especially since in some cases vaccines were mixed."
   ]
  },
  {
   "cell_type": "code",
   "execution_count": 74,
   "metadata": {},
   "outputs": [],
   "source": [
    "more_cols_to_drop = ['dosen_biontech_erst_kumulativ', 'dosen_biontech_zweit_kumulativ', \n",
    "                    'dosen_moderna_erst_kumulativ', 'dosen_moderna_zweit_kumulativ',\n",
    "                    'dosen_astrazeneca_erst_kumulativ', 'dosen_astrazeneca_zweit_kumulativ']\n",
    "vaccinations.drop(columns=more_cols_to_drop, inplace=True)"
   ]
  },
  {
   "cell_type": "markdown",
   "metadata": {},
   "source": [
    "Some columns are labeled misleadingly. As stated by the data provider the columns `personen_erst_kumulativ` and `impf_quote_erst` contain people vaccinated with the Johnson & Johnson vaccine. As this requires only one shot. the same persons are included in `personen_voll_kumulativ`.\n",
    "Therefore more columns are dropped and recalculated later."
   ]
  },
  {
   "cell_type": "code",
   "execution_count": 75,
   "metadata": {},
   "outputs": [],
   "source": [
    "vaccinations.drop(columns=['impf_quote_erst', 'impf_quote_voll'], inplace=True)"
   ]
  },
  {
   "cell_type": "markdown",
   "metadata": {},
   "source": [
    "Convert datatype of date column"
   ]
  },
  {
   "cell_type": "code",
   "execution_count": 76,
   "metadata": {},
   "outputs": [],
   "source": [
    "vaccinations.iloc[ : , [0]] = vaccinations.iloc[ : , [0]].apply(pd.to_datetime)"
   ]
  },
  {
   "cell_type": "markdown",
   "metadata": {},
   "source": [
    "### Show Data"
   ]
  },
  {
   "cell_type": "code",
   "execution_count": 77,
   "metadata": {},
   "outputs": [
    {
     "name": "stdout",
     "output_type": "stream",
     "text": [
      "<class 'pandas.core.frame.DataFrame'>\n",
      "RangeIndex: 143 entries, 0 to 142\n",
      "Data columns (total 13 columns):\n",
      " #   Column                            Non-Null Count  Dtype         \n",
      "---  ------                            --------------  -----         \n",
      " 0   date                              143 non-null    datetime64[ns]\n",
      " 1   dosen_kumulativ                   143 non-null    int64         \n",
      " 2   dosen_differenz_zum_vortag        143 non-null    int64         \n",
      " 3   dosen_erst_differenz_zum_vortag   143 non-null    int64         \n",
      " 4   dosen_zweit_differenz_zum_vortag  143 non-null    int64         \n",
      " 5   dosen_biontech_kumulativ          143 non-null    int64         \n",
      " 6   dosen_moderna_kumulativ           143 non-null    int64         \n",
      " 7   dosen_astrazeneca_kumulativ       143 non-null    int64         \n",
      " 8   personen_erst_kumulativ           143 non-null    int64         \n",
      " 9   personen_voll_kumulativ           143 non-null    int64         \n",
      " 10  dosen_dim_kumulativ               143 non-null    int64         \n",
      " 11  dosen_kbv_kumulativ               143 non-null    int64         \n",
      " 12  dosen_johnson_kumulativ           143 non-null    int64         \n",
      "dtypes: datetime64[ns](1), int64(12)\n",
      "memory usage: 14.6 KB\n"
     ]
    }
   ],
   "source": [
    "vaccinations.info()"
   ]
  },
  {
   "cell_type": "code",
   "execution_count": 78,
   "metadata": {},
   "outputs": [
    {
     "data": {
      "text/html": [
       "<div>\n",
       "<style scoped>\n",
       "    .dataframe tbody tr th:only-of-type {\n",
       "        vertical-align: middle;\n",
       "    }\n",
       "\n",
       "    .dataframe tbody tr th {\n",
       "        vertical-align: top;\n",
       "    }\n",
       "\n",
       "    .dataframe thead th {\n",
       "        text-align: right;\n",
       "    }\n",
       "</style>\n",
       "<table border=\"1\" class=\"dataframe\">\n",
       "  <thead>\n",
       "    <tr style=\"text-align: right;\">\n",
       "      <th></th>\n",
       "      <th>date</th>\n",
       "      <th>dosen_kumulativ</th>\n",
       "      <th>dosen_differenz_zum_vortag</th>\n",
       "      <th>dosen_erst_differenz_zum_vortag</th>\n",
       "      <th>dosen_zweit_differenz_zum_vortag</th>\n",
       "      <th>dosen_biontech_kumulativ</th>\n",
       "      <th>dosen_moderna_kumulativ</th>\n",
       "      <th>dosen_astrazeneca_kumulativ</th>\n",
       "      <th>personen_erst_kumulativ</th>\n",
       "      <th>personen_voll_kumulativ</th>\n",
       "      <th>dosen_dim_kumulativ</th>\n",
       "      <th>dosen_kbv_kumulativ</th>\n",
       "      <th>dosen_johnson_kumulativ</th>\n",
       "    </tr>\n",
       "  </thead>\n",
       "  <tbody>\n",
       "    <tr>\n",
       "      <th>140</th>\n",
       "      <td>2021-05-16</td>\n",
       "      <td>40141267</td>\n",
       "      <td>274659</td>\n",
       "      <td>157754</td>\n",
       "      <td>116905</td>\n",
       "      <td>29609383</td>\n",
       "      <td>2812217</td>\n",
       "      <td>7669820</td>\n",
       "      <td>30815974</td>\n",
       "      <td>9375140</td>\n",
       "      <td>30048796</td>\n",
       "      <td>10092471</td>\n",
       "      <td>49847</td>\n",
       "    </tr>\n",
       "    <tr>\n",
       "      <th>141</th>\n",
       "      <td>2021-05-17</td>\n",
       "      <td>40673871</td>\n",
       "      <td>532604</td>\n",
       "      <td>341985</td>\n",
       "      <td>190619</td>\n",
       "      <td>29936142</td>\n",
       "      <td>2892237</td>\n",
       "      <td>7788613</td>\n",
       "      <td>31164991</td>\n",
       "      <td>9565759</td>\n",
       "      <td>30412082</td>\n",
       "      <td>10261789</td>\n",
       "      <td>56879</td>\n",
       "    </tr>\n",
       "    <tr>\n",
       "      <th>142</th>\n",
       "      <td>2021-05-18</td>\n",
       "      <td>41517849</td>\n",
       "      <td>843978</td>\n",
       "      <td>508111</td>\n",
       "      <td>335867</td>\n",
       "      <td>30511166</td>\n",
       "      <td>2986323</td>\n",
       "      <td>7957797</td>\n",
       "      <td>31678786</td>\n",
       "      <td>9901626</td>\n",
       "      <td>30801056</td>\n",
       "      <td>10716793</td>\n",
       "      <td>62563</td>\n",
       "    </tr>\n",
       "  </tbody>\n",
       "</table>\n",
       "</div>"
      ],
      "text/plain": [
       "          date  dosen_kumulativ  dosen_differenz_zum_vortag  \\\n",
       "140 2021-05-16         40141267                      274659   \n",
       "141 2021-05-17         40673871                      532604   \n",
       "142 2021-05-18         41517849                      843978   \n",
       "\n",
       "     dosen_erst_differenz_zum_vortag  dosen_zweit_differenz_zum_vortag  \\\n",
       "140                           157754                            116905   \n",
       "141                           341985                            190619   \n",
       "142                           508111                            335867   \n",
       "\n",
       "     dosen_biontech_kumulativ  dosen_moderna_kumulativ  \\\n",
       "140                  29609383                  2812217   \n",
       "141                  29936142                  2892237   \n",
       "142                  30511166                  2986323   \n",
       "\n",
       "     dosen_astrazeneca_kumulativ  personen_erst_kumulativ  \\\n",
       "140                      7669820                 30815974   \n",
       "141                      7788613                 31164991   \n",
       "142                      7957797                 31678786   \n",
       "\n",
       "     personen_voll_kumulativ  dosen_dim_kumulativ  dosen_kbv_kumulativ  \\\n",
       "140                  9375140             30048796             10092471   \n",
       "141                  9565759             30412082             10261789   \n",
       "142                  9901626             30801056             10716793   \n",
       "\n",
       "     dosen_johnson_kumulativ  \n",
       "140                    49847  \n",
       "141                    56879  \n",
       "142                    62563  "
      ]
     },
     "execution_count": 78,
     "metadata": {},
     "output_type": "execute_result"
    }
   ],
   "source": [
    "vaccinations.tail(3)"
   ]
  },
  {
   "cell_type": "markdown",
   "metadata": {},
   "source": [
    "## Check Validity"
   ]
  },
  {
   "cell_type": "code",
   "execution_count": 79,
   "metadata": {},
   "outputs": [],
   "source": [
    "# get the last row / the newest available data\n",
    "last_row = vaccinations.tail(1)"
   ]
  },
  {
   "cell_type": "code",
   "execution_count": 80,
   "metadata": {},
   "outputs": [
    {
     "data": {
      "text/plain": [
       "142    41517849\n",
       "Name: dosen_kumulativ, dtype: int64"
      ]
     },
     "execution_count": 80,
     "metadata": {},
     "output_type": "execute_result"
    }
   ],
   "source": [
    "doses_used = last_row['dosen_kumulativ']\n",
    "doses_used"
   ]
  },
  {
   "cell_type": "code",
   "execution_count": 81,
   "metadata": {},
   "outputs": [],
   "source": [
    "# The number of person having been vaccinated at least once, includes those fully vaccinated\n",
    "at_least_once = last_row['personen_erst_kumulativ']\n",
    "fully_vaccinated_people = last_row['personen_voll_kumulativ']\n",
    "partially_vaccinated_people = at_least_once - fully_vaccinated_people\n",
    "# The johnson & Johnson vaccine is the only one used in Germany that only needs a single shot:\n",
    "johnson_doses = last_row['dosen_johnson_kumulativ']"
   ]
  },
  {
   "cell_type": "code",
   "execution_count": 82,
   "metadata": {},
   "outputs": [
    {
     "data": {
      "text/plain": [
       "142    True\n",
       "dtype: bool"
      ]
     },
     "execution_count": 82,
     "metadata": {},
     "output_type": "execute_result"
    }
   ],
   "source": [
    "# Must be exactly 0\n",
    "doses_used - partially_vaccinated_people - (fully_vaccinated_people - johnson_doses) * 2 - johnson_doses ==  0"
   ]
  },
  {
   "cell_type": "markdown",
   "metadata": {},
   "source": [
    "## Calculate columns"
   ]
  },
  {
   "cell_type": "code",
   "execution_count": 83,
   "metadata": {},
   "outputs": [],
   "source": [
    "vaccinations['partly vaccinated'] = round(\n",
    "    (vaccinations['personen_erst_kumulativ'] - vaccinations['personen_voll_kumulativ']) * 100 / population_germany,\n",
    "    2)"
   ]
  },
  {
   "cell_type": "code",
   "execution_count": 84,
   "metadata": {},
   "outputs": [],
   "source": [
    "vaccinations['fully vaccinated'] = round(\n",
    "    vaccinations['personen_voll_kumulativ'] * 100 / population_germany,\n",
    "    2)"
   ]
  },
  {
   "cell_type": "code",
   "execution_count": 85,
   "metadata": {},
   "outputs": [
    {
     "name": "stdout",
     "output_type": "stream",
     "text": [
      "<class 'pandas.core.frame.DataFrame'>\n",
      "RangeIndex: 143 entries, 0 to 142\n",
      "Data columns (total 15 columns):\n",
      " #   Column                            Non-Null Count  Dtype         \n",
      "---  ------                            --------------  -----         \n",
      " 0   date                              143 non-null    datetime64[ns]\n",
      " 1   dosen_kumulativ                   143 non-null    int64         \n",
      " 2   dosen_differenz_zum_vortag        143 non-null    int64         \n",
      " 3   dosen_erst_differenz_zum_vortag   143 non-null    int64         \n",
      " 4   dosen_zweit_differenz_zum_vortag  143 non-null    int64         \n",
      " 5   dosen_biontech_kumulativ          143 non-null    int64         \n",
      " 6   dosen_moderna_kumulativ           143 non-null    int64         \n",
      " 7   dosen_astrazeneca_kumulativ       143 non-null    int64         \n",
      " 8   personen_erst_kumulativ           143 non-null    int64         \n",
      " 9   personen_voll_kumulativ           143 non-null    int64         \n",
      " 10  dosen_dim_kumulativ               143 non-null    int64         \n",
      " 11  dosen_kbv_kumulativ               143 non-null    int64         \n",
      " 12  dosen_johnson_kumulativ           143 non-null    int64         \n",
      " 13  partly vaccinated                 143 non-null    float64       \n",
      " 14  fully vaccinated                  143 non-null    float64       \n",
      "dtypes: datetime64[ns](1), float64(2), int64(12)\n",
      "memory usage: 16.9 KB\n"
     ]
    }
   ],
   "source": [
    "vaccinations.info()"
   ]
  },
  {
   "cell_type": "code",
   "execution_count": 86,
   "metadata": {},
   "outputs": [
    {
     "data": {
      "text/html": [
       "<div>\n",
       "<style scoped>\n",
       "    .dataframe tbody tr th:only-of-type {\n",
       "        vertical-align: middle;\n",
       "    }\n",
       "\n",
       "    .dataframe tbody tr th {\n",
       "        vertical-align: top;\n",
       "    }\n",
       "\n",
       "    .dataframe thead th {\n",
       "        text-align: right;\n",
       "    }\n",
       "</style>\n",
       "<table border=\"1\" class=\"dataframe\">\n",
       "  <thead>\n",
       "    <tr style=\"text-align: right;\">\n",
       "      <th></th>\n",
       "      <th>date</th>\n",
       "      <th>dosen_kumulativ</th>\n",
       "      <th>dosen_differenz_zum_vortag</th>\n",
       "      <th>dosen_erst_differenz_zum_vortag</th>\n",
       "      <th>dosen_zweit_differenz_zum_vortag</th>\n",
       "      <th>dosen_biontech_kumulativ</th>\n",
       "      <th>dosen_moderna_kumulativ</th>\n",
       "      <th>dosen_astrazeneca_kumulativ</th>\n",
       "      <th>personen_erst_kumulativ</th>\n",
       "      <th>personen_voll_kumulativ</th>\n",
       "      <th>dosen_dim_kumulativ</th>\n",
       "      <th>dosen_kbv_kumulativ</th>\n",
       "      <th>dosen_johnson_kumulativ</th>\n",
       "      <th>partly vaccinated</th>\n",
       "      <th>fully vaccinated</th>\n",
       "    </tr>\n",
       "  </thead>\n",
       "  <tbody>\n",
       "    <tr>\n",
       "      <th>140</th>\n",
       "      <td>2021-05-16</td>\n",
       "      <td>40141267</td>\n",
       "      <td>274659</td>\n",
       "      <td>157754</td>\n",
       "      <td>116905</td>\n",
       "      <td>29609383</td>\n",
       "      <td>2812217</td>\n",
       "      <td>7669820</td>\n",
       "      <td>30815974</td>\n",
       "      <td>9375140</td>\n",
       "      <td>30048796</td>\n",
       "      <td>10092471</td>\n",
       "      <td>49847</td>\n",
       "      <td>25.77</td>\n",
       "      <td>11.27</td>\n",
       "    </tr>\n",
       "    <tr>\n",
       "      <th>141</th>\n",
       "      <td>2021-05-17</td>\n",
       "      <td>40673871</td>\n",
       "      <td>532604</td>\n",
       "      <td>341985</td>\n",
       "      <td>190619</td>\n",
       "      <td>29936142</td>\n",
       "      <td>2892237</td>\n",
       "      <td>7788613</td>\n",
       "      <td>31164991</td>\n",
       "      <td>9565759</td>\n",
       "      <td>30412082</td>\n",
       "      <td>10261789</td>\n",
       "      <td>56879</td>\n",
       "      <td>25.96</td>\n",
       "      <td>11.50</td>\n",
       "    </tr>\n",
       "    <tr>\n",
       "      <th>142</th>\n",
       "      <td>2021-05-18</td>\n",
       "      <td>41517849</td>\n",
       "      <td>843978</td>\n",
       "      <td>508111</td>\n",
       "      <td>335867</td>\n",
       "      <td>30511166</td>\n",
       "      <td>2986323</td>\n",
       "      <td>7957797</td>\n",
       "      <td>31678786</td>\n",
       "      <td>9901626</td>\n",
       "      <td>30801056</td>\n",
       "      <td>10716793</td>\n",
       "      <td>62563</td>\n",
       "      <td>26.17</td>\n",
       "      <td>11.90</td>\n",
       "    </tr>\n",
       "  </tbody>\n",
       "</table>\n",
       "</div>"
      ],
      "text/plain": [
       "          date  dosen_kumulativ  dosen_differenz_zum_vortag  \\\n",
       "140 2021-05-16         40141267                      274659   \n",
       "141 2021-05-17         40673871                      532604   \n",
       "142 2021-05-18         41517849                      843978   \n",
       "\n",
       "     dosen_erst_differenz_zum_vortag  dosen_zweit_differenz_zum_vortag  \\\n",
       "140                           157754                            116905   \n",
       "141                           341985                            190619   \n",
       "142                           508111                            335867   \n",
       "\n",
       "     dosen_biontech_kumulativ  dosen_moderna_kumulativ  \\\n",
       "140                  29609383                  2812217   \n",
       "141                  29936142                  2892237   \n",
       "142                  30511166                  2986323   \n",
       "\n",
       "     dosen_astrazeneca_kumulativ  personen_erst_kumulativ  \\\n",
       "140                      7669820                 30815974   \n",
       "141                      7788613                 31164991   \n",
       "142                      7957797                 31678786   \n",
       "\n",
       "     personen_voll_kumulativ  dosen_dim_kumulativ  dosen_kbv_kumulativ  \\\n",
       "140                  9375140             30048796             10092471   \n",
       "141                  9565759             30412082             10261789   \n",
       "142                  9901626             30801056             10716793   \n",
       "\n",
       "     dosen_johnson_kumulativ  partly vaccinated  fully vaccinated  \n",
       "140                    49847              25.77             11.27  \n",
       "141                    56879              25.96             11.50  \n",
       "142                    62563              26.17             11.90  "
      ]
     },
     "execution_count": 86,
     "metadata": {},
     "output_type": "execute_result"
    }
   ],
   "source": [
    "vaccinations.tail(3)"
   ]
  },
  {
   "cell_type": "markdown",
   "metadata": {},
   "source": [
    "### Last Update\n",
    "\n",
    "Often the data is not updated on weekends, so get the highest date in the dataset."
   ]
  },
  {
   "cell_type": "code",
   "execution_count": 87,
   "metadata": {},
   "outputs": [
    {
     "data": {
      "text/plain": [
       "'2021-05-18'"
      ]
     },
     "execution_count": 87,
     "metadata": {},
     "output_type": "execute_result"
    }
   ],
   "source": [
    "last_update = vaccinations.loc[vaccinations.index[-1], \"date\"].strftime('%Y-%m-%d')\n",
    "last_update"
   ]
  },
  {
   "cell_type": "markdown",
   "metadata": {},
   "source": [
    "## Doses Used"
   ]
  },
  {
   "cell_type": "code",
   "execution_count": 88,
   "metadata": {},
   "outputs": [],
   "source": [
    "doses = vaccinations.loc[ : , ['date', 'dosen_differenz_zum_vortag']]\n",
    "# Rename columns\n",
    "doses.columns = ['date', 'doses used']"
   ]
  },
  {
   "cell_type": "code",
   "execution_count": 89,
   "metadata": {},
   "outputs": [],
   "source": [
    "# Scale number of doses as millions\n",
    "doses['doses used'] = doses['doses used'] / 1_000_000"
   ]
  },
  {
   "cell_type": "markdown",
   "metadata": {},
   "source": [
    "### Doses Daily"
   ]
  },
  {
   "cell_type": "code",
   "execution_count": 90,
   "metadata": {},
   "outputs": [
    {
     "data": {
      "text/html": [
       "<div>\n",
       "<style scoped>\n",
       "    .dataframe tbody tr th:only-of-type {\n",
       "        vertical-align: middle;\n",
       "    }\n",
       "\n",
       "    .dataframe tbody tr th {\n",
       "        vertical-align: top;\n",
       "    }\n",
       "\n",
       "    .dataframe thead th {\n",
       "        text-align: right;\n",
       "    }\n",
       "</style>\n",
       "<table border=\"1\" class=\"dataframe\">\n",
       "  <thead>\n",
       "    <tr style=\"text-align: right;\">\n",
       "      <th></th>\n",
       "      <th>doses used</th>\n",
       "    </tr>\n",
       "    <tr>\n",
       "      <th>date</th>\n",
       "      <th></th>\n",
       "    </tr>\n",
       "  </thead>\n",
       "  <tbody>\n",
       "    <tr>\n",
       "      <th>2021-05-18</th>\n",
       "      <td>0.843978</td>\n",
       "    </tr>\n",
       "  </tbody>\n",
       "</table>\n",
       "</div>"
      ],
      "text/plain": [
       "            doses used\n",
       "date                  \n",
       "2021-05-18    0.843978"
      ]
     },
     "execution_count": 90,
     "metadata": {},
     "output_type": "execute_result"
    }
   ],
   "source": [
    "doses_daily = doses.set_index('date', inplace=False)\n",
    "doses_daily.tail(1)"
   ]
  },
  {
   "cell_type": "code",
   "execution_count": 91,
   "metadata": {},
   "outputs": [
    {
     "data": {
      "text/plain": [
       "1.397345"
      ]
     },
     "execution_count": 91,
     "metadata": {},
     "output_type": "execute_result"
    }
   ],
   "source": [
    "# What is the highest number of doses used in a day?\n",
    "max_doses_daily = max(doses_daily['doses used'])\n",
    "max_doses_daily"
   ]
  },
  {
   "cell_type": "code",
   "execution_count": 92,
   "metadata": {},
   "outputs": [
    {
     "data": {
      "text/plain": [
       "<AxesSubplot:title={'center':'VACCINATION DOSES PER DAY IN GERMANY'}, xlabel='Date', ylabel='Million Doses'>"
      ]
     },
     "execution_count": 92,
     "metadata": {},
     "output_type": "execute_result"
    },
    {
     "data": {
      "image/png": "[encoded data removed]",
      "text/plain": [
       "<Figure size 432x288 with 1 Axes>"
      ]
     },
     "metadata": {},
     "output_type": "display_data"
    }
   ],
   "source": [
    "doses_daily.plot(\n",
    "    ylim=(0,math.ceil(max_doses_daily)),\n",
    "    xlabel='Date',\n",
    "    ylabel='Million Doses',\n",
    "    title='VACCINATION DOSES PER DAY IN GERMANY')"
   ]
  },
  {
   "cell_type": "markdown",
   "metadata": {},
   "source": [
    "### Doses per Weekday (in the last 6 weeks)"
   ]
  },
  {
   "cell_type": "code",
   "execution_count": 93,
   "metadata": {},
   "outputs": [],
   "source": [
    "last_6_weeks = doses.tail(42)"
   ]
  },
  {
   "cell_type": "code",
   "execution_count": 94,
   "metadata": {},
   "outputs": [
    {
     "name": "stderr",
     "output_type": "stream",
     "text": [
      "<ipython-input-94-45013977109e>:3: SettingWithCopyWarning: \n",
      "A value is trying to be set on a copy of a slice from a DataFrame.\n",
      "Try using .loc[row_indexer,col_indexer] = value instead\n",
      "\n",
      "See the caveats in the documentation: https://pandas.pydata.org/pandas-docs/stable/user_guide/indexing.html#returning-a-view-versus-a-copy\n",
      "  last_6_weeks['weekday'] = last_6_weeks['date'].dt.day_name()\n"
     ]
    }
   ],
   "source": [
    "# Yields a warning, but exactly like the docs prescribe and it works\n",
    "# https://pandas.pydata.org/docs/getting_started/intro_tutorials/05_add_columns.html\n",
    "last_6_weeks['weekday'] = last_6_weeks['date'].dt.day_name()"
   ]
  },
  {
   "cell_type": "code",
   "execution_count": 95,
   "metadata": {},
   "outputs": [
    {
     "data": {
      "text/html": [
       "<div>\n",
       "<style scoped>\n",
       "    .dataframe tbody tr th:only-of-type {\n",
       "        vertical-align: middle;\n",
       "    }\n",
       "\n",
       "    .dataframe tbody tr th {\n",
       "        vertical-align: top;\n",
       "    }\n",
       "\n",
       "    .dataframe thead th {\n",
       "        text-align: right;\n",
       "    }\n",
       "</style>\n",
       "<table border=\"1\" class=\"dataframe\">\n",
       "  <thead>\n",
       "    <tr style=\"text-align: right;\">\n",
       "      <th></th>\n",
       "      <th>date</th>\n",
       "      <th>doses used</th>\n",
       "      <th>weekday</th>\n",
       "    </tr>\n",
       "  </thead>\n",
       "  <tbody>\n",
       "    <tr>\n",
       "      <th>140</th>\n",
       "      <td>2021-05-16</td>\n",
       "      <td>0.274659</td>\n",
       "      <td>Sunday</td>\n",
       "    </tr>\n",
       "    <tr>\n",
       "      <th>141</th>\n",
       "      <td>2021-05-17</td>\n",
       "      <td>0.532604</td>\n",
       "      <td>Monday</td>\n",
       "    </tr>\n",
       "    <tr>\n",
       "      <th>142</th>\n",
       "      <td>2021-05-18</td>\n",
       "      <td>0.843978</td>\n",
       "      <td>Tuesday</td>\n",
       "    </tr>\n",
       "  </tbody>\n",
       "</table>\n",
       "</div>"
      ],
      "text/plain": [
       "          date  doses used  weekday\n",
       "140 2021-05-16    0.274659   Sunday\n",
       "141 2021-05-17    0.532604   Monday\n",
       "142 2021-05-18    0.843978  Tuesday"
      ]
     },
     "execution_count": 95,
     "metadata": {},
     "output_type": "execute_result"
    }
   ],
   "source": [
    "# check:\n",
    "last_6_weeks.tail(3)"
   ]
  },
  {
   "cell_type": "code",
   "execution_count": 96,
   "metadata": {},
   "outputs": [],
   "source": [
    "# drop the date column\n",
    "last_6_weeks = last_6_weeks.drop(labels=['date'], axis=1)"
   ]
  },
  {
   "cell_type": "code",
   "execution_count": 97,
   "metadata": {},
   "outputs": [
    {
     "data": {
      "text/html": [
       "<div>\n",
       "<style scoped>\n",
       "    .dataframe tbody tr th:only-of-type {\n",
       "        vertical-align: middle;\n",
       "    }\n",
       "\n",
       "    .dataframe tbody tr th {\n",
       "        vertical-align: top;\n",
       "    }\n",
       "\n",
       "    .dataframe thead th {\n",
       "        text-align: right;\n",
       "    }\n",
       "</style>\n",
       "<table border=\"1\" class=\"dataframe\">\n",
       "  <thead>\n",
       "    <tr style=\"text-align: right;\">\n",
       "      <th></th>\n",
       "      <th>doses used</th>\n",
       "      <th>weekday</th>\n",
       "    </tr>\n",
       "  </thead>\n",
       "  <tbody>\n",
       "    <tr>\n",
       "      <th>140</th>\n",
       "      <td>0.274659</td>\n",
       "      <td>Sunday</td>\n",
       "    </tr>\n",
       "    <tr>\n",
       "      <th>141</th>\n",
       "      <td>0.532604</td>\n",
       "      <td>Monday</td>\n",
       "    </tr>\n",
       "    <tr>\n",
       "      <th>142</th>\n",
       "      <td>0.843978</td>\n",
       "      <td>Tuesday</td>\n",
       "    </tr>\n",
       "  </tbody>\n",
       "</table>\n",
       "</div>"
      ],
      "text/plain": [
       "     doses used  weekday\n",
       "140    0.274659   Sunday\n",
       "141    0.532604   Monday\n",
       "142    0.843978  Tuesday"
      ]
     },
     "execution_count": 97,
     "metadata": {},
     "output_type": "execute_result"
    }
   ],
   "source": [
    "#last_6_weeks.set_index('weekday', inplace=True)\n",
    "last_6_weeks.tail(3)"
   ]
  },
  {
   "cell_type": "code",
   "execution_count": 98,
   "metadata": {},
   "outputs": [
    {
     "data": {
      "text/html": [
       "<div>\n",
       "<style scoped>\n",
       "    .dataframe tbody tr th:only-of-type {\n",
       "        vertical-align: middle;\n",
       "    }\n",
       "\n",
       "    .dataframe tbody tr th {\n",
       "        vertical-align: top;\n",
       "    }\n",
       "\n",
       "    .dataframe thead th {\n",
       "        text-align: right;\n",
       "    }\n",
       "</style>\n",
       "<table border=\"1\" class=\"dataframe\">\n",
       "  <thead>\n",
       "    <tr style=\"text-align: right;\">\n",
       "      <th>weekday</th>\n",
       "      <th>Friday</th>\n",
       "      <th>Monday</th>\n",
       "      <th>Saturday</th>\n",
       "      <th>Sunday</th>\n",
       "      <th>Thursday</th>\n",
       "      <th>Tuesday</th>\n",
       "      <th>Wednesday</th>\n",
       "    </tr>\n",
       "  </thead>\n",
       "  <tbody>\n",
       "    <tr>\n",
       "      <th>138</th>\n",
       "      <td>0.740226</td>\n",
       "      <td>NaN</td>\n",
       "      <td>NaN</td>\n",
       "      <td>NaN</td>\n",
       "      <td>NaN</td>\n",
       "      <td>NaN</td>\n",
       "      <td>NaN</td>\n",
       "    </tr>\n",
       "    <tr>\n",
       "      <th>139</th>\n",
       "      <td>NaN</td>\n",
       "      <td>NaN</td>\n",
       "      <td>0.38833</td>\n",
       "      <td>NaN</td>\n",
       "      <td>NaN</td>\n",
       "      <td>NaN</td>\n",
       "      <td>NaN</td>\n",
       "    </tr>\n",
       "    <tr>\n",
       "      <th>140</th>\n",
       "      <td>NaN</td>\n",
       "      <td>NaN</td>\n",
       "      <td>NaN</td>\n",
       "      <td>0.274659</td>\n",
       "      <td>NaN</td>\n",
       "      <td>NaN</td>\n",
       "      <td>NaN</td>\n",
       "    </tr>\n",
       "    <tr>\n",
       "      <th>141</th>\n",
       "      <td>NaN</td>\n",
       "      <td>0.532604</td>\n",
       "      <td>NaN</td>\n",
       "      <td>NaN</td>\n",
       "      <td>NaN</td>\n",
       "      <td>NaN</td>\n",
       "      <td>NaN</td>\n",
       "    </tr>\n",
       "    <tr>\n",
       "      <th>142</th>\n",
       "      <td>NaN</td>\n",
       "      <td>NaN</td>\n",
       "      <td>NaN</td>\n",
       "      <td>NaN</td>\n",
       "      <td>NaN</td>\n",
       "      <td>0.843978</td>\n",
       "      <td>NaN</td>\n",
       "    </tr>\n",
       "  </tbody>\n",
       "</table>\n",
       "</div>"
      ],
      "text/plain": [
       "weekday    Friday    Monday  Saturday    Sunday  Thursday   Tuesday  Wednesday\n",
       "138      0.740226       NaN       NaN       NaN       NaN       NaN        NaN\n",
       "139           NaN       NaN   0.38833       NaN       NaN       NaN        NaN\n",
       "140           NaN       NaN       NaN  0.274659       NaN       NaN        NaN\n",
       "141           NaN  0.532604       NaN       NaN       NaN       NaN        NaN\n",
       "142           NaN       NaN       NaN       NaN       NaN  0.843978        NaN"
      ]
     },
     "execution_count": 98,
     "metadata": {},
     "output_type": "execute_result"
    }
   ],
   "source": [
    "pivot_table =last_6_weeks.pivot(columns='weekday', values='doses used')\n",
    "pivot_table.tail()"
   ]
  },
  {
   "cell_type": "code",
   "execution_count": 99,
   "metadata": {},
   "outputs": [
    {
     "data": {
      "text/html": [
       "<div>\n",
       "<style scoped>\n",
       "    .dataframe tbody tr th:only-of-type {\n",
       "        vertical-align: middle;\n",
       "    }\n",
       "\n",
       "    .dataframe tbody tr th {\n",
       "        vertical-align: top;\n",
       "    }\n",
       "\n",
       "    .dataframe thead th {\n",
       "        text-align: right;\n",
       "    }\n",
       "</style>\n",
       "<table border=\"1\" class=\"dataframe\">\n",
       "  <thead>\n",
       "    <tr style=\"text-align: right;\">\n",
       "      <th></th>\n",
       "      <th>Mo</th>\n",
       "      <th>Tue</th>\n",
       "      <th>Wed</th>\n",
       "      <th>Thu</th>\n",
       "      <th>Fri</th>\n",
       "      <th>Sat</th>\n",
       "      <th>Sun</th>\n",
       "    </tr>\n",
       "  </thead>\n",
       "  <tbody>\n",
       "    <tr>\n",
       "      <th>138</th>\n",
       "      <td>NaN</td>\n",
       "      <td>NaN</td>\n",
       "      <td>NaN</td>\n",
       "      <td>NaN</td>\n",
       "      <td>0.740226</td>\n",
       "      <td>NaN</td>\n",
       "      <td>NaN</td>\n",
       "    </tr>\n",
       "    <tr>\n",
       "      <th>139</th>\n",
       "      <td>NaN</td>\n",
       "      <td>NaN</td>\n",
       "      <td>NaN</td>\n",
       "      <td>NaN</td>\n",
       "      <td>NaN</td>\n",
       "      <td>0.38833</td>\n",
       "      <td>NaN</td>\n",
       "    </tr>\n",
       "    <tr>\n",
       "      <th>140</th>\n",
       "      <td>NaN</td>\n",
       "      <td>NaN</td>\n",
       "      <td>NaN</td>\n",
       "      <td>NaN</td>\n",
       "      <td>NaN</td>\n",
       "      <td>NaN</td>\n",
       "      <td>0.274659</td>\n",
       "    </tr>\n",
       "    <tr>\n",
       "      <th>141</th>\n",
       "      <td>0.532604</td>\n",
       "      <td>NaN</td>\n",
       "      <td>NaN</td>\n",
       "      <td>NaN</td>\n",
       "      <td>NaN</td>\n",
       "      <td>NaN</td>\n",
       "      <td>NaN</td>\n",
       "    </tr>\n",
       "    <tr>\n",
       "      <th>142</th>\n",
       "      <td>NaN</td>\n",
       "      <td>0.843978</td>\n",
       "      <td>NaN</td>\n",
       "      <td>NaN</td>\n",
       "      <td>NaN</td>\n",
       "      <td>NaN</td>\n",
       "      <td>NaN</td>\n",
       "    </tr>\n",
       "  </tbody>\n",
       "</table>\n",
       "</div>"
      ],
      "text/plain": [
       "           Mo       Tue  Wed  Thu       Fri      Sat       Sun\n",
       "138       NaN       NaN  NaN  NaN  0.740226      NaN       NaN\n",
       "139       NaN       NaN  NaN  NaN       NaN  0.38833       NaN\n",
       "140       NaN       NaN  NaN  NaN       NaN      NaN  0.274659\n",
       "141  0.532604       NaN  NaN  NaN       NaN      NaN       NaN\n",
       "142       NaN  0.843978  NaN  NaN       NaN      NaN       NaN"
      ]
     },
     "execution_count": 99,
     "metadata": {},
     "output_type": "execute_result"
    }
   ],
   "source": [
    "# Reorder the columns\n",
    "pivot_table = pivot_table[['Monday', 'Tuesday', 'Wednesday', 'Thursday', 'Friday', 'Saturday', 'Sunday']]\n",
    "# Rename the columns\n",
    "pivot_table.columns=['Mo', 'Tue', 'Wed', 'Thu', 'Fri', 'Sat', 'Sun']\n",
    "pivot_table.tail()"
   ]
  },
  {
   "cell_type": "code",
   "execution_count": 100,
   "metadata": {},
   "outputs": [
    {
     "data": {
      "image/png": "[encoded data removed]",
      "text/plain": [
       "<Figure size 432x288 with 1 Axes>"
      ]
     },
     "metadata": {},
     "output_type": "display_data"
    }
   ],
   "source": [
    "weekday_boxplot = pivot_table.boxplot()"
   ]
  },
  {
   "cell_type": "code",
   "execution_count": 101,
   "metadata": {},
   "outputs": [],
   "source": [
    "fig = weekday_boxplot.get_figure()\n",
    "fig.savefig('img/weekday_boxplot.png')"
   ]
  },
  {
   "cell_type": "markdown",
   "metadata": {},
   "source": [
    "### Doses per Week"
   ]
  },
  {
   "cell_type": "code",
   "execution_count": 102,
   "metadata": {},
   "outputs": [
    {
     "data": {
      "text/html": [
       "<div>\n",
       "<style scoped>\n",
       "    .dataframe tbody tr th:only-of-type {\n",
       "        vertical-align: middle;\n",
       "    }\n",
       "\n",
       "    .dataframe tbody tr th {\n",
       "        vertical-align: top;\n",
       "    }\n",
       "\n",
       "    .dataframe thead th {\n",
       "        text-align: right;\n",
       "    }\n",
       "</style>\n",
       "<table border=\"1\" class=\"dataframe\">\n",
       "  <thead>\n",
       "    <tr style=\"text-align: right;\">\n",
       "      <th></th>\n",
       "      <th>million doses used</th>\n",
       "    </tr>\n",
       "    <tr>\n",
       "      <th>date</th>\n",
       "      <th></th>\n",
       "    </tr>\n",
       "  </thead>\n",
       "  <tbody>\n",
       "    <tr>\n",
       "      <th>2021-04-26</th>\n",
       "      <td>3.534031</td>\n",
       "    </tr>\n",
       "    <tr>\n",
       "      <th>2021-05-03</th>\n",
       "      <td>4.690977</td>\n",
       "    </tr>\n",
       "    <tr>\n",
       "      <th>2021-05-10</th>\n",
       "      <td>5.105094</td>\n",
       "    </tr>\n",
       "    <tr>\n",
       "      <th>2021-05-17</th>\n",
       "      <td>4.827047</td>\n",
       "    </tr>\n",
       "    <tr>\n",
       "      <th>2021-05-24</th>\n",
       "      <td>0.843978</td>\n",
       "    </tr>\n",
       "  </tbody>\n",
       "</table>\n",
       "</div>"
      ],
      "text/plain": [
       "            million doses used\n",
       "date                          \n",
       "2021-04-26            3.534031\n",
       "2021-05-03            4.690977\n",
       "2021-05-10            5.105094\n",
       "2021-05-17            4.827047\n",
       "2021-05-24            0.843978"
      ]
     },
     "execution_count": 102,
     "metadata": {},
     "output_type": "execute_result"
    }
   ],
   "source": [
    "# W-Mon in order to start the week on a Monday, see:\n",
    "# https://pandas.pydata.org/pandas-docs/stable/user_guide/timeseries.html#anchored-offsets\n",
    "doses_weekly = doses.groupby(pd.Grouper(key='date',freq='W-Mon')).sum()\n",
    "doses_weekly.columns = ['million doses used']\n",
    "doses_weekly.tail()"
   ]
  },
  {
   "cell_type": "code",
   "execution_count": 103,
   "metadata": {},
   "outputs": [
    {
     "data": {
      "text/plain": [
       "5.105093999999999"
      ]
     },
     "execution_count": 103,
     "metadata": {},
     "output_type": "execute_result"
    }
   ],
   "source": [
    "# What is the highest number of doses used in a week?\n",
    "max_million_doses_weekly = max(doses_weekly['million doses used'])\n",
    "max_million_doses_weekly"
   ]
  },
  {
   "cell_type": "code",
   "execution_count": 104,
   "metadata": {},
   "outputs": [
    {
     "data": {
      "text/plain": [
       "<AxesSubplot:title={'center':'VACCINATION DOSES PER WEEK IN GERMANY\\n(until 2021-05-18)'}, xlabel='Date', ylabel='Million Doses'>"
      ]
     },
     "execution_count": 104,
     "metadata": {},
     "output_type": "execute_result"
    },
    {
     "data": {
      "image/png": "[encoded data removed]",
      "text/plain": [
       "<Figure size 432x288 with 1 Axes>"
      ]
     },
     "metadata": {},
     "output_type": "display_data"
    }
   ],
   "source": [
    "doses_weekly.plot(\n",
    "    ylim=(0, math.ceil(max_million_doses_weekly)),\n",
    "    xlabel='Date',\n",
    "    ylabel='Million Doses',\n",
    "    title=f\"VACCINATION DOSES PER WEEK IN GERMANY\\n(until {last_update})\")"
   ]
  },
  {
   "cell_type": "markdown",
   "metadata": {},
   "source": [
    "### Doses per Month"
   ]
  },
  {
   "cell_type": "code",
   "execution_count": 105,
   "metadata": {},
   "outputs": [
    {
     "data": {
      "text/html": [
       "<div>\n",
       "<style scoped>\n",
       "    .dataframe tbody tr th:only-of-type {\n",
       "        vertical-align: middle;\n",
       "    }\n",
       "\n",
       "    .dataframe tbody tr th {\n",
       "        vertical-align: top;\n",
       "    }\n",
       "\n",
       "    .dataframe thead th {\n",
       "        text-align: right;\n",
       "    }\n",
       "</style>\n",
       "<table border=\"1\" class=\"dataframe\">\n",
       "  <thead>\n",
       "    <tr style=\"text-align: right;\">\n",
       "      <th></th>\n",
       "      <th>doses used</th>\n",
       "    </tr>\n",
       "    <tr>\n",
       "      <th>date</th>\n",
       "      <th></th>\n",
       "    </tr>\n",
       "  </thead>\n",
       "  <tbody>\n",
       "    <tr>\n",
       "      <th>2021-01-31</th>\n",
       "      <td>2.344521</td>\n",
       "    </tr>\n",
       "    <tr>\n",
       "      <th>2021-02-28</th>\n",
       "      <td>3.778865</td>\n",
       "    </tr>\n",
       "    <tr>\n",
       "      <th>2021-03-31</th>\n",
       "      <td>7.852521</td>\n",
       "    </tr>\n",
       "    <tr>\n",
       "      <th>2021-04-30</th>\n",
       "      <td>15.511982</td>\n",
       "    </tr>\n",
       "    <tr>\n",
       "      <th>2021-05-31</th>\n",
       "      <td>11.823516</td>\n",
       "    </tr>\n",
       "  </tbody>\n",
       "</table>\n",
       "</div>"
      ],
      "text/plain": [
       "            doses used\n",
       "date                  \n",
       "2021-01-31    2.344521\n",
       "2021-02-28    3.778865\n",
       "2021-03-31    7.852521\n",
       "2021-04-30   15.511982\n",
       "2021-05-31   11.823516"
      ]
     },
     "execution_count": 105,
     "metadata": {},
     "output_type": "execute_result"
    }
   ],
   "source": [
    "# M = month end frequency\n",
    "doses_monthly = doses.groupby(pd.Grouper(key='date',freq='M')).sum()\n",
    "doses_monthly.tail()"
   ]
  },
  {
   "cell_type": "code",
   "execution_count": 106,
   "metadata": {},
   "outputs": [
    {
     "data": {
      "text/html": [
       "<div>\n",
       "<style scoped>\n",
       "    .dataframe tbody tr th:only-of-type {\n",
       "        vertical-align: middle;\n",
       "    }\n",
       "\n",
       "    .dataframe tbody tr th {\n",
       "        vertical-align: top;\n",
       "    }\n",
       "\n",
       "    .dataframe thead th {\n",
       "        text-align: right;\n",
       "    }\n",
       "</style>\n",
       "<table border=\"1\" class=\"dataframe\">\n",
       "  <thead>\n",
       "    <tr style=\"text-align: right;\">\n",
       "      <th></th>\n",
       "      <th>doses used</th>\n",
       "    </tr>\n",
       "    <tr>\n",
       "      <th>label</th>\n",
       "      <th></th>\n",
       "    </tr>\n",
       "  </thead>\n",
       "  <tbody>\n",
       "    <tr>\n",
       "      <th>December 2020</th>\n",
       "      <td>0.206444</td>\n",
       "    </tr>\n",
       "    <tr>\n",
       "      <th>January 2021</th>\n",
       "      <td>2.344521</td>\n",
       "    </tr>\n",
       "    <tr>\n",
       "      <th>February 2021</th>\n",
       "      <td>3.778865</td>\n",
       "    </tr>\n",
       "    <tr>\n",
       "      <th>March 2021</th>\n",
       "      <td>7.852521</td>\n",
       "    </tr>\n",
       "    <tr>\n",
       "      <th>April 2021</th>\n",
       "      <td>15.511982</td>\n",
       "    </tr>\n",
       "    <tr>\n",
       "      <th>May 2021</th>\n",
       "      <td>11.823516</td>\n",
       "    </tr>\n",
       "  </tbody>\n",
       "</table>\n",
       "</div>"
      ],
      "text/plain": [
       "               doses used\n",
       "label                    \n",
       "December 2020    0.206444\n",
       "January 2021     2.344521\n",
       "February 2021    3.778865\n",
       "March 2021       7.852521\n",
       "April 2021      15.511982\n",
       "May 2021        11.823516"
      ]
     },
     "execution_count": 106,
     "metadata": {},
     "output_type": "execute_result"
    }
   ],
   "source": [
    "max_doses_monthly = max(doses_monthly['doses used'])\n",
    "max_doses_monthly\n",
    "doses_monthly['month'] = doses_monthly.index.strftime('%B')\n",
    "doses_monthly['year'] =  doses_monthly.index.strftime('%Y')\n",
    "doses_monthly['label'] = doses_monthly['month'] + ' ' + doses_monthly['year']\n",
    "doses_monthly.drop(columns=['month', 'year'], inplace=True)\n",
    "doses_monthly.set_index('label', inplace=True)\n",
    "doses_monthly.tail(6)"
   ]
  },
  {
   "cell_type": "code",
   "execution_count": 107,
   "metadata": {},
   "outputs": [
    {
     "data": {
      "image/png": "[encoded data removed]",
      "text/plain": [
       "<Figure size 432x288 with 1 Axes>"
      ]
     },
     "metadata": {},
     "output_type": "display_data"
    }
   ],
   "source": [
    "monthly_plot = doses_monthly.plot.bar(\n",
    "    ylim=(0,math.ceil(max_doses_monthly) + 1),\n",
    "    xlabel='Date',\n",
    "    ylabel='Million Doses',\n",
    "    title=f\"VACCINATION DOSES PER MONTH IN GERMANY\\n(including data for {last_update})\")"
   ]
  },
  {
   "cell_type": "code",
   "execution_count": 108,
   "metadata": {},
   "outputs": [],
   "source": [
    "fig = monthly_plot.get_figure()\n",
    "fig.savefig('img/monthly_doses_germany.png')"
   ]
  },
  {
   "cell_type": "markdown",
   "metadata": {},
   "source": [
    "## Vaccination Campaign Progress"
   ]
  },
  {
   "cell_type": "code",
   "execution_count": 109,
   "metadata": {},
   "outputs": [
    {
     "data": {
      "text/html": [
       "<div>\n",
       "<style scoped>\n",
       "    .dataframe tbody tr th:only-of-type {\n",
       "        vertical-align: middle;\n",
       "    }\n",
       "\n",
       "    .dataframe tbody tr th {\n",
       "        vertical-align: top;\n",
       "    }\n",
       "\n",
       "    .dataframe thead th {\n",
       "        text-align: right;\n",
       "    }\n",
       "</style>\n",
       "<table border=\"1\" class=\"dataframe\">\n",
       "  <thead>\n",
       "    <tr style=\"text-align: right;\">\n",
       "      <th></th>\n",
       "      <th>partly vaccinated</th>\n",
       "      <th>fully vaccinated</th>\n",
       "    </tr>\n",
       "    <tr>\n",
       "      <th>date</th>\n",
       "      <th></th>\n",
       "      <th></th>\n",
       "    </tr>\n",
       "  </thead>\n",
       "  <tbody>\n",
       "    <tr>\n",
       "      <th>2021-05-16</th>\n",
       "      <td>25.77</td>\n",
       "      <td>11.27</td>\n",
       "    </tr>\n",
       "    <tr>\n",
       "      <th>2021-05-17</th>\n",
       "      <td>25.96</td>\n",
       "      <td>11.50</td>\n",
       "    </tr>\n",
       "    <tr>\n",
       "      <th>2021-05-18</th>\n",
       "      <td>26.17</td>\n",
       "      <td>11.90</td>\n",
       "    </tr>\n",
       "  </tbody>\n",
       "</table>\n",
       "</div>"
      ],
      "text/plain": [
       "            partly vaccinated  fully vaccinated\n",
       "date                                           \n",
       "2021-05-16              25.77             11.27\n",
       "2021-05-17              25.96             11.50\n",
       "2021-05-18              26.17             11.90"
      ]
     },
     "execution_count": 109,
     "metadata": {},
     "output_type": "execute_result"
    }
   ],
   "source": [
    "doses_cumulative = vaccinations.loc[ : , ['date', 'partly vaccinated', 'fully vaccinated']]\n",
    "doses_cumulative.set_index('date', inplace=True)\n",
    "doses_cumulative.tail(3)"
   ]
  },
  {
   "cell_type": "code",
   "execution_count": 110,
   "metadata": {},
   "outputs": [
    {
     "data": {
      "image/png": "[encoded data removed]",
      "text/plain": [
       "<Figure size 432x288 with 1 Axes>"
      ]
     },
     "metadata": {},
     "output_type": "display_data"
    }
   ],
   "source": [
    "doses_area_plot = doses_cumulative.plot.area(\n",
    "    ylim=(0,100),\n",
    "    xlabel='Date',\n",
    "    ylabel='Percentage of population',\n",
    "    title=f\"Vaccination Campaign Progress in Germany\\n(until {last_update})\")"
   ]
  },
  {
   "cell_type": "code",
   "execution_count": 111,
   "metadata": {},
   "outputs": [],
   "source": [
    "fig = doses_area_plot.get_figure()\n",
    "fig.savefig('img/vaccinations_germany_area_plot.png')"
   ]
  },
  {
   "cell_type": "markdown",
   "metadata": {},
   "source": [
    "### As of Today"
   ]
  },
  {
   "cell_type": "code",
   "execution_count": 112,
   "metadata": {},
   "outputs": [
    {
     "data": {
      "text/plain": [
       "partly vaccinated    26.17\n",
       "fully vaccinated     11.90\n",
       "Name: 2021-05-18 00:00:00, dtype: float64"
      ]
     },
     "execution_count": 112,
     "metadata": {},
     "output_type": "execute_result"
    }
   ],
   "source": [
    "# get the last line of the data\n",
    "current_state = doses_cumulative.iloc[-1]\n",
    "current_state"
   ]
  },
  {
   "cell_type": "code",
   "execution_count": 113,
   "metadata": {},
   "outputs": [
    {
     "data": {
      "image/png": "[encoded data removed]",
      "text/plain": [
       "<Figure size 432x288 with 1 Axes>"
      ]
     },
     "metadata": {},
     "output_type": "display_data"
    }
   ],
   "source": [
    "percentage_not_vacc = 100 - current_state['partly vaccinated'] - current_state['fully vaccinated']\n",
    "labels = [f\"not vaccinated ({round(percentage_not_vacc, 1)}%)\",\n",
    "          f\"first dose ({round(current_state['partly vaccinated'], 1)}%)\",\n",
    "          f\"fully vaccinated ({round(current_state['fully vaccinated'], 1)}%)\"]\n",
    "colors = ['red', 'yellow', 'green']\n",
    "sizes = [percentage_not_vacc,\n",
    "         current_state['partly vaccinated'],\n",
    "         current_state['fully vaccinated']]\n",
    "fig1, ax1 = plt.subplots()\n",
    "ax1.pie(sizes, shadow=True, startangle=90)\n",
    "ax1.axis('equal')  # Equal aspect ratio ensures that pie is drawn as a circle.\n",
    "patches, texts = plt.pie(sizes, colors=colors, startangle=90)\n",
    "plt.legend(patches, labels, loc=\"best\")\n",
    "plt.title(f\"Vaccination Progress in Germany\\nas of {last_update}\")\n",
    "# plt.savefig must be before show()\n",
    "# BEWARE plt.savefig must be in the same Jupyter code cell that creates the graph!\n",
    "# See comment by ijoseph here:\n",
    "# https://stackoverflow.com/questions/9012487/matplotlib-pyplot-savefig-outputs-blank-image\n",
    "plt.savefig('img/vaccination_in_germany_pie.png', bbox_inches='tight')\n",
    "plt.show()"
   ]
  },
  {
   "cell_type": "markdown",
   "metadata": {},
   "source": [
    "## Vaccines in Use"
   ]
  },
  {
   "cell_type": "code",
   "execution_count": 114,
   "metadata": {},
   "outputs": [
    {
     "data": {
      "text/html": [
       "<div>\n",
       "<style scoped>\n",
       "    .dataframe tbody tr th:only-of-type {\n",
       "        vertical-align: middle;\n",
       "    }\n",
       "\n",
       "    .dataframe tbody tr th {\n",
       "        vertical-align: top;\n",
       "    }\n",
       "\n",
       "    .dataframe thead th {\n",
       "        text-align: right;\n",
       "    }\n",
       "</style>\n",
       "<table border=\"1\" class=\"dataframe\">\n",
       "  <thead>\n",
       "    <tr style=\"text-align: right;\">\n",
       "      <th></th>\n",
       "      <th>BioNTech</th>\n",
       "      <th>Moderna</th>\n",
       "      <th>AstraZeneca</th>\n",
       "      <th>Johnson &amp; Johnson</th>\n",
       "    </tr>\n",
       "    <tr>\n",
       "      <th>date</th>\n",
       "      <th></th>\n",
       "      <th></th>\n",
       "      <th></th>\n",
       "      <th></th>\n",
       "    </tr>\n",
       "  </thead>\n",
       "  <tbody>\n",
       "    <tr>\n",
       "      <th>2021-05-16</th>\n",
       "      <td>29.609383</td>\n",
       "      <td>2.812217</td>\n",
       "      <td>7.669820</td>\n",
       "      <td>0.049847</td>\n",
       "    </tr>\n",
       "    <tr>\n",
       "      <th>2021-05-17</th>\n",
       "      <td>29.936142</td>\n",
       "      <td>2.892237</td>\n",
       "      <td>7.788613</td>\n",
       "      <td>0.056879</td>\n",
       "    </tr>\n",
       "    <tr>\n",
       "      <th>2021-05-18</th>\n",
       "      <td>30.511166</td>\n",
       "      <td>2.986323</td>\n",
       "      <td>7.957797</td>\n",
       "      <td>0.062563</td>\n",
       "    </tr>\n",
       "  </tbody>\n",
       "</table>\n",
       "</div>"
      ],
      "text/plain": [
       "             BioNTech   Moderna  AstraZeneca  Johnson & Johnson\n",
       "date                                                           \n",
       "2021-05-16  29.609383  2.812217     7.669820           0.049847\n",
       "2021-05-17  29.936142  2.892237     7.788613           0.056879\n",
       "2021-05-18  30.511166  2.986323     7.957797           0.062563"
      ]
     },
     "execution_count": 114,
     "metadata": {},
     "output_type": "execute_result"
    }
   ],
   "source": [
    "vaccine_use = vaccinations.loc[ : , ['date', 'dosen_biontech_kumulativ',\n",
    "                                     'dosen_moderna_kumulativ',\n",
    "                                     'dosen_astrazeneca_kumulativ',\n",
    "                                     'dosen_johnson_kumulativ']]\n",
    "# Rename columns\n",
    "vaccine_use.columns = ['date', 'BioNTech', 'Moderna', 'AstraZeneca', 'Johnson & Johnson']\n",
    "# make 'date' an index\n",
    "vaccine_use.set_index('date', inplace=True)\n",
    "# divide columns by 1 million\n",
    "vaccine_use[\"BioNTech\"] = vaccine_use[\"BioNTech\"] / 1_000_000\n",
    "vaccine_use[\"Moderna\"] = vaccine_use[\"Moderna\"] / 1_000_000\n",
    "vaccine_use[\"AstraZeneca\"] = vaccine_use[\"AstraZeneca\"] / 1_000_000\n",
    "vaccine_use[\"Johnson & Johnson\"] = vaccine_use[\"Johnson & Johnson\"] / 1_000_000\n",
    "vaccine_use.tail(3)"
   ]
  },
  {
   "cell_type": "code",
   "execution_count": 115,
   "metadata": {},
   "outputs": [
    {
     "data": {
      "image/png": "[encoded data removed]",
      "text/plain": [
       "<Figure size 432x288 with 1 Axes>"
      ]
     },
     "metadata": {},
     "output_type": "display_data"
    }
   ],
   "source": [
    "vaccines_used = vaccine_use.plot(\n",
    "    # as it is cumulative, the last row must contain the single highest number\n",
    "    ylim=(0,math.ceil(max(vaccine_use.iloc[-1]))+1),\n",
    "    xlabel='Date',\n",
    "    ylabel='Million Doses (cumulative)',\n",
    "    title=f\"VACCINES USED IN GERMANY\\n(until {last_update})\")"
   ]
  },
  {
   "cell_type": "code",
   "execution_count": 116,
   "metadata": {},
   "outputs": [],
   "source": [
    "fig = vaccines_used.get_figure()\n",
    "fig.savefig('img/vaccines_used_in_germany.png')"
   ]
  },
  {
   "cell_type": "markdown",
   "metadata": {},
   "source": [
    "# Vaccination Centers versus Doctor’s Practices"
   ]
  },
  {
   "cell_type": "code",
   "execution_count": 117,
   "metadata": {},
   "outputs": [],
   "source": [
    "by_place = vaccinations.loc[ : , ['date', 'dosen_dim_kumulativ', 'dosen_kbv_kumulativ']]\n",
    "by_place.columns = ['date', 'vaccination centers', 'practices']"
   ]
  },
  {
   "cell_type": "code",
   "execution_count": 118,
   "metadata": {},
   "outputs": [],
   "source": [
    "by_place['vaccination centers daily'] = by_place['vaccination centers'].diff()\n",
    "by_place['practices daily'] = by_place['practices'].diff()"
   ]
  },
  {
   "cell_type": "code",
   "execution_count": 119,
   "metadata": {},
   "outputs": [],
   "source": [
    "by_place['percentage practices'] =  round(\n",
    "    by_place['practices daily'] * 100 / \n",
    "    (by_place['vaccination centers daily'] + by_place['practices daily']), 2)\n",
    "\n",
    "by_place['percentage centers'] = 100 - by_place['percentage practices']"
   ]
  },
  {
   "cell_type": "code",
   "execution_count": 120,
   "metadata": {},
   "outputs": [],
   "source": [
    "# make 'date' an index\n",
    "by_place.set_index('date', inplace=True)"
   ]
  },
  {
   "cell_type": "code",
   "execution_count": 121,
   "metadata": {},
   "outputs": [
    {
     "data": {
      "text/html": [
       "<div>\n",
       "<style scoped>\n",
       "    .dataframe tbody tr th:only-of-type {\n",
       "        vertical-align: middle;\n",
       "    }\n",
       "\n",
       "    .dataframe tbody tr th {\n",
       "        vertical-align: top;\n",
       "    }\n",
       "\n",
       "    .dataframe thead th {\n",
       "        text-align: right;\n",
       "    }\n",
       "</style>\n",
       "<table border=\"1\" class=\"dataframe\">\n",
       "  <thead>\n",
       "    <tr style=\"text-align: right;\">\n",
       "      <th></th>\n",
       "      <th>vaccination centers</th>\n",
       "      <th>practices</th>\n",
       "      <th>vaccination centers daily</th>\n",
       "      <th>practices daily</th>\n",
       "      <th>percentage practices</th>\n",
       "      <th>percentage centers</th>\n",
       "    </tr>\n",
       "    <tr>\n",
       "      <th>date</th>\n",
       "      <th></th>\n",
       "      <th></th>\n",
       "      <th></th>\n",
       "      <th></th>\n",
       "      <th></th>\n",
       "      <th></th>\n",
       "    </tr>\n",
       "  </thead>\n",
       "  <tbody>\n",
       "    <tr>\n",
       "      <th>2020-12-27</th>\n",
       "      <td>24087</td>\n",
       "      <td>0</td>\n",
       "      <td>NaN</td>\n",
       "      <td>NaN</td>\n",
       "      <td>NaN</td>\n",
       "      <td>NaN</td>\n",
       "    </tr>\n",
       "    <tr>\n",
       "      <th>2020-12-28</th>\n",
       "      <td>42647</td>\n",
       "      <td>0</td>\n",
       "      <td>18560.0</td>\n",
       "      <td>0.0</td>\n",
       "      <td>0.00</td>\n",
       "      <td>100.00</td>\n",
       "    </tr>\n",
       "    <tr>\n",
       "      <th>2020-12-29</th>\n",
       "      <td>93471</td>\n",
       "      <td>0</td>\n",
       "      <td>50824.0</td>\n",
       "      <td>0.0</td>\n",
       "      <td>0.00</td>\n",
       "      <td>100.00</td>\n",
       "    </tr>\n",
       "    <tr>\n",
       "      <th>2020-12-30</th>\n",
       "      <td>156253</td>\n",
       "      <td>0</td>\n",
       "      <td>62782.0</td>\n",
       "      <td>0.0</td>\n",
       "      <td>0.00</td>\n",
       "      <td>100.00</td>\n",
       "    </tr>\n",
       "    <tr>\n",
       "      <th>2020-12-31</th>\n",
       "      <td>206444</td>\n",
       "      <td>0</td>\n",
       "      <td>50191.0</td>\n",
       "      <td>0.0</td>\n",
       "      <td>0.00</td>\n",
       "      <td>100.00</td>\n",
       "    </tr>\n",
       "    <tr>\n",
       "      <th>...</th>\n",
       "      <td>...</td>\n",
       "      <td>...</td>\n",
       "      <td>...</td>\n",
       "      <td>...</td>\n",
       "      <td>...</td>\n",
       "      <td>...</td>\n",
       "    </tr>\n",
       "    <tr>\n",
       "      <th>2021-05-14</th>\n",
       "      <td>29449478</td>\n",
       "      <td>10028800</td>\n",
       "      <td>388889.0</td>\n",
       "      <td>351337.0</td>\n",
       "      <td>47.46</td>\n",
       "      <td>52.54</td>\n",
       "    </tr>\n",
       "    <tr>\n",
       "      <th>2021-05-15</th>\n",
       "      <td>29790142</td>\n",
       "      <td>10076466</td>\n",
       "      <td>340664.0</td>\n",
       "      <td>47666.0</td>\n",
       "      <td>12.27</td>\n",
       "      <td>87.73</td>\n",
       "    </tr>\n",
       "    <tr>\n",
       "      <th>2021-05-16</th>\n",
       "      <td>30048796</td>\n",
       "      <td>10092471</td>\n",
       "      <td>258654.0</td>\n",
       "      <td>16005.0</td>\n",
       "      <td>5.83</td>\n",
       "      <td>94.17</td>\n",
       "    </tr>\n",
       "    <tr>\n",
       "      <th>2021-05-17</th>\n",
       "      <td>30412082</td>\n",
       "      <td>10261789</td>\n",
       "      <td>363286.0</td>\n",
       "      <td>169318.0</td>\n",
       "      <td>31.79</td>\n",
       "      <td>68.21</td>\n",
       "    </tr>\n",
       "    <tr>\n",
       "      <th>2021-05-18</th>\n",
       "      <td>30801056</td>\n",
       "      <td>10716793</td>\n",
       "      <td>388974.0</td>\n",
       "      <td>455004.0</td>\n",
       "      <td>53.91</td>\n",
       "      <td>46.09</td>\n",
       "    </tr>\n",
       "  </tbody>\n",
       "</table>\n",
       "<p>143 rows × 6 columns</p>\n",
       "</div>"
      ],
      "text/plain": [
       "            vaccination centers  practices  vaccination centers daily  \\\n",
       "date                                                                    \n",
       "2020-12-27                24087          0                        NaN   \n",
       "2020-12-28                42647          0                    18560.0   \n",
       "2020-12-29                93471          0                    50824.0   \n",
       "2020-12-30               156253          0                    62782.0   \n",
       "2020-12-31               206444          0                    50191.0   \n",
       "...                         ...        ...                        ...   \n",
       "2021-05-14             29449478   10028800                   388889.0   \n",
       "2021-05-15             29790142   10076466                   340664.0   \n",
       "2021-05-16             30048796   10092471                   258654.0   \n",
       "2021-05-17             30412082   10261789                   363286.0   \n",
       "2021-05-18             30801056   10716793                   388974.0   \n",
       "\n",
       "            practices daily  percentage practices  percentage centers  \n",
       "date                                                                   \n",
       "2020-12-27              NaN                   NaN                 NaN  \n",
       "2020-12-28              0.0                  0.00              100.00  \n",
       "2020-12-29              0.0                  0.00              100.00  \n",
       "2020-12-30              0.0                  0.00              100.00  \n",
       "2020-12-31              0.0                  0.00              100.00  \n",
       "...                     ...                   ...                 ...  \n",
       "2021-05-14         351337.0                 47.46               52.54  \n",
       "2021-05-15          47666.0                 12.27               87.73  \n",
       "2021-05-16          16005.0                  5.83               94.17  \n",
       "2021-05-17         169318.0                 31.79               68.21  \n",
       "2021-05-18         455004.0                 53.91               46.09  \n",
       "\n",
       "[143 rows x 6 columns]"
      ]
     },
     "execution_count": 121,
     "metadata": {},
     "output_type": "execute_result"
    }
   ],
   "source": [
    "by_place"
   ]
  },
  {
   "cell_type": "code",
   "execution_count": 122,
   "metadata": {},
   "outputs": [],
   "source": [
    "share = by_place.loc[ : , ['percentage centers', 'percentage practices']]"
   ]
  },
  {
   "cell_type": "code",
   "execution_count": 123,
   "metadata": {},
   "outputs": [
    {
     "data": {
      "image/png": "[encoded data removed]",
      "text/plain": [
       "<Figure size 432x288 with 1 Axes>"
      ]
     },
     "metadata": {},
     "output_type": "display_data"
    }
   ],
   "source": [
    "vacc_shares = share.plot(\n",
    "    # as it is cumulative, the last row must contain the single highest number\n",
    "    ylim=(0, 105),  # above 100 to see the line\n",
    "    xlabel='Date',\n",
    "    ylabel='Percentage of Vaccinations',\n",
    "    title=f\"Place of Vaccination in Germany\\n(until {last_update})\")"
   ]
  },
  {
   "cell_type": "code",
   "execution_count": 124,
   "metadata": {},
   "outputs": [],
   "source": [
    "fig = vacc_shares.get_figure()\n",
    "fig.savefig('img/vaccinations_germany_by_place.png')"
   ]
  },
  {
   "cell_type": "markdown",
   "metadata": {},
   "source": [
    "## Other units of Time"
   ]
  },
  {
   "cell_type": "code",
   "execution_count": 125,
   "metadata": {},
   "outputs": [],
   "source": [
    "by_place_daily = by_place.loc[ : , ['vaccination centers daily', 'practices daily']]\n",
    "by_place_daily.columns = ['vaccination centers', 'practices']\n",
    "by_place_daily.reset_index(inplace=True)"
   ]
  },
  {
   "cell_type": "markdown",
   "metadata": {},
   "source": [
    "### Monthly"
   ]
  },
  {
   "cell_type": "code",
   "execution_count": 126,
   "metadata": {},
   "outputs": [
    {
     "data": {
      "text/html": [
       "<div>\n",
       "<style scoped>\n",
       "    .dataframe tbody tr th:only-of-type {\n",
       "        vertical-align: middle;\n",
       "    }\n",
       "\n",
       "    .dataframe tbody tr th {\n",
       "        vertical-align: top;\n",
       "    }\n",
       "\n",
       "    .dataframe thead th {\n",
       "        text-align: right;\n",
       "    }\n",
       "</style>\n",
       "<table border=\"1\" class=\"dataframe\">\n",
       "  <thead>\n",
       "    <tr style=\"text-align: right;\">\n",
       "      <th></th>\n",
       "      <th>vaccination centers</th>\n",
       "      <th>practices</th>\n",
       "    </tr>\n",
       "    <tr>\n",
       "      <th>date</th>\n",
       "      <th></th>\n",
       "      <th></th>\n",
       "    </tr>\n",
       "  </thead>\n",
       "  <tbody>\n",
       "    <tr>\n",
       "      <th>2021-01-31</th>\n",
       "      <td>2344521.0</td>\n",
       "      <td>0.0</td>\n",
       "    </tr>\n",
       "    <tr>\n",
       "      <th>2021-02-28</th>\n",
       "      <td>3778865.0</td>\n",
       "      <td>0.0</td>\n",
       "    </tr>\n",
       "    <tr>\n",
       "      <th>2021-03-31</th>\n",
       "      <td>7786287.0</td>\n",
       "      <td>66234.0</td>\n",
       "    </tr>\n",
       "    <tr>\n",
       "      <th>2021-04-30</th>\n",
       "      <td>10182842.0</td>\n",
       "      <td>5329140.0</td>\n",
       "    </tr>\n",
       "    <tr>\n",
       "      <th>2021-05-31</th>\n",
       "      <td>6502097.0</td>\n",
       "      <td>5321419.0</td>\n",
       "    </tr>\n",
       "  </tbody>\n",
       "</table>\n",
       "</div>"
      ],
      "text/plain": [
       "            vaccination centers  practices\n",
       "date                                      \n",
       "2021-01-31            2344521.0        0.0\n",
       "2021-02-28            3778865.0        0.0\n",
       "2021-03-31            7786287.0    66234.0\n",
       "2021-04-30           10182842.0  5329140.0\n",
       "2021-05-31            6502097.0  5321419.0"
      ]
     },
     "execution_count": 126,
     "metadata": {},
     "output_type": "execute_result"
    }
   ],
   "source": [
    "by_place_monthly = by_place_daily.groupby(pd.Grouper(key='date',freq='M')).sum()\n",
    "by_place_monthly.tail()"
   ]
  },
  {
   "cell_type": "markdown",
   "metadata": {},
   "source": [
    "Scale:"
   ]
  },
  {
   "cell_type": "code",
   "execution_count": 127,
   "metadata": {},
   "outputs": [],
   "source": [
    "by_place_monthly['vaccination centers'] = by_place_monthly['vaccination centers'] / 1_000_000\n",
    "by_place_monthly['practices'] = by_place_monthly['practices'] / 1_000_000"
   ]
  },
  {
   "cell_type": "markdown",
   "metadata": {},
   "source": [
    "Rename the columns"
   ]
  },
  {
   "cell_type": "code",
   "execution_count": 128,
   "metadata": {},
   "outputs": [
    {
     "data": {
      "text/html": [
       "<div>\n",
       "<style scoped>\n",
       "    .dataframe tbody tr th:only-of-type {\n",
       "        vertical-align: middle;\n",
       "    }\n",
       "\n",
       "    .dataframe tbody tr th {\n",
       "        vertical-align: top;\n",
       "    }\n",
       "\n",
       "    .dataframe thead th {\n",
       "        text-align: right;\n",
       "    }\n",
       "</style>\n",
       "<table border=\"1\" class=\"dataframe\">\n",
       "  <thead>\n",
       "    <tr style=\"text-align: right;\">\n",
       "      <th></th>\n",
       "      <th>vaccination centers</th>\n",
       "      <th>practices</th>\n",
       "    </tr>\n",
       "    <tr>\n",
       "      <th>label</th>\n",
       "      <th></th>\n",
       "      <th></th>\n",
       "    </tr>\n",
       "  </thead>\n",
       "  <tbody>\n",
       "    <tr>\n",
       "      <th>December 2020</th>\n",
       "      <td>0.182357</td>\n",
       "      <td>0.000000</td>\n",
       "    </tr>\n",
       "    <tr>\n",
       "      <th>January 2021</th>\n",
       "      <td>2.344521</td>\n",
       "      <td>0.000000</td>\n",
       "    </tr>\n",
       "    <tr>\n",
       "      <th>February 2021</th>\n",
       "      <td>3.778865</td>\n",
       "      <td>0.000000</td>\n",
       "    </tr>\n",
       "    <tr>\n",
       "      <th>March 2021</th>\n",
       "      <td>7.786287</td>\n",
       "      <td>0.066234</td>\n",
       "    </tr>\n",
       "    <tr>\n",
       "      <th>April 2021</th>\n",
       "      <td>10.182842</td>\n",
       "      <td>5.329140</td>\n",
       "    </tr>\n",
       "    <tr>\n",
       "      <th>May 2021</th>\n",
       "      <td>6.502097</td>\n",
       "      <td>5.321419</td>\n",
       "    </tr>\n",
       "  </tbody>\n",
       "</table>\n",
       "</div>"
      ],
      "text/plain": [
       "               vaccination centers  practices\n",
       "label                                        \n",
       "December 2020             0.182357   0.000000\n",
       "January 2021              2.344521   0.000000\n",
       "February 2021             3.778865   0.000000\n",
       "March 2021                7.786287   0.066234\n",
       "April 2021               10.182842   5.329140\n",
       "May 2021                  6.502097   5.321419"
      ]
     },
     "execution_count": 128,
     "metadata": {},
     "output_type": "execute_result"
    }
   ],
   "source": [
    "by_place_monthly['month'] = by_place_monthly.index.strftime('%B')\n",
    "by_place_monthly['year'] =  by_place_monthly.index.strftime('%Y')\n",
    "by_place_monthly['label'] = by_place_monthly['month'] + ' ' + by_place_monthly['year']\n",
    "by_place_monthly.drop(columns=['month', 'year'], inplace=True)\n",
    "by_place_monthly.set_index('label', inplace=True)\n",
    "by_place_monthly.tail(6)"
   ]
  },
  {
   "cell_type": "code",
   "execution_count": 129,
   "metadata": {},
   "outputs": [
    {
     "data": {
      "image/png": "[encoded data removed]",
      "text/plain": [
       "<Figure size 432x288 with 1 Axes>"
      ]
     },
     "metadata": {},
     "output_type": "display_data"
    }
   ],
   "source": [
    "monthly_plot = by_place_monthly.plot.bar(\n",
    "    stacked=True,\n",
    "    ylim=(0, 25),\n",
    "    xlabel='Date',\n",
    "    ylabel='Million Doses',\n",
    "    title=f\"VACCINATION DOSES BY PLACE IN GERMANY\\n(including data for {last_update})\")"
   ]
  },
  {
   "cell_type": "code",
   "execution_count": 130,
   "metadata": {},
   "outputs": [],
   "source": [
    "fig = monthly_plot.get_figure()\n",
    "fig.savefig('img/monthly_doses_by_place_germany.png')"
   ]
  }
 ],
 "metadata": {
  "kernelspec": {
   "display_name": "Python 3",
   "language": "python",
   "name": "python3"
  },
  "language_info": {
   "codemirror_mode": {
    "name": "ipython",
    "version": 3
   },
   "file_extension": ".py",
   "mimetype": "text/x-python",
   "name": "python",
   "nbconvert_exporter": "python",
   "pygments_lexer": "ipython3",
   "version": "3.8.5"
  }
 },
 "nbformat": 4,
 "nbformat_minor": 4
}
